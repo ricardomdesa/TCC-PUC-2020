{
 "cells": [
  {
   "cell_type": "markdown",
   "metadata": {},
   "source": [
    "# 5.1 Criação de Modelos de Machine Learning - Tunning"
   ]
  },
  {
   "cell_type": "code",
   "execution_count": 44,
   "metadata": {},
   "outputs": [],
   "source": [
    "# ! pip install seaborn\n",
    "# ! pip install plotly\n",
    "# ! pip install statsmodels\n",
    "# ! pip install sklearn"
   ]
  },
  {
   "cell_type": "code",
   "execution_count": 45,
   "metadata": {},
   "outputs": [],
   "source": [
    "import pandas as pd\n",
    "import numpy as np\n",
    "import matplotlib.pyplot as plt\n",
    "import seaborn as sns\n",
    "from sklearn.model_selection import train_test_split\n",
    "from sklearn.metrics import classification_report, confusion_matrix\n",
    "from sklearn import metrics\n",
    "from sklearn.ensemble import AdaBoostClassifier, RandomForestClassifier\n",
    "from sklearn.linear_model import LogisticRegression\n",
    "from sklearn.model_selection import RandomizedSearchCV\n",
    "import joblib"
   ]
  },
  {
   "cell_type": "markdown",
   "metadata": {},
   "source": [
    "### Carregar dados tratados"
   ]
  },
  {
   "cell_type": "code",
   "execution_count": 46,
   "metadata": {},
   "outputs": [],
   "source": [
    "def carregar_joblib(file_name: str = \"../out/result_analise_desc.joblib\"):\n",
    "    df = joblib.load(file_name)\n",
    "    return df"
   ]
  },
  {
   "cell_type": "markdown",
   "metadata": {},
   "source": [
    "### Separar base"
   ]
  },
  {
   "cell_type": "code",
   "execution_count": 47,
   "metadata": {},
   "outputs": [],
   "source": [
    "def split_dados(df, test_size: float = 0.2):\n",
    "    X = df.drop([\"decisao\"], axis=1)\n",
    "    y = df[\"decisao\"]\n",
    "    X_treino, X_teste, y_treino, y_teste = train_test_split(X,\n",
    "                                                            y,\n",
    "                                                            test_size=test_size,\n",
    "                                                            random_state=42)\n",
    "    return (X_treino, X_teste, y_treino, y_teste)"
   ]
  },
  {
   "cell_type": "markdown",
   "metadata": {},
   "source": [
    "### Funcoes para avaliacao do modelo"
   ]
  },
  {
   "cell_type": "code",
   "execution_count": 48,
   "metadata": {},
   "outputs": [],
   "source": [
    "def plot_confusion_matrix_heat(cf_matrix):\n",
    "    cf_matrix.index.name = 'Atual'\n",
    "    cf_matrix.columns.name = 'Predito'\n",
    "    \n",
    "    cf_nd_array = cf_matrix.to_numpy()\n",
    "    cf_flatten = cf_nd_array.flatten()\n",
    "\n",
    "    group_names = [\"TN\", \"FP\", \"FN\", \"TP\"]\n",
    "    group_counts = [\"{0:0.0f}\".format(value) for value in\n",
    "                    cf_flatten]\n",
    "    group_percentages = [\"{0:.2%}\".format(value) for value in\n",
    "                         cf_flatten / np.sum(cf_nd_array)]\n",
    "    labels = [f\"{v1}\\n{v2}\\n{v3}\" for v1, v2, v3 in\n",
    "              zip(group_names, group_counts, group_percentages)]\n",
    "    labels = np.asarray(labels).reshape(2, 2)\n",
    "    print(cf_matrix.shape)\n",
    "    sns.heatmap(cf_matrix, annot=labels, fmt=\"\", cmap='Blues')"
   ]
  },
  {
   "cell_type": "code",
   "execution_count": 49,
   "metadata": {},
   "outputs": [],
   "source": [
    "def avaliar(y_teste, y_prev, nome_modelo):\n",
    "    print(nome_modelo)\n",
    "    report = classification_report(y_teste, y_prev, target_names=[\"Vender\", \"Comprar\"])\n",
    "    print(\"Report\\n\", report)\n",
    "    cf_matrix = pd.DataFrame(confusion_matrix(y_teste, y_prev), index=[\"Vender\", \"Comprar\"], columns=[\"Vender\", \"Comprar\"])\n",
    "    plot_confusion_matrix_heat(cf_matrix)\n",
    "    plt.show()\n",
    "    metric = metrics.precision_score(y_teste, y_prev)\n",
    "    print(f\"Precision: {metric}\\n\\n\")\n",
    "    return metric"
   ]
  },
  {
   "cell_type": "markdown",
   "metadata": {},
   "source": [
    "# ML modelos"
   ]
  },
  {
   "cell_type": "markdown",
   "metadata": {},
   "source": [
    "## Modelos a serem testados\n",
    "\n",
    "- AdaBoost\n",
    "- Random Forest\n",
    "- Logistic Regression"
   ]
  },
  {
   "cell_type": "code",
   "execution_count": 50,
   "metadata": {},
   "outputs": [],
   "source": [
    "def definir_modelos_ml() -> dict:\n",
    "    return {\n",
    "        \"AdaBoost\": {'modelo_base': AdaBoostClassifier(random_state=2), 'modelo_tunado': None},\n",
    "        \"RandomForest\": {'modelo_base': RandomForestClassifier(random_state=42), 'modelo_tunado': None},\n",
    "        \"LogisticRegression\": {'modelo_base': LogisticRegression(random_state=42), 'modelo_tunado': None},\n",
    "    }"
   ]
  },
  {
   "cell_type": "code",
   "execution_count": 51,
   "metadata": {},
   "outputs": [],
   "source": [
    "def treinar_modelo_base(modelos, splited_dados):\n",
    "\n",
    "    X_treino, _, y_treino, _ = splited_dados\n",
    "\n",
    "    for nome, modelo in modelos.items():\n",
    "        modelo = modelo.get('modelo_base')\n",
    "        modelo.fit(X_treino, y_treino)\n",
    "        modelos[nome]['modelo_base'] = modelo\n",
    "    \n",
    "    return modelos"
   ]
  },
  {
   "cell_type": "markdown",
   "metadata": {},
   "source": [
    "## Tunning dos 3 melhores modelos"
   ]
  },
  {
   "cell_type": "markdown",
   "metadata": {},
   "source": [
    "### AdaBoost Tunning"
   ]
  },
  {
   "cell_type": "code",
   "execution_count": 52,
   "metadata": {},
   "outputs": [],
   "source": [
    "def fit_tunning_rand_search_ada(X_treino, y_treino):\n",
    "    param = {'n_estimators': [50, 80, 90, 100],\n",
    "             'learning_rate': [0.2, 1.0, 0.1],\n",
    "             'algorithm': [\"SAMME\", \"SAMME.R\"], \n",
    "             'random_state':[None]}\n",
    "\n",
    "    rf_random = RandomizedSearchCV(estimator=AdaBoostClassifier(),\n",
    "                                   param_distributions=param,\n",
    "                                   cv=10,\n",
    "                                   verbose=0,\n",
    "                                   scoring=\"precision\",\n",
    "                                   random_state=42,\n",
    "                                   n_jobs=-1)\n",
    "\n",
    "    return rf_random.fit(X_treino, y_treino)\n",
    "\n",
    "def run_ada_boost_tunning(splited_data):\n",
    "\n",
    "    X_treino, X_teste, y_treino, y_teste = splited_data\n",
    "    \n",
    "    resultado_grid = fit_tunning_rand_search_ada(X_treino.values,\n",
    "                                                 y_treino.values)\n",
    "\n",
    "    print(\"Best params Adaboost\", resultado_grid.best_params_)\n",
    "\n",
    "    modelo_tunado = resultado_grid.best_estimator_\n",
    "\n",
    "    return modelo_tunado"
   ]
  },
  {
   "cell_type": "markdown",
   "metadata": {},
   "source": [
    "### Random Forest Tunning"
   ]
  },
  {
   "cell_type": "code",
   "execution_count": 53,
   "metadata": {},
   "outputs": [],
   "source": [
    "def fit_tunning_rand_search_rand_forest(X_treino, y_treino):\n",
    "    param = {\n",
    "             \"criterion\": [\"entropy\"],\n",
    "             \"n_estimators\": [100],\n",
    "             \"max_depth\": [None],\n",
    "             \"min_samples_split\": [2, 3],\n",
    "             \"min_samples_leaf\": [1, 2, 3],\n",
    "             \"min_weight_fraction_leaf\": [0],\n",
    "             'max_features': [\"auto\"],\n",
    "             'warm_start': [True],\n",
    "             'random_state': [None],\n",
    "             'n_jobs': [-1],\n",
    "            }\n",
    "\n",
    "    rf_random = RandomizedSearchCV(estimator=RandomForestClassifier(),\n",
    "                                   param_distributions=param,\n",
    "                                   cv=10,\n",
    "                                   verbose=0,\n",
    "                                   scoring=\"precision\",\n",
    "                                   random_state=42,\n",
    "                                   n_jobs=-1)\n",
    "\n",
    "    # Fit the random search model\n",
    "    return rf_random.fit(X_treino, y_treino)\n",
    "\n",
    "\n",
    "def run_rand_forest_tunning(splited_dados):\n",
    "\n",
    "    X_treino, X_teste, y_treino, y_teste = splited_dados\n",
    "    \n",
    "    resultado_grid = fit_tunning_rand_search_rand_forest(X_treino, y_treino)\n",
    "\n",
    "    print(\"Best params Rand Forest\", resultado_grid.best_params_)\n",
    "\n",
    "    modelo_tunado = resultado_grid.best_estimator_\n",
    "\n",
    "    return modelo_tunado"
   ]
  },
  {
   "cell_type": "markdown",
   "metadata": {},
   "source": [
    "### Logistic Regression Tunning"
   ]
  },
  {
   "cell_type": "code",
   "execution_count": 54,
   "metadata": {},
   "outputs": [],
   "source": [
    "def fit_tunning_rand_search_log_reg(X_treino, y_treino):\n",
    "    param = {\n",
    "             \"solver\": [\"lbfgs\"],\n",
    "             \"penalty\": [\"l2\", \"none\"],\n",
    "             \"dual\": [False],\n",
    "             \"tol\": [0.0001],\n",
    "             \"C\": [1.0],\n",
    "             \"fit_intercept\": [True],\n",
    "             'class_weight': [False, \"balanced\"],\n",
    "             'multi_class': [\"ovr\", \"auto\"],\n",
    "             'warm_start': [False, True],\n",
    "             'random_state': [42, 2, None],\n",
    "             'n_jobs': [-1],\n",
    "            }\n",
    "\n",
    "    rf_random = RandomizedSearchCV(estimator=LogisticRegression(max_iter=300),\n",
    "                                   param_distributions=param,\n",
    "                                   cv=10,\n",
    "                                   verbose=0,\n",
    "                                   scoring=\"average_precision\",\n",
    "                                   random_state=42,\n",
    "                                   n_jobs=-1)\n",
    "\n",
    "    # Fit the random search model\n",
    "    return rf_random.fit(X_treino, y_treino)\n",
    "\n",
    "def run_log_reg_tunning(splited_dados):\n",
    "\n",
    "    X_treino, X_teste, y_treino, y_teste = splited_dados\n",
    "    \n",
    "    resultado_grid = fit_tunning_rand_search_log_reg(X_treino, y_treino)\n",
    "\n",
    "    print(\"Best params Logistic Regression\", resultado_grid.best_params_)\n",
    "\n",
    "    modelo_tunado = resultado_grid.best_estimator_\n",
    "\n",
    "    return modelo_tunado"
   ]
  },
  {
   "cell_type": "markdown",
   "metadata": {},
   "source": [
    "### Rodar tunnings por modelo e guardar"
   ]
  },
  {
   "cell_type": "code",
   "execution_count": 55,
   "metadata": {},
   "outputs": [],
   "source": [
    "def run_tunning_fit(df, modelos, splited_data):\n",
    "    '''\n",
    "        Executa os tunnings com randomized search cv e armazena o modelo tunado\n",
    "    '''\n",
    "    modelos['AdaBoost']['modelo_tunado'] = run_ada_boost_tunning(splited_data)\n",
    "    modelos['RandomForest']['modelo_tunado'] = run_rand_forest_tunning(splited_data)\n",
    "    \n",
    "    splited_data = split_dados(df, test_size=0.2)\n",
    "    modelos['LogisticRegression']['modelo_tunado'] = run_log_reg_tunning(splited_data)\n",
    "\n",
    "    return modelos\n"
   ]
  },
  {
   "cell_type": "markdown",
   "metadata": {},
   "source": [
    "## Execucao ML Tunning"
   ]
  },
  {
   "cell_type": "code",
   "execution_count": 56,
   "metadata": {},
   "outputs": [
    {
     "name": "stdout",
     "output_type": "stream",
     "text": [
      "Best params Adaboost {'random_state': None, 'n_estimators': 90, 'learning_rate': 1.0, 'algorithm': 'SAMME.R'}\n"
     ]
    },
    {
     "name": "stderr",
     "output_type": "stream",
     "text": [
      "/Users/shopee/opt/anaconda3/envs/TCC_PUC/lib/python3.8/site-packages/sklearn/model_selection/_search.py:292: UserWarning: The total space of parameters 6 is smaller than n_iter=10. Running 6 iterations. For exhaustive searches, use GridSearchCV.\n",
      "  warnings.warn(\n"
     ]
    },
    {
     "name": "stdout",
     "output_type": "stream",
     "text": [
      "Best params Rand Forest {'warm_start': True, 'random_state': None, 'n_jobs': -1, 'n_estimators': 100, 'min_weight_fraction_leaf': 0, 'min_samples_split': 2, 'min_samples_leaf': 1, 'max_features': 'auto', 'max_depth': None, 'criterion': 'entropy'}\n",
      "Best params Logistic Regression {'warm_start': True, 'tol': 0.0001, 'solver': 'lbfgs', 'random_state': 42, 'penalty': 'none', 'n_jobs': -1, 'multi_class': 'auto', 'fit_intercept': True, 'dual': False, 'class_weight': False, 'C': 1.0}\n"
     ]
    }
   ],
   "source": [
    "def main_training():\n",
    "\n",
    "    df = carregar_joblib()\n",
    "\n",
    "    splited_data = split_dados(df, test_size=0.15)\n",
    "\n",
    "    modelos = definir_modelos_ml()\n",
    "\n",
    "    modelos = treinar_modelo_base(modelos, splited_data)\n",
    "\n",
    "    modelos = run_tunning_fit(df, modelos, splited_data)\n",
    "\n",
    "    return modelos, splited_data\n",
    "\n",
    "modelos, splited_data = main_training()"
   ]
  },
  {
   "cell_type": "markdown",
   "metadata": {},
   "source": [
    "## Comparar modelos treinados"
   ]
  },
  {
   "cell_type": "code",
   "execution_count": 57,
   "metadata": {},
   "outputs": [],
   "source": [
    "def plot_compare_bar(metrics: dict):\n",
    "    # barplot comparacao 3 modelos tunados\n",
    "    sns.set_theme(style=\"whitegrid\")\n",
    "    x_labels = [\"adaBoost\", \"adaBoost\\ntunned\", \"RandFore\", \"RandFore\\ntunned\", \"LogReg\", \"LogReg\\ntunned\"]\n",
    "    ax = sns.barplot(x=x_labels, y=list(metrics.values()))\n",
    "    ax.set(xlabel=\"Modelos\", ylabel=\"Precisão\", title=\"Precisão por Modelo\")"
   ]
  },
  {
   "cell_type": "code",
   "execution_count": 58,
   "metadata": {},
   "outputs": [],
   "source": [
    "def compare_tunning(modelos: dict, splited_data):\n",
    "\n",
    "    _, X_teste, _, y_teste = splited_data\n",
    "\n",
    "    metrics = {}\n",
    "    for nome, modelos_dict in modelos.items():\n",
    "        prev = modelos_dict['modelo_base'].predict(X_teste)\n",
    "        metrics[nome + '_base'] =  avaliar(y_teste, prev, nome + '_base')\n",
    "        prev = modelos_dict['modelo_tunado'].predict(X_teste)\n",
    "        metrics[nome + '_tunned'] = avaliar(y_teste, prev, nome + '_tunado')\n",
    "        print(\"-*\" * 50)\n",
    "        print(\"\\n\")    \n",
    "    \n",
    "    plot_compare_bar(metrics)"
   ]
  },
  {
   "cell_type": "code",
   "execution_count": 59,
   "metadata": {},
   "outputs": [
    {
     "name": "stderr",
     "output_type": "stream",
     "text": [
      "/Users/shopee/opt/anaconda3/envs/TCC_PUC/lib/python3.8/site-packages/sklearn/base.py:441: UserWarning: X does not have valid feature names, but AdaBoostClassifier was fitted with feature names\n",
      "  warnings.warn(\n"
     ]
    },
    {
     "name": "stdout",
     "output_type": "stream",
     "text": [
      "AdaBoost_base\n",
      "Report\n",
      "               precision    recall  f1-score   support\n",
      "\n",
      "      Vender       0.58      0.56      0.57       135\n",
      "     Comprar       0.60      0.61      0.60       143\n",
      "\n",
      "    accuracy                           0.59       278\n",
      "   macro avg       0.59      0.59      0.59       278\n",
      "weighted avg       0.59      0.59      0.59       278\n",
      "\n",
      "(2, 2)\n"
     ]
    },
    {
     "data": {
      "image/png": "[encoded data removed]",
      "text/plain": [
       "<Figure size 432x288 with 2 Axes>"
      ]
     },
     "metadata": {},
     "output_type": "display_data"
    },
    {
     "name": "stdout",
     "output_type": "stream",
     "text": [
      "Precision: 0.5958904109589042\n",
      "\n",
      "\n",
      "AdaBoost_tunado\n",
      "Report\n",
      "               precision    recall  f1-score   support\n",
      "\n",
      "      Vender       0.56      0.59      0.58       135\n",
      "     Comprar       0.60      0.57      0.58       143\n",
      "\n",
      "    accuracy                           0.58       278\n",
      "   macro avg       0.58      0.58      0.58       278\n",
      "weighted avg       0.58      0.58      0.58       278\n",
      "\n",
      "(2, 2)\n"
     ]
    },
    {
     "name": "stderr",
     "output_type": "stream",
     "text": [
      "/Users/shopee/opt/anaconda3/envs/TCC_PUC/lib/python3.8/site-packages/sklearn/base.py:434: UserWarning: X has feature names, but AdaBoostClassifier was fitted without feature names\n",
      "  warnings.warn(\n"
     ]
    },
    {
     "data": {
      "image/png": "[encoded data removed]",
      "text/plain": [
       "<Figure size 432x288 with 2 Axes>"
      ]
     },
     "metadata": {},
     "output_type": "display_data"
    },
    {
     "name": "stdout",
     "output_type": "stream",
     "text": [
      "Precision: 0.5955882352941176\n",
      "\n",
      "\n",
      "-*-*-*-*-*-*-*-*-*-*-*-*-*-*-*-*-*-*-*-*-*-*-*-*-*-*-*-*-*-*-*-*-*-*-*-*-*-*-*-*-*-*-*-*-*-*-*-*-*-*\n",
      "\n",
      "\n",
      "RandomForest_base\n",
      "Report\n",
      "               precision    recall  f1-score   support\n",
      "\n",
      "      Vender       0.55      0.63      0.59       135\n",
      "     Comprar       0.60      0.52      0.55       143\n",
      "\n",
      "    accuracy                           0.57       278\n",
      "   macro avg       0.57      0.57      0.57       278\n",
      "weighted avg       0.58      0.57      0.57       278\n",
      "\n",
      "(2, 2)\n"
     ]
    },
    {
     "data": {
      "image/png": "[encoded data removed]",
      "text/plain": [
       "<Figure size 432x288 with 2 Axes>"
      ]
     },
     "metadata": {},
     "output_type": "display_data"
    },
    {
     "name": "stdout",
     "output_type": "stream",
     "text": [
      "Precision: 0.5967741935483871\n",
      "\n",
      "\n",
      "RandomForest_tunado\n",
      "Report\n",
      "               precision    recall  f1-score   support\n",
      "\n",
      "      Vender       0.55      0.56      0.56       135\n",
      "     Comprar       0.58      0.57      0.58       143\n",
      "\n",
      "    accuracy                           0.57       278\n",
      "   macro avg       0.57      0.57      0.57       278\n",
      "weighted avg       0.57      0.57      0.57       278\n",
      "\n",
      "(2, 2)\n"
     ]
    },
    {
     "data": {
      "image/png": "[encoded data removed]",
      "text/plain": [
       "<Figure size 432x288 with 2 Axes>"
      ]
     },
     "metadata": {},
     "output_type": "display_data"
    },
    {
     "name": "stdout",
     "output_type": "stream",
     "text": [
      "Precision: 0.5815602836879432\n",
      "\n",
      "\n",
      "-*-*-*-*-*-*-*-*-*-*-*-*-*-*-*-*-*-*-*-*-*-*-*-*-*-*-*-*-*-*-*-*-*-*-*-*-*-*-*-*-*-*-*-*-*-*-*-*-*-*\n",
      "\n",
      "\n",
      "LogisticRegression_base\n",
      "Report\n",
      "               precision    recall  f1-score   support\n",
      "\n",
      "      Vender       0.52      0.59      0.55       135\n",
      "     Comprar       0.56      0.48      0.52       143\n",
      "\n",
      "    accuracy                           0.54       278\n",
      "   macro avg       0.54      0.54      0.54       278\n",
      "weighted avg       0.54      0.54      0.53       278\n",
      "\n",
      "(2, 2)\n"
     ]
    },
    {
     "data": {
      "image/png": "[encoded data removed]",
      "text/plain": [
       "<Figure size 432x288 with 2 Axes>"
      ]
     },
     "metadata": {},
     "output_type": "display_data"
    },
    {
     "name": "stdout",
     "output_type": "stream",
     "text": [
      "Precision: 0.5564516129032258\n",
      "\n",
      "\n",
      "LogisticRegression_tunado\n",
      "Report\n",
      "               precision    recall  f1-score   support\n",
      "\n",
      "      Vender       0.56      0.61      0.59       135\n",
      "     Comprar       0.60      0.55      0.57       143\n",
      "\n",
      "    accuracy                           0.58       278\n",
      "   macro avg       0.58      0.58      0.58       278\n",
      "weighted avg       0.58      0.58      0.58       278\n",
      "\n",
      "(2, 2)\n"
     ]
    },
    {
     "data": {
      "image/png": "[encoded data removed]",
      "text/plain": [
       "<Figure size 432x288 with 2 Axes>"
      ]
     },
     "metadata": {},
     "output_type": "display_data"
    },
    {
     "name": "stdout",
     "output_type": "stream",
     "text": [
      "Precision: 0.6\n",
      "\n",
      "\n",
      "-*-*-*-*-*-*-*-*-*-*-*-*-*-*-*-*-*-*-*-*-*-*-*-*-*-*-*-*-*-*-*-*-*-*-*-*-*-*-*-*-*-*-*-*-*-*-*-*-*-*\n",
      "\n",
      "\n"
     ]
    },
    {
     "data": {
      "image/png": "[encoded data removed]",
      "text/plain": [
       "<Figure size 432x288 with 1 Axes>"
      ]
     },
     "metadata": {},
     "output_type": "display_data"
    }
   ],
   "source": [
    "compare_tunning(modelos, splited_data)"
   ]
  },
  {
   "cell_type": "markdown",
   "metadata": {},
   "source": [
    "# Melhor modelo escolhido:\n",
    "\n",
    "- Logistic Regression\n",
    "\n",
    "Best precision 60%\n",
    "\n",
    "Modelo com poucos Falsos Positivos, e bom balenceamento entre TN e TP"
   ]
  },
  {
   "cell_type": "code",
   "execution_count": 60,
   "metadata": {},
   "outputs": [
    {
     "name": "stdout",
     "output_type": "stream",
     "text": [
      "arquivo joblib de df resultado ml tunning criado com sucesso\n"
     ]
    }
   ],
   "source": [
    "def salvar_df_in_joblib(df, file_name: str = \"../out/result_ml_best_model.joblib\"):\n",
    "\n",
    "    joblib.dump(df, file_name)\n",
    "\n",
    "    print(\"arquivo joblib de df resultado ml tunning criado com sucesso\")\n",
    "\n",
    "salvar_df_in_joblib(modelos['LogisticRegression']['modelo_tunado'])"
   ]
  }
 ],
 "metadata": {
  "interpreter": {
   "hash": "8ab34ce4145f682337f5fa161ec816727aecde41915875d0a837a5ffe57556a8"
  },
  "kernelspec": {
   "display_name": "Python 3",
   "language": "python",
   "name": "python3"
  },
  "language_info": {
   "codemirror_mode": {
    "name": "ipython",
    "version": 3
   },
   "file_extension": ".py",
   "mimetype": "text/x-python",
   "name": "python",
   "nbconvert_exporter": "python",
   "pygments_lexer": "ipython3",
   "version": "3.8.11"
  }
 },
 "nbformat": 4,
 "nbformat_minor": 2
}
