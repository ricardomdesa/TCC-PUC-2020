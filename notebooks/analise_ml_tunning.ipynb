{
 "cells": [
  {
   "cell_type": "markdown",
   "metadata": {},
   "source": [
    "# Analise modelos ML"
   ]
  },
  {
   "cell_type": "markdown",
   "metadata": {},
   "source": [
    "## Carregar dados tratados"
   ]
  },
  {
   "cell_type": "code",
   "execution_count": 1,
   "metadata": {},
   "outputs": [],
   "source": [
    "# ! pip install seaborn\n",
    "# ! pip install plotly\n",
    "# ! pip install statsmodels\n",
    "# ! pip install sklearn"
   ]
  },
  {
   "cell_type": "code",
   "execution_count": 2,
   "metadata": {},
   "outputs": [],
   "source": [
    "import pandas as pd\n",
    "\n",
    "import matplotlib.pyplot as plt\n",
    "import seaborn as sns\n",
    "\n",
    "from sklearn.model_selection import train_test_split\n",
    "\n",
    "\n",
    "from sklearn.metrics import classification_report, confusion_matrix\n",
    "\n",
    "from sklearn.ensemble import GradientBoostingClassifier, RandomForestClassifier\n",
    "from sklearn.neighbors import KNeighborsClassifier\n",
    "from sklearn.neural_network import MLPClassifier\n",
    "\n",
    "from sklearn.model_selection import GridSearchCV\n",
    "from sklearn.metrics import make_scorer, precision_score\n",
    "\n",
    "import joblib"
   ]
  },
  {
   "cell_type": "code",
   "execution_count": 3,
   "metadata": {},
   "outputs": [],
   "source": [
    "def carregar_joblib(file_name: str = \"../out/result_analise_desc_scaled.joblib\"):\n",
    "    df = joblib.load(file_name)\n",
    "    return df"
   ]
  },
  {
   "cell_type": "code",
   "execution_count": 4,
   "metadata": {},
   "outputs": [],
   "source": [
    "def split_dados(df):\n",
    "    X = df.drop([\"decisao\"], axis=1)\n",
    "    y = df[\"decisao\"]\n",
    "\n",
    "    X_treino, X_teste, y_treino, y_teste = train_test_split(X, y, test_size=0.3, random_state=1)\n",
    "\n",
    "    print(f\"{len(X_treino)=} {len(X_teste)=} {len(y_treino)=} {len(y_teste)=}\")\n",
    "\n",
    "    return X_treino, X_teste, y_treino, y_teste"
   ]
  },
  {
   "cell_type": "code",
   "execution_count": 5,
   "metadata": {},
   "outputs": [],
   "source": [
    "def avaliar(y_teste, previsoes, nome_modelo):\n",
    "    print(nome_modelo)\n",
    "    print(\"Reporte teste\")\n",
    "    report = classification_report(y_teste, previsoes)\n",
    "    print(report)\n",
    "    cf_matrix = pd.DataFrame(confusion_matrix(y_teste, previsoes), index=[\"Vender\", \"Comprar\"], columns=[\"Vender\", \"Comprar\"])\n",
    "    sns.heatmap(cf_matrix, annot=True, cmap=\"Blues\", fmt=',')\n",
    "    plt.show()\n",
    "    print(\"#\" * 50)\n",
    "    \n",
    "    \n"
   ]
  },
  {
   "cell_type": "markdown",
   "metadata": {},
   "source": [
    "# ML modelos"
   ]
  },
  {
   "cell_type": "markdown",
   "metadata": {},
   "source": [
    "## Modelos a serem testados\n",
    "\n",
    "- Random Forest\n",
    "- Gradient Boost\n",
    "- K Nearest Neighbors (KNN)"
   ]
  },
  {
   "cell_type": "code",
   "execution_count": 6,
   "metadata": {},
   "outputs": [],
   "source": [
    "def definir_modelos_ml() -> dict:\n",
    "    return {\n",
    "        \"RandomForest_base\": RandomForestClassifier(random_state=42),\n",
    "        \"RandomForest_tunned\": RandomForestClassifier(random_state=42, n_estimators= 1400, min_samples_split= 10, min_samples_leaf= 2, max_features= 'sqrt', max_depth= 80, bootstrap= True),\n",
    "        \"RandomForest_tunned_grid\": RandomForestClassifier(random_state=42, n_estimators= 200, min_samples_split= 12, min_samples_leaf= 3, max_features= 'sqrt', max_depth= 80, bootstrap= True),\n",
    "        \"GradientBoost\": GradientBoostingClassifier(random_state=1),\n",
    "        \"GradientBoost_tunned\": GradientBoostingClassifier(random_state=42, n_estimators= 1411, min_samples_split= 2, min_samples_leaf= 2, max_features= \"auto\", max_depth= 110, learning_rate= 0.025, criterion= \"squared_error\"),\n",
    "        \"NN_tunned\": MLPClassifier(solver= \"sgd\", random_state= 2, hidden_layer_sizes= 5, alpha= 0.1, activation= \"relu\"),\n",
    "    }"
   ]
  },
  {
   "cell_type": "code",
   "execution_count": 7,
   "metadata": {},
   "outputs": [],
   "source": [
    "def rodar_imprimir_modelos_ml(modelos, X_treino, X_teste, y_treino, y_teste):\n",
    "    for nome_modelo in modelos:\n",
    "        modelo = modelos[nome_modelo]\n",
    "        modelo.fit(X_treino, y_treino)\n",
    "        previsoes = modelo.predict(X_teste)\n",
    "        avaliar(y_teste, previsoes, nome_modelo)\n",
    "        modelos[nome_modelo] = modelo\n",
    "    \n",
    "    return modelos"
   ]
  },
  {
   "cell_type": "markdown",
   "metadata": {},
   "source": [
    "# Execucao"
   ]
  },
  {
   "cell_type": "code",
   "execution_count": 8,
   "metadata": {},
   "outputs": [],
   "source": [
    "def main(scaled: bool = False):\n",
    "    if scaled:\n",
    "        df = carregar_joblib(\"../out/result_analise_desc_scaled.joblib\")\n",
    "        print(\"scaled df\")\n",
    "    else:\n",
    "        df = carregar_joblib()\n",
    "        print(\"NOT scaled df\")\n",
    "\n",
    "    print(df.shape)\n",
    "\n",
    "    # split database train and test\n",
    "    X_treino, X_teste, y_treino, y_teste = split_dados(df)\n",
    "\n",
    "    modelos = definir_modelos_ml()\n",
    "\n",
    "    modelos = rodar_imprimir_modelos_ml(modelos, X_treino, X_teste, y_treino, y_teste)\n",
    "\n",
    "    return df\n"
   ]
  },
  {
   "cell_type": "code",
   "execution_count": 16,
   "metadata": {},
   "outputs": [
    {
     "name": "stdout",
     "output_type": "stream",
     "text": [
      "NOT scaled df\n",
      "(1667, 4)\n",
      "len(X_treino)=1166 len(X_teste)=501 len(y_treino)=1166 len(y_teste)=501\n",
      "RandomForest_base\n",
      "Reporte teste\n",
      "              precision    recall  f1-score   support\n",
      "\n",
      "           0       0.51      0.56      0.53       250\n",
      "           1       0.51      0.47      0.49       251\n",
      "\n",
      "    accuracy                           0.51       501\n",
      "   macro avg       0.51      0.51      0.51       501\n",
      "weighted avg       0.51      0.51      0.51       501\n",
      "\n"
     ]
    },
    {
     "data": {
      "image/png": "[encoded data removed]",
      "text/plain": [
       "<Figure size 432x288 with 2 Axes>"
      ]
     },
     "metadata": {
      "needs_background": "light"
     },
     "output_type": "display_data"
    },
    {
     "name": "stdout",
     "output_type": "stream",
     "text": [
      "##################################################\n",
      "RandomForest_tunned\n",
      "Reporte teste\n",
      "              precision    recall  f1-score   support\n",
      "\n",
      "           0       0.50      0.54      0.52       250\n",
      "           1       0.50      0.47      0.48       251\n",
      "\n",
      "    accuracy                           0.50       501\n",
      "   macro avg       0.50      0.50      0.50       501\n",
      "weighted avg       0.50      0.50      0.50       501\n",
      "\n"
     ]
    },
    {
     "data": {
      "image/png": "[encoded data removed]",
      "text/plain": [
       "<Figure size 432x288 with 2 Axes>"
      ]
     },
     "metadata": {
      "needs_background": "light"
     },
     "output_type": "display_data"
    },
    {
     "name": "stdout",
     "output_type": "stream",
     "text": [
      "##################################################\n",
      "RandomForest_tunned_grid\n",
      "Reporte teste\n",
      "              precision    recall  f1-score   support\n",
      "\n",
      "           0       0.49      0.52      0.51       250\n",
      "           1       0.50      0.47      0.48       251\n",
      "\n",
      "    accuracy                           0.50       501\n",
      "   macro avg       0.50      0.50      0.49       501\n",
      "weighted avg       0.50      0.50      0.49       501\n",
      "\n"
     ]
    },
    {
     "data": {
      "image/png": "[encoded data removed]",
      "text/plain": [
       "<Figure size 432x288 with 2 Axes>"
      ]
     },
     "metadata": {
      "needs_background": "light"
     },
     "output_type": "display_data"
    },
    {
     "name": "stdout",
     "output_type": "stream",
     "text": [
      "##################################################\n",
      "GradientBoost\n",
      "Reporte teste\n",
      "              precision    recall  f1-score   support\n",
      "\n",
      "           0       0.52      0.56      0.54       250\n",
      "           1       0.52      0.48      0.50       251\n",
      "\n",
      "    accuracy                           0.52       501\n",
      "   macro avg       0.52      0.52      0.52       501\n",
      "weighted avg       0.52      0.52      0.52       501\n",
      "\n"
     ]
    },
    {
     "data": {
      "image/png": "[encoded data removed]",
      "text/plain": [
       "<Figure size 432x288 with 2 Axes>"
      ]
     },
     "metadata": {
      "needs_background": "light"
     },
     "output_type": "display_data"
    },
    {
     "name": "stdout",
     "output_type": "stream",
     "text": [
      "##################################################\n",
      "GradientBoost_tunned\n",
      "Reporte teste\n",
      "              precision    recall  f1-score   support\n",
      "\n",
      "           0       0.52      0.54      0.53       250\n",
      "           1       0.53      0.50      0.51       251\n",
      "\n",
      "    accuracy                           0.52       501\n",
      "   macro avg       0.52      0.52      0.52       501\n",
      "weighted avg       0.52      0.52      0.52       501\n",
      "\n"
     ]
    },
    {
     "data": {
      "image/png": "[encoded data removed]",
      "text/plain": [
       "<Figure size 432x288 with 2 Axes>"
      ]
     },
     "metadata": {
      "needs_background": "light"
     },
     "output_type": "display_data"
    },
    {
     "name": "stdout",
     "output_type": "stream",
     "text": [
      "##################################################\n",
      "NN_tunned\n",
      "Reporte teste\n",
      "              precision    recall  f1-score   support\n",
      "\n",
      "           0       0.56      0.54      0.55       250\n",
      "           1       0.56      0.58      0.57       251\n",
      "\n",
      "    accuracy                           0.56       501\n",
      "   macro avg       0.56      0.56      0.56       501\n",
      "weighted avg       0.56      0.56      0.56       501\n",
      "\n"
     ]
    },
    {
     "data": {
      "image/png": "[encoded data removed]",
      "text/plain": [
       "<Figure size 432x288 with 2 Axes>"
      ]
     },
     "metadata": {
      "needs_background": "light"
     },
     "output_type": "display_data"
    },
    {
     "name": "stdout",
     "output_type": "stream",
     "text": [
      "##################################################\n"
     ]
    }
   ],
   "source": [
    "df = main(scaled=False)"
   ]
  },
  {
   "cell_type": "markdown",
   "metadata": {},
   "source": [
    "## Em comparacao entre dados com tratamento de standardScaler e sem, notou-se uma precisao melhor quando os dados nao estao com scaler para KNN e Rede Neural."
   ]
  },
  {
   "cell_type": "markdown",
   "metadata": {},
   "source": [
    "## Escolha de 3 melhores modelos para comparação"
   ]
  },
  {
   "cell_type": "code",
   "execution_count": 10,
   "metadata": {},
   "outputs": [],
   "source": [
    "import numpy as np\n",
    "def fit_tunning_grid_gradient_boost(X_treino, y_treino):\n",
    "\n",
    "    n_estimators = range(100, 300, 100)\n",
    "    max_features = list(range(1, 7))\n",
    "    max_features = [4,5,7]\n",
    "    max_features = [\"auto\", \"sqrt\", \"log2\"]\n",
    "    # max_features.append(\"auto\")\n",
    "\n",
    "    precision2_score = make_scorer(precision_score, labels=[2], average='macro')\n",
    "    parameters = {\n",
    "        \"loss\":[\"deviance\"],\n",
    "        \"learning_rate\": [0.01, 0.025, 0.05, 0.075, 0.1, 0.15, 0.2],\n",
    "        \"min_samples_split\": [0.05, 0.1, 0.2], #np.linspace(0.05, 0.1, 0.2),\n",
    "        \"min_samples_leaf\": [0.05, 0.1, 0.2], #np.linspace(0.05, 0.1, 0.2),\n",
    "        \"max_depth\":[3],\n",
    "        \"max_features\":[\"log2\", \"sqrt\"],\n",
    "        \"criterion\": [\"mae\"],\n",
    "        # \"subsample\":[0.5, 0.618, 0.8, 0.85, 0.9, 0.95, 1.0],\n",
    "        \"n_estimators\":[7]\n",
    "        }\n",
    "    grid = GridSearchCV(\n",
    "            estimator=GradientBoostingClassifier(random_state=1),\n",
    "            param_grid=parameters,\n",
    "            scoring=precision2_score,\n",
    "            refit=False,cv=10, n_jobs=-1\n",
    "    )\n",
    "\n",
    "    return grid.fit(X_treino, y_treino)   "
   ]
  },
  {
   "cell_type": "code",
   "execution_count": 11,
   "metadata": {},
   "outputs": [],
   "source": [
    "\n",
    "def fit_tunning_grid_random_forest(X_treino, y_treino):\n",
    "    print(\"Tunning Random Forest\")\n",
    "    # n_estimators = range(100, 300, 100)\n",
    "    # max_features = list(range(2, 7, 2))\n",
    "    # max_features.append('auto')\n",
    "    max_features = ['auto', 'log2', 'sqrt']\n",
    "    min_samples_split = range(2, 7, 2)\n",
    "\n",
    "    # precision2_score = make_scorer(precision_score, labels=[2], average='macro')\n",
    "    precision2_score = make_scorer(precision_score)\n",
    "\n",
    "    grid = GridSearchCV(\n",
    "            estimator=RandomForestClassifier(random_state=1),\n",
    "            param_grid={\n",
    "                'n_estimators': [100],\n",
    "                'max_features': max_features,\n",
    "                'min_samples_split': min_samples_split,\n",
    "                'random_state': [1],\n",
    "            },\n",
    "            cv=5,\n",
    "            scoring=precision2_score,\n",
    "    )\n",
    "\n",
    "    return grid.fit(X_treino, y_treino)"
   ]
  },
  {
   "cell_type": "code",
   "execution_count": 12,
   "metadata": {},
   "outputs": [],
   "source": [
    "def run_gradient_boost_tunning(df):\n",
    "    # split database train and test\n",
    "    X_treino, X_teste, y_treino, y_teste = split_dados(df)\n",
    "    resultado_grid = fit_tunning_grid_gradient_boost(X_treino, y_treino)\n",
    "\n",
    "    print(\"Ajuste Gradient feito\")\n",
    "\n",
    "    print(\"Best params\", resultado_grid.best_params_)\n",
    "    print(\"Best score\", resultado_grid.best_score_)"
   ]
  },
  {
   "cell_type": "code",
   "execution_count": 13,
   "metadata": {},
   "outputs": [],
   "source": [
    "def run_random_forest_tunning(df):\n",
    "    # split database train and test\n",
    "    X_treino, X_teste, y_treino, y_teste = split_dados(df)\n",
    "    resultado_grid = fit_tunning_grid_random_forest(X_treino, y_treino)\n",
    "\n",
    "    print(\"Ajuste random forest feito\")\n",
    "\n",
    "    print(\"best params\", resultado_grid.best_params_)\n",
    "    modelo_tunado = resultado_grid.best_estimator_\n",
    "    previsoes = modelo_tunado.predict(X_teste)\n",
    "\n",
    "    avaliar(y_teste, previsoes, \"RandomForest Tunado\")"
   ]
  },
  {
   "cell_type": "code",
   "execution_count": 14,
   "metadata": {},
   "outputs": [
    {
     "name": "stdout",
     "output_type": "stream",
     "text": [
      "len(X_treino)=1166 len(X_teste)=501 len(y_treino)=1166 len(y_teste)=501\n",
      "Tunning Random Forest\n",
      "Ajuste random forest feito\n",
      "best params {'max_features': 'auto', 'min_samples_split': 4, 'n_estimators': 100, 'random_state': 1}\n",
      "RandomForest Tunado\n",
      "Reporte teste\n",
      "              precision    recall  f1-score   support\n",
      "\n",
      "           0       0.50      0.52      0.51       250\n",
      "           1       0.50      0.48      0.49       251\n",
      "\n",
      "    accuracy                           0.50       501\n",
      "   macro avg       0.50      0.50      0.50       501\n",
      "weighted avg       0.50      0.50      0.50       501\n",
      "\n"
     ]
    },
    {
     "data": {
      "image/png": "[encoded data removed]",
      "text/plain": [
       "<Figure size 432x288 with 2 Axes>"
      ]
     },
     "metadata": {
      "needs_background": "light"
     },
     "output_type": "display_data"
    },
    {
     "name": "stdout",
     "output_type": "stream",
     "text": [
      "##################################################\n"
     ]
    }
   ],
   "source": [
    "def main_tunning(df):\n",
    "\n",
    "    # run_gradient_boost_tunning(df)\n",
    "    run_random_forest_tunning(df)\n",
    "\n",
    "main_tunning(df)"
   ]
  },
  {
   "cell_type": "code",
   "execution_count": 15,
   "metadata": {},
   "outputs": [
    {
     "ename": "NameError",
     "evalue": "name 'X_treino' is not defined",
     "output_type": "error",
     "traceback": [
      "\u001b[0;31m---------------------------------------------------------------------------\u001b[0m",
      "\u001b[0;31mNameError\u001b[0m                                 Traceback (most recent call last)",
      "\u001b[0;32m/var/folders/wr/pklv5dss0sx94dkc9c_qh14w0000gn/T/ipykernel_37887/1883571382.py\u001b[0m in \u001b[0;36m<module>\u001b[0;34m\u001b[0m\n\u001b[1;32m     23\u001b[0m                                      random_state=1)\n\u001b[1;32m     24\u001b[0m \u001b[0;34m\u001b[0m\u001b[0m\n\u001b[0;32m---> 25\u001b[0;31m \u001b[0mmodelo\u001b[0m\u001b[0;34m.\u001b[0m\u001b[0mfit\u001b[0m\u001b[0;34m(\u001b[0m\u001b[0mX_treino\u001b[0m\u001b[0;34m,\u001b[0m \u001b[0my_treino\u001b[0m\u001b[0;34m)\u001b[0m\u001b[0;34m\u001b[0m\u001b[0;34m\u001b[0m\u001b[0m\n\u001b[0m\u001b[1;32m     26\u001b[0m \u001b[0mprevisoes\u001b[0m \u001b[0;34m=\u001b[0m \u001b[0mmodelo\u001b[0m\u001b[0;34m.\u001b[0m\u001b[0mpredict\u001b[0m\u001b[0;34m(\u001b[0m\u001b[0mX_teste\u001b[0m\u001b[0;34m)\u001b[0m\u001b[0;34m\u001b[0m\u001b[0;34m\u001b[0m\u001b[0m\n\u001b[1;32m     27\u001b[0m \u001b[0mavaliar\u001b[0m\u001b[0;34m(\u001b[0m\u001b[0my_teste\u001b[0m\u001b[0;34m,\u001b[0m \u001b[0mprevisoes\u001b[0m\u001b[0;34m,\u001b[0m \u001b[0;34m\"gradient boost tunned\"\u001b[0m\u001b[0;34m)\u001b[0m\u001b[0;34m\u001b[0m\u001b[0;34m\u001b[0m\u001b[0m\n",
      "\u001b[0;31mNameError\u001b[0m: name 'X_treino' is not defined"
     ]
    }
   ],
   "source": [
    "# modelo = GradientBoostingClassifier(min_samples_split=0.1,\n",
    "#                                      min_samples_leaf=0.1, \n",
    "#                                      learning_rate=0.025, \n",
    "#                                      max_depth=5, \n",
    "#                                      max_features=\"sqrt\",\n",
    "#                                      criterion=\"friedman_mse\",\n",
    "#                                      random_state=1)\n",
    "\n",
    "# modelo = GradientBoostingClassifier(min_samples_split=0.05,\n",
    "#                                      min_samples_leaf=0.05, \n",
    "#                                      learning_rate=0.1, \n",
    "#                                      max_depth=3, \n",
    "#                                      max_features=\"sqrt\",\n",
    "#                                      criterion=\"mae\",\n",
    "#                                      random_state=1)\n",
    "\n",
    "modelo = GradientBoostingClassifier(min_samples_split=0.05,\n",
    "                                     min_samples_leaf=0.05, \n",
    "                                     learning_rate=0.01, \n",
    "                                     max_depth=3, \n",
    "                                     max_features=\"log2\",\n",
    "                                     criterion=\"mae\",\n",
    "                                     random_state=1)\n",
    "\n",
    "modelo.fit(X_treino, y_treino)\n",
    "previsoes = modelo.predict(X_teste)\n",
    "avaliar(y_teste, previsoes, \"gradient boost tunned\")\n",
    "\n"
   ]
  }
 ],
 "metadata": {
  "interpreter": {
   "hash": "8ab34ce4145f682337f5fa161ec816727aecde41915875d0a837a5ffe57556a8"
  },
  "kernelspec": {
   "display_name": "Python 3.8.11 64-bit ('TCC_PUC': conda)",
   "name": "python3"
  },
  "language_info": {
   "codemirror_mode": {
    "name": "ipython",
    "version": 3
   },
   "file_extension": ".py",
   "mimetype": "text/x-python",
   "name": "python",
   "nbconvert_exporter": "python",
   "pygments_lexer": "ipython3",
   "version": "3.8.11"
  },
  "orig_nbformat": 4
 },
 "nbformat": 4,
 "nbformat_minor": 2
}
