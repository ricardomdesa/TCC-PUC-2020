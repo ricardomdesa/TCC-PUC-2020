{
 "cells": [
  {
   "cell_type": "markdown",
   "metadata": {},
   "source": [
    "# 5.1 Criação de Modelos de Machine Learning - Tunning"
   ]
  },
  {
   "cell_type": "markdown",
   "metadata": {},
   "source": [
    "## ---- Nao considerado, usar arquivo analise_ml_tunning_ada ----"
   ]
  },
  {
   "cell_type": "markdown",
   "metadata": {},
   "source": [
    "## Carregar dados tratados"
   ]
  },
  {
   "cell_type": "code",
   "execution_count": 63,
   "metadata": {},
   "outputs": [],
   "source": [
    "# ! pip install seaborn\n",
    "# ! pip install plotly\n",
    "# ! pip install statsmodels\n",
    "# ! pip install sklearn"
   ]
  },
  {
   "cell_type": "code",
   "execution_count": 64,
   "metadata": {},
   "outputs": [],
   "source": [
    "import pandas as pd\n",
    "\n",
    "import matplotlib.pyplot as plt\n",
    "import seaborn as sns\n",
    "\n",
    "from sklearn.model_selection import train_test_split\n",
    "\n",
    "\n",
    "from sklearn.metrics import classification_report, confusion_matrix, recall_score\n",
    "\n",
    "from sklearn.ensemble import GradientBoostingClassifier, AdaBoostClassifier\n",
    "\n",
    "from sklearn.model_selection import RandomizedSearchCV\n",
    "\n",
    "from sklearn.neural_network import MLPClassifier\n",
    "\n",
    "import joblib"
   ]
  },
  {
   "cell_type": "code",
   "execution_count": 65,
   "metadata": {},
   "outputs": [],
   "source": [
    "def carregar_joblib(file_name: str = \"../out/result_analise_desc.joblib\"):\n",
    "    df = joblib.load(file_name)\n",
    "    return df"
   ]
  },
  {
   "cell_type": "code",
   "execution_count": 66,
   "metadata": {},
   "outputs": [],
   "source": [
    "def avaliar(y_teste, y_prev, nome_modelo):\n",
    "    print(nome_modelo)\n",
    "    print(\"Reporte teste\")\n",
    "    report = classification_report(y_teste, y_prev)\n",
    "    print(report)\n",
    "    cf_matrix = pd.DataFrame(confusion_matrix(y_teste, y_prev), index=[\"Vender\", \"Comprar\"], columns=[\"Vender\", \"Comprar\"])\n",
    "    sns.heatmap(cf_matrix, annot=True, cmap=\"Blues\", fmt=',')\n",
    "    plt.show()\n",
    "    print(\"Recall: \", recall_score(y_teste, y_prev))\n",
    "    print(\"#\" * 50)\n",
    "    return recall_score(y_teste, y_prev)\n"
   ]
  },
  {
   "cell_type": "markdown",
   "metadata": {},
   "source": [
    "# ML modelos"
   ]
  },
  {
   "cell_type": "markdown",
   "metadata": {},
   "source": [
    "## Modelos a serem testados\n",
    "\n",
    "- Random Forest\n",
    "- Gradient Boost\n",
    "- AdaBoost"
   ]
  },
  {
   "cell_type": "code",
   "execution_count": 84,
   "metadata": {},
   "outputs": [],
   "source": [
    "def definir_modelos_ml() -> dict:\n",
    "    return {\n",
    "        # \"AdaBoost\": {'modelo_base': AdaBoostClassifier(random_state=42), 'modelo_tunado': None},\n",
    "        \"AdaBoost\": {'modelo_base': AdaBoostClassifier(random_state=42, n_estimators=50, learning_rate=0.1, algorithm='SAMME'), 'modelo_tunado': None},\n",
    "        # \"RedeNeural\": {'modelo_base': MLPClassifier(random_state=42), 'modelo_tunado': None},\n",
    "        \"RedeNeural\": {'modelo_base': MLPClassifier(random_state=42, solver='sgd', learning_rate='constant', hidden_layer_sizes=8, activation='relu'), 'modelo_tunado': None},\n",
    "        \"GradientBoost\": {'modelo_base': GradientBoostingClassifier(random_state=42, n_estimators=1000, min_samples_split=10, max_features='auto', learning_rate=0.01, criterion='squared_error'), 'modelo_tunado': None},\n",
    "        # \"GradientBoost\": {'modelo_base': GradientBoostingClassifier(random_state=42), 'modelo_tunado': None},\n",
    "    }"
   ]
  },
  {
   "cell_type": "code",
   "execution_count": 68,
   "metadata": {},
   "outputs": [],
   "source": [
    "def rodar_imprimir_modelos_ml(modelos, X_treino, X_teste, y_treino, y_teste):\n",
    "    for nome, modelo in modelos.items():\n",
    "        modelo = modelo.get('modelo_base')\n",
    "        modelo.fit(X_treino, y_treino)\n",
    "        previsoes = modelo.predict(X_teste)\n",
    "        avaliar(y_teste, previsoes, nome + '_base')\n",
    "        modelos[nome]['modelo_base'] = modelo\n",
    "    \n",
    "    return modelos"
   ]
  },
  {
   "cell_type": "markdown",
   "metadata": {},
   "source": [
    "# Execucao"
   ]
  },
  {
   "cell_type": "code",
   "execution_count": 85,
   "metadata": {},
   "outputs": [
    {
     "name": "stdout",
     "output_type": "stream",
     "text": [
      "(1852, 6)\n",
      "AdaBoost_base\n",
      "Reporte teste\n",
      "              precision    recall  f1-score   support\n",
      "\n",
      "           0       0.55      0.37      0.44       142\n",
      "           1       0.51      0.69      0.59       136\n",
      "\n",
      "    accuracy                           0.53       278\n",
      "   macro avg       0.53      0.53      0.51       278\n",
      "weighted avg       0.53      0.53      0.51       278\n",
      "\n"
     ]
    },
    {
     "name": "stderr",
     "output_type": "stream",
     "text": [
      "/Users/shopee/opt/anaconda3/envs/TCC_PUC/lib/python3.8/site-packages/sklearn/base.py:441: UserWarning: X does not have valid feature names, but AdaBoostClassifier was fitted with feature names\n",
      "  warnings.warn(\n"
     ]
    },
    {
     "data": {
      "image/png": "[encoded data removed]",
      "text/plain": [
       "<Figure size 432x288 with 2 Axes>"
      ]
     },
     "metadata": {},
     "output_type": "display_data"
    },
    {
     "name": "stdout",
     "output_type": "stream",
     "text": [
      "Recall:  0.6911764705882353\n",
      "##################################################\n",
      "RedeNeural_base\n",
      "Reporte teste\n",
      "              precision    recall  f1-score   support\n",
      "\n",
      "           0       0.53      0.81      0.64       142\n",
      "           1       0.56      0.25      0.35       136\n",
      "\n",
      "    accuracy                           0.54       278\n",
      "   macro avg       0.54      0.53      0.49       278\n",
      "weighted avg       0.54      0.54      0.50       278\n",
      "\n"
     ]
    },
    {
     "data": {
      "image/png": "[encoded data removed]",
      "text/plain": [
       "<Figure size 432x288 with 2 Axes>"
      ]
     },
     "metadata": {},
     "output_type": "display_data"
    },
    {
     "name": "stdout",
     "output_type": "stream",
     "text": [
      "Recall:  0.25\n",
      "##################################################\n",
      "GradientBoost_base\n",
      "Reporte teste\n",
      "              precision    recall  f1-score   support\n",
      "\n",
      "           0       0.55      0.48      0.51       142\n",
      "           1       0.52      0.60      0.56       136\n",
      "\n",
      "    accuracy                           0.54       278\n",
      "   macro avg       0.54      0.54      0.53       278\n",
      "weighted avg       0.54      0.54      0.53       278\n",
      "\n"
     ]
    },
    {
     "data": {
      "image/png": "[encoded data removed]",
      "text/plain": [
       "<Figure size 432x288 with 2 Axes>"
      ]
     },
     "metadata": {},
     "output_type": "display_data"
    },
    {
     "name": "stdout",
     "output_type": "stream",
     "text": [
      "Recall:  0.5955882352941176\n",
      "##################################################\n"
     ]
    }
   ],
   "source": [
    "def main():\n",
    "\n",
    "    df = carregar_joblib()\n",
    "\n",
    "    print(df.shape)\n",
    "\n",
    "    # split database train and test\n",
    "    X = df.drop([\"decisao\"], axis=1)\n",
    "    y = df[\"decisao\"]\n",
    "\n",
    "    X_treino, X_teste, y_treino, y_teste = train_test_split(X, y, test_size=0.15, random_state=2)\n",
    "\n",
    "    modelos = definir_modelos_ml()\n",
    "\n",
    "    modelos = rodar_imprimir_modelos_ml(modelos, X_treino, X_teste, y_treino, y_teste)\n",
    "\n",
    "    return df, modelos\n",
    "\n",
    "df, modelos = main()"
   ]
  },
  {
   "cell_type": "markdown",
   "metadata": {},
   "source": [
    "## Tunning dos 3 melhores modelos"
   ]
  },
  {
   "cell_type": "code",
   "execution_count": 70,
   "metadata": {},
   "outputs": [],
   "source": [
    "def fit_tunning_rand_search_ada(X_treino, y_treino):\n",
    "    print(\"Tunning randomized search AdaBoost\")\n",
    "\n",
    "    # Create the random grid\n",
    "    param = {'n_estimators': [50, 80, 90, 100],\n",
    "             'learning_rate': [0.2, 1.0, 0.1],\n",
    "             'algorithm': [\"SAMME\", \"SAMME.R\"]}\n",
    "\n",
    "    print(param)\n",
    "\n",
    "    rf_random = RandomizedSearchCV(estimator=AdaBoostClassifier(),\n",
    "                                   param_distributions=param,\n",
    "                                   cv=3,\n",
    "                                   verbose=0,\n",
    "                                   scoring=\"recall\",\n",
    "                                   random_state=42,\n",
    "                                   n_jobs=-1)\n",
    "\n",
    "    # Fit the random search model\n",
    "    return rf_random.fit(X_treino, y_treino)"
   ]
  },
  {
   "cell_type": "code",
   "execution_count": 94,
   "metadata": {},
   "outputs": [],
   "source": [
    "def fit_tunning_rand_search_nn(X_treino, y_treino):\n",
    "    print(\"Tunning randomized search NN\")\n",
    "    activation = ['relu', 'logistic', 'tanh']\n",
    "    learning_rate = [\"constant\", \"adaptive\"]\n",
    "    solver = ['sgd']\n",
    "    hidden_layer_sizes = [3, 5, 8]\n",
    "\n",
    "    # Create the random grid\n",
    "    random_grid = {'activation': activation,\n",
    "                   'solver': solver,\n",
    "                   'learning_rate': learning_rate,\n",
    "                   'hidden_layer_sizes': hidden_layer_sizes,\n",
    "                   'random_state': [2, 42]\n",
    "                   }\n",
    "\n",
    "    print(random_grid)\n",
    "\n",
    "    rf_random = RandomizedSearchCV(estimator=MLPClassifier(random_state=42),\n",
    "                                   param_distributions=random_grid,\n",
    "                                   n_iter=100,\n",
    "                                   cv=3,\n",
    "                                   verbose=0,\n",
    "                                   random_state=42,\n",
    "                                   scoring=\"recall\",\n",
    "                                   n_jobs=-1)\n",
    "\n",
    "    # Fit the random search model\n",
    "    return rf_random.fit(X_treino, y_treino)"
   ]
  },
  {
   "cell_type": "code",
   "execution_count": 72,
   "metadata": {},
   "outputs": [],
   "source": [
    "def fit_tunning_rand_search_gradient(X_treino, y_treino):\n",
    "    print(\"Tunning randomized search Gradient Boost\")\n",
    "\n",
    "    # Create the random grid\n",
    "    params = {'n_estimators': [800, 900, 1000],\n",
    "                   'learning_rate': [0.01, 0.015, 0.009],\n",
    "                   'max_features': ['auto', 'sqrt'],\n",
    "                   'min_samples_split': [2, 5, 10],\n",
    "                   'criterion': [\"friedman_mse\", \"squared_error\"]}\n",
    "\n",
    "    print(params)\n",
    "\n",
    "    rf_random = RandomizedSearchCV(estimator=GradientBoostingClassifier(),\n",
    "                                   param_distributions=params,\n",
    "                                   cv=3,\n",
    "                                   verbose=0,\n",
    "                                   scoring=\"recall\",\n",
    "                                   random_state=42,\n",
    "                                   n_jobs=-1)\n",
    "\n",
    "    # Fit the random search model\n",
    "    return rf_random.fit(X_treino, y_treino)"
   ]
  },
  {
   "cell_type": "code",
   "execution_count": 73,
   "metadata": {},
   "outputs": [],
   "source": [
    "\n",
    "def run_ada_boost_tunning(df):\n",
    "\n",
    "    X = df.drop([\"decisao\"], axis=1)\n",
    "    y = df[\"decisao\"]\n",
    "\n",
    "    X_treino, X_teste, y_treino, y_teste = train_test_split(X, y, test_size=0.15, random_state=2)\n",
    "    \n",
    "    resultado_grid = fit_tunning_rand_search_ada(X_treino.values, y_treino.values)\n",
    "\n",
    "    print(\"Ajuste Adaboost feito\")\n",
    "\n",
    "    print(\"Best params\", resultado_grid.best_params_)\n",
    "    print(\"Best score\", resultado_grid.best_score_)\n",
    "\n",
    "    modelo_tunado = resultado_grid.best_estimator_\n",
    "\n",
    "    return modelo_tunado"
   ]
  },
  {
   "cell_type": "code",
   "execution_count": 81,
   "metadata": {},
   "outputs": [],
   "source": [
    "\n",
    "def run_nn_tunning(df):\n",
    "\n",
    "    # split database train and test\n",
    "    X = df.drop([\"decisao\"], axis=1)\n",
    "    y = df[\"decisao\"]\n",
    "    \n",
    "    X_treino, X_teste, y_treino, y_teste = train_test_split(X, y, test_size=0.15, random_state=2)\n",
    "\n",
    "    # run randomized search first, then set params for grid\n",
    "    resultado_grid = fit_tunning_rand_search_nn(X_treino, y_treino)\n",
    "\n",
    "    print(\"Ajuste Rede neural feito\")\n",
    "\n",
    "    print(\"best params\", resultado_grid.best_params_)\n",
    "    print(\"best score\", resultado_grid.best_score_)\n",
    "    modelo_tunado = resultado_grid.best_estimator_\n",
    "\n",
    "    return modelo_tunado"
   ]
  },
  {
   "cell_type": "code",
   "execution_count": 82,
   "metadata": {},
   "outputs": [],
   "source": [
    "\n",
    "def run_gradient_boost_tunning(df):\n",
    "\n",
    "\n",
    "    X = df.drop([\"decisao\"], axis=1)\n",
    "    y = df[\"decisao\"]\n",
    "\n",
    "    X_treino, X_teste, y_treino, y_teste = train_test_split(X, y, test_size=0.15, random_state=2)\n",
    "\n",
    "    resultado_grid = fit_tunning_rand_search_gradient(X_treino, y_treino)\n",
    "\n",
    "    print(\"Ajuste Gradient Boost feito\")\n",
    "\n",
    "    print(\"Best params\", resultado_grid.best_params_)\n",
    "    print(\"Best score\", resultado_grid.best_score_)\n",
    "\n",
    "    modelo_tunado = resultado_grid.best_estimator_\n",
    "\n",
    "    return modelo_tunado"
   ]
  },
  {
   "cell_type": "code",
   "execution_count": 76,
   "metadata": {},
   "outputs": [],
   "source": [
    "def compare_tunning(df, modelos: dict):\n",
    "\n",
    "    X = df.drop([\"decisao\"], axis=1)\n",
    "    y = df[\"decisao\"]\n",
    "\n",
    "    _, X_teste, _, y_teste = train_test_split(X, y, test_size=0.15, random_state=2)\n",
    "\n",
    "    recalls = {}\n",
    "    for nome, modelos_dict in modelos.items():\n",
    "        prev = modelos_dict['modelo_base'].predict(X_teste)\n",
    "        # avaliar(y_teste, prev, nome + '_base')\n",
    "        prev = modelos_dict['modelo_tunado'].predict(X_teste)\n",
    "        recalls[nome] = avaliar(y_teste, prev, nome + '_tunado')\n",
    "    \n",
    "    # barplot comparacao 3 modelos tunados\n",
    "    sns.set_theme(style=\"whitegrid\")\n",
    "    ax = sns.barplot(x=list(recalls.keys()), y=list(recalls.values()))\n",
    "    ax.set(xlabel=\"Modelos\", ylabel=\"Recall\", title=\"Recall por Modelo\")\n",
    "    "
   ]
  },
  {
   "cell_type": "code",
   "execution_count": 79,
   "metadata": {},
   "outputs": [],
   "source": [
    "def run_tunning_fit(df, modelos):\n",
    "    '''\n",
    "        Executa os tunnings com randomized search cv e armazena o modelo tunado\n",
    "    '''\n",
    "    modelos['AdaBoost']['modelo_tunado'] = run_ada_boost_tunning(df)\n",
    "    modelos['RedeNeural']['modelo_tunado'] = run_nn_tunning(df)\n",
    "    modelos['GradientBoost']['modelo_tunado'] = run_gradient_boost_tunning(df)\n",
    "\n",
    "    return modelos\n"
   ]
  },
  {
   "cell_type": "code",
   "execution_count": 95,
   "metadata": {},
   "outputs": [
    {
     "name": "stdout",
     "output_type": "stream",
     "text": [
      "Tunning randomized search AdaBoost\n",
      "{'n_estimators': [50, 80, 90, 100], 'learning_rate': [0.2, 1.0, 0.1], 'algorithm': ['SAMME', 'SAMME.R']}\n",
      "Ajuste Adaboost feito\n",
      "Best params {'n_estimators': 50, 'learning_rate': 0.1, 'algorithm': 'SAMME'}\n",
      "Best score 0.7238421955403087\n",
      "Tunning randomized search NN\n",
      "{'activation': ['relu', 'logistic', 'tanh'], 'solver': ['sgd'], 'learning_rate': ['constant', 'adaptive'], 'hidden_layer_sizes': [3, 5, 8], 'random_state': [2, 42]}\n"
     ]
    },
    {
     "name": "stderr",
     "output_type": "stream",
     "text": [
      "/Users/shopee/opt/anaconda3/envs/TCC_PUC/lib/python3.8/site-packages/sklearn/model_selection/_search.py:292: UserWarning: The total space of parameters 36 is smaller than n_iter=100. Running 36 iterations. For exhaustive searches, use GridSearchCV.\n",
      "  warnings.warn(\n",
      "/Users/shopee/opt/anaconda3/envs/TCC_PUC/lib/python3.8/site-packages/sklearn/neural_network/_multilayer_perceptron.py:692: ConvergenceWarning: Stochastic Optimizer: Maximum iterations (200) reached and the optimization hasn't converged yet.\n",
      "  warnings.warn(\n",
      "/Users/shopee/opt/anaconda3/envs/TCC_PUC/lib/python3.8/site-packages/sklearn/neural_network/_multilayer_perceptron.py:692: ConvergenceWarning: Stochastic Optimizer: Maximum iterations (200) reached and the optimization hasn't converged yet.\n",
      "  warnings.warn(\n",
      "/Users/shopee/opt/anaconda3/envs/TCC_PUC/lib/python3.8/site-packages/sklearn/neural_network/_multilayer_perceptron.py:692: ConvergenceWarning: Stochastic Optimizer: Maximum iterations (200) reached and the optimization hasn't converged yet.\n",
      "  warnings.warn(\n",
      "/Users/shopee/opt/anaconda3/envs/TCC_PUC/lib/python3.8/site-packages/sklearn/neural_network/_multilayer_perceptron.py:692: ConvergenceWarning: Stochastic Optimizer: Maximum iterations (200) reached and the optimization hasn't converged yet.\n",
      "  warnings.warn(\n",
      "/Users/shopee/opt/anaconda3/envs/TCC_PUC/lib/python3.8/site-packages/sklearn/neural_network/_multilayer_perceptron.py:692: ConvergenceWarning: Stochastic Optimizer: Maximum iterations (200) reached and the optimization hasn't converged yet.\n",
      "  warnings.warn(\n",
      "/Users/shopee/opt/anaconda3/envs/TCC_PUC/lib/python3.8/site-packages/sklearn/neural_network/_multilayer_perceptron.py:692: ConvergenceWarning: Stochastic Optimizer: Maximum iterations (200) reached and the optimization hasn't converged yet.\n",
      "  warnings.warn(\n",
      "/Users/shopee/opt/anaconda3/envs/TCC_PUC/lib/python3.8/site-packages/sklearn/neural_network/_multilayer_perceptron.py:692: ConvergenceWarning: Stochastic Optimizer: Maximum iterations (200) reached and the optimization hasn't converged yet.\n",
      "  warnings.warn(\n",
      "/Users/shopee/opt/anaconda3/envs/TCC_PUC/lib/python3.8/site-packages/sklearn/neural_network/_multilayer_perceptron.py:692: ConvergenceWarning: Stochastic Optimizer: Maximum iterations (200) reached and the optimization hasn't converged yet.\n",
      "  warnings.warn(\n",
      "/Users/shopee/opt/anaconda3/envs/TCC_PUC/lib/python3.8/site-packages/sklearn/neural_network/_multilayer_perceptron.py:692: ConvergenceWarning: Stochastic Optimizer: Maximum iterations (200) reached and the optimization hasn't converged yet.\n",
      "  warnings.warn(\n"
     ]
    },
    {
     "name": "stdout",
     "output_type": "stream",
     "text": [
      "Ajuste Rede neural feito\n",
      "best params {'solver': 'sgd', 'random_state': 42, 'learning_rate': 'constant', 'hidden_layer_sizes': 5, 'activation': 'relu'}\n",
      "best score 0.9065656565656566\n",
      "Tunning randomized search Gradient Boost\n",
      "{'n_estimators': [800, 900, 1000], 'learning_rate': [0.01, 0.015, 0.009], 'max_features': ['auto', 'sqrt'], 'min_samples_split': [2, 5, 10], 'criterion': ['friedman_mse', 'squared_error']}\n",
      "Ajuste Gradient Boost feito\n",
      "Best params {'n_estimators': 1000, 'min_samples_split': 10, 'max_features': 'auto', 'learning_rate': 0.01, 'criterion': 'squared_error'}\n",
      "Best score 0.5927434724604536\n",
      "AdaBoost_tunado\n",
      "Reporte teste\n",
      "              precision    recall  f1-score   support\n",
      "\n",
      "           0       0.55      0.37      0.44       142\n",
      "           1       0.51      0.69      0.59       136\n",
      "\n",
      "    accuracy                           0.53       278\n",
      "   macro avg       0.53      0.53      0.51       278\n",
      "weighted avg       0.53      0.53      0.51       278\n",
      "\n"
     ]
    },
    {
     "name": "stderr",
     "output_type": "stream",
     "text": [
      "/Users/shopee/opt/anaconda3/envs/TCC_PUC/lib/python3.8/site-packages/sklearn/base.py:441: UserWarning: X does not have valid feature names, but AdaBoostClassifier was fitted with feature names\n",
      "  warnings.warn(\n",
      "/Users/shopee/opt/anaconda3/envs/TCC_PUC/lib/python3.8/site-packages/sklearn/base.py:434: UserWarning: X has feature names, but AdaBoostClassifier was fitted without feature names\n",
      "  warnings.warn(\n"
     ]
    },
    {
     "data": {
      "image/png": "[encoded data removed]",
      "text/plain": [
       "<Figure size 432x288 with 2 Axes>"
      ]
     },
     "metadata": {},
     "output_type": "display_data"
    },
    {
     "name": "stdout",
     "output_type": "stream",
     "text": [
      "Recall:  0.6911764705882353\n",
      "##################################################\n",
      "RedeNeural_tunado\n",
      "Reporte teste\n",
      "              precision    recall  f1-score   support\n",
      "\n",
      "           0       0.51      0.51      0.51       142\n",
      "           1       0.49      0.48      0.48       136\n",
      "\n",
      "    accuracy                           0.50       278\n",
      "   macro avg       0.50      0.50      0.50       278\n",
      "weighted avg       0.50      0.50      0.50       278\n",
      "\n"
     ]
    },
    {
     "data": {
      "image/png": "[encoded data removed]",
      "text/plain": [
       "<Figure size 432x288 with 2 Axes>"
      ]
     },
     "metadata": {},
     "output_type": "display_data"
    },
    {
     "name": "stdout",
     "output_type": "stream",
     "text": [
      "Recall:  0.47794117647058826\n",
      "##################################################\n",
      "GradientBoost_tunado\n",
      "Reporte teste\n",
      "              precision    recall  f1-score   support\n",
      "\n",
      "           0       0.55      0.48      0.51       142\n",
      "           1       0.52      0.60      0.56       136\n",
      "\n",
      "    accuracy                           0.54       278\n",
      "   macro avg       0.54      0.54      0.53       278\n",
      "weighted avg       0.54      0.54      0.53       278\n",
      "\n"
     ]
    },
    {
     "data": {
      "image/png": "[encoded data removed]",
      "text/plain": [
       "<Figure size 432x288 with 2 Axes>"
      ]
     },
     "metadata": {},
     "output_type": "display_data"
    },
    {
     "name": "stdout",
     "output_type": "stream",
     "text": [
      "Recall:  0.5955882352941176\n",
      "##################################################\n"
     ]
    },
    {
     "data": {
      "image/png": "[encoded data removed]",
      "text/plain": [
       "<Figure size 432x288 with 1 Axes>"
      ]
     },
     "metadata": {},
     "output_type": "display_data"
    }
   ],
   "source": [
    "modelos = run_tunning_fit(df, modelos)\n",
    "\n",
    "compare_tunning(df, modelos)"
   ]
  },
  {
   "cell_type": "markdown",
   "metadata": {},
   "source": [
    "# Melhor modelo escolhido:\n",
    "\n",
    "- x\n",
    "\n",
    "Best score de x%"
   ]
  }
 ],
 "metadata": {
  "interpreter": {
   "hash": "8ab34ce4145f682337f5fa161ec816727aecde41915875d0a837a5ffe57556a8"
  },
  "kernelspec": {
   "display_name": "Python 3",
   "language": "python",
   "name": "python3"
  },
  "language_info": {
   "codemirror_mode": {
    "name": "ipython",
    "version": 3
   },
   "file_extension": ".py",
   "mimetype": "text/x-python",
   "name": "python",
   "nbconvert_exporter": "python",
   "pygments_lexer": "ipython3",
   "version": "3.8.11"
  }
 },
 "nbformat": 4,
 "nbformat_minor": 2
}
