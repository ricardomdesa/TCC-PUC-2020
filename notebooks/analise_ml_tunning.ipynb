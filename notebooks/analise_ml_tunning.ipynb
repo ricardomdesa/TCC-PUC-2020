{
 "cells": [
  {
   "cell_type": "markdown",
   "metadata": {},
   "source": [
    "# 5.1 Criação de Modelos de Machine Learning - Tunning"
   ]
  },
  {
   "cell_type": "markdown",
   "metadata": {},
   "source": [
    "## Carregar dados tratados"
   ]
  },
  {
   "cell_type": "code",
   "execution_count": 51,
   "metadata": {},
   "outputs": [],
   "source": [
    "# ! pip install seaborn\n",
    "# ! pip install plotly\n",
    "# ! pip install statsmodels\n",
    "# ! pip install sklearn\n",
    "# ! pip install xgboost"
   ]
  },
  {
   "cell_type": "code",
   "execution_count": 82,
   "metadata": {},
   "outputs": [],
   "source": [
    "import pandas as pd\n",
    "\n",
    "import matplotlib.pyplot as plt\n",
    "import seaborn as sns\n",
    "\n",
    "from sklearn.model_selection import train_test_split\n",
    "\n",
    "\n",
    "from sklearn.metrics import classification_report, confusion_matrix, accuracy_score\n",
    "\n",
    "from sklearn.ensemble import GradientBoostingClassifier, RandomForestClassifier, AdaBoostClassifier\n",
    "\n",
    "from sklearn.model_selection import RandomizedSearchCV\n",
    "\n",
    "import joblib"
   ]
  },
  {
   "cell_type": "code",
   "execution_count": 53,
   "metadata": {},
   "outputs": [],
   "source": [
    "def carregar_joblib(file_name: str = \"../out/result_analise_desc_scaled.joblib\"):\n",
    "    df = joblib.load(file_name)\n",
    "    return df"
   ]
  },
  {
   "cell_type": "code",
   "execution_count": 89,
   "metadata": {},
   "outputs": [],
   "source": [
    "def split_dados(df):\n",
    "    X = df.drop([\"decisao\"], axis=1)\n",
    "    y = df[\"decisao\"]\n",
    "\n",
    "    X_treino, X_teste, y_treino, y_teste = train_test_split(X, y, test_size=0.15, random_state=2)\n",
    "\n",
    "    print(f\"{len(X_treino)=} {len(X_teste)=} {len(y_treino)=} {len(y_teste)=}\")\n",
    "\n",
    "    return X_treino, X_teste, y_treino, y_teste"
   ]
  },
  {
   "cell_type": "code",
   "execution_count": 126,
   "metadata": {},
   "outputs": [],
   "source": [
    "def avaliar(y_teste, y_prev, nome_modelo):\n",
    "    print(nome_modelo)\n",
    "    print(\"Reporte teste\")\n",
    "    report = classification_report(y_teste, y_prev)\n",
    "    # print(report)\n",
    "    cf_matrix = pd.DataFrame(confusion_matrix(y_teste, y_prev), index=[\"Vender\", \"Comprar\"], columns=[\"Vender\", \"Comprar\"])\n",
    "    # sns.heatmap(cf_matrix, annot=True, cmap=\"Blues\", fmt=',')\n",
    "    # plt.show()\n",
    "    print(\"Acuracia: \", accuracy_score(y_teste, y_prev))\n",
    "    print(\"#\" * 50)\n",
    "    return accuracy_score(y_teste, y_prev)\n"
   ]
  },
  {
   "cell_type": "markdown",
   "metadata": {},
   "source": [
    "# ML modelos"
   ]
  },
  {
   "cell_type": "markdown",
   "metadata": {},
   "source": [
    "## Modelos a serem testados\n",
    "\n",
    "- Random Forest\n",
    "- Gradient Boost\n",
    "- AdaBoost"
   ]
  },
  {
   "cell_type": "code",
   "execution_count": 99,
   "metadata": {},
   "outputs": [],
   "source": [
    "def definir_modelos_ml() -> dict:\n",
    "    return {\n",
    "        \"AdaBoost\": {'modelo_base': AdaBoostClassifier(random_state=42), 'modelo_tunado': None},\n",
    "        \"RandomForest\": {'modelo_base': RandomForestClassifier(random_state=42), 'modelo_tunado': None},\n",
    "        \"GradientBoost\": {'modelo_base': GradientBoostingClassifier(random_state=42), 'modelo_tunado': None},\n",
    "    }"
   ]
  },
  {
   "cell_type": "code",
   "execution_count": 107,
   "metadata": {},
   "outputs": [],
   "source": [
    "def rodar_imprimir_modelos_ml(modelos, X_treino, X_teste, y_treino, y_teste):\n",
    "    for nome, modelo in modelos.items():\n",
    "        modelo = modelo.get('modelo_base')\n",
    "        modelo.fit(X_treino, y_treino)\n",
    "        previsoes = modelo.predict(X_teste)\n",
    "        modelos[nome]['modelo_base'] = modelo\n",
    "    \n",
    "    return modelos"
   ]
  },
  {
   "cell_type": "markdown",
   "metadata": {},
   "source": [
    "# Execucao"
   ]
  },
  {
   "cell_type": "code",
   "execution_count": 108,
   "metadata": {},
   "outputs": [
    {
     "name": "stdout",
     "output_type": "stream",
     "text": [
      "scaled df\n",
      "(1852, 6)\n",
      "len(X_treino)=1574 len(X_teste)=278 len(y_treino)=1574 len(y_teste)=278\n"
     ]
    },
    {
     "name": "stderr",
     "output_type": "stream",
     "text": [
      "/Users/shopee/opt/anaconda3/envs/TCC_PUC/lib/python3.8/site-packages/sklearn/base.py:441: UserWarning: X does not have valid feature names, but AdaBoostClassifier was fitted with feature names\n",
      "  warnings.warn(\n"
     ]
    }
   ],
   "source": [
    "def main(scaled: bool = False):\n",
    "    if scaled:\n",
    "        df = carregar_joblib(\"../out/result_analise_desc_scaled.joblib\")\n",
    "        print(\"scaled df\")\n",
    "    else:\n",
    "        df = carregar_joblib()\n",
    "        print(\"NOT scaled df\")\n",
    "\n",
    "    print(df.shape)\n",
    "\n",
    "    # split database train and test\n",
    "    X_treino, X_teste, y_treino, y_teste = split_dados(df)\n",
    "\n",
    "    modelos = definir_modelos_ml()\n",
    "\n",
    "    modelos = rodar_imprimir_modelos_ml(modelos, X_treino, X_teste, y_treino, y_teste)\n",
    "\n",
    "    return df, modelos\n",
    "\n",
    "df, modelos = main(scaled=True)"
   ]
  },
  {
   "cell_type": "markdown",
   "metadata": {},
   "source": [
    "## Tunning dos 3 melhores modelos"
   ]
  },
  {
   "cell_type": "code",
   "execution_count": 86,
   "metadata": {},
   "outputs": [],
   "source": [
    "def fit_tunning_rand_search_ada(X, y):\n",
    "    print(\"Tunning randomized search AdaBoost\")\n",
    "\n",
    "    # Create the random grid\n",
    "    param = {'n_estimators': [50, 80, 90, 100],\n",
    "             'learning_rate': [0.2, 1.0, 0.1],\n",
    "             'algorithm': [\"SAMME\", \"SAMME.R\"]}\n",
    "\n",
    "    print(param)\n",
    "\n",
    "    rf_random = RandomizedSearchCV(estimator=AdaBoostClassifier(),\n",
    "                                   param_distributions=param,\n",
    "                                   cv=3,\n",
    "                                   verbose=1,\n",
    "                                   scoring=\"accuracy\",\n",
    "                                   random_state=42,\n",
    "                                   n_jobs=-1)\n",
    "\n",
    "    # best params {'n_estimators': 80, 'learning_rate': 0.1, 'algorithm': 'SAMME.R'}\n",
    "    # precision 1 - 0.59 0.63 0.61 - score 0.5704\n",
    "\n",
    "    # Fit the random search model\n",
    "    return rf_random.fit(X, y)"
   ]
  },
  {
   "cell_type": "code",
   "execution_count": 75,
   "metadata": {},
   "outputs": [],
   "source": [
    "def fit_tunning_rand_search_random_forest(X, y):\n",
    "\n",
    "    print(\"Tunning Random Forest\")\n",
    "\n",
    "    # Create the random grid\n",
    "    params = {'n_estimators': [1200, 1400, 1600],\n",
    "                   'max_depth': [10, None],\n",
    "                   'min_samples_split': [2, 4],\n",
    "                   'min_samples_leaf': [1, 2, 5],\n",
    "                   'bootstrap': [True, False]}\n",
    "\n",
    "    print(params)\n",
    "\n",
    "    rf_random = RandomizedSearchCV(estimator=RandomForestClassifier(),\n",
    "                                   param_distributions=params,\n",
    "                                   cv=3,\n",
    "                                   verbose=1,\n",
    "                                   scoring='recall',\n",
    "                                   random_state=42,\n",
    "                                   n_jobs=-1)\n",
    "\n",
    "    # best params {'n_estimators': 1600, 'min_samples_split': 2, 'min_samples_leaf': 5, 'max_depth': 10, 'bootstrap': False}\n",
    "    # precision 1 - 0.51 0.59 0.55\n",
    "\n",
    "    # Fit the random search model\n",
    "    return rf_random.fit(X, y)"
   ]
  },
  {
   "cell_type": "code",
   "execution_count": 74,
   "metadata": {},
   "outputs": [],
   "source": [
    "def fit_tunning_rand_search_gradient_boost(X, y):\n",
    "\n",
    "    params = {'n_estimators': [800, 900, 1000],\n",
    "                   'learning_rate': [0.01, 0.015, 0.009],\n",
    "                   'max_features': ['auto', 'sqrt'],\n",
    "                   'min_samples_split': [2, 5, 10],\n",
    "                   # 'min_samples_leaf': [2, 5, 10],\n",
    "                   'criterion': [\"friedman_mse\", \"squared_error\"]}\n",
    "\n",
    "    print(params)\n",
    "\n",
    "    rf_random = RandomizedSearchCV(estimator=GradientBoostingClassifier(),\n",
    "                                   param_distributions=params,\n",
    "                                   cv=3,\n",
    "                                   verbose=1,\n",
    "                                   scoring=\"recall\",\n",
    "                                   random_state=42,\n",
    "                                   n_jobs=-1)\n",
    "\n",
    "    # best params {'n_estimators': 1411, 'min_samples_split': 2, 'min_samples_leaf': 2, 'max_features': 'auto', 'max_depth': 110, 'learning_rate': 0.025, 'criterion': 'squared_error'}\n",
    "    # {'n_estimators': 1000, 'min_samples_split': 10, 'max_features': 'auto', 'learning_rate': 0.01, 'criterion': 'squared_error'}\n",
    "    # precision 1 - 0.57 0.68 0.62 - score 0.5609\n",
    "\n",
    "    # Fit the random search model\n",
    "    return rf_random.fit(X, y)\n"
   ]
  },
  {
   "cell_type": "code",
   "execution_count": 114,
   "metadata": {},
   "outputs": [],
   "source": [
    "\n",
    "def run_ada_boost_tunning(X_treino, y_treino):\n",
    "\n",
    "    resultado_grid = fit_tunning_rand_search_ada(X_treino.values, y_treino.values)\n",
    "\n",
    "    print(\"Ajuste Adaboost feito\")\n",
    "\n",
    "    print(\"Best params\", resultado_grid.best_params_)\n",
    "    print(\"Best score\", resultado_grid.best_score_)\n",
    "\n",
    "    modelo_tunado = resultado_grid.best_estimator_\n",
    "\n",
    "    return modelo_tunado"
   ]
  },
  {
   "cell_type": "code",
   "execution_count": 115,
   "metadata": {},
   "outputs": [],
   "source": [
    "\n",
    "def run_random_forest_tunning(X_treino, y_treino):\n",
    "\n",
    "    resultado_grid = fit_tunning_rand_search_random_forest(X_treino, y_treino)\n",
    "\n",
    "    print(\"Ajuste random forest feito\")\n",
    "\n",
    "    print(\"best params\", resultado_grid.best_params_)\n",
    "    print(\"best score\", resultado_grid.best_score_)\n",
    "    modelo_tunado = resultado_grid.best_estimator_\n",
    "\n",
    "    return modelo_tunado"
   ]
  },
  {
   "cell_type": "code",
   "execution_count": 116,
   "metadata": {},
   "outputs": [],
   "source": [
    "\n",
    "def run_gradient_boost_tunning(X_treino, y_treino):\n",
    "\n",
    "    resultado_grid = fit_tunning_rand_search_gradient_boost(X_treino, y_treino)\n",
    "\n",
    "    print(\"Ajuste Gradient feito\")\n",
    "\n",
    "    print(\"Best params\", resultado_grid.best_params_)\n",
    "    print(\"Best score\", resultado_grid.best_score_)\n",
    "\n",
    "    modelo_tunado = resultado_grid.best_estimator_\n",
    "\n",
    "    return modelo_tunado"
   ]
  },
  {
   "cell_type": "code",
   "execution_count": 148,
   "metadata": {},
   "outputs": [],
   "source": [
    "def compare_tunning(modelos: dict, X_teste, y_teste):\n",
    "    acuracias = {}\n",
    "    for nome, modelos_dict in modelos.items():\n",
    "        prev = modelos_dict['modelo_base'].predict(X_teste)\n",
    "        # avaliar(y_teste, prev, nome + '_base')\n",
    "        prev = modelos_dict['modelo_tunado'].predict(X_teste)\n",
    "        acuracias[nome] = avaliar(y_teste, prev, nome + '_tunado')\n",
    "    \n",
    "    sns.set_theme(style=\"whitegrid\")\n",
    "    ax = sns.barplot(x=list(acuracias.keys()), y=list(acuracias.values()))\n",
    "    ax.set(xlabel=\"Modelos\", ylabel=\"Acuracia\", title=\"Acuracia por Modelo\")\n",
    "    "
   ]
  },
  {
   "cell_type": "code",
   "execution_count": 120,
   "metadata": {},
   "outputs": [],
   "source": [
    "def main_tunning(df, modelos, X_treino, y_treino):\n",
    "    '''\n",
    "        Executa os tunnings com randomized search cv e armazena o modelo tunado\n",
    "    '''\n",
    "\n",
    "    modelos['AdaBoost']['modelo_tunado'] = run_ada_boost_tunning(X_treino, y_treino)\n",
    "    modelos['RandomForest']['modelo_tunado'] = run_random_forest_tunning(X_treino, y_treino)\n",
    "    modelos['GradientBoost']['modelo_tunado'] = run_gradient_boost_tunning(X_treino, y_treino)\n",
    "\n",
    "    return modelos\n"
   ]
  },
  {
   "cell_type": "code",
   "execution_count": 149,
   "metadata": {},
   "outputs": [
    {
     "name": "stdout",
     "output_type": "stream",
     "text": [
      "len(X_treino)=1574 len(X_teste)=278 len(y_treino)=1574 len(y_teste)=278\n",
      "AdaBoost_tunado\n",
      "Reporte teste\n",
      "Acuracia:  0.5251798561151079\n",
      "##################################################\n"
     ]
    },
    {
     "name": "stderr",
     "output_type": "stream",
     "text": [
      "/Users/shopee/opt/anaconda3/envs/TCC_PUC/lib/python3.8/site-packages/sklearn/base.py:441: UserWarning: X does not have valid feature names, but AdaBoostClassifier was fitted with feature names\n",
      "  warnings.warn(\n",
      "/Users/shopee/opt/anaconda3/envs/TCC_PUC/lib/python3.8/site-packages/sklearn/base.py:434: UserWarning: X has feature names, but AdaBoostClassifier was fitted without feature names\n",
      "  warnings.warn(\n"
     ]
    },
    {
     "name": "stdout",
     "output_type": "stream",
     "text": [
      "RandomForest_tunado\n",
      "Reporte teste\n",
      "Acuracia:  0.5\n",
      "##################################################\n",
      "GradientBoost_tunado\n",
      "Reporte teste\n",
      "Acuracia:  0.5431654676258992\n",
      "##################################################\n"
     ]
    },
    {
     "data": {
      "image/png": "[encoded data removed]",
      "text/plain": [
       "<Figure size 432x288 with 1 Axes>"
      ]
     },
     "metadata": {},
     "output_type": "display_data"
    }
   ],
   "source": [
    "# split database train and test\n",
    "X_treino, X_teste, y_treino, y_teste = split_dados(df)\n",
    "\n",
    "# modelos = main_tunning(df, modelos, X_treino, y_treino)\n",
    "\n",
    "compare_tunning(modelos, X_teste, y_teste)"
   ]
  },
  {
   "cell_type": "markdown",
   "metadata": {},
   "source": [
    "# Escolhido o GradientBoost como melhor modelo\n",
    "\n",
    "Best score de 54%"
   ]
  }
 ],
 "metadata": {
  "interpreter": {
   "hash": "8ab34ce4145f682337f5fa161ec816727aecde41915875d0a837a5ffe57556a8"
  },
  "kernelspec": {
   "display_name": "Python 3.8.11 64-bit ('TCC_PUC': conda)",
   "name": "python3"
  },
  "language_info": {
   "codemirror_mode": {
    "name": "ipython",
    "version": 3
   },
   "file_extension": ".py",
   "mimetype": "text/x-python",
   "name": "python",
   "nbconvert_exporter": "python",
   "pygments_lexer": "ipython3",
   "version": "3.8.11"
  },
  "orig_nbformat": 4
 },
 "nbformat": 4,
 "nbformat_minor": 2
}
