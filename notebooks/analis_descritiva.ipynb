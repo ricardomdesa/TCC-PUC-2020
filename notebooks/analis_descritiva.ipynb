{
 "cells": [
  {
   "cell_type": "markdown",
   "metadata": {},
   "source": [
    "# 4. Análise e Exploração dos Dados"
   ]
  },
  {
   "cell_type": "markdown",
   "metadata": {},
   "source": [
    "\n",
    "[ml map sklearn](https://scikit-learn.org/stable/tutorial/machine_learning_map/)"
   ]
  },
  {
   "cell_type": "code",
   "execution_count": 2,
   "metadata": {
    "scrolled": true
   },
   "outputs": [
    {
     "name": "stdout",
     "output_type": "stream",
     "text": [
      "Collecting plotly\n",
      "  Downloading plotly-5.5.0-py2.py3-none-any.whl (26.5 MB)\n",
      "\u001b[K     |████████████████████████████████| 26.5 MB 10.7 MB/s eta 0:00:01\n",
      "\u001b[?25hRequirement already satisfied: six in /Users/shopee/opt/anaconda3/lib/python3.8/site-packages (from plotly) (1.15.0)\n",
      "Collecting tenacity>=6.2.0\n",
      "  Using cached tenacity-8.0.1-py3-none-any.whl (24 kB)\n",
      "Installing collected packages: tenacity, plotly\n",
      "Successfully installed plotly-5.5.0 tenacity-8.0.1\n"
     ]
    }
   ],
   "source": [
    "# ! pip install seaborn\n",
    "! pip install plotly\n",
    "# ! pip install statsmodels\n",
    "# ! pip install sklearn"
   ]
  },
  {
   "cell_type": "markdown",
   "metadata": {},
   "source": [
    "## importar bibiliotecas"
   ]
  },
  {
   "cell_type": "code",
   "execution_count": 3,
   "metadata": {},
   "outputs": [],
   "source": [
    "import pandas as pd\n",
    "\n",
    "import matplotlib.pyplot as plt\n",
    "import plotly.express as px\n",
    "import seaborn as sns\n",
    "\n",
    "import statsmodels.api as sm\n",
    "import statsmodels.formula.api as smf\n",
    "\n",
    "\n",
    "from sklearn.feature_selection import SelectKBest, SelectPercentile, f_classif, f_regression\n",
    "\n",
    "import joblib"
   ]
  },
  {
   "cell_type": "markdown",
   "metadata": {},
   "source": [
    "## Carregar dados tratados"
   ]
  },
  {
   "cell_type": "code",
   "execution_count": 4,
   "metadata": {},
   "outputs": [],
   "source": [
    "def carregar_joblib():\n",
    "    df = joblib.load(\"../out/trat_target_col_ibov.joblib\")\n",
    "    return df"
   ]
  },
  {
   "cell_type": "markdown",
   "metadata": {},
   "source": [
    "### Histograma Comprar e vender col decisao"
   ]
  },
  {
   "cell_type": "code",
   "execution_count": 12,
   "metadata": {},
   "outputs": [],
   "source": [
    "def print_histograma_comprar_vender(df):\n",
    "    print(\"\\nHistograma Comprar e Vender\\n\")\n",
    "    df = df.copy()\n",
    "    # Muda os nomes para histograma\n",
    "    df['decisao'].replace({0: \"Vender\", 1: \"Comprar\"}, inplace=True)\n",
    "    # Imprime a porcentagem de cada\n",
    "    print(df['decisao'].value_counts(normalize=True).map(\"{:.1%}\".format))\n",
    "\n",
    "    # Imprime o histograma\n",
    "    fig = px.histogram(df, x=\"decisao\", color=\"decisao\")\n",
    "    fig.update_layout(bargap=0.2)\n",
    "    fig.show()\n"
   ]
  },
  {
   "cell_type": "markdown",
   "metadata": {},
   "source": [
    "### Correlações"
   ]
  },
  {
   "cell_type": "code",
   "execution_count": 6,
   "metadata": {},
   "outputs": [],
   "source": [
    "def print_correlacoes(df):\n",
    "\n",
    "    fig, ax = plt.subplots(figsize=(15, 10))\n",
    "    sns.heatmap(df.corr(), cmap=\"Wistia\", annot=True, fmt = '.2f', ax=ax)\n",
    "    plt.show()"
   ]
  },
  {
   "cell_type": "markdown",
   "metadata": {},
   "source": [
    "## P value"
   ]
  },
  {
   "cell_type": "code",
   "execution_count": 7,
   "metadata": {},
   "outputs": [],
   "source": [
    "def print_p_value(df):\n",
    "    all_col = \" + \".join(df.drop(\"decisao\", axis=1).columns)\n",
    "    model = smf.glm(formula=\"decisao ~ \" + all_col, data=df,\n",
    "                    family = sm.families.Binomial()).fit()\n",
    "\n",
    "    print(model.summary()) "
   ]
  },
  {
   "cell_type": "markdown",
   "metadata": {},
   "source": [
    "## Feature selection"
   ]
  },
  {
   "cell_type": "code",
   "execution_count": 8,
   "metadata": {},
   "outputs": [],
   "source": [
    "def feat_sel_select_k_best(df):\n",
    "    print(\"\\nFeature selection select k best\\n\")\n",
    "\n",
    "    k = 6  # quantidade de variaveis a serem selecionadas\n",
    "    \n",
    "    X = df.drop(\"decisao\", axis=1)\n",
    "    y = df[\"decisao\"]\n",
    "\n",
    "    select = SelectKBest(score_func=f_classif, k=k)\n",
    "    \n",
    "    select.fit(X, y)\n",
    "\n",
    "    filter = select.get_support()\n",
    "    \n",
    "    print(f\"\\n{k} melhores variaveis:\")\n",
    "    print(f\"{[col for col in X.columns[filter]]} \\n\")\n",
    "    \n",
    "    return list(X.columns[filter])\n"
   ]
  },
  {
   "cell_type": "code",
   "execution_count": null,
   "metadata": {},
   "outputs": [],
   "source": [
    "def remover_variaveis_ja_explicadas(df, manter_variaveis):\n",
    "    to_remove = set(manter_variaveis) ^ set(df.columns)\n",
    "    to_remove.remove('decisao')\n",
    "    print(\"Colunas a remover do df original: \", to_remove)\n",
    "    df = df.drop(to_remove, axis=1)\n",
    "\n",
    "    return df"
   ]
  },
  {
   "cell_type": "markdown",
   "metadata": {},
   "source": [
    "## Salvar resultado para proxima estapa"
   ]
  },
  {
   "cell_type": "code",
   "execution_count": 10,
   "metadata": {},
   "outputs": [],
   "source": [
    "def salvar_df_in_joblib(df, file_name: str = \"../out/result_analise_desc.joblib\"):\n",
    "\n",
    "    joblib.dump(df, file_name)\n",
    "\n",
    "    print(\"arquivo joblib de df analise descritiva criado com sucesso\")\n"
   ]
  },
  {
   "cell_type": "markdown",
   "metadata": {},
   "source": [
    "# Execução"
   ]
  },
  {
   "cell_type": "code",
   "execution_count": 17,
   "metadata": {},
   "outputs": [
    {
     "name": "stdout",
     "output_type": "stream",
     "text": [
      "\n",
      "Feature selection select k best\n",
      "\n",
      "\n",
      "6 melhores variaveis:\n",
      "['outros_ativos_circ', 'receita_liq', 'resultado_bruto', 'despesas_gerais', 'resultado_antes_trib', 'lucro_op'] \n",
      "\n",
      "Colunas a remover do df original:  {'caixa_equiv_caixa', 'passivo_circ', 'passivo_total', 'imobilizado', 'ativo_permanente', 'capital_social', 'ativo_circ', 'ativo_total', 'financeiras', 'outros_ativos_nao_circ', 'intangivel', 'custo_bens_servicos', 'patrimonio_liq', 'passivo_nao_circ'}\n",
      "Colunas a remover do df original:  {'resultado_bruto'}\n"
     ]
    },
    {
     "data": {
      "text/html": [
       "<div>\n",
       "<style scoped>\n",
       "    .dataframe tbody tr th:only-of-type {\n",
       "        vertical-align: middle;\n",
       "    }\n",
       "\n",
       "    .dataframe tbody tr th {\n",
       "        vertical-align: top;\n",
       "    }\n",
       "\n",
       "    .dataframe thead th {\n",
       "        text-align: right;\n",
       "    }\n",
       "</style>\n",
       "<table border=\"1\" class=\"dataframe\">\n",
       "  <thead>\n",
       "    <tr style=\"text-align: right;\">\n",
       "      <th></th>\n",
       "      <th>outros_ativos_circ</th>\n",
       "      <th>receita_liq</th>\n",
       "      <th>despesas_gerais</th>\n",
       "      <th>resultado_antes_trib</th>\n",
       "      <th>lucro_op</th>\n",
       "      <th>decisao</th>\n",
       "    </tr>\n",
       "  </thead>\n",
       "  <tbody>\n",
       "    <tr>\n",
       "      <th>0</th>\n",
       "      <td>0.073416</td>\n",
       "      <td>-0.009957</td>\n",
       "      <td>-0.178706</td>\n",
       "      <td>0.784128</td>\n",
       "      <td>0.714242</td>\n",
       "      <td>1</td>\n",
       "    </tr>\n",
       "    <tr>\n",
       "      <th>1</th>\n",
       "      <td>21.051236</td>\n",
       "      <td>-0.306352</td>\n",
       "      <td>0.322396</td>\n",
       "      <td>-6.964708</td>\n",
       "      <td>-4.169923</td>\n",
       "      <td>0</td>\n",
       "    </tr>\n",
       "    <tr>\n",
       "      <th>2</th>\n",
       "      <td>-0.954322</td>\n",
       "      <td>0.109726</td>\n",
       "      <td>0.103272</td>\n",
       "      <td>0.649179</td>\n",
       "      <td>0.216400</td>\n",
       "      <td>0</td>\n",
       "    </tr>\n",
       "    <tr>\n",
       "      <th>3</th>\n",
       "      <td>0.088899</td>\n",
       "      <td>-0.407359</td>\n",
       "      <td>0.330099</td>\n",
       "      <td>0.540194</td>\n",
       "      <td>0.746589</td>\n",
       "      <td>1</td>\n",
       "    </tr>\n",
       "    <tr>\n",
       "      <th>4</th>\n",
       "      <td>-0.242792</td>\n",
       "      <td>0.633929</td>\n",
       "      <td>-0.603944</td>\n",
       "      <td>-0.245369</td>\n",
       "      <td>-0.156249</td>\n",
       "      <td>1</td>\n",
       "    </tr>\n",
       "  </tbody>\n",
       "</table>\n",
       "</div>"
      ],
      "text/plain": [
       "   outros_ativos_circ  receita_liq  despesas_gerais  resultado_antes_trib  \\\n",
       "0            0.073416    -0.009957        -0.178706              0.784128   \n",
       "1           21.051236    -0.306352         0.322396             -6.964708   \n",
       "2           -0.954322     0.109726         0.103272              0.649179   \n",
       "3            0.088899    -0.407359         0.330099              0.540194   \n",
       "4           -0.242792     0.633929        -0.603944             -0.245369   \n",
       "\n",
       "   lucro_op  decisao  \n",
       "0  0.714242        1  \n",
       "1 -4.169923        0  \n",
       "2  0.216400        0  \n",
       "3  0.746589        1  \n",
       "4 -0.156249        1  "
      ]
     },
     "execution_count": 17,
     "metadata": {},
     "output_type": "execute_result"
    }
   ],
   "source": [
    "def main():\n",
    "#     print(\"Analise e feature selection notebook\\n\\n\")\n",
    "\n",
    "    df = carregar_joblib()\n",
    "\n",
    "    print(f\"Carregado df com {df.shape[0]} linhas e {df.shape[1]} colunas.\\n\")\n",
    "    print(f\"Colunas carregadas: {[col for col in df.columns]}\\n\\n\")\n",
    "\n",
    "    print_histograma_comprar_vender(df)\n",
    "\n",
    "    print_correlacoes(df)\n",
    "\n",
    "    print(\"#-\" * 40)\n",
    "    best_features = feat_sel_select_k_best(df)\n",
    "    \n",
    "    df = remover_variaveis_ja_explicadas(df, manter_variaveis=best_features)\n",
    "\n",
    "    print(\"\\nCorrelacoes apos remover colunas\\n\")\n",
    "\n",
    "    print_correlacoes(df)\n",
    "\n",
    "    print(\"Remover coluna resultado_bruto por ter correlacao com receita_liq\")\n",
    "\n",
    "    df = remover_variaveis_ja_explicadas(df, manter_variaveis=['outros_ativos_circ', 'receita_liq', 'despesas_gerais', 'resultado_antes_trib', 'lucro_op'])\n",
    "\n",
    "    print(\"\\nCorrelacoes apos remover colunas\\n\")\n",
    "\n",
    "    print_correlacoes(df)\n",
    "\n",
    "    print(\"#-\" * 40)\n",
    "\n",
    "    print_p_value(df)\n",
    "\n",
    "    salvar_df_in_joblib(df, \"../out/result_analise_desc.joblib\")\n",
    "\n",
    "    return df\n",
    "\n",
    "    \n",
    "df = main()"
   ]
  }
 ],
 "metadata": {
  "interpreter": {
   "hash": "8ab34ce4145f682337f5fa161ec816727aecde41915875d0a837a5ffe57556a8"
  },
  "kernelspec": {
   "display_name": "Python 3",
   "language": "python",
   "name": "python3"
  },
  "language_info": {
   "codemirror_mode": {
    "name": "ipython",
    "version": 3
   },
   "file_extension": ".py",
   "mimetype": "text/x-python",
   "name": "python",
   "nbconvert_exporter": "python",
   "pygments_lexer": "ipython3",
   "version": "3.8.8"
  }
 },
 "nbformat": 4,
 "nbformat_minor": 2
}
