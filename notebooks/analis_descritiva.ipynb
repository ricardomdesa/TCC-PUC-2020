{
 "cells": [
  {
   "cell_type": "markdown",
   "metadata": {},
   "source": [
    "# Analise descritiva"
   ]
  },
  {
   "cell_type": "markdown",
   "metadata": {},
   "source": [
    "## Carregar dados tratados"
   ]
  },
  {
   "cell_type": "code",
   "execution_count": 32,
   "metadata": {},
   "outputs": [],
   "source": [
    "# ! pip install seaborn\n",
    "# ! pip install plotly\n",
    "# ! pip install statsmodels\n",
    "# ! pip install sklearn"
   ]
  },
  {
   "cell_type": "code",
   "execution_count": 33,
   "metadata": {},
   "outputs": [],
   "source": [
    "import pandas as pd\n",
    "\n",
    "import matplotlib.pyplot as plt\n",
    "import plotly.express as px\n",
    "import seaborn as sns\n",
    "\n",
    "import statsmodels.api as sm\n",
    "import statsmodels.formula.api as smf\n",
    "\n",
    "from sklearn.model_selection import train_test_split\n",
    "\n",
    "from sklearn.preprocessing import StandardScaler\n",
    "\n",
    "from sklearn.metrics import classification_report, confusion_matrix\n",
    "\n",
    "from sklearn.dummy import DummyClassifier\n",
    "from sklearn.ensemble import ExtraTreesClassifier\n",
    "from sklearn.ensemble import AdaBoostClassifier, GradientBoostingClassifier, RandomForestClassifier, ExtraTreesClassifier\n",
    "from sklearn.tree import DecisionTreeClassifier\n",
    "from sklearn.neighbors import KNeighborsClassifier\n",
    "from sklearn.linear_model import LogisticRegression\n",
    "from sklearn.neural_network import MLPClassifier\n",
    "\n",
    "from sklearn.model_selection import GridSearchCV\n",
    "from sklearn.metrics import make_scorer, precision_score\n",
    "\n",
    "import joblib"
   ]
  },
  {
   "cell_type": "code",
   "execution_count": 34,
   "metadata": {},
   "outputs": [],
   "source": [
    "def carregar_joblib():\n",
    "    df = joblib.load(\"../out/tratamento_target.joblib\")\n",
    "    return df"
   ]
  },
  {
   "cell_type": "code",
   "execution_count": 35,
   "metadata": {},
   "outputs": [],
   "source": [
    "def print_histograma_comprar_vender(df):\n",
    "    df['decisao'].value_counts(normalize=True).map(\"{:.1%}\".format)\n",
    "    fig = px.histogram(df, x=\"decisao\", color=\"decisao\")\n",
    "    fig.show()"
   ]
  },
  {
   "cell_type": "code",
   "execution_count": 36,
   "metadata": {},
   "outputs": [
    {
     "data": {
      "text/html": [
       "<div>\n",
       "<style scoped>\n",
       "    .dataframe tbody tr th:only-of-type {\n",
       "        vertical-align: middle;\n",
       "    }\n",
       "\n",
       "    .dataframe tbody tr th {\n",
       "        vertical-align: top;\n",
       "    }\n",
       "\n",
       "    .dataframe thead th {\n",
       "        text-align: right;\n",
       "    }\n",
       "</style>\n",
       "<table border=\"1\" class=\"dataframe\">\n",
       "  <thead>\n",
       "    <tr style=\"text-align: right;\">\n",
       "      <th></th>\n",
       "      <th>ROE</th>\n",
       "      <th>AF</th>\n",
       "      <th>part_cap_terceiros</th>\n",
       "      <th>comp_endividamento</th>\n",
       "      <th>imob_patrimonio_liq</th>\n",
       "      <th>imob_recursos_n_corr</th>\n",
       "      <th>liq_corrente</th>\n",
       "      <th>decisao</th>\n",
       "    </tr>\n",
       "  </thead>\n",
       "  <tbody>\n",
       "    <tr>\n",
       "      <th>ROE</th>\n",
       "      <td>1.000000</td>\n",
       "      <td>-0.025066</td>\n",
       "      <td>-0.045429</td>\n",
       "      <td>-0.009604</td>\n",
       "      <td>-0.001824</td>\n",
       "      <td>0.020763</td>\n",
       "      <td>0.132985</td>\n",
       "      <td>0.017731</td>\n",
       "    </tr>\n",
       "    <tr>\n",
       "      <th>AF</th>\n",
       "      <td>-0.025066</td>\n",
       "      <td>1.000000</td>\n",
       "      <td>0.945119</td>\n",
       "      <td>0.008330</td>\n",
       "      <td>0.681161</td>\n",
       "      <td>0.023805</td>\n",
       "      <td>-0.080729</td>\n",
       "      <td>-0.051701</td>\n",
       "    </tr>\n",
       "    <tr>\n",
       "      <th>part_cap_terceiros</th>\n",
       "      <td>-0.045429</td>\n",
       "      <td>0.945119</td>\n",
       "      <td>1.000000</td>\n",
       "      <td>-0.002189</td>\n",
       "      <td>0.631220</td>\n",
       "      <td>0.019785</td>\n",
       "      <td>-0.114213</td>\n",
       "      <td>-0.055607</td>\n",
       "    </tr>\n",
       "    <tr>\n",
       "      <th>comp_endividamento</th>\n",
       "      <td>-0.009604</td>\n",
       "      <td>0.008330</td>\n",
       "      <td>-0.002189</td>\n",
       "      <td>1.000000</td>\n",
       "      <td>-0.059815</td>\n",
       "      <td>0.058207</td>\n",
       "      <td>-0.610056</td>\n",
       "      <td>0.018305</td>\n",
       "    </tr>\n",
       "    <tr>\n",
       "      <th>imob_patrimonio_liq</th>\n",
       "      <td>-0.001824</td>\n",
       "      <td>0.681161</td>\n",
       "      <td>0.631220</td>\n",
       "      <td>-0.059815</td>\n",
       "      <td>1.000000</td>\n",
       "      <td>0.532427</td>\n",
       "      <td>-0.096966</td>\n",
       "      <td>-0.045423</td>\n",
       "    </tr>\n",
       "    <tr>\n",
       "      <th>imob_recursos_n_corr</th>\n",
       "      <td>0.020763</td>\n",
       "      <td>0.023805</td>\n",
       "      <td>0.019785</td>\n",
       "      <td>0.058207</td>\n",
       "      <td>0.532427</td>\n",
       "      <td>1.000000</td>\n",
       "      <td>-0.178085</td>\n",
       "      <td>-0.006578</td>\n",
       "    </tr>\n",
       "    <tr>\n",
       "      <th>liq_corrente</th>\n",
       "      <td>0.132985</td>\n",
       "      <td>-0.080729</td>\n",
       "      <td>-0.114213</td>\n",
       "      <td>-0.610056</td>\n",
       "      <td>-0.096966</td>\n",
       "      <td>-0.178085</td>\n",
       "      <td>1.000000</td>\n",
       "      <td>0.032444</td>\n",
       "    </tr>\n",
       "    <tr>\n",
       "      <th>decisao</th>\n",
       "      <td>0.017731</td>\n",
       "      <td>-0.051701</td>\n",
       "      <td>-0.055607</td>\n",
       "      <td>0.018305</td>\n",
       "      <td>-0.045423</td>\n",
       "      <td>-0.006578</td>\n",
       "      <td>0.032444</td>\n",
       "      <td>1.000000</td>\n",
       "    </tr>\n",
       "  </tbody>\n",
       "</table>\n",
       "</div>"
      ],
      "text/plain": [
       "                           ROE        AF  part_cap_terceiros  \\\n",
       "ROE                   1.000000 -0.025066           -0.045429   \n",
       "AF                   -0.025066  1.000000            0.945119   \n",
       "part_cap_terceiros   -0.045429  0.945119            1.000000   \n",
       "comp_endividamento   -0.009604  0.008330           -0.002189   \n",
       "imob_patrimonio_liq  -0.001824  0.681161            0.631220   \n",
       "imob_recursos_n_corr  0.020763  0.023805            0.019785   \n",
       "liq_corrente          0.132985 -0.080729           -0.114213   \n",
       "decisao               0.017731 -0.051701           -0.055607   \n",
       "\n",
       "                      comp_endividamento  imob_patrimonio_liq  \\\n",
       "ROE                            -0.009604            -0.001824   \n",
       "AF                              0.008330             0.681161   \n",
       "part_cap_terceiros             -0.002189             0.631220   \n",
       "comp_endividamento              1.000000            -0.059815   \n",
       "imob_patrimonio_liq            -0.059815             1.000000   \n",
       "imob_recursos_n_corr            0.058207             0.532427   \n",
       "liq_corrente                   -0.610056            -0.096966   \n",
       "decisao                         0.018305            -0.045423   \n",
       "\n",
       "                      imob_recursos_n_corr  liq_corrente   decisao  \n",
       "ROE                               0.020763      0.132985  0.017731  \n",
       "AF                                0.023805     -0.080729 -0.051701  \n",
       "part_cap_terceiros                0.019785     -0.114213 -0.055607  \n",
       "comp_endividamento                0.058207     -0.610056  0.018305  \n",
       "imob_patrimonio_liq               0.532427     -0.096966 -0.045423  \n",
       "imob_recursos_n_corr              1.000000     -0.178085 -0.006578  \n",
       "liq_corrente                     -0.178085      1.000000  0.032444  \n",
       "decisao                          -0.006578      0.032444  1.000000  "
      ]
     },
     "execution_count": 36,
     "metadata": {},
     "output_type": "execute_result"
    }
   ],
   "source": [
    "df.corr()"
   ]
  },
  {
   "cell_type": "code",
   "execution_count": 37,
   "metadata": {},
   "outputs": [],
   "source": [
    "def print_correlacoes(df):\n",
    "    correlacoes = df.corr()\n",
    "\n",
    "    print(correlacoes)\n",
    "\n",
    "    print(df.describe())\n",
    "\n",
    "    fig, ax = plt.subplots(figsize=(15, 10))\n",
    "    sns.heatmap(correlacoes, cmap=\"Wistia\", ax=ax)\n",
    "    plt.show()"
   ]
  },
  {
   "cell_type": "code",
   "execution_count": 38,
   "metadata": {},
   "outputs": [],
   "source": [
    "def remover_variaveis_ja_explicadas(df):\n",
    "    # remover = [\"RPL\", \"RA\", \"AF\"]\n",
    "    # remover = [\"RPL\", \"RA\"] # LogReg\n",
    "    # remover = [\"RPL\", \"RA\", \"AF\", \"GA\"] # RN\n",
    "    remover = [\"RPL\", \"RA\", \"part_cap_terceiros\"] # RN\n",
    "    df = df.drop(remover, axis=1)\n",
    "\n",
    "    return df"
   ]
  },
  {
   "cell_type": "markdown",
   "metadata": {},
   "source": [
    "## P value"
   ]
  },
  {
   "cell_type": "code",
   "execution_count": 39,
   "metadata": {},
   "outputs": [],
   "source": [
    "def print_p_value(df):\n",
    "    all_col = \" + \".join(df.drop(\"decisao\", axis=1).columns)\n",
    "    model = smf.glm(formula=\"decisao ~ \" + all_col, data=df,\n",
    "                    family = sm.families.Binomial()).fit()\n",
    "\n",
    "    print(model.summary()) "
   ]
  },
  {
   "cell_type": "code",
   "execution_count": 40,
   "metadata": {},
   "outputs": [
    {
     "name": "stdout",
     "output_type": "stream",
     "text": [
      "(1667, 8)\n"
     ]
    }
   ],
   "source": [
    "print(df.shape)"
   ]
  },
  {
   "cell_type": "markdown",
   "metadata": {},
   "source": [
    "## Feature selection"
   ]
  },
  {
   "cell_type": "code",
   "execution_count": 41,
   "metadata": {},
   "outputs": [],
   "source": [
    "def print_feature_selection_extra_trees(df):\n",
    "    modelo = ExtraTreesClassifier(random_state=1)\n",
    "    x = df.drop(\"decisao\", axis=1)\n",
    "    y = df[\"decisao\"]\n",
    "    modelo.fit(x, y)\n",
    "\n",
    "    caracteristicas_importantes = pd.DataFrame(modelo.feature_importances_, x.columns).sort_values(by=0, ascending=False)\n",
    "    print(caracteristicas_importantes)"
   ]
  },
  {
   "cell_type": "code",
   "execution_count": 42,
   "metadata": {},
   "outputs": [],
   "source": [
    "def ajustar_scaler(tabela_original):\n",
    "    scaler = StandardScaler()\n",
    "    tabela_auxiliar = tabela_original.drop(\"decisao\", axis=1)\n",
    "    \n",
    "    tabela_auxiliar = pd.DataFrame(scaler.fit_transform(tabela_auxiliar), tabela_auxiliar.index, tabela_auxiliar.columns)\n",
    "    tabela_auxiliar[\"decisao\"] = tabela_original[\"decisao\"]\n",
    "    \n",
    "    return tabela_auxiliar\n"
   ]
  },
  {
   "cell_type": "code",
   "execution_count": 43,
   "metadata": {},
   "outputs": [],
   "source": [
    "def split_dados(df):\n",
    "    X = df.drop([\"decisao\"], axis=1)\n",
    "    y = df[\"decisao\"]\n",
    "\n",
    "    X_treino, X_teste, y_treino, y_teste = train_test_split(X, y, test_size=0.3, random_state=1)\n",
    "\n",
    "    print(f\"{len(X_treino)=} {len(X_teste)=} {len(y_treino)=} {len(y_teste)=}\")\n",
    "\n",
    "    return X_treino, X_teste, y_treino, y_teste"
   ]
  },
  {
   "cell_type": "markdown",
   "metadata": {},
   "source": [
    "## Dummy selection para avaliar uma selecao randomica de compra e venda"
   ]
  },
  {
   "cell_type": "code",
   "execution_count": 44,
   "metadata": {},
   "outputs": [],
   "source": [
    "def run_dummy_classifier(\n",
    "    X_treino,\n",
    "    X_teste, \n",
    "    y_treino\n",
    "):\n",
    "    dummy = DummyClassifier(strategy=\"stratified\", random_state=2)\n",
    "    dummy.fit(X_treino, y_treino)\n",
    "    previsao_dummy = dummy.predict(X_teste)\n",
    "    \n",
    "    return previsao_dummy"
   ]
  },
  {
   "cell_type": "code",
   "execution_count": 45,
   "metadata": {},
   "outputs": [],
   "source": [
    "def avaliar(y_teste, previsoes, nome_modelo):\n",
    "    print(nome_modelo)\n",
    "    print(\"Reporte teste\")\n",
    "    report = classification_report(y_teste, previsoes)\n",
    "    print(report)\n",
    "    cf_matrix = pd.DataFrame(confusion_matrix(y_teste, previsoes), index=[\"Vender\", \"Comprar\"], columns=[\"Vender\", \"Comprar\"])\n",
    "    sns.heatmap(cf_matrix, annot=True, cmap=\"Blues\", fmt=',')\n",
    "    plt.show()\n",
    "    print(\"#\" * 50)\n",
    "    \n",
    "    \n"
   ]
  },
  {
   "cell_type": "markdown",
   "metadata": {},
   "source": [
    "# ML modelos"
   ]
  },
  {
   "cell_type": "markdown",
   "metadata": {},
   "source": [
    "## Modelos a serem testados\n",
    "\n",
    "- AdaBoost\n",
    "- Decision Tree\n",
    "- Random Forest\n",
    "- ExtraTree\n",
    "- Gradient Boost\n",
    "- K Nearest Neighbors (KNN)\n",
    "- Logistic Regression\n",
    "- Rede Neural"
   ]
  },
  {
   "cell_type": "code",
   "execution_count": 46,
   "metadata": {},
   "outputs": [],
   "source": [
    "def definir_modelos_ml() -> dict:\n",
    "    return {\n",
    "        \"AdaBoost\": AdaBoostClassifier(random_state=1),\n",
    "        \"DecisionTree\": DecisionTreeClassifier(random_state=1),\n",
    "        \"RandomForest\": RandomForestClassifier(random_state=1),\n",
    "        \"ExtraTree\": ExtraTreesClassifier(random_state=1),\n",
    "        \"GradientBoost\": GradientBoostingClassifier(random_state=1),\n",
    "        \"KNN\": KNeighborsClassifier(),\n",
    "        \"LogisticRegression\": LogisticRegression(C=1.0, max_iter=100, tol=0.0001, random_state=1, solver=\"newton-cg\",\n",
    "                                fit_intercept=True, intercept_scaling=1, l1_ratio=None, penalty=\"none\", warm_start=False),\n",
    "        # \"LogisticRegression\": LogisticRegression(C=1.0, max_iter=100, tol=0.0001, random_state=1, solver=\"newton-cg\"),\n",
    "        \"RedeNeural\": MLPClassifier(random_state=1, max_iter=100),\n",
    "    }\n",
    "\n"
   ]
  },
  {
   "cell_type": "code",
   "execution_count": 47,
   "metadata": {},
   "outputs": [],
   "source": [
    "def rodar_imprimir_modelos_ml(modelos, X_treino, X_teste, y_treino, y_teste):\n",
    "    for nome_modelo in modelos:\n",
    "        modelo = modelos[nome_modelo]\n",
    "        modelo.fit(X_treino, y_treino)\n",
    "        previsoes = modelo.predict(X_teste)\n",
    "        avaliar(y_teste, previsoes, nome_modelo)\n",
    "        modelos[nome_modelo] = modelo\n",
    "    \n",
    "    return modelos"
   ]
  },
  {
   "cell_type": "markdown",
   "metadata": {},
   "source": [
    "# Execucao"
   ]
  },
  {
   "cell_type": "code",
   "execution_count": 48,
   "metadata": {},
   "outputs": [
    {
     "data": {
      "application/vnd.plotly.v1+json": {
       "config": {
        "plotlyServerURL": "https://plot.ly"
       },
       "data": [
        {
         "alignmentgroup": "True",
         "bingroup": "x",
         "hovertemplate": "decisao=%{x}<br>count=%{y}<extra></extra>",
         "legendgroup": "1",
         "marker": {
          "color": "#636efa",
          "pattern": {
           "shape": ""
          }
         },
         "name": "1",
         "offsetgroup": "1",
         "orientation": "v",
         "showlegend": true,
         "type": "histogram",
         "x": [
          1,
          1,
          1,
          1,
          1,
          1,
          1,
          1,
          1,
          1,
          1,
          1,
          1,
          1,
          1,
          1,
          1,
          1,
          1,
          1,
          1,
          1,
          1,
          1,
          1,
          1,
          1,
          1,
          1,
          1,
          1,
          1,
          1,
          1,
          1,
          1,
          1,
          1,
          1,
          1,
          1,
          1,
          1,
          1,
          1,
          1,
          1,
          1,
          1,
          1,
          1,
          1,
          1,
          1,
          1,
          1,
          1,
          1,
          1,
          1,
          1,
          1,
          1,
          1,
          1,
          1,
          1,
          1,
          1,
          1,
          1,
          1,
          1,
          1,
          1,
          1,
          1,
          1,
          1,
          1,
          1,
          1,
          1,
          1,
          1,
          1,
          1,
          1,
          1,
          1,
          1,
          1,
          1,
          1,
          1,
          1,
          1,
          1,
          1,
          1,
          1,
          1,
          1,
          1,
          1,
          1,
          1,
          1,
          1,
          1,
          1,
          1,
          1,
          1,
          1,
          1,
          1,
          1,
          1,
          1,
          1,
          1,
          1,
          1,
          1,
          1,
          1,
          1,
          1,
          1,
          1,
          1,
          1,
          1,
          1,
          1,
          1,
          1,
          1,
          1,
          1,
          1,
          1,
          1,
          1,
          1,
          1,
          1,
          1,
          1,
          1,
          1,
          1,
          1,
          1,
          1,
          1,
          1,
          1,
          1,
          1,
          1,
          1,
          1,
          1,
          1,
          1,
          1,
          1,
          1,
          1,
          1,
          1,
          1,
          1,
          1,
          1,
          1,
          1,
          1,
          1,
          1,
          1,
          1,
          1,
          1,
          1,
          1,
          1,
          1,
          1,
          1,
          1,
          1,
          1,
          1,
          1,
          1,
          1,
          1,
          1,
          1,
          1,
          1,
          1,
          1,
          1,
          1,
          1,
          1,
          1,
          1,
          1,
          1,
          1,
          1,
          1,
          1,
          1,
          1,
          1,
          1,
          1,
          1,
          1,
          1,
          1,
          1,
          1,
          1,
          1,
          1,
          1,
          1,
          1,
          1,
          1,
          1,
          1,
          1,
          1,
          1,
          1,
          1,
          1,
          1,
          1,
          1,
          1,
          1,
          1,
          1,
          1,
          1,
          1,
          1,
          1,
          1,
          1,
          1,
          1,
          1,
          1,
          1,
          1,
          1,
          1,
          1,
          1,
          1,
          1,
          1,
          1,
          1,
          1,
          1,
          1,
          1,
          1,
          1,
          1,
          1,
          1,
          1,
          1,
          1,
          1,
          1,
          1,
          1,
          1,
          1,
          1,
          1,
          1,
          1,
          1,
          1,
          1,
          1,
          1,
          1,
          1,
          1,
          1,
          1,
          1,
          1,
          1,
          1,
          1,
          1,
          1,
          1,
          1,
          1,
          1,
          1,
          1,
          1,
          1,
          1,
          1,
          1,
          1,
          1,
          1,
          1,
          1,
          1,
          1,
          1,
          1,
          1,
          1,
          1,
          1,
          1,
          1,
          1,
          1,
          1,
          1,
          1,
          1,
          1,
          1,
          1,
          1,
          1,
          1,
          1,
          1,
          1,
          1,
          1,
          1,
          1,
          1,
          1,
          1,
          1,
          1,
          1,
          1,
          1,
          1,
          1,
          1,
          1,
          1,
          1,
          1,
          1,
          1,
          1,
          1,
          1,
          1,
          1,
          1,
          1,
          1,
          1,
          1,
          1,
          1,
          1,
          1,
          1,
          1,
          1,
          1,
          1,
          1,
          1,
          1,
          1,
          1,
          1,
          1,
          1,
          1,
          1,
          1,
          1,
          1,
          1,
          1,
          1,
          1,
          1,
          1,
          1,
          1,
          1,
          1,
          1,
          1,
          1,
          1,
          1,
          1,
          1,
          1,
          1,
          1,
          1,
          1,
          1,
          1,
          1,
          1,
          1,
          1,
          1,
          1,
          1,
          1,
          1,
          1,
          1,
          1,
          1,
          1,
          1,
          1,
          1,
          1,
          1,
          1,
          1,
          1,
          1,
          1,
          1,
          1,
          1,
          1,
          1,
          1,
          1,
          1,
          1,
          1,
          1,
          1,
          1,
          1,
          1,
          1,
          1,
          1,
          1,
          1,
          1,
          1,
          1,
          1,
          1,
          1,
          1,
          1,
          1,
          1,
          1,
          1,
          1,
          1,
          1,
          1,
          1,
          1,
          1,
          1,
          1,
          1,
          1,
          1,
          1,
          1,
          1,
          1,
          1,
          1,
          1,
          1,
          1,
          1,
          1,
          1,
          1,
          1,
          1,
          1,
          1,
          1,
          1,
          1,
          1,
          1,
          1,
          1,
          1,
          1,
          1,
          1,
          1,
          1,
          1,
          1,
          1,
          1,
          1,
          1,
          1,
          1,
          1,
          1,
          1,
          1,
          1,
          1,
          1,
          1,
          1,
          1,
          1,
          1,
          1,
          1,
          1,
          1,
          1,
          1,
          1,
          1,
          1,
          1,
          1,
          1,
          1,
          1,
          1,
          1,
          1,
          1,
          1,
          1,
          1,
          1,
          1,
          1,
          1,
          1,
          1,
          1,
          1,
          1,
          1,
          1,
          1,
          1,
          1,
          1,
          1,
          1,
          1,
          1,
          1,
          1,
          1,
          1,
          1,
          1,
          1,
          1,
          1,
          1,
          1,
          1,
          1,
          1,
          1,
          1,
          1,
          1,
          1,
          1,
          1,
          1,
          1,
          1,
          1,
          1,
          1,
          1,
          1,
          1,
          1,
          1,
          1,
          1,
          1,
          1,
          1,
          1,
          1,
          1,
          1,
          1,
          1,
          1,
          1,
          1,
          1,
          1,
          1,
          1,
          1,
          1,
          1,
          1,
          1,
          1,
          1,
          1,
          1,
          1,
          1,
          1,
          1,
          1,
          1,
          1,
          1,
          1,
          1,
          1,
          1,
          1,
          1,
          1,
          1,
          1,
          1,
          1,
          1,
          1,
          1,
          1,
          1,
          1,
          1,
          1,
          1,
          1,
          1,
          1,
          1,
          1,
          1,
          1,
          1,
          1,
          1,
          1,
          1,
          1,
          1,
          1,
          1,
          1,
          1,
          1,
          1,
          1,
          1,
          1,
          1,
          1,
          1,
          1,
          1,
          1,
          1,
          1,
          1,
          1,
          1,
          1,
          1,
          1,
          1,
          1,
          1,
          1,
          1,
          1,
          1,
          1,
          1,
          1,
          1,
          1,
          1,
          1,
          1,
          1,
          1,
          1,
          1,
          1,
          1,
          1,
          1,
          1,
          1,
          1,
          1,
          1,
          1,
          1,
          1,
          1,
          1,
          1,
          1,
          1,
          1,
          1,
          1,
          1,
          1,
          1,
          1,
          1,
          1,
          1,
          1,
          1,
          1,
          1,
          1,
          1,
          1,
          1,
          1,
          1,
          1,
          1,
          1,
          1,
          1,
          1,
          1,
          1,
          1,
          1,
          1,
          1,
          1,
          1,
          1,
          1,
          1,
          1,
          1,
          1,
          1,
          1,
          1,
          1,
          1,
          1,
          1,
          1,
          1,
          1,
          1,
          1,
          1,
          1,
          1,
          1,
          1,
          1,
          1,
          1,
          1,
          1,
          1,
          1,
          1,
          1,
          1,
          1,
          1,
          1,
          1,
          1,
          1,
          1,
          1,
          1,
          1,
          1,
          1,
          1
         ],
         "xaxis": "x",
         "yaxis": "y"
        },
        {
         "alignmentgroup": "True",
         "bingroup": "x",
         "hovertemplate": "decisao=%{x}<br>count=%{y}<extra></extra>",
         "legendgroup": "0",
         "marker": {
          "color": "#EF553B",
          "pattern": {
           "shape": ""
          }
         },
         "name": "0",
         "offsetgroup": "0",
         "orientation": "v",
         "showlegend": true,
         "type": "histogram",
         "x": [
          0,
          0,
          0,
          0,
          0,
          0,
          0,
          0,
          0,
          0,
          0,
          0,
          0,
          0,
          0,
          0,
          0,
          0,
          0,
          0,
          0,
          0,
          0,
          0,
          0,
          0,
          0,
          0,
          0,
          0,
          0,
          0,
          0,
          0,
          0,
          0,
          0,
          0,
          0,
          0,
          0,
          0,
          0,
          0,
          0,
          0,
          0,
          0,
          0,
          0,
          0,
          0,
          0,
          0,
          0,
          0,
          0,
          0,
          0,
          0,
          0,
          0,
          0,
          0,
          0,
          0,
          0,
          0,
          0,
          0,
          0,
          0,
          0,
          0,
          0,
          0,
          0,
          0,
          0,
          0,
          0,
          0,
          0,
          0,
          0,
          0,
          0,
          0,
          0,
          0,
          0,
          0,
          0,
          0,
          0,
          0,
          0,
          0,
          0,
          0,
          0,
          0,
          0,
          0,
          0,
          0,
          0,
          0,
          0,
          0,
          0,
          0,
          0,
          0,
          0,
          0,
          0,
          0,
          0,
          0,
          0,
          0,
          0,
          0,
          0,
          0,
          0,
          0,
          0,
          0,
          0,
          0,
          0,
          0,
          0,
          0,
          0,
          0,
          0,
          0,
          0,
          0,
          0,
          0,
          0,
          0,
          0,
          0,
          0,
          0,
          0,
          0,
          0,
          0,
          0,
          0,
          0,
          0,
          0,
          0,
          0,
          0,
          0,
          0,
          0,
          0,
          0,
          0,
          0,
          0,
          0,
          0,
          0,
          0,
          0,
          0,
          0,
          0,
          0,
          0,
          0,
          0,
          0,
          0,
          0,
          0,
          0,
          0,
          0,
          0,
          0,
          0,
          0,
          0,
          0,
          0,
          0,
          0,
          0,
          0,
          0,
          0,
          0,
          0,
          0,
          0,
          0,
          0,
          0,
          0,
          0,
          0,
          0,
          0,
          0,
          0,
          0,
          0,
          0,
          0,
          0,
          0,
          0,
          0,
          0,
          0,
          0,
          0,
          0,
          0,
          0,
          0,
          0,
          0,
          0,
          0,
          0,
          0,
          0,
          0,
          0,
          0,
          0,
          0,
          0,
          0,
          0,
          0,
          0,
          0,
          0,
          0,
          0,
          0,
          0,
          0,
          0,
          0,
          0,
          0,
          0,
          0,
          0,
          0,
          0,
          0,
          0,
          0,
          0,
          0,
          0,
          0,
          0,
          0,
          0,
          0,
          0,
          0,
          0,
          0,
          0,
          0,
          0,
          0,
          0,
          0,
          0,
          0,
          0,
          0,
          0,
          0,
          0,
          0,
          0,
          0,
          0,
          0,
          0,
          0,
          0,
          0,
          0,
          0,
          0,
          0,
          0,
          0,
          0,
          0,
          0,
          0,
          0,
          0,
          0,
          0,
          0,
          0,
          0,
          0,
          0,
          0,
          0,
          0,
          0,
          0,
          0,
          0,
          0,
          0,
          0,
          0,
          0,
          0,
          0,
          0,
          0,
          0,
          0,
          0,
          0,
          0,
          0,
          0,
          0,
          0,
          0,
          0,
          0,
          0,
          0,
          0,
          0,
          0,
          0,
          0,
          0,
          0,
          0,
          0,
          0,
          0,
          0,
          0,
          0,
          0,
          0,
          0,
          0,
          0,
          0,
          0,
          0,
          0,
          0,
          0,
          0,
          0,
          0,
          0,
          0,
          0,
          0,
          0,
          0,
          0,
          0,
          0,
          0,
          0,
          0,
          0,
          0,
          0,
          0,
          0,
          0,
          0,
          0,
          0,
          0,
          0,
          0,
          0,
          0,
          0,
          0,
          0,
          0,
          0,
          0,
          0,
          0,
          0,
          0,
          0,
          0,
          0,
          0,
          0,
          0,
          0,
          0,
          0,
          0,
          0,
          0,
          0,
          0,
          0,
          0,
          0,
          0,
          0,
          0,
          0,
          0,
          0,
          0,
          0,
          0,
          0,
          0,
          0,
          0,
          0,
          0,
          0,
          0,
          0,
          0,
          0,
          0,
          0,
          0,
          0,
          0,
          0,
          0,
          0,
          0,
          0,
          0,
          0,
          0,
          0,
          0,
          0,
          0,
          0,
          0,
          0,
          0,
          0,
          0,
          0,
          0,
          0,
          0,
          0,
          0,
          0,
          0,
          0,
          0,
          0,
          0,
          0,
          0,
          0,
          0,
          0,
          0,
          0,
          0,
          0,
          0,
          0,
          0,
          0,
          0,
          0,
          0,
          0,
          0,
          0,
          0,
          0,
          0,
          0,
          0,
          0,
          0,
          0,
          0,
          0,
          0,
          0,
          0,
          0,
          0,
          0,
          0,
          0,
          0,
          0,
          0,
          0,
          0,
          0,
          0,
          0,
          0,
          0,
          0,
          0,
          0,
          0,
          0,
          0,
          0,
          0,
          0,
          0,
          0,
          0,
          0,
          0,
          0,
          0,
          0,
          0,
          0,
          0,
          0,
          0,
          0,
          0,
          0,
          0,
          0,
          0,
          0,
          0,
          0,
          0,
          0,
          0,
          0,
          0,
          0,
          0,
          0,
          0,
          0,
          0,
          0,
          0,
          0,
          0,
          0,
          0,
          0,
          0,
          0,
          0,
          0,
          0,
          0,
          0,
          0,
          0,
          0,
          0,
          0,
          0,
          0,
          0,
          0,
          0,
          0,
          0,
          0,
          0,
          0,
          0,
          0,
          0,
          0,
          0,
          0,
          0,
          0,
          0,
          0,
          0,
          0,
          0,
          0,
          0,
          0,
          0,
          0,
          0,
          0,
          0,
          0,
          0,
          0,
          0,
          0,
          0,
          0,
          0,
          0,
          0,
          0,
          0,
          0,
          0,
          0,
          0,
          0,
          0,
          0,
          0,
          0,
          0,
          0,
          0,
          0,
          0,
          0,
          0,
          0,
          0,
          0,
          0,
          0,
          0,
          0,
          0,
          0,
          0,
          0,
          0,
          0,
          0,
          0,
          0,
          0,
          0,
          0,
          0,
          0,
          0,
          0,
          0,
          0,
          0,
          0,
          0,
          0,
          0,
          0,
          0,
          0,
          0,
          0,
          0,
          0,
          0,
          0,
          0,
          0,
          0,
          0,
          0,
          0,
          0,
          0,
          0,
          0,
          0,
          0,
          0,
          0,
          0,
          0,
          0,
          0,
          0,
          0,
          0,
          0,
          0,
          0,
          0,
          0,
          0,
          0,
          0,
          0,
          0,
          0,
          0,
          0,
          0,
          0,
          0,
          0,
          0,
          0,
          0,
          0,
          0,
          0,
          0,
          0,
          0,
          0,
          0,
          0,
          0,
          0,
          0,
          0,
          0,
          0,
          0,
          0,
          0,
          0,
          0,
          0,
          0,
          0,
          0,
          0,
          0,
          0,
          0,
          0,
          0,
          0,
          0,
          0,
          0,
          0,
          0,
          0,
          0,
          0,
          0,
          0,
          0,
          0,
          0,
          0,
          0,
          0,
          0,
          0,
          0,
          0,
          0,
          0,
          0,
          0,
          0,
          0,
          0,
          0,
          0,
          0,
          0,
          0,
          0,
          0,
          0,
          0,
          0,
          0,
          0,
          0,
          0,
          0,
          0,
          0,
          0,
          0,
          0,
          0,
          0,
          0,
          0,
          0,
          0,
          0,
          0,
          0,
          0,
          0,
          0,
          0,
          0,
          0,
          0,
          0,
          0,
          0,
          0,
          0,
          0,
          0,
          0,
          0,
          0
         ],
         "xaxis": "x",
         "yaxis": "y"
        }
       ],
       "layout": {
        "barmode": "relative",
        "legend": {
         "title": {
          "text": "decisao"
         },
         "tracegroupgap": 0
        },
        "margin": {
         "t": 60
        },
        "template": {
         "data": {
          "bar": [
           {
            "error_x": {
             "color": "#2a3f5f"
            },
            "error_y": {
             "color": "#2a3f5f"
            },
            "marker": {
             "line": {
              "color": "#E5ECF6",
              "width": 0.5
             },
             "pattern": {
              "fillmode": "overlay",
              "size": 10,
              "solidity": 0.2
             }
            },
            "type": "bar"
           }
          ],
          "barpolar": [
           {
            "marker": {
             "line": {
              "color": "#E5ECF6",
              "width": 0.5
             },
             "pattern": {
              "fillmode": "overlay",
              "size": 10,
              "solidity": 0.2
             }
            },
            "type": "barpolar"
           }
          ],
          "carpet": [
           {
            "aaxis": {
             "endlinecolor": "#2a3f5f",
             "gridcolor": "white",
             "linecolor": "white",
             "minorgridcolor": "white",
             "startlinecolor": "#2a3f5f"
            },
            "baxis": {
             "endlinecolor": "#2a3f5f",
             "gridcolor": "white",
             "linecolor": "white",
             "minorgridcolor": "white",
             "startlinecolor": "#2a3f5f"
            },
            "type": "carpet"
           }
          ],
          "choropleth": [
           {
            "colorbar": {
             "outlinewidth": 0,
             "ticks": ""
            },
            "type": "choropleth"
           }
          ],
          "contour": [
           {
            "colorbar": {
             "outlinewidth": 0,
             "ticks": ""
            },
            "colorscale": [
             [
              0,
              "#0d0887"
             ],
             [
              0.1111111111111111,
              "#46039f"
             ],
             [
              0.2222222222222222,
              "#7201a8"
             ],
             [
              0.3333333333333333,
              "#9c179e"
             ],
             [
              0.4444444444444444,
              "#bd3786"
             ],
             [
              0.5555555555555556,
              "#d8576b"
             ],
             [
              0.6666666666666666,
              "#ed7953"
             ],
             [
              0.7777777777777778,
              "#fb9f3a"
             ],
             [
              0.8888888888888888,
              "#fdca26"
             ],
             [
              1,
              "#f0f921"
             ]
            ],
            "type": "contour"
           }
          ],
          "contourcarpet": [
           {
            "colorbar": {
             "outlinewidth": 0,
             "ticks": ""
            },
            "type": "contourcarpet"
           }
          ],
          "heatmap": [
           {
            "colorbar": {
             "outlinewidth": 0,
             "ticks": ""
            },
            "colorscale": [
             [
              0,
              "#0d0887"
             ],
             [
              0.1111111111111111,
              "#46039f"
             ],
             [
              0.2222222222222222,
              "#7201a8"
             ],
             [
              0.3333333333333333,
              "#9c179e"
             ],
             [
              0.4444444444444444,
              "#bd3786"
             ],
             [
              0.5555555555555556,
              "#d8576b"
             ],
             [
              0.6666666666666666,
              "#ed7953"
             ],
             [
              0.7777777777777778,
              "#fb9f3a"
             ],
             [
              0.8888888888888888,
              "#fdca26"
             ],
             [
              1,
              "#f0f921"
             ]
            ],
            "type": "heatmap"
           }
          ],
          "heatmapgl": [
           {
            "colorbar": {
             "outlinewidth": 0,
             "ticks": ""
            },
            "colorscale": [
             [
              0,
              "#0d0887"
             ],
             [
              0.1111111111111111,
              "#46039f"
             ],
             [
              0.2222222222222222,
              "#7201a8"
             ],
             [
              0.3333333333333333,
              "#9c179e"
             ],
             [
              0.4444444444444444,
              "#bd3786"
             ],
             [
              0.5555555555555556,
              "#d8576b"
             ],
             [
              0.6666666666666666,
              "#ed7953"
             ],
             [
              0.7777777777777778,
              "#fb9f3a"
             ],
             [
              0.8888888888888888,
              "#fdca26"
             ],
             [
              1,
              "#f0f921"
             ]
            ],
            "type": "heatmapgl"
           }
          ],
          "histogram": [
           {
            "marker": {
             "pattern": {
              "fillmode": "overlay",
              "size": 10,
              "solidity": 0.2
             }
            },
            "type": "histogram"
           }
          ],
          "histogram2d": [
           {
            "colorbar": {
             "outlinewidth": 0,
             "ticks": ""
            },
            "colorscale": [
             [
              0,
              "#0d0887"
             ],
             [
              0.1111111111111111,
              "#46039f"
             ],
             [
              0.2222222222222222,
              "#7201a8"
             ],
             [
              0.3333333333333333,
              "#9c179e"
             ],
             [
              0.4444444444444444,
              "#bd3786"
             ],
             [
              0.5555555555555556,
              "#d8576b"
             ],
             [
              0.6666666666666666,
              "#ed7953"
             ],
             [
              0.7777777777777778,
              "#fb9f3a"
             ],
             [
              0.8888888888888888,
              "#fdca26"
             ],
             [
              1,
              "#f0f921"
             ]
            ],
            "type": "histogram2d"
           }
          ],
          "histogram2dcontour": [
           {
            "colorbar": {
             "outlinewidth": 0,
             "ticks": ""
            },
            "colorscale": [
             [
              0,
              "#0d0887"
             ],
             [
              0.1111111111111111,
              "#46039f"
             ],
             [
              0.2222222222222222,
              "#7201a8"
             ],
             [
              0.3333333333333333,
              "#9c179e"
             ],
             [
              0.4444444444444444,
              "#bd3786"
             ],
             [
              0.5555555555555556,
              "#d8576b"
             ],
             [
              0.6666666666666666,
              "#ed7953"
             ],
             [
              0.7777777777777778,
              "#fb9f3a"
             ],
             [
              0.8888888888888888,
              "#fdca26"
             ],
             [
              1,
              "#f0f921"
             ]
            ],
            "type": "histogram2dcontour"
           }
          ],
          "mesh3d": [
           {
            "colorbar": {
             "outlinewidth": 0,
             "ticks": ""
            },
            "type": "mesh3d"
           }
          ],
          "parcoords": [
           {
            "line": {
             "colorbar": {
              "outlinewidth": 0,
              "ticks": ""
             }
            },
            "type": "parcoords"
           }
          ],
          "pie": [
           {
            "automargin": true,
            "type": "pie"
           }
          ],
          "scatter": [
           {
            "marker": {
             "colorbar": {
              "outlinewidth": 0,
              "ticks": ""
             }
            },
            "type": "scatter"
           }
          ],
          "scatter3d": [
           {
            "line": {
             "colorbar": {
              "outlinewidth": 0,
              "ticks": ""
             }
            },
            "marker": {
             "colorbar": {
              "outlinewidth": 0,
              "ticks": ""
             }
            },
            "type": "scatter3d"
           }
          ],
          "scattercarpet": [
           {
            "marker": {
             "colorbar": {
              "outlinewidth": 0,
              "ticks": ""
             }
            },
            "type": "scattercarpet"
           }
          ],
          "scattergeo": [
           {
            "marker": {
             "colorbar": {
              "outlinewidth": 0,
              "ticks": ""
             }
            },
            "type": "scattergeo"
           }
          ],
          "scattergl": [
           {
            "marker": {
             "colorbar": {
              "outlinewidth": 0,
              "ticks": ""
             }
            },
            "type": "scattergl"
           }
          ],
          "scattermapbox": [
           {
            "marker": {
             "colorbar": {
              "outlinewidth": 0,
              "ticks": ""
             }
            },
            "type": "scattermapbox"
           }
          ],
          "scatterpolar": [
           {
            "marker": {
             "colorbar": {
              "outlinewidth": 0,
              "ticks": ""
             }
            },
            "type": "scatterpolar"
           }
          ],
          "scatterpolargl": [
           {
            "marker": {
             "colorbar": {
              "outlinewidth": 0,
              "ticks": ""
             }
            },
            "type": "scatterpolargl"
           }
          ],
          "scatterternary": [
           {
            "marker": {
             "colorbar": {
              "outlinewidth": 0,
              "ticks": ""
             }
            },
            "type": "scatterternary"
           }
          ],
          "surface": [
           {
            "colorbar": {
             "outlinewidth": 0,
             "ticks": ""
            },
            "colorscale": [
             [
              0,
              "#0d0887"
             ],
             [
              0.1111111111111111,
              "#46039f"
             ],
             [
              0.2222222222222222,
              "#7201a8"
             ],
             [
              0.3333333333333333,
              "#9c179e"
             ],
             [
              0.4444444444444444,
              "#bd3786"
             ],
             [
              0.5555555555555556,
              "#d8576b"
             ],
             [
              0.6666666666666666,
              "#ed7953"
             ],
             [
              0.7777777777777778,
              "#fb9f3a"
             ],
             [
              0.8888888888888888,
              "#fdca26"
             ],
             [
              1,
              "#f0f921"
             ]
            ],
            "type": "surface"
           }
          ],
          "table": [
           {
            "cells": {
             "fill": {
              "color": "#EBF0F8"
             },
             "line": {
              "color": "white"
             }
            },
            "header": {
             "fill": {
              "color": "#C8D4E3"
             },
             "line": {
              "color": "white"
             }
            },
            "type": "table"
           }
          ]
         },
         "layout": {
          "annotationdefaults": {
           "arrowcolor": "#2a3f5f",
           "arrowhead": 0,
           "arrowwidth": 1
          },
          "autotypenumbers": "strict",
          "coloraxis": {
           "colorbar": {
            "outlinewidth": 0,
            "ticks": ""
           }
          },
          "colorscale": {
           "diverging": [
            [
             0,
             "#8e0152"
            ],
            [
             0.1,
             "#c51b7d"
            ],
            [
             0.2,
             "#de77ae"
            ],
            [
             0.3,
             "#f1b6da"
            ],
            [
             0.4,
             "#fde0ef"
            ],
            [
             0.5,
             "#f7f7f7"
            ],
            [
             0.6,
             "#e6f5d0"
            ],
            [
             0.7,
             "#b8e186"
            ],
            [
             0.8,
             "#7fbc41"
            ],
            [
             0.9,
             "#4d9221"
            ],
            [
             1,
             "#276419"
            ]
           ],
           "sequential": [
            [
             0,
             "#0d0887"
            ],
            [
             0.1111111111111111,
             "#46039f"
            ],
            [
             0.2222222222222222,
             "#7201a8"
            ],
            [
             0.3333333333333333,
             "#9c179e"
            ],
            [
             0.4444444444444444,
             "#bd3786"
            ],
            [
             0.5555555555555556,
             "#d8576b"
            ],
            [
             0.6666666666666666,
             "#ed7953"
            ],
            [
             0.7777777777777778,
             "#fb9f3a"
            ],
            [
             0.8888888888888888,
             "#fdca26"
            ],
            [
             1,
             "#f0f921"
            ]
           ],
           "sequentialminus": [
            [
             0,
             "#0d0887"
            ],
            [
             0.1111111111111111,
             "#46039f"
            ],
            [
             0.2222222222222222,
             "#7201a8"
            ],
            [
             0.3333333333333333,
             "#9c179e"
            ],
            [
             0.4444444444444444,
             "#bd3786"
            ],
            [
             0.5555555555555556,
             "#d8576b"
            ],
            [
             0.6666666666666666,
             "#ed7953"
            ],
            [
             0.7777777777777778,
             "#fb9f3a"
            ],
            [
             0.8888888888888888,
             "#fdca26"
            ],
            [
             1,
             "#f0f921"
            ]
           ]
          },
          "colorway": [
           "#636efa",
           "#EF553B",
           "#00cc96",
           "#ab63fa",
           "#FFA15A",
           "#19d3f3",
           "#FF6692",
           "#B6E880",
           "#FF97FF",
           "#FECB52"
          ],
          "font": {
           "color": "#2a3f5f"
          },
          "geo": {
           "bgcolor": "white",
           "lakecolor": "white",
           "landcolor": "#E5ECF6",
           "showlakes": true,
           "showland": true,
           "subunitcolor": "white"
          },
          "hoverlabel": {
           "align": "left"
          },
          "hovermode": "closest",
          "mapbox": {
           "style": "light"
          },
          "paper_bgcolor": "white",
          "plot_bgcolor": "#E5ECF6",
          "polar": {
           "angularaxis": {
            "gridcolor": "white",
            "linecolor": "white",
            "ticks": ""
           },
           "bgcolor": "#E5ECF6",
           "radialaxis": {
            "gridcolor": "white",
            "linecolor": "white",
            "ticks": ""
           }
          },
          "scene": {
           "xaxis": {
            "backgroundcolor": "#E5ECF6",
            "gridcolor": "white",
            "gridwidth": 2,
            "linecolor": "white",
            "showbackground": true,
            "ticks": "",
            "zerolinecolor": "white"
           },
           "yaxis": {
            "backgroundcolor": "#E5ECF6",
            "gridcolor": "white",
            "gridwidth": 2,
            "linecolor": "white",
            "showbackground": true,
            "ticks": "",
            "zerolinecolor": "white"
           },
           "zaxis": {
            "backgroundcolor": "#E5ECF6",
            "gridcolor": "white",
            "gridwidth": 2,
            "linecolor": "white",
            "showbackground": true,
            "ticks": "",
            "zerolinecolor": "white"
           }
          },
          "shapedefaults": {
           "line": {
            "color": "#2a3f5f"
           }
          },
          "ternary": {
           "aaxis": {
            "gridcolor": "white",
            "linecolor": "white",
            "ticks": ""
           },
           "baxis": {
            "gridcolor": "white",
            "linecolor": "white",
            "ticks": ""
           },
           "bgcolor": "#E5ECF6",
           "caxis": {
            "gridcolor": "white",
            "linecolor": "white",
            "ticks": ""
           }
          },
          "title": {
           "x": 0.05
          },
          "xaxis": {
           "automargin": true,
           "gridcolor": "white",
           "linecolor": "white",
           "ticks": "",
           "title": {
            "standoff": 15
           },
           "zerolinecolor": "white",
           "zerolinewidth": 2
          },
          "yaxis": {
           "automargin": true,
           "gridcolor": "white",
           "linecolor": "white",
           "ticks": "",
           "title": {
            "standoff": 15
           },
           "zerolinecolor": "white",
           "zerolinewidth": 2
          }
         }
        },
        "xaxis": {
         "anchor": "y",
         "categoryarray": [
          1,
          0
         ],
         "categoryorder": "array",
         "domain": [
          0,
          1
         ],
         "title": {
          "text": "decisao"
         }
        },
        "yaxis": {
         "anchor": "x",
         "domain": [
          0,
          1
         ],
         "title": {
          "text": "count"
         }
        }
       }
      }
     },
     "metadata": {},
     "output_type": "display_data"
    },
    {
     "name": "stdout",
     "output_type": "stream",
     "text": [
      "                           RPL       ROE        AF        RA  \\\n",
      "RPL                   1.000000  1.000000 -0.025066  0.994031   \n",
      "ROE                   1.000000  1.000000 -0.025066  0.994031   \n",
      "AF                   -0.025066 -0.025066  1.000000 -0.025523   \n",
      "RA                    0.994031  0.994031 -0.025523  1.000000   \n",
      "part_cap_terceiros   -0.045429 -0.045429  0.945119 -0.046745   \n",
      "comp_endividamento   -0.009604 -0.009604  0.008330 -0.008514   \n",
      "imob_patrimonio_liq  -0.001824 -0.001824  0.681161 -0.001660   \n",
      "imob_recursos_n_corr  0.020763  0.020763  0.023805  0.022083   \n",
      "liq_corrente          0.132985  0.132985 -0.080729  0.132860   \n",
      "decisao               0.017731  0.017731 -0.051701  0.018687   \n",
      "\n",
      "                      part_cap_terceiros  comp_endividamento  \\\n",
      "RPL                            -0.045429           -0.009604   \n",
      "ROE                            -0.045429           -0.009604   \n",
      "AF                              0.945119            0.008330   \n",
      "RA                             -0.046745           -0.008514   \n",
      "part_cap_terceiros              1.000000           -0.002189   \n",
      "comp_endividamento             -0.002189            1.000000   \n",
      "imob_patrimonio_liq             0.631220           -0.059815   \n",
      "imob_recursos_n_corr            0.019785            0.058207   \n",
      "liq_corrente                   -0.114213           -0.610056   \n",
      "decisao                        -0.055607            0.018305   \n",
      "\n",
      "                      imob_patrimonio_liq  imob_recursos_n_corr  liq_corrente  \\\n",
      "RPL                             -0.001824              0.020763      0.132985   \n",
      "ROE                             -0.001824              0.020763      0.132985   \n",
      "AF                               0.681161              0.023805     -0.080729   \n",
      "RA                              -0.001660              0.022083      0.132860   \n",
      "part_cap_terceiros               0.631220              0.019785     -0.114213   \n",
      "comp_endividamento              -0.059815              0.058207     -0.610056   \n",
      "imob_patrimonio_liq              1.000000              0.532427     -0.096966   \n",
      "imob_recursos_n_corr             0.532427              1.000000     -0.178085   \n",
      "liq_corrente                    -0.096966             -0.178085      1.000000   \n",
      "decisao                         -0.045423             -0.006578      0.032444   \n",
      "\n",
      "                       decisao  \n",
      "RPL                   0.017731  \n",
      "ROE                   0.017731  \n",
      "AF                   -0.051701  \n",
      "RA                    0.018687  \n",
      "part_cap_terceiros   -0.055607  \n",
      "comp_endividamento    0.018305  \n",
      "imob_patrimonio_liq  -0.045423  \n",
      "imob_recursos_n_corr -0.006578  \n",
      "liq_corrente          0.032444  \n",
      "decisao               1.000000  \n",
      "               RPL          ROE           AF           RA  part_cap_terceiros  \\\n",
      "count  1667.000000  1667.000000  1667.000000  1667.000000         1667.000000   \n",
      "mean      3.938243     3.938243     0.023775     4.672515            0.037313   \n",
      "std     103.251811   103.251811     0.288417   136.510433            0.350239   \n",
      "min     -40.653029   -40.653029    -3.722839  -116.938658           -3.351219   \n",
      "25%      -0.490993    -0.490993    -0.028840    -0.469453           -0.054508   \n",
      "50%      -0.000506    -0.000506     0.000330     0.006414            0.001333   \n",
      "75%       0.753115     0.753115     0.036689     0.727561            0.071998   \n",
      "max    3958.077793  3958.077793     5.003283  5394.686877            5.189269   \n",
      "\n",
      "       comp_endividamento  imob_patrimonio_liq  imob_recursos_n_corr  \\\n",
      "count         1667.000000          1667.000000           1667.000000   \n",
      "mean             0.008786             0.051457              0.034935   \n",
      "std              0.165894             0.382152              0.320828   \n",
      "min             -0.697346            -3.381533             -0.982437   \n",
      "25%             -0.067678            -0.049789             -0.046441   \n",
      "50%              0.002573             0.011748              0.005943   \n",
      "75%              0.067210             0.086820              0.062944   \n",
      "max              1.238408             4.756498              8.071141   \n",
      "\n",
      "       liq_corrente      decisao  \n",
      "count   1667.000000  1667.000000  \n",
      "mean       0.024527     0.497301  \n",
      "std        0.226483     0.500143  \n",
      "min       -0.738676     0.000000  \n",
      "25%       -0.077451     0.000000  \n",
      "50%       -0.000190     0.000000  \n",
      "75%        0.090415     1.000000  \n",
      "max        2.392013     1.000000  \n"
     ]
    },
    {
     "data": {
      "image/png": "[encoded data removed]",
      "text/plain": [
       "<Figure size 1080x720 with 2 Axes>"
      ]
     },
     "metadata": {
      "needs_background": "light"
     },
     "output_type": "display_data"
    },
    {
     "name": "stderr",
     "output_type": "stream",
     "text": [
      "/Users/shopee/opt/anaconda3/envs/TCC_PUC/lib/python3.8/site-packages/statsmodels/genmod/families/links.py:187: RuntimeWarning:\n",
      "\n",
      "overflow encountered in exp\n",
      "\n",
      "/Users/shopee/opt/anaconda3/envs/TCC_PUC/lib/python3.8/site-packages/statsmodels/genmod/families/family.py:1014: RuntimeWarning:\n",
      "\n",
      "divide by zero encountered in log\n",
      "\n",
      "/Users/shopee/opt/anaconda3/envs/TCC_PUC/lib/python3.8/site-packages/statsmodels/genmod/families/family.py:1014: RuntimeWarning:\n",
      "\n",
      "invalid value encountered in multiply\n",
      "\n"
     ]
    },
    {
     "name": "stdout",
     "output_type": "stream",
     "text": [
      "                 Generalized Linear Model Regression Results                  \n",
      "==============================================================================\n",
      "Dep. Variable:                decisao   No. Observations:                 1667\n",
      "Model:                            GLM   Df Residuals:                     1658\n",
      "Model Family:                Binomial   Df Model:                            8\n",
      "Link Function:                  logit   Scale:                          1.0000\n",
      "Method:                          IRLS   Log-Likelihood:                    nan\n",
      "Date:                Sat, 09 Oct 2021   Deviance:                       76077.\n",
      "Time:                        18:36:09   Pearson chi2:                 3.72e+18\n",
      "No. Iterations:                   100   Pseudo R-squ. (CS):                nan\n",
      "Covariance Type:            nonrobust                                         \n",
      "========================================================================================\n",
      "                           coef    std err          z      P>|z|      [0.025      0.975]\n",
      "----------------------------------------------------------------------------------------\n",
      "Intercept            -1.594e+15   1.71e+06   -9.3e+08      0.000   -1.59e+15   -1.59e+15\n",
      "RPL                    1.67e+12    7.3e+04   2.29e+07      0.000    1.67e+12    1.67e+12\n",
      "ROE                    1.67e+12    7.3e+04   2.29e+07      0.000    1.67e+12    1.67e+12\n",
      "AF                   -1.211e+14   1.97e+07  -6.14e+06      0.000   -1.21e+14   -1.21e+14\n",
      "RA                   -2.071e+12    1.1e+05  -1.87e+07      0.000   -2.07e+12   -2.07e+12\n",
      "part_cap_terceiros    3.039e+13   1.47e+07   2.07e+06      0.000    3.04e+13    3.04e+13\n",
      "comp_endividamento    2.086e+15   1.29e+07   1.62e+08      0.000    2.09e+15    2.09e+15\n",
      "imob_patrimonio_liq  -2.458e+14   8.46e+06  -2.91e+07      0.000   -2.46e+14   -2.46e+14\n",
      "imob_recursos_n_corr  3.663e+14   7.39e+06   4.95e+07      0.000    3.66e+14    3.66e+14\n",
      "liq_corrente          1.625e+15   9.63e+06   1.69e+08      0.000    1.63e+15    1.63e+15\n",
      "========================================================================================\n",
      "Correlacoes apos remover algumas colunas\n",
      "                           ROE        AF  comp_endividamento  \\\n",
      "ROE                   1.000000 -0.025066           -0.009604   \n",
      "AF                   -0.025066  1.000000            0.008330   \n",
      "comp_endividamento   -0.009604  0.008330            1.000000   \n",
      "imob_patrimonio_liq  -0.001824  0.681161           -0.059815   \n",
      "imob_recursos_n_corr  0.020763  0.023805            0.058207   \n",
      "liq_corrente          0.132985 -0.080729           -0.610056   \n",
      "decisao               0.017731 -0.051701            0.018305   \n",
      "\n",
      "                      imob_patrimonio_liq  imob_recursos_n_corr  liq_corrente  \\\n",
      "ROE                             -0.001824              0.020763      0.132985   \n",
      "AF                               0.681161              0.023805     -0.080729   \n",
      "comp_endividamento              -0.059815              0.058207     -0.610056   \n",
      "imob_patrimonio_liq              1.000000              0.532427     -0.096966   \n",
      "imob_recursos_n_corr             0.532427              1.000000     -0.178085   \n",
      "liq_corrente                    -0.096966             -0.178085      1.000000   \n",
      "decisao                         -0.045423             -0.006578      0.032444   \n",
      "\n",
      "                       decisao  \n",
      "ROE                   0.017731  \n",
      "AF                   -0.051701  \n",
      "comp_endividamento    0.018305  \n",
      "imob_patrimonio_liq  -0.045423  \n",
      "imob_recursos_n_corr -0.006578  \n",
      "liq_corrente          0.032444  \n",
      "decisao               1.000000  \n",
      "               ROE           AF  comp_endividamento  imob_patrimonio_liq  \\\n",
      "count  1667.000000  1667.000000         1667.000000          1667.000000   \n",
      "mean      3.938243     0.023775            0.008786             0.051457   \n",
      "std     103.251811     0.288417            0.165894             0.382152   \n",
      "min     -40.653029    -3.722839           -0.697346            -3.381533   \n",
      "25%      -0.490993    -0.028840           -0.067678            -0.049789   \n",
      "50%      -0.000506     0.000330            0.002573             0.011748   \n",
      "75%       0.753115     0.036689            0.067210             0.086820   \n",
      "max    3958.077793     5.003283            1.238408             4.756498   \n",
      "\n",
      "       imob_recursos_n_corr  liq_corrente      decisao  \n",
      "count           1667.000000   1667.000000  1667.000000  \n",
      "mean               0.034935      0.024527     0.497301  \n",
      "std                0.320828      0.226483     0.500143  \n",
      "min               -0.982437     -0.738676     0.000000  \n",
      "25%               -0.046441     -0.077451     0.000000  \n",
      "50%                0.005943     -0.000190     0.000000  \n",
      "75%                0.062944      0.090415     1.000000  \n",
      "max                8.071141      2.392013     1.000000  \n"
     ]
    },
    {
     "data": {
      "image/png": "[encoded data removed]",
      "text/plain": [
       "<Figure size 1080x720 with 2 Axes>"
      ]
     },
     "metadata": {
      "needs_background": "light"
     },
     "output_type": "display_data"
    },
    {
     "name": "stdout",
     "output_type": "stream",
     "text": [
      "                 Generalized Linear Model Regression Results                  \n",
      "==============================================================================\n",
      "Dep. Variable:                decisao   No. Observations:                 1667\n",
      "Model:                            GLM   Df Residuals:                     1660\n",
      "Model Family:                Binomial   Df Model:                            6\n",
      "Link Function:                  logit   Scale:                          1.0000\n",
      "Method:                          IRLS   Log-Likelihood:                -1150.5\n",
      "Date:                Sat, 09 Oct 2021   Deviance:                       2301.0\n",
      "Time:                        18:36:09   Pearson chi2:                 1.67e+03\n",
      "No. Iterations:                     4   Pseudo R-squ. (CS):           0.005897\n",
      "Covariance Type:            nonrobust                                         \n",
      "========================================================================================\n",
      "                           coef    std err          z      P>|z|      [0.025      0.975]\n",
      "----------------------------------------------------------------------------------------\n",
      "Intercept               -0.0227      0.051     -0.447      0.655      -0.122       0.077\n",
      "ROE                      0.0002      0.001      0.371      0.711      -0.001       0.001\n",
      "AF                      -0.2686      0.304     -0.884      0.377      -0.864       0.327\n",
      "comp_endividamento       0.6777      0.391      1.733      0.083      -0.089       1.444\n",
      "imob_patrimonio_liq     -0.1010      0.260     -0.388      0.698      -0.611       0.409\n",
      "imob_recursos_n_corr     0.0781      0.226      0.346      0.729      -0.364       0.520\n",
      "liq_corrente             0.5631      0.293      1.924      0.054      -0.011       1.137\n",
      "========================================================================================\n",
      "(1667, 7)\n",
      "Feature Selection\n",
      "                             0\n",
      "ROE                   0.174108\n",
      "liq_corrente          0.168355\n",
      "AF                    0.165385\n",
      "comp_endividamento    0.165298\n",
      "imob_patrimonio_liq   0.164335\n",
      "imob_recursos_n_corr  0.162519\n",
      "len(X_treino)=1166 len(X_teste)=501 len(y_treino)=1166 len(y_teste)=501\n",
      "Dummy\n",
      "Reporte teste\n",
      "              precision    recall  f1-score   support\n",
      "\n",
      "           0       0.50      0.52      0.51       250\n",
      "           1       0.50      0.49      0.49       251\n",
      "\n",
      "    accuracy                           0.50       501\n",
      "   macro avg       0.50      0.50      0.50       501\n",
      "weighted avg       0.50      0.50      0.50       501\n",
      "\n"
     ]
    },
    {
     "data": {
      "image/png": "[encoded data removed]",
      "text/plain": [
       "<Figure size 432x288 with 2 Axes>"
      ]
     },
     "metadata": {
      "needs_background": "light"
     },
     "output_type": "display_data"
    },
    {
     "name": "stdout",
     "output_type": "stream",
     "text": [
      "##################################################\n",
      "AdaBoost\n",
      "Reporte teste\n",
      "              precision    recall  f1-score   support\n",
      "\n",
      "           0       0.50      0.53      0.51       250\n",
      "           1       0.50      0.46      0.48       251\n",
      "\n",
      "    accuracy                           0.50       501\n",
      "   macro avg       0.50      0.50      0.50       501\n",
      "weighted avg       0.50      0.50      0.50       501\n",
      "\n"
     ]
    },
    {
     "name": "stderr",
     "output_type": "stream",
     "text": [
      "/Users/shopee/opt/anaconda3/envs/TCC_PUC/lib/python3.8/site-packages/sklearn/base.py:441: UserWarning:\n",
      "\n",
      "X does not have valid feature names, but AdaBoostClassifier was fitted with feature names\n",
      "\n"
     ]
    },
    {
     "data": {
      "image/png": "[encoded data removed]",
      "text/plain": [
       "<Figure size 432x288 with 2 Axes>"
      ]
     },
     "metadata": {
      "needs_background": "light"
     },
     "output_type": "display_data"
    },
    {
     "name": "stdout",
     "output_type": "stream",
     "text": [
      "##################################################\n",
      "DecisionTree\n",
      "Reporte teste\n",
      "              precision    recall  f1-score   support\n",
      "\n",
      "           0       0.51      0.52      0.52       250\n",
      "           1       0.51      0.49      0.50       251\n",
      "\n",
      "    accuracy                           0.51       501\n",
      "   macro avg       0.51      0.51      0.51       501\n",
      "weighted avg       0.51      0.51      0.51       501\n",
      "\n"
     ]
    },
    {
     "data": {
      "image/png": "[encoded data removed]",
      "text/plain": [
       "<Figure size 432x288 with 2 Axes>"
      ]
     },
     "metadata": {
      "needs_background": "light"
     },
     "output_type": "display_data"
    },
    {
     "name": "stdout",
     "output_type": "stream",
     "text": [
      "##################################################\n",
      "RandomForest\n",
      "Reporte teste\n",
      "              precision    recall  f1-score   support\n",
      "\n",
      "           0       0.54      0.53      0.54       250\n",
      "           1       0.54      0.55      0.55       251\n",
      "\n",
      "    accuracy                           0.54       501\n",
      "   macro avg       0.54      0.54      0.54       501\n",
      "weighted avg       0.54      0.54      0.54       501\n",
      "\n"
     ]
    },
    {
     "data": {
      "image/png": "[encoded data removed]",
      "text/plain": [
       "<Figure size 432x288 with 2 Axes>"
      ]
     },
     "metadata": {
      "needs_background": "light"
     },
     "output_type": "display_data"
    },
    {
     "name": "stdout",
     "output_type": "stream",
     "text": [
      "##################################################\n",
      "ExtraTree\n",
      "Reporte teste\n",
      "              precision    recall  f1-score   support\n",
      "\n",
      "           0       0.50      0.53      0.52       250\n",
      "           1       0.51      0.48      0.49       251\n",
      "\n",
      "    accuracy                           0.50       501\n",
      "   macro avg       0.51      0.51      0.50       501\n",
      "weighted avg       0.51      0.50      0.50       501\n",
      "\n"
     ]
    },
    {
     "data": {
      "image/png": "[encoded data removed]",
      "text/plain": [
       "<Figure size 432x288 with 2 Axes>"
      ]
     },
     "metadata": {
      "needs_background": "light"
     },
     "output_type": "display_data"
    },
    {
     "name": "stdout",
     "output_type": "stream",
     "text": [
      "##################################################\n",
      "GradientBoost\n",
      "Reporte teste\n",
      "              precision    recall  f1-score   support\n",
      "\n",
      "           0       0.51      0.51      0.51       250\n",
      "           1       0.52      0.52      0.52       251\n",
      "\n",
      "    accuracy                           0.51       501\n",
      "   macro avg       0.51      0.51      0.51       501\n",
      "weighted avg       0.51      0.51      0.51       501\n",
      "\n"
     ]
    },
    {
     "data": {
      "image/png": "[encoded data removed]",
      "text/plain": [
       "<Figure size 432x288 with 2 Axes>"
      ]
     },
     "metadata": {
      "needs_background": "light"
     },
     "output_type": "display_data"
    },
    {
     "name": "stdout",
     "output_type": "stream",
     "text": [
      "##################################################\n",
      "KNN\n",
      "Reporte teste\n",
      "              precision    recall  f1-score   support\n",
      "\n",
      "           0       0.49      0.47      0.48       250\n",
      "           1       0.49      0.51      0.50       251\n",
      "\n",
      "    accuracy                           0.49       501\n",
      "   macro avg       0.49      0.49      0.49       501\n",
      "weighted avg       0.49      0.49      0.49       501\n",
      "\n"
     ]
    },
    {
     "name": "stderr",
     "output_type": "stream",
     "text": [
      "/Users/shopee/opt/anaconda3/envs/TCC_PUC/lib/python3.8/site-packages/sklearn/base.py:441: UserWarning:\n",
      "\n",
      "X does not have valid feature names, but KNeighborsClassifier was fitted with feature names\n",
      "\n"
     ]
    },
    {
     "data": {
      "image/png": "[encoded data removed]",
      "text/plain": [
       "<Figure size 432x288 with 2 Axes>"
      ]
     },
     "metadata": {
      "needs_background": "light"
     },
     "output_type": "display_data"
    },
    {
     "name": "stdout",
     "output_type": "stream",
     "text": [
      "##################################################\n",
      "LogisticRegression\n",
      "Reporte teste\n",
      "              precision    recall  f1-score   support\n",
      "\n",
      "           0       0.52      0.63      0.57       250\n",
      "           1       0.53      0.41      0.46       251\n",
      "\n",
      "    accuracy                           0.52       501\n",
      "   macro avg       0.52      0.52      0.52       501\n",
      "weighted avg       0.52      0.52      0.52       501\n",
      "\n"
     ]
    },
    {
     "data": {
      "image/png": "[encoded data removed]",
      "text/plain": [
       "<Figure size 432x288 with 2 Axes>"
      ]
     },
     "metadata": {
      "needs_background": "light"
     },
     "output_type": "display_data"
    },
    {
     "name": "stdout",
     "output_type": "stream",
     "text": [
      "##################################################\n",
      "RedeNeural\n",
      "Reporte teste\n",
      "              precision    recall  f1-score   support\n",
      "\n",
      "           0       0.52      0.63      0.57       250\n",
      "           1       0.53      0.41      0.47       251\n",
      "\n",
      "    accuracy                           0.52       501\n",
      "   macro avg       0.52      0.52      0.52       501\n",
      "weighted avg       0.52      0.52      0.52       501\n",
      "\n"
     ]
    },
    {
     "name": "stderr",
     "output_type": "stream",
     "text": [
      "/Users/shopee/opt/anaconda3/envs/TCC_PUC/lib/python3.8/site-packages/sklearn/neural_network/_multilayer_perceptron.py:692: ConvergenceWarning:\n",
      "\n",
      "Stochastic Optimizer: Maximum iterations (100) reached and the optimization hasn't converged yet.\n",
      "\n"
     ]
    },
    {
     "data": {
      "image/png": "[encoded data removed]",
      "text/plain": [
       "<Figure size 432x288 with 2 Axes>"
      ]
     },
     "metadata": {
      "needs_background": "light"
     },
     "output_type": "display_data"
    },
    {
     "name": "stdout",
     "output_type": "stream",
     "text": [
      "##################################################\n"
     ]
    }
   ],
   "source": [
    "def main():\n",
    "    df = carregar_joblib()\n",
    "\n",
    "    print_histograma_comprar_vender(df)\n",
    "\n",
    "    print_correlacoes(df)\n",
    "\n",
    "    print_p_value(df)\n",
    "\n",
    "    df = remover_variaveis_ja_explicadas(df)\n",
    "\n",
    "    print(\"Correlacoes apos remover algumas colunas\")\n",
    "\n",
    "    print_correlacoes(df)\n",
    "\n",
    "    print_p_value(df)\n",
    "\n",
    "    print(df.shape)\n",
    "\n",
    "    print(\"Feature Selection\")\n",
    "\n",
    "    print_feature_selection_extra_trees(df)\n",
    "\n",
    "    scaled_df = ajustar_scaler(df)\n",
    "\n",
    "    # split database train and test\n",
    "    X_treino, X_teste, y_treino, y_teste = split_dados(scaled_df)\n",
    "\n",
    "    # Run a dummy predict classifier\n",
    "    dummy_predict = run_dummy_classifier(X_treino, X_teste, y_treino)\n",
    "\n",
    "    # print dummy results\n",
    "    avaliar(y_teste, dummy_predict, \"Dummy\")\n",
    "\n",
    "    modelos = definir_modelos_ml()\n",
    "\n",
    "    modelos = rodar_imprimir_modelos_ml(modelos, X_treino, X_teste, y_treino, y_teste)\n",
    "\n",
    "main()"
   ]
  },
  {
   "cell_type": "markdown",
   "metadata": {},
   "source": [
    "## Escolha de 3 melhores modelos para comparação"
   ]
  },
  {
   "cell_type": "code",
   "execution_count": 49,
   "metadata": {},
   "outputs": [
    {
     "name": "stderr",
     "output_type": "stream",
     "text": [
      "/Users/shopee/opt/anaconda3/envs/TCC_PUC/lib/python3.8/site-packages/sklearn/metrics/_classification.py:1308: UndefinedMetricWarning:\n",
      "\n",
      "Precision is ill-defined and being set to 0.0 due to no predicted samples. Use `zero_division` parameter to control this behavior.\n",
      "\n",
      "/Users/shopee/opt/anaconda3/envs/TCC_PUC/lib/python3.8/site-packages/sklearn/metrics/_classification.py:1308: UndefinedMetricWarning:\n",
      "\n",
      "Precision is ill-defined and being set to 0.0 due to no predicted samples. Use `zero_division` parameter to control this behavior.\n",
      "\n",
      "/Users/shopee/opt/anaconda3/envs/TCC_PUC/lib/python3.8/site-packages/sklearn/metrics/_classification.py:1308: UndefinedMetricWarning:\n",
      "\n",
      "Precision is ill-defined and being set to 0.0 due to no predicted samples. Use `zero_division` parameter to control this behavior.\n",
      "\n",
      "/Users/shopee/opt/anaconda3/envs/TCC_PUC/lib/python3.8/site-packages/sklearn/metrics/_classification.py:1308: UndefinedMetricWarning:\n",
      "\n",
      "Precision is ill-defined and being set to 0.0 due to no predicted samples. Use `zero_division` parameter to control this behavior.\n",
      "\n",
      "/Users/shopee/opt/anaconda3/envs/TCC_PUC/lib/python3.8/site-packages/sklearn/metrics/_classification.py:1308: UndefinedMetricWarning:\n",
      "\n",
      "Precision is ill-defined and being set to 0.0 due to no predicted samples. Use `zero_division` parameter to control this behavior.\n",
      "\n",
      "/Users/shopee/opt/anaconda3/envs/TCC_PUC/lib/python3.8/site-packages/sklearn/metrics/_classification.py:1308: UndefinedMetricWarning:\n",
      "\n",
      "Precision is ill-defined and being set to 0.0 due to no predicted samples. Use `zero_division` parameter to control this behavior.\n",
      "\n",
      "/Users/shopee/opt/anaconda3/envs/TCC_PUC/lib/python3.8/site-packages/sklearn/metrics/_classification.py:1308: UndefinedMetricWarning:\n",
      "\n",
      "Precision is ill-defined and being set to 0.0 due to no predicted samples. Use `zero_division` parameter to control this behavior.\n",
      "\n",
      "/Users/shopee/opt/anaconda3/envs/TCC_PUC/lib/python3.8/site-packages/sklearn/metrics/_classification.py:1308: UndefinedMetricWarning:\n",
      "\n",
      "Precision is ill-defined and being set to 0.0 due to no predicted samples. Use `zero_division` parameter to control this behavior.\n",
      "\n",
      "/Users/shopee/opt/anaconda3/envs/TCC_PUC/lib/python3.8/site-packages/sklearn/metrics/_classification.py:1308: UndefinedMetricWarning:\n",
      "\n",
      "Precision is ill-defined and being set to 0.0 due to no predicted samples. Use `zero_division` parameter to control this behavior.\n",
      "\n",
      "/Users/shopee/opt/anaconda3/envs/TCC_PUC/lib/python3.8/site-packages/sklearn/metrics/_classification.py:1308: UndefinedMetricWarning:\n",
      "\n",
      "Precision is ill-defined and being set to 0.0 due to no predicted samples. Use `zero_division` parameter to control this behavior.\n",
      "\n",
      "/Users/shopee/opt/anaconda3/envs/TCC_PUC/lib/python3.8/site-packages/sklearn/metrics/_classification.py:1308: UndefinedMetricWarning:\n",
      "\n",
      "Precision is ill-defined and being set to 0.0 due to no predicted samples. Use `zero_division` parameter to control this behavior.\n",
      "\n",
      "/Users/shopee/opt/anaconda3/envs/TCC_PUC/lib/python3.8/site-packages/sklearn/metrics/_classification.py:1308: UndefinedMetricWarning:\n",
      "\n",
      "Precision is ill-defined and being set to 0.0 due to no predicted samples. Use `zero_division` parameter to control this behavior.\n",
      "\n",
      "/Users/shopee/opt/anaconda3/envs/TCC_PUC/lib/python3.8/site-packages/sklearn/metrics/_classification.py:1308: UndefinedMetricWarning:\n",
      "\n",
      "Precision is ill-defined and being set to 0.0 due to no predicted samples. Use `zero_division` parameter to control this behavior.\n",
      "\n",
      "/Users/shopee/opt/anaconda3/envs/TCC_PUC/lib/python3.8/site-packages/sklearn/metrics/_classification.py:1308: UndefinedMetricWarning:\n",
      "\n",
      "Precision is ill-defined and being set to 0.0 due to no predicted samples. Use `zero_division` parameter to control this behavior.\n",
      "\n",
      "/Users/shopee/opt/anaconda3/envs/TCC_PUC/lib/python3.8/site-packages/sklearn/metrics/_classification.py:1308: UndefinedMetricWarning:\n",
      "\n",
      "Precision is ill-defined and being set to 0.0 due to no predicted samples. Use `zero_division` parameter to control this behavior.\n",
      "\n",
      "/Users/shopee/opt/anaconda3/envs/TCC_PUC/lib/python3.8/site-packages/sklearn/metrics/_classification.py:1308: UndefinedMetricWarning:\n",
      "\n",
      "Precision is ill-defined and being set to 0.0 due to no predicted samples. Use `zero_division` parameter to control this behavior.\n",
      "\n",
      "/Users/shopee/opt/anaconda3/envs/TCC_PUC/lib/python3.8/site-packages/sklearn/metrics/_classification.py:1308: UndefinedMetricWarning:\n",
      "\n",
      "Precision is ill-defined and being set to 0.0 due to no predicted samples. Use `zero_division` parameter to control this behavior.\n",
      "\n",
      "/Users/shopee/opt/anaconda3/envs/TCC_PUC/lib/python3.8/site-packages/sklearn/metrics/_classification.py:1308: UndefinedMetricWarning:\n",
      "\n",
      "Precision is ill-defined and being set to 0.0 due to no predicted samples. Use `zero_division` parameter to control this behavior.\n",
      "\n",
      "/Users/shopee/opt/anaconda3/envs/TCC_PUC/lib/python3.8/site-packages/sklearn/metrics/_classification.py:1308: UndefinedMetricWarning:\n",
      "\n",
      "Precision is ill-defined and being set to 0.0 due to no predicted samples. Use `zero_division` parameter to control this behavior.\n",
      "\n",
      "/Users/shopee/opt/anaconda3/envs/TCC_PUC/lib/python3.8/site-packages/sklearn/metrics/_classification.py:1308: UndefinedMetricWarning:\n",
      "\n",
      "Precision is ill-defined and being set to 0.0 due to no predicted samples. Use `zero_division` parameter to control this behavior.\n",
      "\n",
      "/Users/shopee/opt/anaconda3/envs/TCC_PUC/lib/python3.8/site-packages/sklearn/metrics/_classification.py:1308: UndefinedMetricWarning:\n",
      "\n",
      "Precision is ill-defined and being set to 0.0 due to no predicted samples. Use `zero_division` parameter to control this behavior.\n",
      "\n",
      "/Users/shopee/opt/anaconda3/envs/TCC_PUC/lib/python3.8/site-packages/sklearn/metrics/_classification.py:1308: UndefinedMetricWarning:\n",
      "\n",
      "Precision is ill-defined and being set to 0.0 due to no predicted samples. Use `zero_division` parameter to control this behavior.\n",
      "\n",
      "/Users/shopee/opt/anaconda3/envs/TCC_PUC/lib/python3.8/site-packages/sklearn/metrics/_classification.py:1308: UndefinedMetricWarning:\n",
      "\n",
      "Precision is ill-defined and being set to 0.0 due to no predicted samples. Use `zero_division` parameter to control this behavior.\n",
      "\n",
      "/Users/shopee/opt/anaconda3/envs/TCC_PUC/lib/python3.8/site-packages/sklearn/metrics/_classification.py:1308: UndefinedMetricWarning:\n",
      "\n",
      "Precision is ill-defined and being set to 0.0 due to no predicted samples. Use `zero_division` parameter to control this behavior.\n",
      "\n",
      "/Users/shopee/opt/anaconda3/envs/TCC_PUC/lib/python3.8/site-packages/sklearn/metrics/_classification.py:1308: UndefinedMetricWarning:\n",
      "\n",
      "Precision is ill-defined and being set to 0.0 due to no predicted samples. Use `zero_division` parameter to control this behavior.\n",
      "\n",
      "/Users/shopee/opt/anaconda3/envs/TCC_PUC/lib/python3.8/site-packages/sklearn/metrics/_classification.py:1308: UndefinedMetricWarning:\n",
      "\n",
      "Precision is ill-defined and being set to 0.0 due to no predicted samples. Use `zero_division` parameter to control this behavior.\n",
      "\n",
      "/Users/shopee/opt/anaconda3/envs/TCC_PUC/lib/python3.8/site-packages/sklearn/metrics/_classification.py:1308: UndefinedMetricWarning:\n",
      "\n",
      "Precision is ill-defined and being set to 0.0 due to no predicted samples. Use `zero_division` parameter to control this behavior.\n",
      "\n",
      "/Users/shopee/opt/anaconda3/envs/TCC_PUC/lib/python3.8/site-packages/sklearn/metrics/_classification.py:1308: UndefinedMetricWarning:\n",
      "\n",
      "Precision is ill-defined and being set to 0.0 due to no predicted samples. Use `zero_division` parameter to control this behavior.\n",
      "\n",
      "/Users/shopee/opt/anaconda3/envs/TCC_PUC/lib/python3.8/site-packages/sklearn/metrics/_classification.py:1308: UndefinedMetricWarning:\n",
      "\n",
      "Precision is ill-defined and being set to 0.0 due to no predicted samples. Use `zero_division` parameter to control this behavior.\n",
      "\n",
      "/Users/shopee/opt/anaconda3/envs/TCC_PUC/lib/python3.8/site-packages/sklearn/metrics/_classification.py:1308: UndefinedMetricWarning:\n",
      "\n",
      "Precision is ill-defined and being set to 0.0 due to no predicted samples. Use `zero_division` parameter to control this behavior.\n",
      "\n",
      "/Users/shopee/opt/anaconda3/envs/TCC_PUC/lib/python3.8/site-packages/sklearn/metrics/_classification.py:1308: UndefinedMetricWarning:\n",
      "\n",
      "Precision is ill-defined and being set to 0.0 due to no predicted samples. Use `zero_division` parameter to control this behavior.\n",
      "\n",
      "/Users/shopee/opt/anaconda3/envs/TCC_PUC/lib/python3.8/site-packages/sklearn/metrics/_classification.py:1308: UndefinedMetricWarning:\n",
      "\n",
      "Precision is ill-defined and being set to 0.0 due to no predicted samples. Use `zero_division` parameter to control this behavior.\n",
      "\n",
      "/Users/shopee/opt/anaconda3/envs/TCC_PUC/lib/python3.8/site-packages/sklearn/metrics/_classification.py:1308: UndefinedMetricWarning:\n",
      "\n",
      "Precision is ill-defined and being set to 0.0 due to no predicted samples. Use `zero_division` parameter to control this behavior.\n",
      "\n",
      "/Users/shopee/opt/anaconda3/envs/TCC_PUC/lib/python3.8/site-packages/sklearn/metrics/_classification.py:1308: UndefinedMetricWarning:\n",
      "\n",
      "Precision is ill-defined and being set to 0.0 due to no predicted samples. Use `zero_division` parameter to control this behavior.\n",
      "\n",
      "/Users/shopee/opt/anaconda3/envs/TCC_PUC/lib/python3.8/site-packages/sklearn/metrics/_classification.py:1308: UndefinedMetricWarning:\n",
      "\n",
      "Precision is ill-defined and being set to 0.0 due to no predicted samples. Use `zero_division` parameter to control this behavior.\n",
      "\n",
      "/Users/shopee/opt/anaconda3/envs/TCC_PUC/lib/python3.8/site-packages/sklearn/metrics/_classification.py:1308: UndefinedMetricWarning:\n",
      "\n",
      "Precision is ill-defined and being set to 0.0 due to no predicted samples. Use `zero_division` parameter to control this behavior.\n",
      "\n",
      "/Users/shopee/opt/anaconda3/envs/TCC_PUC/lib/python3.8/site-packages/sklearn/metrics/_classification.py:1308: UndefinedMetricWarning:\n",
      "\n",
      "Precision is ill-defined and being set to 0.0 due to no predicted samples. Use `zero_division` parameter to control this behavior.\n",
      "\n",
      "/Users/shopee/opt/anaconda3/envs/TCC_PUC/lib/python3.8/site-packages/sklearn/metrics/_classification.py:1308: UndefinedMetricWarning:\n",
      "\n",
      "Precision is ill-defined and being set to 0.0 due to no predicted samples. Use `zero_division` parameter to control this behavior.\n",
      "\n",
      "/Users/shopee/opt/anaconda3/envs/TCC_PUC/lib/python3.8/site-packages/sklearn/metrics/_classification.py:1308: UndefinedMetricWarning:\n",
      "\n",
      "Precision is ill-defined and being set to 0.0 due to no predicted samples. Use `zero_division` parameter to control this behavior.\n",
      "\n",
      "/Users/shopee/opt/anaconda3/envs/TCC_PUC/lib/python3.8/site-packages/sklearn/metrics/_classification.py:1308: UndefinedMetricWarning:\n",
      "\n",
      "Precision is ill-defined and being set to 0.0 due to no predicted samples. Use `zero_division` parameter to control this behavior.\n",
      "\n",
      "/Users/shopee/opt/anaconda3/envs/TCC_PUC/lib/python3.8/site-packages/sklearn/metrics/_classification.py:1308: UndefinedMetricWarning:\n",
      "\n",
      "Precision is ill-defined and being set to 0.0 due to no predicted samples. Use `zero_division` parameter to control this behavior.\n",
      "\n",
      "/Users/shopee/opt/anaconda3/envs/TCC_PUC/lib/python3.8/site-packages/sklearn/metrics/_classification.py:1308: UndefinedMetricWarning:\n",
      "\n",
      "Precision is ill-defined and being set to 0.0 due to no predicted samples. Use `zero_division` parameter to control this behavior.\n",
      "\n",
      "/Users/shopee/opt/anaconda3/envs/TCC_PUC/lib/python3.8/site-packages/sklearn/metrics/_classification.py:1308: UndefinedMetricWarning:\n",
      "\n",
      "Precision is ill-defined and being set to 0.0 due to no predicted samples. Use `zero_division` parameter to control this behavior.\n",
      "\n",
      "/Users/shopee/opt/anaconda3/envs/TCC_PUC/lib/python3.8/site-packages/sklearn/metrics/_classification.py:1308: UndefinedMetricWarning:\n",
      "\n",
      "Precision is ill-defined and being set to 0.0 due to no predicted samples. Use `zero_division` parameter to control this behavior.\n",
      "\n"
     ]
    },
    {
     "name": "stdout",
     "output_type": "stream",
     "text": [
      "Ajuste feito\n"
     ]
    },
    {
     "name": "stderr",
     "output_type": "stream",
     "text": [
      "/Users/shopee/opt/anaconda3/envs/TCC_PUC/lib/python3.8/site-packages/sklearn/metrics/_classification.py:1308: UndefinedMetricWarning:\n",
      "\n",
      "Precision is ill-defined and being set to 0.0 due to no predicted samples. Use `zero_division` parameter to control this behavior.\n",
      "\n"
     ]
    }
   ],
   "source": [
    "modelo_final = modelos[\"RandomForest\"]\n",
    "\n",
    "n_estimators = range(10, 251, 30)\n",
    "max_features = list()\n",
    "max_features.append('auto')\n",
    "\n",
    "precision2_score = make_scorer(precision_score, labels=[2], average='macro')\n",
    "\n",
    "grid = GridSearchCV(\n",
    "        estimator=RandomForestClassifier(),\n",
    "        param_grid={\n",
    "            'n_estimators': n_estimators,\n",
    "            'max_features': max_features,\n",
    "            'random_state': [1],\n",
    "        },\n",
    "        scoring=precision2_score,\n",
    ")\n",
    "\n",
    "resultado_grid = grid.fit(X_treino, y_treino)\n",
    "print(\"Ajuste feito\")"
   ]
  },
  {
   "cell_type": "code",
   "execution_count": 50,
   "metadata": {},
   "outputs": [
    {
     "name": "stdout",
     "output_type": "stream",
     "text": [
      "RandomForest Tunado\n",
      "Reporte teste\n",
      "              precision    recall  f1-score   support\n",
      "\n",
      "           0       0.53      0.63      0.57       250\n",
      "           1       0.54      0.44      0.48       251\n",
      "\n",
      "    accuracy                           0.53       501\n",
      "   macro avg       0.53      0.53      0.53       501\n",
      "weighted avg       0.53      0.53      0.53       501\n",
      "\n"
     ]
    },
    {
     "data": {
      "image/png": "[encoded data removed]",
      "text/plain": [
       "<Figure size 432x288 with 2 Axes>"
      ]
     },
     "metadata": {
      "needs_background": "light"
     },
     "output_type": "display_data"
    },
    {
     "name": "stdout",
     "output_type": "stream",
     "text": [
      "##################################################\n"
     ]
    }
   ],
   "source": [
    "modelo_tunado = resultado_grid.best_estimator_\n",
    "previsoes = modelo_tunado.predict(X_teste)\n",
    "avaliar(y_teste, previsoes, \"RandomForest Tunado\")"
   ]
  }
 ],
 "metadata": {
  "interpreter": {
   "hash": "8ab34ce4145f682337f5fa161ec816727aecde41915875d0a837a5ffe57556a8"
  },
  "kernelspec": {
   "display_name": "Python 3.8.11 64-bit ('TCC_PUC': conda)",
   "name": "python3"
  },
  "language_info": {
   "codemirror_mode": {
    "name": "ipython",
    "version": 3
   },
   "file_extension": ".py",
   "mimetype": "text/x-python",
   "name": "python",
   "nbconvert_exporter": "python",
   "pygments_lexer": "ipython3",
   "version": "3.8.11"
  },
  "orig_nbformat": 4
 },
 "nbformat": 4,
 "nbformat_minor": 2
}
