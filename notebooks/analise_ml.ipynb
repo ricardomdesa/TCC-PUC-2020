{
 "cells": [
  {
   "cell_type": "markdown",
   "metadata": {},
   "source": [
    "# 5. Criação de Modelos de Machine Learning"
   ]
  },
  {
   "cell_type": "markdown",
   "metadata": {},
   "source": [
    "## Carregar dados tratados"
   ]
  },
  {
   "cell_type": "code",
   "execution_count": 34,
   "metadata": {},
   "outputs": [],
   "source": [
    "# ! pip install seaborn\n",
    "# ! pip install plotly\n",
    "# ! pip install statsmodels\n",
    "# ! pip install sklearn"
   ]
  },
  {
   "cell_type": "code",
   "execution_count": 35,
   "metadata": {},
   "outputs": [],
   "source": [
    "import pandas as pd\n",
    "import numpy as np\n",
    "\n",
    "import matplotlib.pyplot as plt\n",
    "import seaborn as sns\n",
    "\n",
    "from sklearn.model_selection import train_test_split\n",
    "\n",
    "from sklearn.preprocessing import StandardScaler\n",
    "\n",
    "from sklearn.metrics import classification_report, confusion_matrix\n",
    "\n",
    "from sklearn.ensemble import RandomForestClassifier\n",
    "from sklearn.tree import DecisionTreeClassifier\n",
    "from sklearn.linear_model import LogisticRegression\n",
    "\n",
    "from sklearn import metrics\n",
    "\n",
    "import joblib"
   ]
  },
  {
   "cell_type": "code",
   "execution_count": 36,
   "metadata": {},
   "outputs": [],
   "source": [
    "def carregar_joblib(file_name: str = \"../out/result_analise_desc.joblib\"):\n",
    "    df = joblib.load(file_name)\n",
    "    return df"
   ]
  },
  {
   "cell_type": "markdown",
   "metadata": {},
   "source": [
    "## Feature selection"
   ]
  },
  {
   "cell_type": "code",
   "execution_count": 37,
   "metadata": {},
   "outputs": [],
   "source": [
    "def ajustar_scaler(tabela_original):\n",
    "    scaler = StandardScaler()\n",
    "    tabela_auxiliar = tabela_original.drop(\"decisao\", axis=1)\n",
    "    \n",
    "    tabela_auxiliar = pd.DataFrame(scaler.fit_transform(tabela_auxiliar), tabela_auxiliar.index, tabela_auxiliar.columns)\n",
    "    tabela_auxiliar[\"decisao\"] = tabela_original[\"decisao\"]\n",
    "    \n",
    "    return tabela_auxiliar"
   ]
  },
  {
   "cell_type": "code",
   "execution_count": 38,
   "metadata": {},
   "outputs": [],
   "source": [
    "def split_dados(df):\n",
    "    X = df.drop([\"decisao\"], axis=1)\n",
    "    y = df[\"decisao\"]\n",
    "\n",
    "    X_treino, X_teste, y_treino, y_teste = train_test_split(X, y, test_size=0.2, random_state=42)\n",
    "\n",
    "    print(f\"\\n{len(X_treino)=} {len(X_teste)=} {len(y_treino)=} {len(y_teste)=}\\n\")\n",
    "\n",
    "    return X_treino, X_teste, y_treino, y_teste"
   ]
  },
  {
   "cell_type": "markdown",
   "metadata": {},
   "source": [
    "# ML modelos"
   ]
  },
  {
   "cell_type": "markdown",
   "metadata": {},
   "source": [
    "## Modelos a serem testados\n",
    "\n",
    "- AdaBoost\n",
    "- Gradient Boost\n",
    "- Rede Neural"
   ]
  },
  {
   "cell_type": "code",
   "execution_count": 39,
   "metadata": {},
   "outputs": [],
   "source": [
    "def definir_modelos_ml() -> dict:\n",
    "    modelos = {\n",
    "        \"DecisionTreeClassifier\": DecisionTreeClassifier(random_state=42),\n",
    "        \"RandomForest\": RandomForestClassifier(random_state=42),\n",
    "        \"LogisticRegression\": LogisticRegression(random_state=42),\n",
    "    }\n",
    "    print(f\"\\nModelos a serem comparados: {[v for v in modelos.keys()]}\\n\")\n",
    "    return modelos"
   ]
  },
  {
   "cell_type": "code",
   "execution_count": 40,
   "metadata": {},
   "outputs": [],
   "source": [
    "def treinar_modelos_ml(modelos, X_treino, X_teste, y_treino, y_teste):\n",
    "    modelo_acuracia = {}\n",
    "    for nome, modelo in modelos.items():\n",
    "        modelo.fit(X_treino, y_treino)\n",
    "        previsoes = modelo.predict(X_teste)\n",
    "        \n",
    "        modelo_acuracia[nome] = avaliar(y_teste, previsoes, f\"{nome} Teste\")\n",
    "        modelos[nome] = modelo\n",
    "    \n",
    "    return modelo_acuracia"
   ]
  },
  {
   "cell_type": "code",
   "execution_count": 41,
   "metadata": {},
   "outputs": [],
   "source": [
    "def plot_confusion_matrix_heat(cf_matrix):\n",
    "    cf_matrix.index.name = 'Atual'\n",
    "    cf_matrix.columns.name = 'Predito'\n",
    "    \n",
    "    cf_nd_array = cf_matrix.to_numpy()\n",
    "    cf_flatten = cf_nd_array.flatten()\n",
    "\n",
    "    group_names = [\"TN\", \"FP\", \"FN\", \"TP\"]\n",
    "    group_counts = [\"{0:0.0f}\".format(value) for value in\n",
    "                    cf_flatten]\n",
    "    group_percentages = [\"{0:.2%}\".format(value) for value in\n",
    "                         cf_flatten / np.sum(cf_nd_array)]\n",
    "    labels = [f\"{v1}\\n{v2}\\n{v3}\" for v1, v2, v3 in\n",
    "              zip(group_names, group_counts, group_percentages)]\n",
    "    labels = np.asarray(labels).reshape(2, 2)\n",
    "    print(cf_matrix.shape)\n",
    "    sns.heatmap(cf_matrix, annot=labels, fmt=\"\", cmap='Blues')\n"
   ]
  },
  {
   "cell_type": "code",
   "execution_count": 42,
   "metadata": {},
   "outputs": [],
   "source": [
    "def avaliar(y_teste, y_pred, nome_modelo):\n",
    "    print(nome_modelo)\n",
    "    \n",
    "    report = classification_report(y_teste, y_pred, target_names=[\"Vender\", \"Comprar\"])\n",
    "    print(report)\n",
    "    \n",
    "    cf_matrix = pd.DataFrame(confusion_matrix(y_teste, y_pred), \n",
    "                             index=[\"Vender\", \"Comprar\"], \n",
    "                             columns=[\"Vender\", \"Comprar\"])\n",
    "    \n",
    "    plot_confusion_matrix_heat(cf_matrix)\n",
    "    plt.show()\n",
    "    \n",
    "    print(\"Precision:\", metrics.precision_score(y_teste, y_pred))\n",
    "    print(\"#\" * 50)\n",
    "    return metrics.precision_score(y_teste, y_pred)"
   ]
  },
  {
   "cell_type": "code",
   "execution_count": 43,
   "metadata": {},
   "outputs": [],
   "source": [
    "def modelos_com_melhores_scores(modelos : dict):\n",
    "    sort_orders = sorted(modelos.items(), key=lambda x: x[1], reverse=True)\n",
    "    print(f\"Modelos x Precision: {sort_orders[:3]}\")"
   ]
  },
  {
   "cell_type": "markdown",
   "metadata": {},
   "source": [
    "# Execucao"
   ]
  },
  {
   "cell_type": "code",
   "execution_count": 44,
   "metadata": {},
   "outputs": [
    {
     "name": "stdout",
     "output_type": "stream",
     "text": [
      "Carregado df com 1852 linhas e 6 colunas.\n",
      "\n",
      "Colunas carregadas: ['outros_ativos_circ', 'receita_liq', 'despesas_gerais', 'resultado_antes_trib', 'lucro_op', 'decisao']\n",
      "\n",
      "\n",
      "\n",
      "len(X_treino)=1481 len(X_teste)=371 len(y_treino)=1481 len(y_teste)=371\n",
      "\n",
      "#-#-#-#-#-#-#-#-#-#-#-#-#-#-#-#-#-#-#-#-#-#-#-#-#-#-#-#-#-#-#-#-#-#-#-#-#-#-#-#-\n",
      "\n",
      "Modelos a serem comparados: ['DecisionTreeClassifier', 'RandomForest', 'LogisticRegression']\n",
      "\n",
      "DecisionTreeClassifier Teste\n",
      "              precision    recall  f1-score   support\n",
      "\n",
      "      Vender       0.49      0.50      0.50       186\n",
      "     Comprar       0.49      0.48      0.49       185\n",
      "\n",
      "    accuracy                           0.49       371\n",
      "   macro avg       0.49      0.49      0.49       371\n",
      "weighted avg       0.49      0.49      0.49       371\n",
      "\n",
      "(2, 2)\n"
     ]
    },
    {
     "data": {
      "image/png": "[encoded data removed]",
      "text/plain": [
       "<Figure size 432x288 with 2 Axes>"
      ]
     },
     "metadata": {
      "needs_background": "light"
     },
     "output_type": "display_data"
    },
    {
     "name": "stdout",
     "output_type": "stream",
     "text": [
      "Precision: 0.489010989010989\n",
      "##################################################\n",
      "RandomForest Teste\n",
      "              precision    recall  f1-score   support\n",
      "\n",
      "      Vender       0.54      0.51      0.52       186\n",
      "     Comprar       0.53      0.56      0.54       185\n",
      "\n",
      "    accuracy                           0.53       371\n",
      "   macro avg       0.53      0.53      0.53       371\n",
      "weighted avg       0.53      0.53      0.53       371\n",
      "\n",
      "(2, 2)\n"
     ]
    },
    {
     "data": {
      "image/png": "[encoded data removed]",
      "text/plain": [
       "<Figure size 432x288 with 2 Axes>"
      ]
     },
     "metadata": {
      "needs_background": "light"
     },
     "output_type": "display_data"
    },
    {
     "name": "stdout",
     "output_type": "stream",
     "text": [
      "Precision: 0.5309278350515464\n",
      "##################################################\n",
      "LogisticRegression Teste\n",
      "              precision    recall  f1-score   support\n",
      "\n",
      "      Vender       0.57      0.57      0.57       186\n",
      "     Comprar       0.57      0.57      0.57       185\n",
      "\n",
      "    accuracy                           0.57       371\n",
      "   macro avg       0.57      0.57      0.57       371\n",
      "weighted avg       0.57      0.57      0.57       371\n",
      "\n",
      "(2, 2)\n"
     ]
    },
    {
     "data": {
      "image/png": "[encoded data removed]",
      "text/plain": [
       "<Figure size 432x288 with 2 Axes>"
      ]
     },
     "metadata": {
      "needs_background": "light"
     },
     "output_type": "display_data"
    },
    {
     "name": "stdout",
     "output_type": "stream",
     "text": [
      "Precision: 0.5698924731182796\n",
      "##################################################\n",
      "Modelos x Recall: [('LogisticRegression', 0.5698924731182796), ('RandomForest', 0.5309278350515464), ('DecisionTreeClassifier', 0.489010989010989)]\n"
     ]
    }
   ],
   "source": [
    "def main():\n",
    "\n",
    "    df = carregar_joblib()\n",
    "\n",
    "    print(f\"Carregado df com {df.shape[0]} linhas e {df.shape[1]} colunas.\\n\")\n",
    "    print(f\"Colunas carregadas: {[col for col in df.columns]}\\n\\n\")\n",
    "\n",
    "    # split database 25% test 75% train\n",
    "    X_treino, X_teste, y_treino, y_teste = split_dados(df)\n",
    "\n",
    "    print(\"#-\" * 40)\n",
    "\n",
    "    modelos = definir_modelos_ml()\n",
    "\n",
    "    modelos_acc = treinar_modelos_ml(modelos, X_treino.values, X_teste.values, y_treino.values, y_teste.values)\n",
    "\n",
    "    modelos_com_melhores_scores(modelos_acc)\n",
    "\n",
    "    return df\n",
    "\n",
    "df = main()"
   ]
  },
  {
   "cell_type": "markdown",
   "metadata": {},
   "source": [
    "## 3 Melhores modelos - precision\n",
    "\n",
    "- AdaBoost - 60,11%\n",
    "- RandomForest - 59,84%\n",
    "- GradientBoost - 59,25%\n"
   ]
  }
 ],
 "metadata": {
  "interpreter": {
   "hash": "8ab34ce4145f682337f5fa161ec816727aecde41915875d0a837a5ffe57556a8"
  },
  "kernelspec": {
   "display_name": "Python 3",
   "language": "python",
   "name": "python3"
  },
  "language_info": {
   "codemirror_mode": {
    "name": "ipython",
    "version": 3
   },
   "file_extension": ".py",
   "mimetype": "text/x-python",
   "name": "python",
   "nbconvert_exporter": "python",
   "pygments_lexer": "ipython3",
   "version": "3.8.11"
  }
 },
 "nbformat": 4,
 "nbformat_minor": 2
}
