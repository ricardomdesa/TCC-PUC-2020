{
 "cells": [
  {
   "cell_type": "markdown",
   "metadata": {},
   "source": [
    "# 4. Análise e Exploração dos Dados"
   ]
  },
  {
   "cell_type": "markdown",
   "metadata": {},
   "source": [
    "\n",
    "[ml map sklearn](https://scikit-learn.org/stable/tutorial/machine_learning_map/)"
   ]
  },
  {
   "cell_type": "code",
   "execution_count": 11,
   "metadata": {
    "scrolled": true
   },
   "outputs": [
    {
     "name": "stdout",
     "output_type": "stream",
     "text": [
      "Requirement already satisfied: plotly in /Users/shopee/opt/anaconda3/lib/python3.8/site-packages (5.5.0)\n",
      "Requirement already satisfied: six in /Users/shopee/opt/anaconda3/lib/python3.8/site-packages (from plotly) (1.15.0)\n",
      "Requirement already satisfied: tenacity>=6.2.0 in /Users/shopee/opt/anaconda3/lib/python3.8/site-packages (from plotly) (8.0.1)\n"
     ]
    }
   ],
   "source": [
    "# ! pip install seaborn\n",
    "! pip install plotly\n",
    "# ! pip install statsmodels\n",
    "# ! pip install sklearn"
   ]
  },
  {
   "cell_type": "markdown",
   "metadata": {},
   "source": [
    "## importar bibiliotecas"
   ]
  },
  {
   "cell_type": "code",
   "execution_count": 12,
   "metadata": {},
   "outputs": [],
   "source": [
    "import pandas as pd\n",
    "\n",
    "import matplotlib.pyplot as plt\n",
    "import plotly.express as px\n",
    "import seaborn as sns\n",
    "\n",
    "import statsmodels.api as sm\n",
    "import statsmodels.formula.api as smf\n",
    "\n",
    "\n",
    "from sklearn.feature_selection import SelectKBest, SelectPercentile, f_classif, f_regression\n",
    "\n",
    "import joblib"
   ]
  },
  {
   "cell_type": "markdown",
   "metadata": {},
   "source": [
    "## Carregar dados tratados"
   ]
  },
  {
   "cell_type": "code",
   "execution_count": 13,
   "metadata": {},
   "outputs": [],
   "source": [
    "def carregar_joblib():\n",
    "    df = joblib.load(\"../out/trat_target_col_ibov.joblib\")\n",
    "    return df"
   ]
  },
  {
   "cell_type": "markdown",
   "metadata": {},
   "source": [
    "### Histograma Comprar e vender col decisao"
   ]
  },
  {
   "cell_type": "code",
   "execution_count": 27,
   "metadata": {},
   "outputs": [],
   "source": [
    "def print_histograma_comprar_vender(df):\n",
    "    print(\"\\nHistograma Comprar e Vender\\n\")\n",
    "    df = df.copy()\n",
    "    df['decisao'].replace({0: \"Vender\", 1: \"Comprar\"}, inplace=True)\n",
    "    # Imprime a porcentagem de cada\n",
    "    print(df['decisao'].value_counts(normalize=True).map(\"{:.1%}\".format))\n",
    "\n",
    "    fig = px.histogram(df, x=\"decisao\", color=\"decisao\", width=600, height=400)\n",
    "    fig.update_layout(bargap=0.5)\n",
    "    fig.show()\n"
   ]
  },
  {
   "cell_type": "markdown",
   "metadata": {},
   "source": [
    "### Correlações"
   ]
  },
  {
   "cell_type": "code",
   "execution_count": 15,
   "metadata": {},
   "outputs": [],
   "source": [
    "def print_correlacoes(df):\n",
    "\n",
    "    fig, ax = plt.subplots(figsize=(15, 10))\n",
    "    sns.heatmap(df.corr(), cmap=\"Wistia\", annot=True, fmt = '.2f', ax=ax)\n",
    "    plt.show()"
   ]
  },
  {
   "cell_type": "markdown",
   "metadata": {},
   "source": [
    "## P value"
   ]
  },
  {
   "cell_type": "code",
   "execution_count": 16,
   "metadata": {},
   "outputs": [],
   "source": [
    "def print_p_value(df):\n",
    "    all_col = \" + \".join(df.drop(\"decisao\", axis=1).columns)\n",
    "    model = smf.glm(formula=\"decisao ~ \" + all_col, data=df,\n",
    "                    family = sm.families.Binomial()).fit()\n",
    "\n",
    "    print(model.summary()) "
   ]
  },
  {
   "cell_type": "markdown",
   "metadata": {},
   "source": [
    "## Feature selection"
   ]
  },
  {
   "cell_type": "code",
   "execution_count": 17,
   "metadata": {},
   "outputs": [],
   "source": [
    "def feat_sel_select_k_best(df):\n",
    "    print(\"\\nFeature selection select k best\\n\")\n",
    "\n",
    "    k = 6  # quantidade de variaveis a serem selecionadas\n",
    "    \n",
    "    X = df.drop(\"decisao\", axis=1)\n",
    "    y = df[\"decisao\"]\n",
    "\n",
    "    select = SelectKBest(score_func=f_classif, k=k)\n",
    "    \n",
    "    select.fit(X, y)\n",
    "\n",
    "    filter = select.get_support()\n",
    "    \n",
    "    print(f\"\\n{k} melhores variaveis:\")\n",
    "    print(f\"{[col for col in X.columns[filter]]} \\n\")\n",
    "    \n",
    "    return list(X.columns[filter])\n"
   ]
  },
  {
   "cell_type": "code",
   "execution_count": 18,
   "metadata": {},
   "outputs": [],
   "source": [
    "def remover_variaveis_ja_explicadas(df, manter_variaveis):\n",
    "    to_remove = set(manter_variaveis) ^ set(df.columns)\n",
    "    to_remove.remove('decisao')\n",
    "    print(\"Colunas a remover do df original: \", to_remove)\n",
    "    df = df.drop(to_remove, axis=1)\n",
    "\n",
    "    return df"
   ]
  },
  {
   "cell_type": "markdown",
   "metadata": {},
   "source": [
    "## Salvar resultado para proxima estapa"
   ]
  },
  {
   "cell_type": "code",
   "execution_count": 19,
   "metadata": {},
   "outputs": [],
   "source": [
    "def salvar_df_in_joblib(df, file_name: str = \"../out/result_analise_desc.joblib\"):\n",
    "\n",
    "    joblib.dump(df, file_name)\n",
    "\n",
    "    print(\"arquivo joblib de df analise descritiva criado com sucesso\")\n"
   ]
  },
  {
   "cell_type": "markdown",
   "metadata": {},
   "source": [
    "# Execução"
   ]
  },
  {
   "cell_type": "code",
   "execution_count": 28,
   "metadata": {
    "scrolled": false
   },
   "outputs": [
    {
     "name": "stdout",
     "output_type": "stream",
     "text": [
      "Carregado df com 1852 linhas e 21 colunas.\n",
      "\n",
      "Colunas carregadas: ['ativo_total', 'ativo_circ', 'caixa_equiv_caixa', 'outros_ativos_circ', 'ativo_permanente', 'outros_ativos_nao_circ', 'imobilizado', 'intangivel', 'passivo_total', 'passivo_circ', 'passivo_nao_circ', 'patrimonio_liq', 'capital_social', 'receita_liq', 'custo_bens_servicos', 'resultado_bruto', 'despesas_gerais', 'financeiras', 'resultado_antes_trib', 'lucro_op', 'decisao']\n",
      "\n",
      "\n",
      "\n",
      "Histograma Comprar e Vender\n",
      "\n",
      "Comprar    50.2%\n",
      "Vender     49.8%\n",
      "Name: decisao, dtype: object\n"
     ]
    },
    {
     "data": {
      "application/vnd.plotly.v1+json": {
       "config": {
        "plotlyServerURL": "https://plot.ly"
       },
       "data": [
        {
         "alignmentgroup": "True",
         "bingroup": "x",
         "hovertemplate": "decisao=%{x}<br>count=%{y}<extra></extra>",
         "legendgroup": "Comprar",
         "marker": {
          "color": "#636efa",
          "pattern": {
           "shape": ""
          }
         },
         "name": "Comprar",
         "offsetgroup": "Comprar",
         "orientation": "v",
         "showlegend": true,
         "type": "histogram",
         "x": [
          "Comprar",
          "Comprar",
          "Comprar",
          "Comprar",
          "Comprar",
          "Comprar",
          "Comprar",
          "Comprar",
          "Comprar",
          "Comprar",
          "Comprar",
          "Comprar",
          "Comprar",
          "Comprar",
          "Comprar",
          "Comprar",
          "Comprar",
          "Comprar",
          "Comprar",
          "Comprar",
          "Comprar",
          "Comprar",
          "Comprar",
          "Comprar",
          "Comprar",
          "Comprar",
          "Comprar",
          "Comprar",
          "Comprar",
          "Comprar",
          "Comprar",
          "Comprar",
          "Comprar",
          "Comprar",
          "Comprar",
          "Comprar",
          "Comprar",
          "Comprar",
          "Comprar",
          "Comprar",
          "Comprar",
          "Comprar",
          "Comprar",
          "Comprar",
          "Comprar",
          "Comprar",
          "Comprar",
          "Comprar",
          "Comprar",
          "Comprar",
          "Comprar",
          "Comprar",
          "Comprar",
          "Comprar",
          "Comprar",
          "Comprar",
          "Comprar",
          "Comprar",
          "Comprar",
          "Comprar",
          "Comprar",
          "Comprar",
          "Comprar",
          "Comprar",
          "Comprar",
          "Comprar",
          "Comprar",
          "Comprar",
          "Comprar",
          "Comprar",
          "Comprar",
          "Comprar",
          "Comprar",
          "Comprar",
          "Comprar",
          "Comprar",
          "Comprar",
          "Comprar",
          "Comprar",
          "Comprar",
          "Comprar",
          "Comprar",
          "Comprar",
          "Comprar",
          "Comprar",
          "Comprar",
          "Comprar",
          "Comprar",
          "Comprar",
          "Comprar",
          "Comprar",
          "Comprar",
          "Comprar",
          "Comprar",
          "Comprar",
          "Comprar",
          "Comprar",
          "Comprar",
          "Comprar",
          "Comprar",
          "Comprar",
          "Comprar",
          "Comprar",
          "Comprar",
          "Comprar",
          "Comprar",
          "Comprar",
          "Comprar",
          "Comprar",
          "Comprar",
          "Comprar",
          "Comprar",
          "Comprar",
          "Comprar",
          "Comprar",
          "Comprar",
          "Comprar",
          "Comprar",
          "Comprar",
          "Comprar",
          "Comprar",
          "Comprar",
          "Comprar",
          "Comprar",
          "Comprar",
          "Comprar",
          "Comprar",
          "Comprar",
          "Comprar",
          "Comprar",
          "Comprar",
          "Comprar",
          "Comprar",
          "Comprar",
          "Comprar",
          "Comprar",
          "Comprar",
          "Comprar",
          "Comprar",
          "Comprar",
          "Comprar",
          "Comprar",
          "Comprar",
          "Comprar",
          "Comprar",
          "Comprar",
          "Comprar",
          "Comprar",
          "Comprar",
          "Comprar",
          "Comprar",
          "Comprar",
          "Comprar",
          "Comprar",
          "Comprar",
          "Comprar",
          "Comprar",
          "Comprar",
          "Comprar",
          "Comprar",
          "Comprar",
          "Comprar",
          "Comprar",
          "Comprar",
          "Comprar",
          "Comprar",
          "Comprar",
          "Comprar",
          "Comprar",
          "Comprar",
          "Comprar",
          "Comprar",
          "Comprar",
          "Comprar",
          "Comprar",
          "Comprar",
          "Comprar",
          "Comprar",
          "Comprar",
          "Comprar",
          "Comprar",
          "Comprar",
          "Comprar",
          "Comprar",
          "Comprar",
          "Comprar",
          "Comprar",
          "Comprar",
          "Comprar",
          "Comprar",
          "Comprar",
          "Comprar",
          "Comprar",
          "Comprar",
          "Comprar",
          "Comprar",
          "Comprar",
          "Comprar",
          "Comprar",
          "Comprar",
          "Comprar",
          "Comprar",
          "Comprar",
          "Comprar",
          "Comprar",
          "Comprar",
          "Comprar",
          "Comprar",
          "Comprar",
          "Comprar",
          "Comprar",
          "Comprar",
          "Comprar",
          "Comprar",
          "Comprar",
          "Comprar",
          "Comprar",
          "Comprar",
          "Comprar",
          "Comprar",
          "Comprar",
          "Comprar",
          "Comprar",
          "Comprar",
          "Comprar",
          "Comprar",
          "Comprar",
          "Comprar",
          "Comprar",
          "Comprar",
          "Comprar",
          "Comprar",
          "Comprar",
          "Comprar",
          "Comprar",
          "Comprar",
          "Comprar",
          "Comprar",
          "Comprar",
          "Comprar",
          "Comprar",
          "Comprar",
          "Comprar",
          "Comprar",
          "Comprar",
          "Comprar",
          "Comprar",
          "Comprar",
          "Comprar",
          "Comprar",
          "Comprar",
          "Comprar",
          "Comprar",
          "Comprar",
          "Comprar",
          "Comprar",
          "Comprar",
          "Comprar",
          "Comprar",
          "Comprar",
          "Comprar",
          "Comprar",
          "Comprar",
          "Comprar",
          "Comprar",
          "Comprar",
          "Comprar",
          "Comprar",
          "Comprar",
          "Comprar",
          "Comprar",
          "Comprar",
          "Comprar",
          "Comprar",
          "Comprar",
          "Comprar",
          "Comprar",
          "Comprar",
          "Comprar",
          "Comprar",
          "Comprar",
          "Comprar",
          "Comprar",
          "Comprar",
          "Comprar",
          "Comprar",
          "Comprar",
          "Comprar",
          "Comprar",
          "Comprar",
          "Comprar",
          "Comprar",
          "Comprar",
          "Comprar",
          "Comprar",
          "Comprar",
          "Comprar",
          "Comprar",
          "Comprar",
          "Comprar",
          "Comprar",
          "Comprar",
          "Comprar",
          "Comprar",
          "Comprar",
          "Comprar",
          "Comprar",
          "Comprar",
          "Comprar",
          "Comprar",
          "Comprar",
          "Comprar",
          "Comprar",
          "Comprar",
          "Comprar",
          "Comprar",
          "Comprar",
          "Comprar",
          "Comprar",
          "Comprar",
          "Comprar",
          "Comprar",
          "Comprar",
          "Comprar",
          "Comprar",
          "Comprar",
          "Comprar",
          "Comprar",
          "Comprar",
          "Comprar",
          "Comprar",
          "Comprar",
          "Comprar",
          "Comprar",
          "Comprar",
          "Comprar",
          "Comprar",
          "Comprar",
          "Comprar",
          "Comprar",
          "Comprar",
          "Comprar",
          "Comprar",
          "Comprar",
          "Comprar",
          "Comprar",
          "Comprar",
          "Comprar",
          "Comprar",
          "Comprar",
          "Comprar",
          "Comprar",
          "Comprar",
          "Comprar",
          "Comprar",
          "Comprar",
          "Comprar",
          "Comprar",
          "Comprar",
          "Comprar",
          "Comprar",
          "Comprar",
          "Comprar",
          "Comprar",
          "Comprar",
          "Comprar",
          "Comprar",
          "Comprar",
          "Comprar",
          "Comprar",
          "Comprar",
          "Comprar",
          "Comprar",
          "Comprar",
          "Comprar",
          "Comprar",
          "Comprar",
          "Comprar",
          "Comprar",
          "Comprar",
          "Comprar",
          "Comprar",
          "Comprar",
          "Comprar",
          "Comprar",
          "Comprar",
          "Comprar",
          "Comprar",
          "Comprar",
          "Comprar",
          "Comprar",
          "Comprar",
          "Comprar",
          "Comprar",
          "Comprar",
          "Comprar",
          "Comprar",
          "Comprar",
          "Comprar",
          "Comprar",
          "Comprar",
          "Comprar",
          "Comprar",
          "Comprar",
          "Comprar",
          "Comprar",
          "Comprar",
          "Comprar",
          "Comprar",
          "Comprar",
          "Comprar",
          "Comprar",
          "Comprar",
          "Comprar",
          "Comprar",
          "Comprar",
          "Comprar",
          "Comprar",
          "Comprar",
          "Comprar",
          "Comprar",
          "Comprar",
          "Comprar",
          "Comprar",
          "Comprar",
          "Comprar",
          "Comprar",
          "Comprar",
          "Comprar",
          "Comprar",
          "Comprar",
          "Comprar",
          "Comprar",
          "Comprar",
          "Comprar",
          "Comprar",
          "Comprar",
          "Comprar",
          "Comprar",
          "Comprar",
          "Comprar",
          "Comprar",
          "Comprar",
          "Comprar",
          "Comprar",
          "Comprar",
          "Comprar",
          "Comprar",
          "Comprar",
          "Comprar",
          "Comprar",
          "Comprar",
          "Comprar",
          "Comprar",
          "Comprar",
          "Comprar",
          "Comprar",
          "Comprar",
          "Comprar",
          "Comprar",
          "Comprar",
          "Comprar",
          "Comprar",
          "Comprar",
          "Comprar",
          "Comprar",
          "Comprar",
          "Comprar",
          "Comprar",
          "Comprar",
          "Comprar",
          "Comprar",
          "Comprar",
          "Comprar",
          "Comprar",
          "Comprar",
          "Comprar",
          "Comprar",
          "Comprar",
          "Comprar",
          "Comprar",
          "Comprar",
          "Comprar",
          "Comprar",
          "Comprar",
          "Comprar",
          "Comprar",
          "Comprar",
          "Comprar",
          "Comprar",
          "Comprar",
          "Comprar",
          "Comprar",
          "Comprar",
          "Comprar",
          "Comprar",
          "Comprar",
          "Comprar",
          "Comprar",
          "Comprar",
          "Comprar",
          "Comprar",
          "Comprar",
          "Comprar",
          "Comprar",
          "Comprar",
          "Comprar",
          "Comprar",
          "Comprar",
          "Comprar",
          "Comprar",
          "Comprar",
          "Comprar",
          "Comprar",
          "Comprar",
          "Comprar",
          "Comprar",
          "Comprar",
          "Comprar",
          "Comprar",
          "Comprar",
          "Comprar",
          "Comprar",
          "Comprar",
          "Comprar",
          "Comprar",
          "Comprar",
          "Comprar",
          "Comprar",
          "Comprar",
          "Comprar",
          "Comprar",
          "Comprar",
          "Comprar",
          "Comprar",
          "Comprar",
          "Comprar",
          "Comprar",
          "Comprar",
          "Comprar",
          "Comprar",
          "Comprar",
          "Comprar",
          "Comprar",
          "Comprar",
          "Comprar",
          "Comprar",
          "Comprar",
          "Comprar",
          "Comprar",
          "Comprar",
          "Comprar",
          "Comprar",
          "Comprar",
          "Comprar",
          "Comprar",
          "Comprar",
          "Comprar",
          "Comprar",
          "Comprar",
          "Comprar",
          "Comprar",
          "Comprar",
          "Comprar",
          "Comprar",
          "Comprar",
          "Comprar",
          "Comprar",
          "Comprar",
          "Comprar",
          "Comprar",
          "Comprar",
          "Comprar",
          "Comprar",
          "Comprar",
          "Comprar",
          "Comprar",
          "Comprar",
          "Comprar",
          "Comprar",
          "Comprar",
          "Comprar",
          "Comprar",
          "Comprar",
          "Comprar",
          "Comprar",
          "Comprar",
          "Comprar",
          "Comprar",
          "Comprar",
          "Comprar",
          "Comprar",
          "Comprar",
          "Comprar",
          "Comprar",
          "Comprar",
          "Comprar",
          "Comprar",
          "Comprar",
          "Comprar",
          "Comprar",
          "Comprar",
          "Comprar",
          "Comprar",
          "Comprar",
          "Comprar",
          "Comprar",
          "Comprar",
          "Comprar",
          "Comprar",
          "Comprar",
          "Comprar",
          "Comprar",
          "Comprar",
          "Comprar",
          "Comprar",
          "Comprar",
          "Comprar",
          "Comprar",
          "Comprar",
          "Comprar",
          "Comprar",
          "Comprar",
          "Comprar",
          "Comprar",
          "Comprar",
          "Comprar",
          "Comprar",
          "Comprar",
          "Comprar",
          "Comprar",
          "Comprar",
          "Comprar",
          "Comprar",
          "Comprar",
          "Comprar",
          "Comprar",
          "Comprar",
          "Comprar",
          "Comprar",
          "Comprar",
          "Comprar",
          "Comprar",
          "Comprar",
          "Comprar",
          "Comprar",
          "Comprar",
          "Comprar",
          "Comprar",
          "Comprar",
          "Comprar",
          "Comprar",
          "Comprar",
          "Comprar",
          "Comprar",
          "Comprar",
          "Comprar",
          "Comprar",
          "Comprar",
          "Comprar",
          "Comprar",
          "Comprar",
          "Comprar",
          "Comprar",
          "Comprar",
          "Comprar",
          "Comprar",
          "Comprar",
          "Comprar",
          "Comprar",
          "Comprar",
          "Comprar",
          "Comprar",
          "Comprar",
          "Comprar",
          "Comprar",
          "Comprar",
          "Comprar",
          "Comprar",
          "Comprar",
          "Comprar",
          "Comprar",
          "Comprar",
          "Comprar",
          "Comprar",
          "Comprar",
          "Comprar",
          "Comprar",
          "Comprar",
          "Comprar",
          "Comprar",
          "Comprar",
          "Comprar",
          "Comprar",
          "Comprar",
          "Comprar",
          "Comprar",
          "Comprar",
          "Comprar",
          "Comprar",
          "Comprar",
          "Comprar",
          "Comprar",
          "Comprar",
          "Comprar",
          "Comprar",
          "Comprar",
          "Comprar",
          "Comprar",
          "Comprar",
          "Comprar",
          "Comprar",
          "Comprar",
          "Comprar",
          "Comprar",
          "Comprar",
          "Comprar",
          "Comprar",
          "Comprar",
          "Comprar",
          "Comprar",
          "Comprar",
          "Comprar",
          "Comprar",
          "Comprar",
          "Comprar",
          "Comprar",
          "Comprar",
          "Comprar",
          "Comprar",
          "Comprar",
          "Comprar",
          "Comprar",
          "Comprar",
          "Comprar",
          "Comprar",
          "Comprar",
          "Comprar",
          "Comprar",
          "Comprar",
          "Comprar",
          "Comprar",
          "Comprar",
          "Comprar",
          "Comprar",
          "Comprar",
          "Comprar",
          "Comprar",
          "Comprar",
          "Comprar",
          "Comprar",
          "Comprar",
          "Comprar",
          "Comprar",
          "Comprar",
          "Comprar",
          "Comprar",
          "Comprar",
          "Comprar",
          "Comprar",
          "Comprar",
          "Comprar",
          "Comprar",
          "Comprar",
          "Comprar",
          "Comprar",
          "Comprar",
          "Comprar",
          "Comprar",
          "Comprar",
          "Comprar",
          "Comprar",
          "Comprar",
          "Comprar",
          "Comprar",
          "Comprar",
          "Comprar",
          "Comprar",
          "Comprar",
          "Comprar",
          "Comprar",
          "Comprar",
          "Comprar",
          "Comprar",
          "Comprar",
          "Comprar",
          "Comprar",
          "Comprar",
          "Comprar",
          "Comprar",
          "Comprar",
          "Comprar",
          "Comprar",
          "Comprar",
          "Comprar",
          "Comprar",
          "Comprar",
          "Comprar",
          "Comprar",
          "Comprar",
          "Comprar",
          "Comprar",
          "Comprar",
          "Comprar",
          "Comprar",
          "Comprar",
          "Comprar",
          "Comprar",
          "Comprar",
          "Comprar",
          "Comprar",
          "Comprar",
          "Comprar",
          "Comprar",
          "Comprar",
          "Comprar",
          "Comprar",
          "Comprar",
          "Comprar",
          "Comprar",
          "Comprar",
          "Comprar",
          "Comprar",
          "Comprar",
          "Comprar",
          "Comprar",
          "Comprar",
          "Comprar",
          "Comprar",
          "Comprar",
          "Comprar",
          "Comprar",
          "Comprar",
          "Comprar",
          "Comprar",
          "Comprar",
          "Comprar",
          "Comprar",
          "Comprar",
          "Comprar",
          "Comprar",
          "Comprar",
          "Comprar",
          "Comprar",
          "Comprar",
          "Comprar",
          "Comprar",
          "Comprar",
          "Comprar",
          "Comprar",
          "Comprar",
          "Comprar",
          "Comprar",
          "Comprar",
          "Comprar",
          "Comprar",
          "Comprar",
          "Comprar",
          "Comprar",
          "Comprar",
          "Comprar",
          "Comprar",
          "Comprar",
          "Comprar",
          "Comprar",
          "Comprar",
          "Comprar",
          "Comprar",
          "Comprar",
          "Comprar",
          "Comprar",
          "Comprar",
          "Comprar",
          "Comprar",
          "Comprar",
          "Comprar",
          "Comprar",
          "Comprar",
          "Comprar",
          "Comprar",
          "Comprar",
          "Comprar",
          "Comprar",
          "Comprar",
          "Comprar",
          "Comprar",
          "Comprar",
          "Comprar",
          "Comprar",
          "Comprar",
          "Comprar",
          "Comprar",
          "Comprar",
          "Comprar",
          "Comprar",
          "Comprar",
          "Comprar",
          "Comprar",
          "Comprar",
          "Comprar",
          "Comprar",
          "Comprar",
          "Comprar",
          "Comprar",
          "Comprar",
          "Comprar",
          "Comprar",
          "Comprar",
          "Comprar",
          "Comprar",
          "Comprar",
          "Comprar",
          "Comprar",
          "Comprar",
          "Comprar",
          "Comprar",
          "Comprar",
          "Comprar",
          "Comprar",
          "Comprar",
          "Comprar",
          "Comprar",
          "Comprar",
          "Comprar",
          "Comprar",
          "Comprar",
          "Comprar",
          "Comprar",
          "Comprar"
         ],
         "xaxis": "x",
         "yaxis": "y"
        },
        {
         "alignmentgroup": "True",
         "bingroup": "x",
         "hovertemplate": "decisao=%{x}<br>count=%{y}<extra></extra>",
         "legendgroup": "Vender",
         "marker": {
          "color": "#EF553B",
          "pattern": {
           "shape": ""
          }
         },
         "name": "Vender",
         "offsetgroup": "Vender",
         "orientation": "v",
         "showlegend": true,
         "type": "histogram",
         "x": [
          "Vender",
          "Vender",
          "Vender",
          "Vender",
          "Vender",
          "Vender",
          "Vender",
          "Vender",
          "Vender",
          "Vender",
          "Vender",
          "Vender",
          "Vender",
          "Vender",
          "Vender",
          "Vender",
          "Vender",
          "Vender",
          "Vender",
          "Vender",
          "Vender",
          "Vender",
          "Vender",
          "Vender",
          "Vender",
          "Vender",
          "Vender",
          "Vender",
          "Vender",
          "Vender",
          "Vender",
          "Vender",
          "Vender",
          "Vender",
          "Vender",
          "Vender",
          "Vender",
          "Vender",
          "Vender",
          "Vender",
          "Vender",
          "Vender",
          "Vender",
          "Vender",
          "Vender",
          "Vender",
          "Vender",
          "Vender",
          "Vender",
          "Vender",
          "Vender",
          "Vender",
          "Vender",
          "Vender",
          "Vender",
          "Vender",
          "Vender",
          "Vender",
          "Vender",
          "Vender",
          "Vender",
          "Vender",
          "Vender",
          "Vender",
          "Vender",
          "Vender",
          "Vender",
          "Vender",
          "Vender",
          "Vender",
          "Vender",
          "Vender",
          "Vender",
          "Vender",
          "Vender",
          "Vender",
          "Vender",
          "Vender",
          "Vender",
          "Vender",
          "Vender",
          "Vender",
          "Vender",
          "Vender",
          "Vender",
          "Vender",
          "Vender",
          "Vender",
          "Vender",
          "Vender",
          "Vender",
          "Vender",
          "Vender",
          "Vender",
          "Vender",
          "Vender",
          "Vender",
          "Vender",
          "Vender",
          "Vender",
          "Vender",
          "Vender",
          "Vender",
          "Vender",
          "Vender",
          "Vender",
          "Vender",
          "Vender",
          "Vender",
          "Vender",
          "Vender",
          "Vender",
          "Vender",
          "Vender",
          "Vender",
          "Vender",
          "Vender",
          "Vender",
          "Vender",
          "Vender",
          "Vender",
          "Vender",
          "Vender",
          "Vender",
          "Vender",
          "Vender",
          "Vender",
          "Vender",
          "Vender",
          "Vender",
          "Vender",
          "Vender",
          "Vender",
          "Vender",
          "Vender",
          "Vender",
          "Vender",
          "Vender",
          "Vender",
          "Vender",
          "Vender",
          "Vender",
          "Vender",
          "Vender",
          "Vender",
          "Vender",
          "Vender",
          "Vender",
          "Vender",
          "Vender",
          "Vender",
          "Vender",
          "Vender",
          "Vender",
          "Vender",
          "Vender",
          "Vender",
          "Vender",
          "Vender",
          "Vender",
          "Vender",
          "Vender",
          "Vender",
          "Vender",
          "Vender",
          "Vender",
          "Vender",
          "Vender",
          "Vender",
          "Vender",
          "Vender",
          "Vender",
          "Vender",
          "Vender",
          "Vender",
          "Vender",
          "Vender",
          "Vender",
          "Vender",
          "Vender",
          "Vender",
          "Vender",
          "Vender",
          "Vender",
          "Vender",
          "Vender",
          "Vender",
          "Vender",
          "Vender",
          "Vender",
          "Vender",
          "Vender",
          "Vender",
          "Vender",
          "Vender",
          "Vender",
          "Vender",
          "Vender",
          "Vender",
          "Vender",
          "Vender",
          "Vender",
          "Vender",
          "Vender",
          "Vender",
          "Vender",
          "Vender",
          "Vender",
          "Vender",
          "Vender",
          "Vender",
          "Vender",
          "Vender",
          "Vender",
          "Vender",
          "Vender",
          "Vender",
          "Vender",
          "Vender",
          "Vender",
          "Vender",
          "Vender",
          "Vender",
          "Vender",
          "Vender",
          "Vender",
          "Vender",
          "Vender",
          "Vender",
          "Vender",
          "Vender",
          "Vender",
          "Vender",
          "Vender",
          "Vender",
          "Vender",
          "Vender",
          "Vender",
          "Vender",
          "Vender",
          "Vender",
          "Vender",
          "Vender",
          "Vender",
          "Vender",
          "Vender",
          "Vender",
          "Vender",
          "Vender",
          "Vender",
          "Vender",
          "Vender",
          "Vender",
          "Vender",
          "Vender",
          "Vender",
          "Vender",
          "Vender",
          "Vender",
          "Vender",
          "Vender",
          "Vender",
          "Vender",
          "Vender",
          "Vender",
          "Vender",
          "Vender",
          "Vender",
          "Vender",
          "Vender",
          "Vender",
          "Vender",
          "Vender",
          "Vender",
          "Vender",
          "Vender",
          "Vender",
          "Vender",
          "Vender",
          "Vender",
          "Vender",
          "Vender",
          "Vender",
          "Vender",
          "Vender",
          "Vender",
          "Vender",
          "Vender",
          "Vender",
          "Vender",
          "Vender",
          "Vender",
          "Vender",
          "Vender",
          "Vender",
          "Vender",
          "Vender",
          "Vender",
          "Vender",
          "Vender",
          "Vender",
          "Vender",
          "Vender",
          "Vender",
          "Vender",
          "Vender",
          "Vender",
          "Vender",
          "Vender",
          "Vender",
          "Vender",
          "Vender",
          "Vender",
          "Vender",
          "Vender",
          "Vender",
          "Vender",
          "Vender",
          "Vender",
          "Vender",
          "Vender",
          "Vender",
          "Vender",
          "Vender",
          "Vender",
          "Vender",
          "Vender",
          "Vender",
          "Vender",
          "Vender",
          "Vender",
          "Vender",
          "Vender",
          "Vender",
          "Vender",
          "Vender",
          "Vender",
          "Vender",
          "Vender",
          "Vender",
          "Vender",
          "Vender",
          "Vender",
          "Vender",
          "Vender",
          "Vender",
          "Vender",
          "Vender",
          "Vender",
          "Vender",
          "Vender",
          "Vender",
          "Vender",
          "Vender",
          "Vender",
          "Vender",
          "Vender",
          "Vender",
          "Vender",
          "Vender",
          "Vender",
          "Vender",
          "Vender",
          "Vender",
          "Vender",
          "Vender",
          "Vender",
          "Vender",
          "Vender",
          "Vender",
          "Vender",
          "Vender",
          "Vender",
          "Vender",
          "Vender",
          "Vender",
          "Vender",
          "Vender",
          "Vender",
          "Vender",
          "Vender",
          "Vender",
          "Vender",
          "Vender",
          "Vender",
          "Vender",
          "Vender",
          "Vender",
          "Vender",
          "Vender",
          "Vender",
          "Vender",
          "Vender",
          "Vender",
          "Vender",
          "Vender",
          "Vender",
          "Vender",
          "Vender",
          "Vender",
          "Vender",
          "Vender",
          "Vender",
          "Vender",
          "Vender",
          "Vender",
          "Vender",
          "Vender",
          "Vender",
          "Vender",
          "Vender",
          "Vender",
          "Vender",
          "Vender",
          "Vender",
          "Vender",
          "Vender",
          "Vender",
          "Vender",
          "Vender",
          "Vender",
          "Vender",
          "Vender",
          "Vender",
          "Vender",
          "Vender",
          "Vender",
          "Vender",
          "Vender",
          "Vender",
          "Vender",
          "Vender",
          "Vender",
          "Vender",
          "Vender",
          "Vender",
          "Vender",
          "Vender",
          "Vender",
          "Vender",
          "Vender",
          "Vender",
          "Vender",
          "Vender",
          "Vender",
          "Vender",
          "Vender",
          "Vender",
          "Vender",
          "Vender",
          "Vender",
          "Vender",
          "Vender",
          "Vender",
          "Vender",
          "Vender",
          "Vender",
          "Vender",
          "Vender",
          "Vender",
          "Vender",
          "Vender",
          "Vender",
          "Vender",
          "Vender",
          "Vender",
          "Vender",
          "Vender",
          "Vender",
          "Vender",
          "Vender",
          "Vender",
          "Vender",
          "Vender",
          "Vender",
          "Vender",
          "Vender",
          "Vender",
          "Vender",
          "Vender",
          "Vender",
          "Vender",
          "Vender",
          "Vender",
          "Vender",
          "Vender",
          "Vender",
          "Vender",
          "Vender",
          "Vender",
          "Vender",
          "Vender",
          "Vender",
          "Vender",
          "Vender",
          "Vender",
          "Vender",
          "Vender",
          "Vender",
          "Vender",
          "Vender",
          "Vender",
          "Vender",
          "Vender",
          "Vender",
          "Vender",
          "Vender",
          "Vender",
          "Vender",
          "Vender",
          "Vender",
          "Vender",
          "Vender",
          "Vender",
          "Vender",
          "Vender",
          "Vender",
          "Vender",
          "Vender",
          "Vender",
          "Vender",
          "Vender",
          "Vender",
          "Vender",
          "Vender",
          "Vender",
          "Vender",
          "Vender",
          "Vender",
          "Vender",
          "Vender",
          "Vender",
          "Vender",
          "Vender",
          "Vender",
          "Vender",
          "Vender",
          "Vender",
          "Vender",
          "Vender",
          "Vender",
          "Vender",
          "Vender",
          "Vender",
          "Vender",
          "Vender",
          "Vender",
          "Vender",
          "Vender",
          "Vender",
          "Vender",
          "Vender",
          "Vender",
          "Vender",
          "Vender",
          "Vender",
          "Vender",
          "Vender",
          "Vender",
          "Vender",
          "Vender",
          "Vender",
          "Vender",
          "Vender",
          "Vender",
          "Vender",
          "Vender",
          "Vender",
          "Vender",
          "Vender",
          "Vender",
          "Vender",
          "Vender",
          "Vender",
          "Vender",
          "Vender",
          "Vender",
          "Vender",
          "Vender",
          "Vender",
          "Vender",
          "Vender",
          "Vender",
          "Vender",
          "Vender",
          "Vender",
          "Vender",
          "Vender",
          "Vender",
          "Vender",
          "Vender",
          "Vender",
          "Vender",
          "Vender",
          "Vender",
          "Vender",
          "Vender",
          "Vender",
          "Vender",
          "Vender",
          "Vender",
          "Vender",
          "Vender",
          "Vender",
          "Vender",
          "Vender",
          "Vender",
          "Vender",
          "Vender",
          "Vender",
          "Vender",
          "Vender",
          "Vender",
          "Vender",
          "Vender",
          "Vender",
          "Vender",
          "Vender",
          "Vender",
          "Vender",
          "Vender",
          "Vender",
          "Vender",
          "Vender",
          "Vender",
          "Vender",
          "Vender",
          "Vender",
          "Vender",
          "Vender",
          "Vender",
          "Vender",
          "Vender",
          "Vender",
          "Vender",
          "Vender",
          "Vender",
          "Vender",
          "Vender",
          "Vender",
          "Vender",
          "Vender",
          "Vender",
          "Vender",
          "Vender",
          "Vender",
          "Vender",
          "Vender",
          "Vender",
          "Vender",
          "Vender",
          "Vender",
          "Vender",
          "Vender",
          "Vender",
          "Vender",
          "Vender",
          "Vender",
          "Vender",
          "Vender",
          "Vender",
          "Vender",
          "Vender",
          "Vender",
          "Vender",
          "Vender",
          "Vender",
          "Vender",
          "Vender",
          "Vender",
          "Vender",
          "Vender",
          "Vender",
          "Vender",
          "Vender",
          "Vender",
          "Vender",
          "Vender",
          "Vender",
          "Vender",
          "Vender",
          "Vender",
          "Vender",
          "Vender",
          "Vender",
          "Vender",
          "Vender",
          "Vender",
          "Vender",
          "Vender",
          "Vender",
          "Vender",
          "Vender",
          "Vender",
          "Vender",
          "Vender",
          "Vender",
          "Vender",
          "Vender",
          "Vender",
          "Vender",
          "Vender",
          "Vender",
          "Vender",
          "Vender",
          "Vender",
          "Vender",
          "Vender",
          "Vender",
          "Vender",
          "Vender",
          "Vender",
          "Vender",
          "Vender",
          "Vender",
          "Vender",
          "Vender",
          "Vender",
          "Vender",
          "Vender",
          "Vender",
          "Vender",
          "Vender",
          "Vender",
          "Vender",
          "Vender",
          "Vender",
          "Vender",
          "Vender",
          "Vender",
          "Vender",
          "Vender",
          "Vender",
          "Vender",
          "Vender",
          "Vender",
          "Vender",
          "Vender",
          "Vender",
          "Vender",
          "Vender",
          "Vender",
          "Vender",
          "Vender",
          "Vender",
          "Vender",
          "Vender",
          "Vender",
          "Vender",
          "Vender",
          "Vender",
          "Vender",
          "Vender",
          "Vender",
          "Vender",
          "Vender",
          "Vender",
          "Vender",
          "Vender",
          "Vender",
          "Vender",
          "Vender",
          "Vender",
          "Vender",
          "Vender",
          "Vender",
          "Vender",
          "Vender",
          "Vender",
          "Vender",
          "Vender",
          "Vender",
          "Vender",
          "Vender",
          "Vender",
          "Vender",
          "Vender",
          "Vender",
          "Vender",
          "Vender",
          "Vender",
          "Vender",
          "Vender",
          "Vender",
          "Vender",
          "Vender",
          "Vender",
          "Vender",
          "Vender",
          "Vender",
          "Vender",
          "Vender",
          "Vender",
          "Vender",
          "Vender",
          "Vender",
          "Vender",
          "Vender",
          "Vender",
          "Vender",
          "Vender",
          "Vender",
          "Vender",
          "Vender",
          "Vender",
          "Vender",
          "Vender",
          "Vender",
          "Vender",
          "Vender",
          "Vender",
          "Vender",
          "Vender",
          "Vender",
          "Vender",
          "Vender",
          "Vender",
          "Vender",
          "Vender",
          "Vender",
          "Vender",
          "Vender",
          "Vender",
          "Vender",
          "Vender",
          "Vender",
          "Vender",
          "Vender",
          "Vender",
          "Vender",
          "Vender",
          "Vender",
          "Vender",
          "Vender",
          "Vender",
          "Vender",
          "Vender",
          "Vender",
          "Vender",
          "Vender",
          "Vender",
          "Vender",
          "Vender",
          "Vender",
          "Vender",
          "Vender",
          "Vender",
          "Vender",
          "Vender",
          "Vender",
          "Vender",
          "Vender",
          "Vender",
          "Vender",
          "Vender",
          "Vender",
          "Vender",
          "Vender",
          "Vender",
          "Vender",
          "Vender",
          "Vender",
          "Vender",
          "Vender",
          "Vender",
          "Vender",
          "Vender",
          "Vender",
          "Vender",
          "Vender",
          "Vender",
          "Vender",
          "Vender",
          "Vender",
          "Vender",
          "Vender",
          "Vender",
          "Vender",
          "Vender",
          "Vender",
          "Vender",
          "Vender",
          "Vender",
          "Vender",
          "Vender",
          "Vender",
          "Vender",
          "Vender",
          "Vender",
          "Vender",
          "Vender",
          "Vender",
          "Vender",
          "Vender",
          "Vender",
          "Vender",
          "Vender",
          "Vender",
          "Vender",
          "Vender",
          "Vender",
          "Vender",
          "Vender",
          "Vender",
          "Vender",
          "Vender",
          "Vender",
          "Vender",
          "Vender",
          "Vender",
          "Vender",
          "Vender",
          "Vender",
          "Vender",
          "Vender",
          "Vender",
          "Vender",
          "Vender",
          "Vender",
          "Vender",
          "Vender",
          "Vender",
          "Vender"
         ],
         "xaxis": "x",
         "yaxis": "y"
        }
       ],
       "layout": {
        "bargap": 0.5,
        "barmode": "relative",
        "height": 400,
        "legend": {
         "title": {
          "text": "decisao"
         },
         "tracegroupgap": 0
        },
        "margin": {
         "t": 60
        },
        "template": {
         "data": {
          "bar": [
           {
            "error_x": {
             "color": "#2a3f5f"
            },
            "error_y": {
             "color": "#2a3f5f"
            },
            "marker": {
             "line": {
              "color": "#E5ECF6",
              "width": 0.5
             },
             "pattern": {
              "fillmode": "overlay",
              "size": 10,
              "solidity": 0.2
             }
            },
            "type": "bar"
           }
          ],
          "barpolar": [
           {
            "marker": {
             "line": {
              "color": "#E5ECF6",
              "width": 0.5
             },
             "pattern": {
              "fillmode": "overlay",
              "size": 10,
              "solidity": 0.2
             }
            },
            "type": "barpolar"
           }
          ],
          "carpet": [
           {
            "aaxis": {
             "endlinecolor": "#2a3f5f",
             "gridcolor": "white",
             "linecolor": "white",
             "minorgridcolor": "white",
             "startlinecolor": "#2a3f5f"
            },
            "baxis": {
             "endlinecolor": "#2a3f5f",
             "gridcolor": "white",
             "linecolor": "white",
             "minorgridcolor": "white",
             "startlinecolor": "#2a3f5f"
            },
            "type": "carpet"
           }
          ],
          "choropleth": [
           {
            "colorbar": {
             "outlinewidth": 0,
             "ticks": ""
            },
            "type": "choropleth"
           }
          ],
          "contour": [
           {
            "colorbar": {
             "outlinewidth": 0,
             "ticks": ""
            },
            "colorscale": [
             [
              0,
              "#0d0887"
             ],
             [
              0.1111111111111111,
              "#46039f"
             ],
             [
              0.2222222222222222,
              "#7201a8"
             ],
             [
              0.3333333333333333,
              "#9c179e"
             ],
             [
              0.4444444444444444,
              "#bd3786"
             ],
             [
              0.5555555555555556,
              "#d8576b"
             ],
             [
              0.6666666666666666,
              "#ed7953"
             ],
             [
              0.7777777777777778,
              "#fb9f3a"
             ],
             [
              0.8888888888888888,
              "#fdca26"
             ],
             [
              1,
              "#f0f921"
             ]
            ],
            "type": "contour"
           }
          ],
          "contourcarpet": [
           {
            "colorbar": {
             "outlinewidth": 0,
             "ticks": ""
            },
            "type": "contourcarpet"
           }
          ],
          "heatmap": [
           {
            "colorbar": {
             "outlinewidth": 0,
             "ticks": ""
            },
            "colorscale": [
             [
              0,
              "#0d0887"
             ],
             [
              0.1111111111111111,
              "#46039f"
             ],
             [
              0.2222222222222222,
              "#7201a8"
             ],
             [
              0.3333333333333333,
              "#9c179e"
             ],
             [
              0.4444444444444444,
              "#bd3786"
             ],
             [
              0.5555555555555556,
              "#d8576b"
             ],
             [
              0.6666666666666666,
              "#ed7953"
             ],
             [
              0.7777777777777778,
              "#fb9f3a"
             ],
             [
              0.8888888888888888,
              "#fdca26"
             ],
             [
              1,
              "#f0f921"
             ]
            ],
            "type": "heatmap"
           }
          ],
          "heatmapgl": [
           {
            "colorbar": {
             "outlinewidth": 0,
             "ticks": ""
            },
            "colorscale": [
             [
              0,
              "#0d0887"
             ],
             [
              0.1111111111111111,
              "#46039f"
             ],
             [
              0.2222222222222222,
              "#7201a8"
             ],
             [
              0.3333333333333333,
              "#9c179e"
             ],
             [
              0.4444444444444444,
              "#bd3786"
             ],
             [
              0.5555555555555556,
              "#d8576b"
             ],
             [
              0.6666666666666666,
              "#ed7953"
             ],
             [
              0.7777777777777778,
              "#fb9f3a"
             ],
             [
              0.8888888888888888,
              "#fdca26"
             ],
             [
              1,
              "#f0f921"
             ]
            ],
            "type": "heatmapgl"
           }
          ],
          "histogram": [
           {
            "marker": {
             "pattern": {
              "fillmode": "overlay",
              "size": 10,
              "solidity": 0.2
             }
            },
            "type": "histogram"
           }
          ],
          "histogram2d": [
           {
            "colorbar": {
             "outlinewidth": 0,
             "ticks": ""
            },
            "colorscale": [
             [
              0,
              "#0d0887"
             ],
             [
              0.1111111111111111,
              "#46039f"
             ],
             [
              0.2222222222222222,
              "#7201a8"
             ],
             [
              0.3333333333333333,
              "#9c179e"
             ],
             [
              0.4444444444444444,
              "#bd3786"
             ],
             [
              0.5555555555555556,
              "#d8576b"
             ],
             [
              0.6666666666666666,
              "#ed7953"
             ],
             [
              0.7777777777777778,
              "#fb9f3a"
             ],
             [
              0.8888888888888888,
              "#fdca26"
             ],
             [
              1,
              "#f0f921"
             ]
            ],
            "type": "histogram2d"
           }
          ],
          "histogram2dcontour": [
           {
            "colorbar": {
             "outlinewidth": 0,
             "ticks": ""
            },
            "colorscale": [
             [
              0,
              "#0d0887"
             ],
             [
              0.1111111111111111,
              "#46039f"
             ],
             [
              0.2222222222222222,
              "#7201a8"
             ],
             [
              0.3333333333333333,
              "#9c179e"
             ],
             [
              0.4444444444444444,
              "#bd3786"
             ],
             [
              0.5555555555555556,
              "#d8576b"
             ],
             [
              0.6666666666666666,
              "#ed7953"
             ],
             [
              0.7777777777777778,
              "#fb9f3a"
             ],
             [
              0.8888888888888888,
              "#fdca26"
             ],
             [
              1,
              "#f0f921"
             ]
            ],
            "type": "histogram2dcontour"
           }
          ],
          "mesh3d": [
           {
            "colorbar": {
             "outlinewidth": 0,
             "ticks": ""
            },
            "type": "mesh3d"
           }
          ],
          "parcoords": [
           {
            "line": {
             "colorbar": {
              "outlinewidth": 0,
              "ticks": ""
             }
            },
            "type": "parcoords"
           }
          ],
          "pie": [
           {
            "automargin": true,
            "type": "pie"
           }
          ],
          "scatter": [
           {
            "marker": {
             "colorbar": {
              "outlinewidth": 0,
              "ticks": ""
             }
            },
            "type": "scatter"
           }
          ],
          "scatter3d": [
           {
            "line": {
             "colorbar": {
              "outlinewidth": 0,
              "ticks": ""
             }
            },
            "marker": {
             "colorbar": {
              "outlinewidth": 0,
              "ticks": ""
             }
            },
            "type": "scatter3d"
           }
          ],
          "scattercarpet": [
           {
            "marker": {
             "colorbar": {
              "outlinewidth": 0,
              "ticks": ""
             }
            },
            "type": "scattercarpet"
           }
          ],
          "scattergeo": [
           {
            "marker": {
             "colorbar": {
              "outlinewidth": 0,
              "ticks": ""
             }
            },
            "type": "scattergeo"
           }
          ],
          "scattergl": [
           {
            "marker": {
             "colorbar": {
              "outlinewidth": 0,
              "ticks": ""
             }
            },
            "type": "scattergl"
           }
          ],
          "scattermapbox": [
           {
            "marker": {
             "colorbar": {
              "outlinewidth": 0,
              "ticks": ""
             }
            },
            "type": "scattermapbox"
           }
          ],
          "scatterpolar": [
           {
            "marker": {
             "colorbar": {
              "outlinewidth": 0,
              "ticks": ""
             }
            },
            "type": "scatterpolar"
           }
          ],
          "scatterpolargl": [
           {
            "marker": {
             "colorbar": {
              "outlinewidth": 0,
              "ticks": ""
             }
            },
            "type": "scatterpolargl"
           }
          ],
          "scatterternary": [
           {
            "marker": {
             "colorbar": {
              "outlinewidth": 0,
              "ticks": ""
             }
            },
            "type": "scatterternary"
           }
          ],
          "surface": [
           {
            "colorbar": {
             "outlinewidth": 0,
             "ticks": ""
            },
            "colorscale": [
             [
              0,
              "#0d0887"
             ],
             [
              0.1111111111111111,
              "#46039f"
             ],
             [
              0.2222222222222222,
              "#7201a8"
             ],
             [
              0.3333333333333333,
              "#9c179e"
             ],
             [
              0.4444444444444444,
              "#bd3786"
             ],
             [
              0.5555555555555556,
              "#d8576b"
             ],
             [
              0.6666666666666666,
              "#ed7953"
             ],
             [
              0.7777777777777778,
              "#fb9f3a"
             ],
             [
              0.8888888888888888,
              "#fdca26"
             ],
             [
              1,
              "#f0f921"
             ]
            ],
            "type": "surface"
           }
          ],
          "table": [
           {
            "cells": {
             "fill": {
              "color": "#EBF0F8"
             },
             "line": {
              "color": "white"
             }
            },
            "header": {
             "fill": {
              "color": "#C8D4E3"
             },
             "line": {
              "color": "white"
             }
            },
            "type": "table"
           }
          ]
         },
         "layout": {
          "annotationdefaults": {
           "arrowcolor": "#2a3f5f",
           "arrowhead": 0,
           "arrowwidth": 1
          },
          "autotypenumbers": "strict",
          "coloraxis": {
           "colorbar": {
            "outlinewidth": 0,
            "ticks": ""
           }
          },
          "colorscale": {
           "diverging": [
            [
             0,
             "#8e0152"
            ],
            [
             0.1,
             "#c51b7d"
            ],
            [
             0.2,
             "#de77ae"
            ],
            [
             0.3,
             "#f1b6da"
            ],
            [
             0.4,
             "#fde0ef"
            ],
            [
             0.5,
             "#f7f7f7"
            ],
            [
             0.6,
             "#e6f5d0"
            ],
            [
             0.7,
             "#b8e186"
            ],
            [
             0.8,
             "#7fbc41"
            ],
            [
             0.9,
             "#4d9221"
            ],
            [
             1,
             "#276419"
            ]
           ],
           "sequential": [
            [
             0,
             "#0d0887"
            ],
            [
             0.1111111111111111,
             "#46039f"
            ],
            [
             0.2222222222222222,
             "#7201a8"
            ],
            [
             0.3333333333333333,
             "#9c179e"
            ],
            [
             0.4444444444444444,
             "#bd3786"
            ],
            [
             0.5555555555555556,
             "#d8576b"
            ],
            [
             0.6666666666666666,
             "#ed7953"
            ],
            [
             0.7777777777777778,
             "#fb9f3a"
            ],
            [
             0.8888888888888888,
             "#fdca26"
            ],
            [
             1,
             "#f0f921"
            ]
           ],
           "sequentialminus": [
            [
             0,
             "#0d0887"
            ],
            [
             0.1111111111111111,
             "#46039f"
            ],
            [
             0.2222222222222222,
             "#7201a8"
            ],
            [
             0.3333333333333333,
             "#9c179e"
            ],
            [
             0.4444444444444444,
             "#bd3786"
            ],
            [
             0.5555555555555556,
             "#d8576b"
            ],
            [
             0.6666666666666666,
             "#ed7953"
            ],
            [
             0.7777777777777778,
             "#fb9f3a"
            ],
            [
             0.8888888888888888,
             "#fdca26"
            ],
            [
             1,
             "#f0f921"
            ]
           ]
          },
          "colorway": [
           "#636efa",
           "#EF553B",
           "#00cc96",
           "#ab63fa",
           "#FFA15A",
           "#19d3f3",
           "#FF6692",
           "#B6E880",
           "#FF97FF",
           "#FECB52"
          ],
          "font": {
           "color": "#2a3f5f"
          },
          "geo": {
           "bgcolor": "white",
           "lakecolor": "white",
           "landcolor": "#E5ECF6",
           "showlakes": true,
           "showland": true,
           "subunitcolor": "white"
          },
          "hoverlabel": {
           "align": "left"
          },
          "hovermode": "closest",
          "mapbox": {
           "style": "light"
          },
          "paper_bgcolor": "white",
          "plot_bgcolor": "#E5ECF6",
          "polar": {
           "angularaxis": {
            "gridcolor": "white",
            "linecolor": "white",
            "ticks": ""
           },
           "bgcolor": "#E5ECF6",
           "radialaxis": {
            "gridcolor": "white",
            "linecolor": "white",
            "ticks": ""
           }
          },
          "scene": {
           "xaxis": {
            "backgroundcolor": "#E5ECF6",
            "gridcolor": "white",
            "gridwidth": 2,
            "linecolor": "white",
            "showbackground": true,
            "ticks": "",
            "zerolinecolor": "white"
           },
           "yaxis": {
            "backgroundcolor": "#E5ECF6",
            "gridcolor": "white",
            "gridwidth": 2,
            "linecolor": "white",
            "showbackground": true,
            "ticks": "",
            "zerolinecolor": "white"
           },
           "zaxis": {
            "backgroundcolor": "#E5ECF6",
            "gridcolor": "white",
            "gridwidth": 2,
            "linecolor": "white",
            "showbackground": true,
            "ticks": "",
            "zerolinecolor": "white"
           }
          },
          "shapedefaults": {
           "line": {
            "color": "#2a3f5f"
           }
          },
          "ternary": {
           "aaxis": {
            "gridcolor": "white",
            "linecolor": "white",
            "ticks": ""
           },
           "baxis": {
            "gridcolor": "white",
            "linecolor": "white",
            "ticks": ""
           },
           "bgcolor": "#E5ECF6",
           "caxis": {
            "gridcolor": "white",
            "linecolor": "white",
            "ticks": ""
           }
          },
          "title": {
           "x": 0.05
          },
          "xaxis": {
           "automargin": true,
           "gridcolor": "white",
           "linecolor": "white",
           "ticks": "",
           "title": {
            "standoff": 15
           },
           "zerolinecolor": "white",
           "zerolinewidth": 2
          },
          "yaxis": {
           "automargin": true,
           "gridcolor": "white",
           "linecolor": "white",
           "ticks": "",
           "title": {
            "standoff": 15
           },
           "zerolinecolor": "white",
           "zerolinewidth": 2
          }
         }
        },
        "width": 600,
        "xaxis": {
         "anchor": "y",
         "categoryarray": [
          "Comprar",
          "Vender"
         ],
         "categoryorder": "array",
         "domain": [
          0,
          1
         ],
         "title": {
          "text": "decisao"
         }
        },
        "yaxis": {
         "anchor": "x",
         "domain": [
          0,
          1
         ],
         "title": {
          "text": "count"
         }
        }
       }
      },
      "text/html": [
       "<div>                            <div id=\"88d5724d-5a52-48ec-a211-da207df4b559\" class=\"plotly-graph-div\" style=\"height:400px; width:600px;\"></div>            <script type=\"text/javascript\">                require([\"plotly\"], function(Plotly) {                    window.PLOTLYENV=window.PLOTLYENV || {};                                    if (document.getElementById(\"88d5724d-5a52-48ec-a211-da207df4b559\")) {                    Plotly.newPlot(                        \"88d5724d-5a52-48ec-a211-da207df4b559\",                        [{\"alignmentgroup\":\"True\",\"bingroup\":\"x\",\"hovertemplate\":\"decisao=%{x}<br>count=%{y}<extra></extra>\",\"legendgroup\":\"Comprar\",\"marker\":{\"color\":\"#636efa\",\"pattern\":{\"shape\":\"\"}},\"name\":\"Comprar\",\"offsetgroup\":\"Comprar\",\"orientation\":\"v\",\"showlegend\":true,\"x\":[\"Comprar\",\"Comprar\",\"Comprar\",\"Comprar\",\"Comprar\",\"Comprar\",\"Comprar\",\"Comprar\",\"Comprar\",\"Comprar\",\"Comprar\",\"Comprar\",\"Comprar\",\"Comprar\",\"Comprar\",\"Comprar\",\"Comprar\",\"Comprar\",\"Comprar\",\"Comprar\",\"Comprar\",\"Comprar\",\"Comprar\",\"Comprar\",\"Comprar\",\"Comprar\",\"Comprar\",\"Comprar\",\"Comprar\",\"Comprar\",\"Comprar\",\"Comprar\",\"Comprar\",\"Comprar\",\"Comprar\",\"Comprar\",\"Comprar\",\"Comprar\",\"Comprar\",\"Comprar\",\"Comprar\",\"Comprar\",\"Comprar\",\"Comprar\",\"Comprar\",\"Comprar\",\"Comprar\",\"Comprar\",\"Comprar\",\"Comprar\",\"Comprar\",\"Comprar\",\"Comprar\",\"Comprar\",\"Comprar\",\"Comprar\",\"Comprar\",\"Comprar\",\"Comprar\",\"Comprar\",\"Comprar\",\"Comprar\",\"Comprar\",\"Comprar\",\"Comprar\",\"Comprar\",\"Comprar\",\"Comprar\",\"Comprar\",\"Comprar\",\"Comprar\",\"Comprar\",\"Comprar\",\"Comprar\",\"Comprar\",\"Comprar\",\"Comprar\",\"Comprar\",\"Comprar\",\"Comprar\",\"Comprar\",\"Comprar\",\"Comprar\",\"Comprar\",\"Comprar\",\"Comprar\",\"Comprar\",\"Comprar\",\"Comprar\",\"Comprar\",\"Comprar\",\"Comprar\",\"Comprar\",\"Comprar\",\"Comprar\",\"Comprar\",\"Comprar\",\"Comprar\",\"Comprar\",\"Comprar\",\"Comprar\",\"Comprar\",\"Comprar\",\"Comprar\",\"Comprar\",\"Comprar\",\"Comprar\",\"Comprar\",\"Comprar\",\"Comprar\",\"Comprar\",\"Comprar\",\"Comprar\",\"Comprar\",\"Comprar\",\"Comprar\",\"Comprar\",\"Comprar\",\"Comprar\",\"Comprar\",\"Comprar\",\"Comprar\",\"Comprar\",\"Comprar\",\"Comprar\",\"Comprar\",\"Comprar\",\"Comprar\",\"Comprar\",\"Comprar\",\"Comprar\",\"Comprar\",\"Comprar\",\"Comprar\",\"Comprar\",\"Comprar\",\"Comprar\",\"Comprar\",\"Comprar\",\"Comprar\",\"Comprar\",\"Comprar\",\"Comprar\",\"Comprar\",\"Comprar\",\"Comprar\",\"Comprar\",\"Comprar\",\"Comprar\",\"Comprar\",\"Comprar\",\"Comprar\",\"Comprar\",\"Comprar\",\"Comprar\",\"Comprar\",\"Comprar\",\"Comprar\",\"Comprar\",\"Comprar\",\"Comprar\",\"Comprar\",\"Comprar\",\"Comprar\",\"Comprar\",\"Comprar\",\"Comprar\",\"Comprar\",\"Comprar\",\"Comprar\",\"Comprar\",\"Comprar\",\"Comprar\",\"Comprar\",\"Comprar\",\"Comprar\",\"Comprar\",\"Comprar\",\"Comprar\",\"Comprar\",\"Comprar\",\"Comprar\",\"Comprar\",\"Comprar\",\"Comprar\",\"Comprar\",\"Comprar\",\"Comprar\",\"Comprar\",\"Comprar\",\"Comprar\",\"Comprar\",\"Comprar\",\"Comprar\",\"Comprar\",\"Comprar\",\"Comprar\",\"Comprar\",\"Comprar\",\"Comprar\",\"Comprar\",\"Comprar\",\"Comprar\",\"Comprar\",\"Comprar\",\"Comprar\",\"Comprar\",\"Comprar\",\"Comprar\",\"Comprar\",\"Comprar\",\"Comprar\",\"Comprar\",\"Comprar\",\"Comprar\",\"Comprar\",\"Comprar\",\"Comprar\",\"Comprar\",\"Comprar\",\"Comprar\",\"Comprar\",\"Comprar\",\"Comprar\",\"Comprar\",\"Comprar\",\"Comprar\",\"Comprar\",\"Comprar\",\"Comprar\",\"Comprar\",\"Comprar\",\"Comprar\",\"Comprar\",\"Comprar\",\"Comprar\",\"Comprar\",\"Comprar\",\"Comprar\",\"Comprar\",\"Comprar\",\"Comprar\",\"Comprar\",\"Comprar\",\"Comprar\",\"Comprar\",\"Comprar\",\"Comprar\",\"Comprar\",\"Comprar\",\"Comprar\",\"Comprar\",\"Comprar\",\"Comprar\",\"Comprar\",\"Comprar\",\"Comprar\",\"Comprar\",\"Comprar\",\"Comprar\",\"Comprar\",\"Comprar\",\"Comprar\",\"Comprar\",\"Comprar\",\"Comprar\",\"Comprar\",\"Comprar\",\"Comprar\",\"Comprar\",\"Comprar\",\"Comprar\",\"Comprar\",\"Comprar\",\"Comprar\",\"Comprar\",\"Comprar\",\"Comprar\",\"Comprar\",\"Comprar\",\"Comprar\",\"Comprar\",\"Comprar\",\"Comprar\",\"Comprar\",\"Comprar\",\"Comprar\",\"Comprar\",\"Comprar\",\"Comprar\",\"Comprar\",\"Comprar\",\"Comprar\",\"Comprar\",\"Comprar\",\"Comprar\",\"Comprar\",\"Comprar\",\"Comprar\",\"Comprar\",\"Comprar\",\"Comprar\",\"Comprar\",\"Comprar\",\"Comprar\",\"Comprar\",\"Comprar\",\"Comprar\",\"Comprar\",\"Comprar\",\"Comprar\",\"Comprar\",\"Comprar\",\"Comprar\",\"Comprar\",\"Comprar\",\"Comprar\",\"Comprar\",\"Comprar\",\"Comprar\",\"Comprar\",\"Comprar\",\"Comprar\",\"Comprar\",\"Comprar\",\"Comprar\",\"Comprar\",\"Comprar\",\"Comprar\",\"Comprar\",\"Comprar\",\"Comprar\",\"Comprar\",\"Comprar\",\"Comprar\",\"Comprar\",\"Comprar\",\"Comprar\",\"Comprar\",\"Comprar\",\"Comprar\",\"Comprar\",\"Comprar\",\"Comprar\",\"Comprar\",\"Comprar\",\"Comprar\",\"Comprar\",\"Comprar\",\"Comprar\",\"Comprar\",\"Comprar\",\"Comprar\",\"Comprar\",\"Comprar\",\"Comprar\",\"Comprar\",\"Comprar\",\"Comprar\",\"Comprar\",\"Comprar\",\"Comprar\",\"Comprar\",\"Comprar\",\"Comprar\",\"Comprar\",\"Comprar\",\"Comprar\",\"Comprar\",\"Comprar\",\"Comprar\",\"Comprar\",\"Comprar\",\"Comprar\",\"Comprar\",\"Comprar\",\"Comprar\",\"Comprar\",\"Comprar\",\"Comprar\",\"Comprar\",\"Comprar\",\"Comprar\",\"Comprar\",\"Comprar\",\"Comprar\",\"Comprar\",\"Comprar\",\"Comprar\",\"Comprar\",\"Comprar\",\"Comprar\",\"Comprar\",\"Comprar\",\"Comprar\",\"Comprar\",\"Comprar\",\"Comprar\",\"Comprar\",\"Comprar\",\"Comprar\",\"Comprar\",\"Comprar\",\"Comprar\",\"Comprar\",\"Comprar\",\"Comprar\",\"Comprar\",\"Comprar\",\"Comprar\",\"Comprar\",\"Comprar\",\"Comprar\",\"Comprar\",\"Comprar\",\"Comprar\",\"Comprar\",\"Comprar\",\"Comprar\",\"Comprar\",\"Comprar\",\"Comprar\",\"Comprar\",\"Comprar\",\"Comprar\",\"Comprar\",\"Comprar\",\"Comprar\",\"Comprar\",\"Comprar\",\"Comprar\",\"Comprar\",\"Comprar\",\"Comprar\",\"Comprar\",\"Comprar\",\"Comprar\",\"Comprar\",\"Comprar\",\"Comprar\",\"Comprar\",\"Comprar\",\"Comprar\",\"Comprar\",\"Comprar\",\"Comprar\",\"Comprar\",\"Comprar\",\"Comprar\",\"Comprar\",\"Comprar\",\"Comprar\",\"Comprar\",\"Comprar\",\"Comprar\",\"Comprar\",\"Comprar\",\"Comprar\",\"Comprar\",\"Comprar\",\"Comprar\",\"Comprar\",\"Comprar\",\"Comprar\",\"Comprar\",\"Comprar\",\"Comprar\",\"Comprar\",\"Comprar\",\"Comprar\",\"Comprar\",\"Comprar\",\"Comprar\",\"Comprar\",\"Comprar\",\"Comprar\",\"Comprar\",\"Comprar\",\"Comprar\",\"Comprar\",\"Comprar\",\"Comprar\",\"Comprar\",\"Comprar\",\"Comprar\",\"Comprar\",\"Comprar\",\"Comprar\",\"Comprar\",\"Comprar\",\"Comprar\",\"Comprar\",\"Comprar\",\"Comprar\",\"Comprar\",\"Comprar\",\"Comprar\",\"Comprar\",\"Comprar\",\"Comprar\",\"Comprar\",\"Comprar\",\"Comprar\",\"Comprar\",\"Comprar\",\"Comprar\",\"Comprar\",\"Comprar\",\"Comprar\",\"Comprar\",\"Comprar\",\"Comprar\",\"Comprar\",\"Comprar\",\"Comprar\",\"Comprar\",\"Comprar\",\"Comprar\",\"Comprar\",\"Comprar\",\"Comprar\",\"Comprar\",\"Comprar\",\"Comprar\",\"Comprar\",\"Comprar\",\"Comprar\",\"Comprar\",\"Comprar\",\"Comprar\",\"Comprar\",\"Comprar\",\"Comprar\",\"Comprar\",\"Comprar\",\"Comprar\",\"Comprar\",\"Comprar\",\"Comprar\",\"Comprar\",\"Comprar\",\"Comprar\",\"Comprar\",\"Comprar\",\"Comprar\",\"Comprar\",\"Comprar\",\"Comprar\",\"Comprar\",\"Comprar\",\"Comprar\",\"Comprar\",\"Comprar\",\"Comprar\",\"Comprar\",\"Comprar\",\"Comprar\",\"Comprar\",\"Comprar\",\"Comprar\",\"Comprar\",\"Comprar\",\"Comprar\",\"Comprar\",\"Comprar\",\"Comprar\",\"Comprar\",\"Comprar\",\"Comprar\",\"Comprar\",\"Comprar\",\"Comprar\",\"Comprar\",\"Comprar\",\"Comprar\",\"Comprar\",\"Comprar\",\"Comprar\",\"Comprar\",\"Comprar\",\"Comprar\",\"Comprar\",\"Comprar\",\"Comprar\",\"Comprar\",\"Comprar\",\"Comprar\",\"Comprar\",\"Comprar\",\"Comprar\",\"Comprar\",\"Comprar\",\"Comprar\",\"Comprar\",\"Comprar\",\"Comprar\",\"Comprar\",\"Comprar\",\"Comprar\",\"Comprar\",\"Comprar\",\"Comprar\",\"Comprar\",\"Comprar\",\"Comprar\",\"Comprar\",\"Comprar\",\"Comprar\",\"Comprar\",\"Comprar\",\"Comprar\",\"Comprar\",\"Comprar\",\"Comprar\",\"Comprar\",\"Comprar\",\"Comprar\",\"Comprar\",\"Comprar\",\"Comprar\",\"Comprar\",\"Comprar\",\"Comprar\",\"Comprar\",\"Comprar\",\"Comprar\",\"Comprar\",\"Comprar\",\"Comprar\",\"Comprar\",\"Comprar\",\"Comprar\",\"Comprar\",\"Comprar\",\"Comprar\",\"Comprar\",\"Comprar\",\"Comprar\",\"Comprar\",\"Comprar\",\"Comprar\",\"Comprar\",\"Comprar\",\"Comprar\",\"Comprar\",\"Comprar\",\"Comprar\",\"Comprar\",\"Comprar\",\"Comprar\",\"Comprar\",\"Comprar\",\"Comprar\",\"Comprar\",\"Comprar\",\"Comprar\",\"Comprar\",\"Comprar\",\"Comprar\",\"Comprar\",\"Comprar\",\"Comprar\",\"Comprar\",\"Comprar\",\"Comprar\",\"Comprar\",\"Comprar\",\"Comprar\",\"Comprar\",\"Comprar\",\"Comprar\",\"Comprar\",\"Comprar\",\"Comprar\",\"Comprar\",\"Comprar\",\"Comprar\",\"Comprar\",\"Comprar\",\"Comprar\",\"Comprar\",\"Comprar\",\"Comprar\",\"Comprar\",\"Comprar\",\"Comprar\",\"Comprar\",\"Comprar\",\"Comprar\",\"Comprar\",\"Comprar\",\"Comprar\",\"Comprar\",\"Comprar\",\"Comprar\",\"Comprar\",\"Comprar\",\"Comprar\",\"Comprar\",\"Comprar\",\"Comprar\",\"Comprar\",\"Comprar\",\"Comprar\",\"Comprar\",\"Comprar\",\"Comprar\",\"Comprar\",\"Comprar\",\"Comprar\",\"Comprar\",\"Comprar\",\"Comprar\",\"Comprar\",\"Comprar\",\"Comprar\",\"Comprar\",\"Comprar\",\"Comprar\",\"Comprar\",\"Comprar\",\"Comprar\",\"Comprar\",\"Comprar\",\"Comprar\",\"Comprar\",\"Comprar\",\"Comprar\",\"Comprar\",\"Comprar\",\"Comprar\",\"Comprar\",\"Comprar\",\"Comprar\",\"Comprar\",\"Comprar\",\"Comprar\",\"Comprar\",\"Comprar\",\"Comprar\",\"Comprar\",\"Comprar\",\"Comprar\",\"Comprar\",\"Comprar\",\"Comprar\",\"Comprar\",\"Comprar\",\"Comprar\",\"Comprar\",\"Comprar\",\"Comprar\",\"Comprar\",\"Comprar\",\"Comprar\",\"Comprar\",\"Comprar\",\"Comprar\",\"Comprar\",\"Comprar\",\"Comprar\",\"Comprar\",\"Comprar\",\"Comprar\",\"Comprar\",\"Comprar\",\"Comprar\",\"Comprar\",\"Comprar\",\"Comprar\",\"Comprar\",\"Comprar\",\"Comprar\",\"Comprar\",\"Comprar\",\"Comprar\",\"Comprar\",\"Comprar\",\"Comprar\",\"Comprar\",\"Comprar\",\"Comprar\",\"Comprar\",\"Comprar\",\"Comprar\",\"Comprar\",\"Comprar\",\"Comprar\",\"Comprar\",\"Comprar\",\"Comprar\",\"Comprar\",\"Comprar\",\"Comprar\",\"Comprar\",\"Comprar\",\"Comprar\",\"Comprar\",\"Comprar\",\"Comprar\",\"Comprar\",\"Comprar\",\"Comprar\",\"Comprar\",\"Comprar\",\"Comprar\",\"Comprar\",\"Comprar\",\"Comprar\",\"Comprar\",\"Comprar\",\"Comprar\",\"Comprar\",\"Comprar\",\"Comprar\",\"Comprar\",\"Comprar\",\"Comprar\",\"Comprar\",\"Comprar\",\"Comprar\",\"Comprar\",\"Comprar\",\"Comprar\",\"Comprar\",\"Comprar\",\"Comprar\",\"Comprar\",\"Comprar\",\"Comprar\",\"Comprar\",\"Comprar\",\"Comprar\",\"Comprar\",\"Comprar\",\"Comprar\",\"Comprar\",\"Comprar\",\"Comprar\",\"Comprar\",\"Comprar\",\"Comprar\",\"Comprar\",\"Comprar\",\"Comprar\",\"Comprar\",\"Comprar\",\"Comprar\",\"Comprar\",\"Comprar\",\"Comprar\",\"Comprar\",\"Comprar\",\"Comprar\",\"Comprar\",\"Comprar\",\"Comprar\",\"Comprar\",\"Comprar\",\"Comprar\",\"Comprar\",\"Comprar\",\"Comprar\",\"Comprar\",\"Comprar\",\"Comprar\",\"Comprar\",\"Comprar\",\"Comprar\",\"Comprar\",\"Comprar\",\"Comprar\",\"Comprar\",\"Comprar\",\"Comprar\",\"Comprar\",\"Comprar\",\"Comprar\",\"Comprar\",\"Comprar\",\"Comprar\",\"Comprar\",\"Comprar\",\"Comprar\",\"Comprar\",\"Comprar\",\"Comprar\",\"Comprar\",\"Comprar\",\"Comprar\",\"Comprar\",\"Comprar\",\"Comprar\",\"Comprar\",\"Comprar\",\"Comprar\",\"Comprar\",\"Comprar\",\"Comprar\",\"Comprar\",\"Comprar\",\"Comprar\",\"Comprar\",\"Comprar\",\"Comprar\",\"Comprar\",\"Comprar\",\"Comprar\",\"Comprar\",\"Comprar\",\"Comprar\",\"Comprar\",\"Comprar\",\"Comprar\",\"Comprar\",\"Comprar\",\"Comprar\",\"Comprar\",\"Comprar\",\"Comprar\",\"Comprar\",\"Comprar\",\"Comprar\",\"Comprar\",\"Comprar\",\"Comprar\",\"Comprar\",\"Comprar\",\"Comprar\"],\"xaxis\":\"x\",\"yaxis\":\"y\",\"type\":\"histogram\"},{\"alignmentgroup\":\"True\",\"bingroup\":\"x\",\"hovertemplate\":\"decisao=%{x}<br>count=%{y}<extra></extra>\",\"legendgroup\":\"Vender\",\"marker\":{\"color\":\"#EF553B\",\"pattern\":{\"shape\":\"\"}},\"name\":\"Vender\",\"offsetgroup\":\"Vender\",\"orientation\":\"v\",\"showlegend\":true,\"x\":[\"Vender\",\"Vender\",\"Vender\",\"Vender\",\"Vender\",\"Vender\",\"Vender\",\"Vender\",\"Vender\",\"Vender\",\"Vender\",\"Vender\",\"Vender\",\"Vender\",\"Vender\",\"Vender\",\"Vender\",\"Vender\",\"Vender\",\"Vender\",\"Vender\",\"Vender\",\"Vender\",\"Vender\",\"Vender\",\"Vender\",\"Vender\",\"Vender\",\"Vender\",\"Vender\",\"Vender\",\"Vender\",\"Vender\",\"Vender\",\"Vender\",\"Vender\",\"Vender\",\"Vender\",\"Vender\",\"Vender\",\"Vender\",\"Vender\",\"Vender\",\"Vender\",\"Vender\",\"Vender\",\"Vender\",\"Vender\",\"Vender\",\"Vender\",\"Vender\",\"Vender\",\"Vender\",\"Vender\",\"Vender\",\"Vender\",\"Vender\",\"Vender\",\"Vender\",\"Vender\",\"Vender\",\"Vender\",\"Vender\",\"Vender\",\"Vender\",\"Vender\",\"Vender\",\"Vender\",\"Vender\",\"Vender\",\"Vender\",\"Vender\",\"Vender\",\"Vender\",\"Vender\",\"Vender\",\"Vender\",\"Vender\",\"Vender\",\"Vender\",\"Vender\",\"Vender\",\"Vender\",\"Vender\",\"Vender\",\"Vender\",\"Vender\",\"Vender\",\"Vender\",\"Vender\",\"Vender\",\"Vender\",\"Vender\",\"Vender\",\"Vender\",\"Vender\",\"Vender\",\"Vender\",\"Vender\",\"Vender\",\"Vender\",\"Vender\",\"Vender\",\"Vender\",\"Vender\",\"Vender\",\"Vender\",\"Vender\",\"Vender\",\"Vender\",\"Vender\",\"Vender\",\"Vender\",\"Vender\",\"Vender\",\"Vender\",\"Vender\",\"Vender\",\"Vender\",\"Vender\",\"Vender\",\"Vender\",\"Vender\",\"Vender\",\"Vender\",\"Vender\",\"Vender\",\"Vender\",\"Vender\",\"Vender\",\"Vender\",\"Vender\",\"Vender\",\"Vender\",\"Vender\",\"Vender\",\"Vender\",\"Vender\",\"Vender\",\"Vender\",\"Vender\",\"Vender\",\"Vender\",\"Vender\",\"Vender\",\"Vender\",\"Vender\",\"Vender\",\"Vender\",\"Vender\",\"Vender\",\"Vender\",\"Vender\",\"Vender\",\"Vender\",\"Vender\",\"Vender\",\"Vender\",\"Vender\",\"Vender\",\"Vender\",\"Vender\",\"Vender\",\"Vender\",\"Vender\",\"Vender\",\"Vender\",\"Vender\",\"Vender\",\"Vender\",\"Vender\",\"Vender\",\"Vender\",\"Vender\",\"Vender\",\"Vender\",\"Vender\",\"Vender\",\"Vender\",\"Vender\",\"Vender\",\"Vender\",\"Vender\",\"Vender\",\"Vender\",\"Vender\",\"Vender\",\"Vender\",\"Vender\",\"Vender\",\"Vender\",\"Vender\",\"Vender\",\"Vender\",\"Vender\",\"Vender\",\"Vender\",\"Vender\",\"Vender\",\"Vender\",\"Vender\",\"Vender\",\"Vender\",\"Vender\",\"Vender\",\"Vender\",\"Vender\",\"Vender\",\"Vender\",\"Vender\",\"Vender\",\"Vender\",\"Vender\",\"Vender\",\"Vender\",\"Vender\",\"Vender\",\"Vender\",\"Vender\",\"Vender\",\"Vender\",\"Vender\",\"Vender\",\"Vender\",\"Vender\",\"Vender\",\"Vender\",\"Vender\",\"Vender\",\"Vender\",\"Vender\",\"Vender\",\"Vender\",\"Vender\",\"Vender\",\"Vender\",\"Vender\",\"Vender\",\"Vender\",\"Vender\",\"Vender\",\"Vender\",\"Vender\",\"Vender\",\"Vender\",\"Vender\",\"Vender\",\"Vender\",\"Vender\",\"Vender\",\"Vender\",\"Vender\",\"Vender\",\"Vender\",\"Vender\",\"Vender\",\"Vender\",\"Vender\",\"Vender\",\"Vender\",\"Vender\",\"Vender\",\"Vender\",\"Vender\",\"Vender\",\"Vender\",\"Vender\",\"Vender\",\"Vender\",\"Vender\",\"Vender\",\"Vender\",\"Vender\",\"Vender\",\"Vender\",\"Vender\",\"Vender\",\"Vender\",\"Vender\",\"Vender\",\"Vender\",\"Vender\",\"Vender\",\"Vender\",\"Vender\",\"Vender\",\"Vender\",\"Vender\",\"Vender\",\"Vender\",\"Vender\",\"Vender\",\"Vender\",\"Vender\",\"Vender\",\"Vender\",\"Vender\",\"Vender\",\"Vender\",\"Vender\",\"Vender\",\"Vender\",\"Vender\",\"Vender\",\"Vender\",\"Vender\",\"Vender\",\"Vender\",\"Vender\",\"Vender\",\"Vender\",\"Vender\",\"Vender\",\"Vender\",\"Vender\",\"Vender\",\"Vender\",\"Vender\",\"Vender\",\"Vender\",\"Vender\",\"Vender\",\"Vender\",\"Vender\",\"Vender\",\"Vender\",\"Vender\",\"Vender\",\"Vender\",\"Vender\",\"Vender\",\"Vender\",\"Vender\",\"Vender\",\"Vender\",\"Vender\",\"Vender\",\"Vender\",\"Vender\",\"Vender\",\"Vender\",\"Vender\",\"Vender\",\"Vender\",\"Vender\",\"Vender\",\"Vender\",\"Vender\",\"Vender\",\"Vender\",\"Vender\",\"Vender\",\"Vender\",\"Vender\",\"Vender\",\"Vender\",\"Vender\",\"Vender\",\"Vender\",\"Vender\",\"Vender\",\"Vender\",\"Vender\",\"Vender\",\"Vender\",\"Vender\",\"Vender\",\"Vender\",\"Vender\",\"Vender\",\"Vender\",\"Vender\",\"Vender\",\"Vender\",\"Vender\",\"Vender\",\"Vender\",\"Vender\",\"Vender\",\"Vender\",\"Vender\",\"Vender\",\"Vender\",\"Vender\",\"Vender\",\"Vender\",\"Vender\",\"Vender\",\"Vender\",\"Vender\",\"Vender\",\"Vender\",\"Vender\",\"Vender\",\"Vender\",\"Vender\",\"Vender\",\"Vender\",\"Vender\",\"Vender\",\"Vender\",\"Vender\",\"Vender\",\"Vender\",\"Vender\",\"Vender\",\"Vender\",\"Vender\",\"Vender\",\"Vender\",\"Vender\",\"Vender\",\"Vender\",\"Vender\",\"Vender\",\"Vender\",\"Vender\",\"Vender\",\"Vender\",\"Vender\",\"Vender\",\"Vender\",\"Vender\",\"Vender\",\"Vender\",\"Vender\",\"Vender\",\"Vender\",\"Vender\",\"Vender\",\"Vender\",\"Vender\",\"Vender\",\"Vender\",\"Vender\",\"Vender\",\"Vender\",\"Vender\",\"Vender\",\"Vender\",\"Vender\",\"Vender\",\"Vender\",\"Vender\",\"Vender\",\"Vender\",\"Vender\",\"Vender\",\"Vender\",\"Vender\",\"Vender\",\"Vender\",\"Vender\",\"Vender\",\"Vender\",\"Vender\",\"Vender\",\"Vender\",\"Vender\",\"Vender\",\"Vender\",\"Vender\",\"Vender\",\"Vender\",\"Vender\",\"Vender\",\"Vender\",\"Vender\",\"Vender\",\"Vender\",\"Vender\",\"Vender\",\"Vender\",\"Vender\",\"Vender\",\"Vender\",\"Vender\",\"Vender\",\"Vender\",\"Vender\",\"Vender\",\"Vender\",\"Vender\",\"Vender\",\"Vender\",\"Vender\",\"Vender\",\"Vender\",\"Vender\",\"Vender\",\"Vender\",\"Vender\",\"Vender\",\"Vender\",\"Vender\",\"Vender\",\"Vender\",\"Vender\",\"Vender\",\"Vender\",\"Vender\",\"Vender\",\"Vender\",\"Vender\",\"Vender\",\"Vender\",\"Vender\",\"Vender\",\"Vender\",\"Vender\",\"Vender\",\"Vender\",\"Vender\",\"Vender\",\"Vender\",\"Vender\",\"Vender\",\"Vender\",\"Vender\",\"Vender\",\"Vender\",\"Vender\",\"Vender\",\"Vender\",\"Vender\",\"Vender\",\"Vender\",\"Vender\",\"Vender\",\"Vender\",\"Vender\",\"Vender\",\"Vender\",\"Vender\",\"Vender\",\"Vender\",\"Vender\",\"Vender\",\"Vender\",\"Vender\",\"Vender\",\"Vender\",\"Vender\",\"Vender\",\"Vender\",\"Vender\",\"Vender\",\"Vender\",\"Vender\",\"Vender\",\"Vender\",\"Vender\",\"Vender\",\"Vender\",\"Vender\",\"Vender\",\"Vender\",\"Vender\",\"Vender\",\"Vender\",\"Vender\",\"Vender\",\"Vender\",\"Vender\",\"Vender\",\"Vender\",\"Vender\",\"Vender\",\"Vender\",\"Vender\",\"Vender\",\"Vender\",\"Vender\",\"Vender\",\"Vender\",\"Vender\",\"Vender\",\"Vender\",\"Vender\",\"Vender\",\"Vender\",\"Vender\",\"Vender\",\"Vender\",\"Vender\",\"Vender\",\"Vender\",\"Vender\",\"Vender\",\"Vender\",\"Vender\",\"Vender\",\"Vender\",\"Vender\",\"Vender\",\"Vender\",\"Vender\",\"Vender\",\"Vender\",\"Vender\",\"Vender\",\"Vender\",\"Vender\",\"Vender\",\"Vender\",\"Vender\",\"Vender\",\"Vender\",\"Vender\",\"Vender\",\"Vender\",\"Vender\",\"Vender\",\"Vender\",\"Vender\",\"Vender\",\"Vender\",\"Vender\",\"Vender\",\"Vender\",\"Vender\",\"Vender\",\"Vender\",\"Vender\",\"Vender\",\"Vender\",\"Vender\",\"Vender\",\"Vender\",\"Vender\",\"Vender\",\"Vender\",\"Vender\",\"Vender\",\"Vender\",\"Vender\",\"Vender\",\"Vender\",\"Vender\",\"Vender\",\"Vender\",\"Vender\",\"Vender\",\"Vender\",\"Vender\",\"Vender\",\"Vender\",\"Vender\",\"Vender\",\"Vender\",\"Vender\",\"Vender\",\"Vender\",\"Vender\",\"Vender\",\"Vender\",\"Vender\",\"Vender\",\"Vender\",\"Vender\",\"Vender\",\"Vender\",\"Vender\",\"Vender\",\"Vender\",\"Vender\",\"Vender\",\"Vender\",\"Vender\",\"Vender\",\"Vender\",\"Vender\",\"Vender\",\"Vender\",\"Vender\",\"Vender\",\"Vender\",\"Vender\",\"Vender\",\"Vender\",\"Vender\",\"Vender\",\"Vender\",\"Vender\",\"Vender\",\"Vender\",\"Vender\",\"Vender\",\"Vender\",\"Vender\",\"Vender\",\"Vender\",\"Vender\",\"Vender\",\"Vender\",\"Vender\",\"Vender\",\"Vender\",\"Vender\",\"Vender\",\"Vender\",\"Vender\",\"Vender\",\"Vender\",\"Vender\",\"Vender\",\"Vender\",\"Vender\",\"Vender\",\"Vender\",\"Vender\",\"Vender\",\"Vender\",\"Vender\",\"Vender\",\"Vender\",\"Vender\",\"Vender\",\"Vender\",\"Vender\",\"Vender\",\"Vender\",\"Vender\",\"Vender\",\"Vender\",\"Vender\",\"Vender\",\"Vender\",\"Vender\",\"Vender\",\"Vender\",\"Vender\",\"Vender\",\"Vender\",\"Vender\",\"Vender\",\"Vender\",\"Vender\",\"Vender\",\"Vender\",\"Vender\",\"Vender\",\"Vender\",\"Vender\",\"Vender\",\"Vender\",\"Vender\",\"Vender\",\"Vender\",\"Vender\",\"Vender\",\"Vender\",\"Vender\",\"Vender\",\"Vender\",\"Vender\",\"Vender\",\"Vender\",\"Vender\",\"Vender\",\"Vender\",\"Vender\",\"Vender\",\"Vender\",\"Vender\",\"Vender\",\"Vender\",\"Vender\",\"Vender\",\"Vender\",\"Vender\",\"Vender\",\"Vender\",\"Vender\",\"Vender\",\"Vender\",\"Vender\",\"Vender\",\"Vender\",\"Vender\",\"Vender\",\"Vender\",\"Vender\",\"Vender\",\"Vender\",\"Vender\",\"Vender\",\"Vender\",\"Vender\",\"Vender\",\"Vender\",\"Vender\",\"Vender\",\"Vender\",\"Vender\",\"Vender\",\"Vender\",\"Vender\",\"Vender\",\"Vender\",\"Vender\",\"Vender\",\"Vender\",\"Vender\",\"Vender\",\"Vender\",\"Vender\",\"Vender\",\"Vender\",\"Vender\",\"Vender\",\"Vender\",\"Vender\",\"Vender\",\"Vender\",\"Vender\",\"Vender\",\"Vender\",\"Vender\",\"Vender\",\"Vender\",\"Vender\",\"Vender\",\"Vender\",\"Vender\",\"Vender\",\"Vender\",\"Vender\",\"Vender\",\"Vender\",\"Vender\",\"Vender\",\"Vender\",\"Vender\",\"Vender\",\"Vender\",\"Vender\",\"Vender\",\"Vender\",\"Vender\",\"Vender\",\"Vender\",\"Vender\",\"Vender\",\"Vender\",\"Vender\",\"Vender\",\"Vender\",\"Vender\",\"Vender\",\"Vender\",\"Vender\",\"Vender\",\"Vender\",\"Vender\",\"Vender\",\"Vender\",\"Vender\",\"Vender\",\"Vender\",\"Vender\",\"Vender\",\"Vender\",\"Vender\",\"Vender\",\"Vender\",\"Vender\",\"Vender\",\"Vender\",\"Vender\",\"Vender\",\"Vender\",\"Vender\",\"Vender\",\"Vender\",\"Vender\",\"Vender\",\"Vender\",\"Vender\",\"Vender\",\"Vender\",\"Vender\",\"Vender\",\"Vender\",\"Vender\",\"Vender\",\"Vender\",\"Vender\",\"Vender\",\"Vender\",\"Vender\",\"Vender\",\"Vender\",\"Vender\",\"Vender\",\"Vender\",\"Vender\",\"Vender\",\"Vender\",\"Vender\",\"Vender\",\"Vender\",\"Vender\",\"Vender\",\"Vender\",\"Vender\",\"Vender\",\"Vender\",\"Vender\",\"Vender\",\"Vender\",\"Vender\",\"Vender\",\"Vender\",\"Vender\",\"Vender\",\"Vender\",\"Vender\",\"Vender\",\"Vender\",\"Vender\",\"Vender\",\"Vender\"],\"xaxis\":\"x\",\"yaxis\":\"y\",\"type\":\"histogram\"}],                        {\"template\":{\"data\":{\"bar\":[{\"error_x\":{\"color\":\"#2a3f5f\"},\"error_y\":{\"color\":\"#2a3f5f\"},\"marker\":{\"line\":{\"color\":\"#E5ECF6\",\"width\":0.5},\"pattern\":{\"fillmode\":\"overlay\",\"size\":10,\"solidity\":0.2}},\"type\":\"bar\"}],\"barpolar\":[{\"marker\":{\"line\":{\"color\":\"#E5ECF6\",\"width\":0.5},\"pattern\":{\"fillmode\":\"overlay\",\"size\":10,\"solidity\":0.2}},\"type\":\"barpolar\"}],\"carpet\":[{\"aaxis\":{\"endlinecolor\":\"#2a3f5f\",\"gridcolor\":\"white\",\"linecolor\":\"white\",\"minorgridcolor\":\"white\",\"startlinecolor\":\"#2a3f5f\"},\"baxis\":{\"endlinecolor\":\"#2a3f5f\",\"gridcolor\":\"white\",\"linecolor\":\"white\",\"minorgridcolor\":\"white\",\"startlinecolor\":\"#2a3f5f\"},\"type\":\"carpet\"}],\"choropleth\":[{\"colorbar\":{\"outlinewidth\":0,\"ticks\":\"\"},\"type\":\"choropleth\"}],\"contour\":[{\"colorbar\":{\"outlinewidth\":0,\"ticks\":\"\"},\"colorscale\":[[0.0,\"#0d0887\"],[0.1111111111111111,\"#46039f\"],[0.2222222222222222,\"#7201a8\"],[0.3333333333333333,\"#9c179e\"],[0.4444444444444444,\"#bd3786\"],[0.5555555555555556,\"#d8576b\"],[0.6666666666666666,\"#ed7953\"],[0.7777777777777778,\"#fb9f3a\"],[0.8888888888888888,\"#fdca26\"],[1.0,\"#f0f921\"]],\"type\":\"contour\"}],\"contourcarpet\":[{\"colorbar\":{\"outlinewidth\":0,\"ticks\":\"\"},\"type\":\"contourcarpet\"}],\"heatmap\":[{\"colorbar\":{\"outlinewidth\":0,\"ticks\":\"\"},\"colorscale\":[[0.0,\"#0d0887\"],[0.1111111111111111,\"#46039f\"],[0.2222222222222222,\"#7201a8\"],[0.3333333333333333,\"#9c179e\"],[0.4444444444444444,\"#bd3786\"],[0.5555555555555556,\"#d8576b\"],[0.6666666666666666,\"#ed7953\"],[0.7777777777777778,\"#fb9f3a\"],[0.8888888888888888,\"#fdca26\"],[1.0,\"#f0f921\"]],\"type\":\"heatmap\"}],\"heatmapgl\":[{\"colorbar\":{\"outlinewidth\":0,\"ticks\":\"\"},\"colorscale\":[[0.0,\"#0d0887\"],[0.1111111111111111,\"#46039f\"],[0.2222222222222222,\"#7201a8\"],[0.3333333333333333,\"#9c179e\"],[0.4444444444444444,\"#bd3786\"],[0.5555555555555556,\"#d8576b\"],[0.6666666666666666,\"#ed7953\"],[0.7777777777777778,\"#fb9f3a\"],[0.8888888888888888,\"#fdca26\"],[1.0,\"#f0f921\"]],\"type\":\"heatmapgl\"}],\"histogram\":[{\"marker\":{\"pattern\":{\"fillmode\":\"overlay\",\"size\":10,\"solidity\":0.2}},\"type\":\"histogram\"}],\"histogram2d\":[{\"colorbar\":{\"outlinewidth\":0,\"ticks\":\"\"},\"colorscale\":[[0.0,\"#0d0887\"],[0.1111111111111111,\"#46039f\"],[0.2222222222222222,\"#7201a8\"],[0.3333333333333333,\"#9c179e\"],[0.4444444444444444,\"#bd3786\"],[0.5555555555555556,\"#d8576b\"],[0.6666666666666666,\"#ed7953\"],[0.7777777777777778,\"#fb9f3a\"],[0.8888888888888888,\"#fdca26\"],[1.0,\"#f0f921\"]],\"type\":\"histogram2d\"}],\"histogram2dcontour\":[{\"colorbar\":{\"outlinewidth\":0,\"ticks\":\"\"},\"colorscale\":[[0.0,\"#0d0887\"],[0.1111111111111111,\"#46039f\"],[0.2222222222222222,\"#7201a8\"],[0.3333333333333333,\"#9c179e\"],[0.4444444444444444,\"#bd3786\"],[0.5555555555555556,\"#d8576b\"],[0.6666666666666666,\"#ed7953\"],[0.7777777777777778,\"#fb9f3a\"],[0.8888888888888888,\"#fdca26\"],[1.0,\"#f0f921\"]],\"type\":\"histogram2dcontour\"}],\"mesh3d\":[{\"colorbar\":{\"outlinewidth\":0,\"ticks\":\"\"},\"type\":\"mesh3d\"}],\"parcoords\":[{\"line\":{\"colorbar\":{\"outlinewidth\":0,\"ticks\":\"\"}},\"type\":\"parcoords\"}],\"pie\":[{\"automargin\":true,\"type\":\"pie\"}],\"scatter\":[{\"marker\":{\"colorbar\":{\"outlinewidth\":0,\"ticks\":\"\"}},\"type\":\"scatter\"}],\"scatter3d\":[{\"line\":{\"colorbar\":{\"outlinewidth\":0,\"ticks\":\"\"}},\"marker\":{\"colorbar\":{\"outlinewidth\":0,\"ticks\":\"\"}},\"type\":\"scatter3d\"}],\"scattercarpet\":[{\"marker\":{\"colorbar\":{\"outlinewidth\":0,\"ticks\":\"\"}},\"type\":\"scattercarpet\"}],\"scattergeo\":[{\"marker\":{\"colorbar\":{\"outlinewidth\":0,\"ticks\":\"\"}},\"type\":\"scattergeo\"}],\"scattergl\":[{\"marker\":{\"colorbar\":{\"outlinewidth\":0,\"ticks\":\"\"}},\"type\":\"scattergl\"}],\"scattermapbox\":[{\"marker\":{\"colorbar\":{\"outlinewidth\":0,\"ticks\":\"\"}},\"type\":\"scattermapbox\"}],\"scatterpolar\":[{\"marker\":{\"colorbar\":{\"outlinewidth\":0,\"ticks\":\"\"}},\"type\":\"scatterpolar\"}],\"scatterpolargl\":[{\"marker\":{\"colorbar\":{\"outlinewidth\":0,\"ticks\":\"\"}},\"type\":\"scatterpolargl\"}],\"scatterternary\":[{\"marker\":{\"colorbar\":{\"outlinewidth\":0,\"ticks\":\"\"}},\"type\":\"scatterternary\"}],\"surface\":[{\"colorbar\":{\"outlinewidth\":0,\"ticks\":\"\"},\"colorscale\":[[0.0,\"#0d0887\"],[0.1111111111111111,\"#46039f\"],[0.2222222222222222,\"#7201a8\"],[0.3333333333333333,\"#9c179e\"],[0.4444444444444444,\"#bd3786\"],[0.5555555555555556,\"#d8576b\"],[0.6666666666666666,\"#ed7953\"],[0.7777777777777778,\"#fb9f3a\"],[0.8888888888888888,\"#fdca26\"],[1.0,\"#f0f921\"]],\"type\":\"surface\"}],\"table\":[{\"cells\":{\"fill\":{\"color\":\"#EBF0F8\"},\"line\":{\"color\":\"white\"}},\"header\":{\"fill\":{\"color\":\"#C8D4E3\"},\"line\":{\"color\":\"white\"}},\"type\":\"table\"}]},\"layout\":{\"annotationdefaults\":{\"arrowcolor\":\"#2a3f5f\",\"arrowhead\":0,\"arrowwidth\":1},\"autotypenumbers\":\"strict\",\"coloraxis\":{\"colorbar\":{\"outlinewidth\":0,\"ticks\":\"\"}},\"colorscale\":{\"diverging\":[[0,\"#8e0152\"],[0.1,\"#c51b7d\"],[0.2,\"#de77ae\"],[0.3,\"#f1b6da\"],[0.4,\"#fde0ef\"],[0.5,\"#f7f7f7\"],[0.6,\"#e6f5d0\"],[0.7,\"#b8e186\"],[0.8,\"#7fbc41\"],[0.9,\"#4d9221\"],[1,\"#276419\"]],\"sequential\":[[0.0,\"#0d0887\"],[0.1111111111111111,\"#46039f\"],[0.2222222222222222,\"#7201a8\"],[0.3333333333333333,\"#9c179e\"],[0.4444444444444444,\"#bd3786\"],[0.5555555555555556,\"#d8576b\"],[0.6666666666666666,\"#ed7953\"],[0.7777777777777778,\"#fb9f3a\"],[0.8888888888888888,\"#fdca26\"],[1.0,\"#f0f921\"]],\"sequentialminus\":[[0.0,\"#0d0887\"],[0.1111111111111111,\"#46039f\"],[0.2222222222222222,\"#7201a8\"],[0.3333333333333333,\"#9c179e\"],[0.4444444444444444,\"#bd3786\"],[0.5555555555555556,\"#d8576b\"],[0.6666666666666666,\"#ed7953\"],[0.7777777777777778,\"#fb9f3a\"],[0.8888888888888888,\"#fdca26\"],[1.0,\"#f0f921\"]]},\"colorway\":[\"#636efa\",\"#EF553B\",\"#00cc96\",\"#ab63fa\",\"#FFA15A\",\"#19d3f3\",\"#FF6692\",\"#B6E880\",\"#FF97FF\",\"#FECB52\"],\"font\":{\"color\":\"#2a3f5f\"},\"geo\":{\"bgcolor\":\"white\",\"lakecolor\":\"white\",\"landcolor\":\"#E5ECF6\",\"showlakes\":true,\"showland\":true,\"subunitcolor\":\"white\"},\"hoverlabel\":{\"align\":\"left\"},\"hovermode\":\"closest\",\"mapbox\":{\"style\":\"light\"},\"paper_bgcolor\":\"white\",\"plot_bgcolor\":\"#E5ECF6\",\"polar\":{\"angularaxis\":{\"gridcolor\":\"white\",\"linecolor\":\"white\",\"ticks\":\"\"},\"bgcolor\":\"#E5ECF6\",\"radialaxis\":{\"gridcolor\":\"white\",\"linecolor\":\"white\",\"ticks\":\"\"}},\"scene\":{\"xaxis\":{\"backgroundcolor\":\"#E5ECF6\",\"gridcolor\":\"white\",\"gridwidth\":2,\"linecolor\":\"white\",\"showbackground\":true,\"ticks\":\"\",\"zerolinecolor\":\"white\"},\"yaxis\":{\"backgroundcolor\":\"#E5ECF6\",\"gridcolor\":\"white\",\"gridwidth\":2,\"linecolor\":\"white\",\"showbackground\":true,\"ticks\":\"\",\"zerolinecolor\":\"white\"},\"zaxis\":{\"backgroundcolor\":\"#E5ECF6\",\"gridcolor\":\"white\",\"gridwidth\":2,\"linecolor\":\"white\",\"showbackground\":true,\"ticks\":\"\",\"zerolinecolor\":\"white\"}},\"shapedefaults\":{\"line\":{\"color\":\"#2a3f5f\"}},\"ternary\":{\"aaxis\":{\"gridcolor\":\"white\",\"linecolor\":\"white\",\"ticks\":\"\"},\"baxis\":{\"gridcolor\":\"white\",\"linecolor\":\"white\",\"ticks\":\"\"},\"bgcolor\":\"#E5ECF6\",\"caxis\":{\"gridcolor\":\"white\",\"linecolor\":\"white\",\"ticks\":\"\"}},\"title\":{\"x\":0.05},\"xaxis\":{\"automargin\":true,\"gridcolor\":\"white\",\"linecolor\":\"white\",\"ticks\":\"\",\"title\":{\"standoff\":15},\"zerolinecolor\":\"white\",\"zerolinewidth\":2},\"yaxis\":{\"automargin\":true,\"gridcolor\":\"white\",\"linecolor\":\"white\",\"ticks\":\"\",\"title\":{\"standoff\":15},\"zerolinecolor\":\"white\",\"zerolinewidth\":2}}},\"xaxis\":{\"anchor\":\"y\",\"domain\":[0.0,1.0],\"title\":{\"text\":\"decisao\"},\"categoryorder\":\"array\",\"categoryarray\":[\"Comprar\",\"Vender\"]},\"yaxis\":{\"anchor\":\"x\",\"domain\":[0.0,1.0],\"title\":{\"text\":\"count\"}},\"legend\":{\"title\":{\"text\":\"decisao\"},\"tracegroupgap\":0},\"margin\":{\"t\":60},\"barmode\":\"relative\",\"height\":400,\"width\":600,\"bargap\":0.5},                        {\"responsive\": true}                    ).then(function(){\n",
       "                            \n",
       "var gd = document.getElementById('88d5724d-5a52-48ec-a211-da207df4b559');\n",
       "var x = new MutationObserver(function (mutations, observer) {{\n",
       "        var display = window.getComputedStyle(gd).display;\n",
       "        if (!display || display === 'none') {{\n",
       "            console.log([gd, 'removed!']);\n",
       "            Plotly.purge(gd);\n",
       "            observer.disconnect();\n",
       "        }}\n",
       "}});\n",
       "\n",
       "// Listen for the removal of the full notebook cells\n",
       "var notebookContainer = gd.closest('#notebook-container');\n",
       "if (notebookContainer) {{\n",
       "    x.observe(notebookContainer, {childList: true});\n",
       "}}\n",
       "\n",
       "// Listen for the clearing of the current output cell\n",
       "var outputEl = gd.closest('.output');\n",
       "if (outputEl) {{\n",
       "    x.observe(outputEl, {childList: true});\n",
       "}}\n",
       "\n",
       "                        })                };                });            </script>        </div>"
      ]
     },
     "metadata": {},
     "output_type": "display_data"
    },
    {
     "data": {
      "image/png": "[encoded data removed]",
      "text/plain": [
       "<Figure size 1080x720 with 2 Axes>"
      ]
     },
     "metadata": {
      "needs_background": "light"
     },
     "output_type": "display_data"
    },
    {
     "name": "stdout",
     "output_type": "stream",
     "text": [
      "#-#-#-#-#-#-#-#-#-#-#-#-#-#-#-#-#-#-#-#-#-#-#-#-#-#-#-#-#-#-#-#-#-#-#-#-#-#-#-#-\n",
      "\n",
      "Feature selection select k best\n",
      "\n",
      "\n",
      "6 melhores variaveis:\n",
      "['outros_ativos_circ', 'receita_liq', 'resultado_bruto', 'despesas_gerais', 'resultado_antes_trib', 'lucro_op'] \n",
      "\n",
      "Colunas a remover do df original:  {'passivo_nao_circ', 'imobilizado', 'ativo_permanente', 'passivo_total', 'caixa_equiv_caixa', 'financeiras', 'outros_ativos_nao_circ', 'passivo_circ', 'capital_social', 'patrimonio_liq', 'ativo_total', 'custo_bens_servicos', 'ativo_circ', 'intangivel'}\n",
      "\n",
      "Correlacoes apos remover colunas\n",
      "\n"
     ]
    },
    {
     "data": {
      "image/png": "[encoded data removed]",
      "text/plain": [
       "<Figure size 1080x720 with 2 Axes>"
      ]
     },
     "metadata": {
      "needs_background": "light"
     },
     "output_type": "display_data"
    },
    {
     "name": "stdout",
     "output_type": "stream",
     "text": [
      "Remover coluna resultado_bruto por ter correlacao com receita_liq\n",
      "Colunas a remover do df original:  {'resultado_bruto'}\n",
      "\n",
      "Correlacoes apos remover colunas\n",
      "\n"
     ]
    },
    {
     "data": {
      "image/png": "[encoded data removed]",
      "text/plain": [
       "<Figure size 1080x720 with 2 Axes>"
      ]
     },
     "metadata": {
      "needs_background": "light"
     },
     "output_type": "display_data"
    },
    {
     "name": "stdout",
     "output_type": "stream",
     "text": [
      "#-#-#-#-#-#-#-#-#-#-#-#-#-#-#-#-#-#-#-#-#-#-#-#-#-#-#-#-#-#-#-#-#-#-#-#-#-#-#-#-\n",
      "                 Generalized Linear Model Regression Results                  \n",
      "==============================================================================\n",
      "Dep. Variable:                decisao   No. Observations:                 1852\n",
      "Model:                            GLM   Df Residuals:                     1846\n",
      "Model Family:                Binomial   Df Model:                            5\n",
      "Link Function:                  logit   Scale:                          1.0000\n",
      "Method:                          IRLS   Log-Likelihood:                -1267.9\n",
      "Date:                Wed, 02 Feb 2022   Deviance:                       2535.8\n",
      "Time:                        21:13:13   Pearson chi2:                 1.87e+03\n",
      "No. Iterations:                    15                                         \n",
      "Covariance Type:            nonrobust                                         \n",
      "========================================================================================\n",
      "                           coef    std err          z      P>|z|      [0.025      0.975]\n",
      "----------------------------------------------------------------------------------------\n",
      "Intercept                0.0057      0.047      0.121      0.904      -0.087       0.098\n",
      "outros_ativos_circ   -1.724e-05   1.27e-05     -1.362      0.173    -4.2e-05    7.56e-06\n",
      "receita_liq             -0.0022      0.001     -2.776      0.006      -0.004      -0.001\n",
      "despesas_gerais          0.0720      0.074      0.977      0.329      -0.072       0.216\n",
      "resultado_antes_trib     0.0479      0.017      2.879      0.004       0.015       0.080\n",
      "lucro_op                 0.0003      0.000      0.804      0.422      -0.000       0.001\n",
      "========================================================================================\n"
     ]
    }
   ],
   "source": [
    "def main():\n",
    "#     print(\"Analise e feature selection notebook\\n\\n\")\n",
    "\n",
    "    df = carregar_joblib()\n",
    "\n",
    "    print(f\"Carregado df com {df.shape[0]} linhas e {df.shape[1]} colunas.\\n\")\n",
    "    print(f\"Colunas carregadas: {[col for col in df.columns]}\\n\\n\")\n",
    "\n",
    "    print_histograma_comprar_vender(df)\n",
    "\n",
    "    print_correlacoes(df)\n",
    "\n",
    "    print(\"#-\" * 40)\n",
    "    best_features = feat_sel_select_k_best(df)\n",
    "    \n",
    "    df = remover_variaveis_ja_explicadas(df, manter_variaveis=best_features)\n",
    "\n",
    "    print(\"\\nCorrelacoes apos remover colunas\\n\")\n",
    "\n",
    "    print_correlacoes(df)\n",
    "\n",
    "    print(\"Remover coluna resultado_bruto por ter correlacao com receita_liq\")\n",
    "\n",
    "    df = remover_variaveis_ja_explicadas(df, manter_variaveis=['outros_ativos_circ', 'receita_liq', 'despesas_gerais', 'resultado_antes_trib', 'lucro_op'])\n",
    "\n",
    "    print(\"\\nCorrelacoes apos remover colunas\\n\")\n",
    "\n",
    "    print_correlacoes(df)\n",
    "\n",
    "    print(\"#-\" * 40)\n",
    "\n",
    "    print_p_value(df)\n",
    "\n",
    "    # salvar_df_in_joblib(df, \"../out/result_analise_desc.joblib\")\n",
    "\n",
    "    return df\n",
    "\n",
    "    \n",
    "df = main()"
   ]
  }
 ],
 "metadata": {
  "interpreter": {
   "hash": "8ab34ce4145f682337f5fa161ec816727aecde41915875d0a837a5ffe57556a8"
  },
  "kernelspec": {
   "display_name": "Python 3",
   "language": "python",
   "name": "python3"
  },
  "language_info": {
   "codemirror_mode": {
    "name": "ipython",
    "version": 3
   },
   "file_extension": ".py",
   "mimetype": "text/x-python",
   "name": "python",
   "nbconvert_exporter": "python",
   "pygments_lexer": "ipython3",
   "version": "3.8.11"
  }
 },
 "nbformat": 4,
 "nbformat_minor": 2
}
