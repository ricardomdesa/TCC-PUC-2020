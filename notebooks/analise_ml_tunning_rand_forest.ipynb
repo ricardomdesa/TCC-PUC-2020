{
 "cells": [
  {
   "cell_type": "markdown",
   "metadata": {},
   "source": [
    "# 5.1 Criação de Modelos de Machine Learning - Tunning"
   ]
  },
  {
   "cell_type": "markdown",
   "metadata": {},
   "source": [
    "## Random Forest"
   ]
  },
  {
   "cell_type": "markdown",
   "metadata": {},
   "source": [
    "## Carregar dados tratados"
   ]
  },
  {
   "cell_type": "code",
   "execution_count": 21,
   "metadata": {},
   "outputs": [],
   "source": [
    "# ! pip install seaborn\n",
    "# ! pip install plotly\n",
    "# ! pip install statsmodels\n",
    "# ! pip install sklearn"
   ]
  },
  {
   "cell_type": "code",
   "execution_count": 22,
   "metadata": {},
   "outputs": [],
   "source": [
    "import pandas as pd\n",
    "import numpy as np\n",
    "import matplotlib.pyplot as plt\n",
    "import seaborn as sns\n",
    "import joblib\n",
    "\n",
    "from sklearn.model_selection import train_test_split\n",
    "from sklearn.metrics import classification_report, confusion_matrix\n",
    "from sklearn import metrics\n",
    "from sklearn.ensemble import RandomForestClassifier\n",
    "from sklearn.model_selection import RandomizedSearchCV"
   ]
  },
  {
   "cell_type": "code",
   "execution_count": null,
   "metadata": {},
   "outputs": [],
   "source": [
    "\n",
    "from sklearn.ensemble import RandomForestClassifier\n"
   ]
  },
  {
   "cell_type": "code",
   "execution_count": 23,
   "metadata": {},
   "outputs": [],
   "source": [
    "def carregar_joblib(file_name: str = \"../out/result_analise_desc.joblib\"):\n",
    "    df = joblib.load(file_name)\n",
    "    return df"
   ]
  },
  {
   "cell_type": "code",
   "execution_count": 24,
   "metadata": {},
   "outputs": [],
   "source": [
    "def split_dados(df, test_size: float = 0.2):\n",
    "    X = df.drop([\"decisao\"], axis=1)\n",
    "    y = df[\"decisao\"]\n",
    "\n",
    "    X_treino, X_teste, y_treino, y_teste = train_test_split(X, y, test_size=test_size, random_state=42)\n",
    "\n",
    "    return (X_treino, X_teste, y_treino, y_teste)"
   ]
  },
  {
   "cell_type": "code",
   "execution_count": 25,
   "metadata": {},
   "outputs": [],
   "source": [
    "def plot_confusion_matrix_heat(cf_matrix):\n",
    "    cf_matrix.index.name = 'Atual'\n",
    "    cf_matrix.columns.name = 'Predito'\n",
    "    \n",
    "    cf_nd_array = cf_matrix.to_numpy()\n",
    "    cf_flatten = cf_nd_array.flatten()\n",
    "\n",
    "    group_names = [\"TN\", \"FP\", \"FN\", \"TP\"]\n",
    "    group_counts = [\"{0:0.0f}\".format(value) for value in\n",
    "                    cf_flatten]\n",
    "    group_percentages = [\"{0:.2%}\".format(value) for value in\n",
    "                         cf_flatten / np.sum(cf_nd_array)]\n",
    "    labels = [f\"{v1}\\n{v2}\\n{v3}\" for v1, v2, v3 in\n",
    "              zip(group_names, group_counts, group_percentages)]\n",
    "    labels = np.asarray(labels).reshape(2, 2)\n",
    "    print(cf_matrix.shape)\n",
    "    sns.heatmap(cf_matrix, annot=labels, fmt=\"\", cmap='Blues')\n"
   ]
  },
  {
   "cell_type": "code",
   "execution_count": 97,
   "metadata": {},
   "outputs": [],
   "source": [
    "def avaliar(y_teste, y_prev, nome_modelo):\n",
    "    print(nome_modelo)\n",
    "    print(\"Reporte teste\")\n",
    "    report = classification_report(y_teste, y_prev, target_names=[\"Vender\", \"Comprar\"])\n",
    "    print(report)\n",
    "    cf_matrix = pd.DataFrame(confusion_matrix(y_teste, y_prev), index=[\"Vender\", \"Comprar\"], columns=[\"Vender\", \"Comprar\"])\n",
    "    plot_confusion_matrix_heat(cf_matrix)\n",
    "    plt.show()\n",
    "    metric = metrics.precision_score(y_teste, y_prev)\n",
    "    print(\"Precision: \", metric)\n",
    "    print(\"#\" * 50)\n",
    "    return metric"
   ]
  },
  {
   "cell_type": "markdown",
   "metadata": {},
   "source": [
    "# ML modelo"
   ]
  },
  {
   "cell_type": "code",
   "execution_count": 27,
   "metadata": {},
   "outputs": [],
   "source": [
    "def definir_modelo_ml() -> dict:\n",
    "    return {\n",
    "            \"RandomForestClassifier\": {'modelo_base': RandomForestClassifier(random_state=42), 'modelo_tunado': None},\n",
    "            # \"RandomForestClassifier_tunn\": {'modelo_base': RandomForestClassifier(random_state=42), 'modelo_tunado': None}\n",
    "\n",
    "           }"
   ]
  },
  {
   "cell_type": "code",
   "execution_count": null,
   "metadata": {},
   "outputs": [],
   "source": [
    "def definir_modelo_ml() -> dict:\n",
    "    model_dict = dict(\n",
    "            RandomForestClassifier={'modelo_base': RandomForestClassifier(random_state=42),\n",
    "                                    'modelo_tunado': None}\n",
    "    )\n",
    "    return model_dict"
   ]
  },
  {
   "cell_type": "code",
   "execution_count": 39,
   "metadata": {},
   "outputs": [],
   "source": [
    "def treinar_modelo_base(modelos, splited_dados):\n",
    "\n",
    "    X_treino, _, y_treino, y_test = splited_dados\n",
    "\n",
    "    for nome, modelo in modelos.items():\n",
    "        modelo = modelo.get('modelo_base')\n",
    "        modelo.fit(X_treino, y_treino)\n",
    "        modelos[nome]['modelo_base'] = modelo\n",
    "    \n",
    "    return modelos"
   ]
  },
  {
   "cell_type": "markdown",
   "metadata": {},
   "source": [
    "## Tunning do modelo"
   ]
  },
  {
   "cell_type": "code",
   "execution_count": 29,
   "metadata": {},
   "outputs": [],
   "source": [
    "def scale_data(df):\n",
    "    scaler = StandardScaler()\n",
    "    tabela_auxiliar = df.drop(\"decisao\", axis=1)\n",
    "    \n",
    "    tabela_auxiliar = pd.DataFrame(scaler.fit_transform(tabela_auxiliar), tabela_auxiliar.index, tabela_auxiliar.columns)\n",
    "    tabela_auxiliar[\"decisao\"] = df[\"decisao\"]\n",
    "    \n",
    "    return tabela_auxiliar"
   ]
  },
  {
   "cell_type": "code",
   "execution_count": 96,
   "metadata": {},
   "outputs": [],
   "source": [
    "def fit_tunning_rand_search_rand_forest(X_treino, y_treino):\n",
    "    print(\"Tunning randomized search Random Forest\")\n",
    "\n",
    "    # Create the random params\n",
    "\n",
    "    param = {\n",
    "             \"criterion\": [\"entropy\"],\n",
    "             \"n_estimators\": [100],\n",
    "             \"max_depth\": [None],\n",
    "             \"min_samples_split\": [2, 3],\n",
    "             \"min_samples_leaf\": [1, 2, 3],\n",
    "             \"min_weight_fraction_leaf\": [0],\n",
    "             'max_features': [\"auto\"],\n",
    "             'warm_start': [True],\n",
    "             'random_state': [None],\n",
    "             'n_jobs': [-1],\n",
    "            }\n",
    "\n",
    "    print(param)\n",
    "\n",
    "    rf_random = RandomizedSearchCV(estimator=RandomForestClassifier(),\n",
    "                                   param_distributions=param,\n",
    "                                   cv=10,\n",
    "                                   verbose=0,\n",
    "                                   scoring=\"precision\",\n",
    "                                   random_state=42,\n",
    "                                   n_jobs=-1)\n",
    "\n",
    "    # Fit the random search model\n",
    "    return rf_random.fit(X_treino, y_treino)"
   ]
  },
  {
   "cell_type": "code",
   "execution_count": 99,
   "metadata": {},
   "outputs": [],
   "source": [
    "\n",
    "def run_rand_forest_tunning(df, splited_dados):\n",
    "\n",
    "    X_treino, X_teste, y_treino, y_teste = splited_dados\n",
    "    \n",
    "    resultado_grid = fit_tunning_rand_search_rand_forest(X_treino, y_treino)\n",
    "\n",
    "    print(\"Ajuste Rand Forest feito\")\n",
    "\n",
    "    print(\"Best params\", resultado_grid.best_params_)\n",
    "    print(\"Best score\", resultado_grid.best_score_)\n",
    "\n",
    "    modelo_tunado = resultado_grid.best_estimator_\n",
    "    print(\"----- * -----\" * 5)\n",
    "\n",
    "    return modelo_tunado"
   ]
  },
  {
   "cell_type": "code",
   "execution_count": 32,
   "metadata": {},
   "outputs": [],
   "source": [
    "def compare_tunning(df, modelos: dict, splited_dados):\n",
    "\n",
    "    _, X_teste, _, y_teste = splited_dados\n",
    "\n",
    "    precisions = {}\n",
    "    for nome, modelos_dict in modelos.items():\n",
    "        prev = modelos_dict['modelo_base'].predict(X_teste)\n",
    "        precisions[nome + '_base'] =  avaliar(y_teste, prev, nome + '_base')\n",
    "        prev = modelos_dict['modelo_tunado'].predict(X_teste)\n",
    "        precisions[nome + '_tunned'] = avaliar(y_teste, prev, nome + '_tunado')\n",
    "    \n",
    "    # barplot comparacao 3 modelos tunados\n",
    "    sns.set_theme(style=\"whitegrid\")\n",
    "    ax = sns.barplot(x=list(precisions.keys()), y=list(precisions.values()))\n",
    "    ax.set(xlabel=\"Modelos\", ylabel=\"Average precision\", title=\"Precisao por Modelo\")\n",
    "    "
   ]
  },
  {
   "cell_type": "code",
   "execution_count": 33,
   "metadata": {},
   "outputs": [],
   "source": [
    "def run_tunning_fit(df, modelos, splited_dados):\n",
    "    '''\n",
    "        Executa os tunnings com randomized search cv e armazena o modelo tunado\n",
    "    '''\n",
    "    modelos['RandomForestClassifier']['modelo_tunado'] = run_rand_forest_tunning(df, splited_dados)\n",
    "\n",
    "    return modelos\n"
   ]
  },
  {
   "cell_type": "code",
   "execution_count": 100,
   "metadata": {},
   "outputs": [
    {
     "name": "stdout",
     "output_type": "stream",
     "text": [
      "Tunning randomized search Random Forest\n",
      "{'criterion': ['entropy'], 'n_estimators': [100], 'max_depth': [None], 'min_samples_split': [2, 3], 'min_samples_leaf': [1, 2, 3], 'min_weight_fraction_leaf': [0], 'max_features': ['auto'], 'warm_start': [True], 'random_state': [None], 'n_jobs': [-1]}\n"
     ]
    },
    {
     "name": "stderr",
     "output_type": "stream",
     "text": [
      "/Users/shopee/opt/anaconda3/envs/TCC_PUC/lib/python3.8/site-packages/sklearn/model_selection/_search.py:292: UserWarning: The total space of parameters 6 is smaller than n_iter=10. Running 6 iterations. For exhaustive searches, use GridSearchCV.\n",
      "  warnings.warn(\n"
     ]
    },
    {
     "name": "stdout",
     "output_type": "stream",
     "text": [
      "Ajuste Rand Forest feito\n",
      "Best params {'warm_start': True, 'random_state': None, 'n_jobs': -1, 'n_estimators': 100, 'min_weight_fraction_leaf': 0, 'min_samples_split': 3, 'min_samples_leaf': 2, 'max_features': 'auto', 'max_depth': None, 'criterion': 'entropy'}\n",
      "Best score 0.5413339100374044\n",
      "----- * ---------- * ---------- * ---------- * ---------- * -----\n",
      "RandomForestClassifier_base\n",
      "Reporte teste\n",
      "              precision    recall  f1-score   support\n",
      "\n",
      "      Vender       0.55      0.63      0.59       135\n",
      "     Comprar       0.60      0.52      0.55       143\n",
      "\n",
      "    accuracy                           0.57       278\n",
      "   macro avg       0.57      0.57      0.57       278\n",
      "weighted avg       0.58      0.57      0.57       278\n",
      "\n",
      "(2, 2)\n"
     ]
    },
    {
     "data": {
      "image/png": "[encoded data removed]",
      "text/plain": [
       "<Figure size 432x288 with 2 Axes>"
      ]
     },
     "metadata": {},
     "output_type": "display_data"
    },
    {
     "name": "stdout",
     "output_type": "stream",
     "text": [
      "Precision:  0.5967741935483871\n",
      "##################################################\n",
      "RandomForestClassifier_tunado\n",
      "Reporte teste\n",
      "              precision    recall  f1-score   support\n",
      "\n",
      "      Vender       0.56      0.59      0.58       135\n",
      "     Comprar       0.59      0.56      0.58       143\n",
      "\n",
      "    accuracy                           0.58       278\n",
      "   macro avg       0.58      0.58      0.58       278\n",
      "weighted avg       0.58      0.58      0.58       278\n",
      "\n",
      "(2, 2)\n"
     ]
    },
    {
     "data": {
      "image/png": "[encoded data removed]",
      "text/plain": [
       "<Figure size 432x288 with 2 Axes>"
      ]
     },
     "metadata": {},
     "output_type": "display_data"
    },
    {
     "name": "stdout",
     "output_type": "stream",
     "text": [
      "Precision:  0.5925925925925926\n",
      "##################################################\n"
     ]
    },
    {
     "data": {
      "image/png": "[encoded data removed]",
      "text/plain": [
       "<Figure size 432x288 with 1 Axes>"
      ]
     },
     "metadata": {},
     "output_type": "display_data"
    }
   ],
   "source": [
    "def main():\n",
    "\n",
    "    df = carregar_joblib()\n",
    "\n",
    "    modelo = definir_modelo_ml()\n",
    "\n",
    "    splited_dados = split_dados(df, test_size=0.15)\n",
    "\n",
    "    modelo = treinar_modelo_base(modelo, splited_dados)\n",
    "\n",
    "    # df = scale_data(df)\n",
    "    \n",
    "    modelo = run_tunning_fit(df, modelo, splited_dados)\n",
    "\n",
    "    compare_tunning(df, modelo, splited_dados)\n",
    "\n",
    "    return df, modelo, splited_dados\n",
    "\n",
    "df, modelos, splited_dados = main()"
   ]
  }
 ],
 "metadata": {
  "interpreter": {
   "hash": "8ab34ce4145f682337f5fa161ec816727aecde41915875d0a837a5ffe57556a8"
  },
  "kernelspec": {
   "display_name": "Python 3",
   "language": "python",
   "name": "python3"
  },
  "language_info": {
   "codemirror_mode": {
    "name": "ipython",
    "version": 3
   },
   "file_extension": ".py",
   "mimetype": "text/x-python",
   "name": "python",
   "nbconvert_exporter": "python",
   "pygments_lexer": "ipython3",
   "version": "3.8.8"
  }
 },
 "nbformat": 4,
 "nbformat_minor": 2
}
