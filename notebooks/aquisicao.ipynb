{
 "cells": [
  {
   "cell_type": "markdown",
   "metadata": {},
   "source": [
    "# 1. Aquisicao e tratamento dos dados"
   ]
  },
  {
   "cell_type": "markdown",
   "metadata": {},
   "source": [
    "## Importar bibliotecas"
   ]
  },
  {
   "cell_type": "code",
   "execution_count": 257,
   "metadata": {},
   "outputs": [
    {
     "name": "stdout",
     "output_type": "stream",
     "text": [
      "Requirement already satisfied: xlrd in /Users/shopee/opt/anaconda3/envs/TCC_PUC/lib/python3.8/site-packages (2.0.1)\n",
      "Requirement already satisfied: openpyxl in /Users/shopee/opt/anaconda3/envs/TCC_PUC/lib/python3.8/site-packages (3.0.9)\n",
      "Requirement already satisfied: et-xmlfile in /Users/shopee/opt/anaconda3/envs/TCC_PUC/lib/python3.8/site-packages (from openpyxl) (1.1.0)\n",
      "Requirement already satisfied: pydantic in /Users/shopee/opt/anaconda3/envs/TCC_PUC/lib/python3.8/site-packages (1.8.2)\n",
      "Requirement already satisfied: typing-extensions>=3.7.4.3 in /Users/shopee/opt/anaconda3/envs/TCC_PUC/lib/python3.8/site-packages (from pydantic) (3.10.0.2)\n",
      "Requirement already satisfied: joblib in /Users/shopee/opt/anaconda3/envs/TCC_PUC/lib/python3.8/site-packages (1.0.1)\n"
     ]
    }
   ],
   "source": [
    "! pip install xlrd\n",
    "! pip install openpyxl\n",
    "! pip install pydantic\n",
    "! pip install joblib"
   ]
  },
  {
   "cell_type": "code",
   "execution_count": 1,
   "metadata": {},
   "outputs": [],
   "source": [
    "import pandas as pd\n",
    "import os\n",
    "import numpy as np\n",
    "import yfinance as yf\n",
    "\n",
    "from pydantic import BaseModel\n",
    "from typing import Optional, List\n",
    "\n",
    "import joblib"
   ]
  },
  {
   "cell_type": "code",
   "execution_count": 17,
   "metadata": {},
   "outputs": [],
   "source": [
    "class AquisicaoDadosFundamentos(BaseModel):\n",
    "    balancos_dir: Optional[str] = \"../dados/balancos/\"\n",
    "    balancos_joblib_file: Optional[str] = \"../dados/fundamentos.joblib\"\n",
    "    fund_by_code: Optional[dict] = {}\n",
    "    codes: List[str] = []\n",
    "\n",
    "    def __init__(self, **kwargs):\n",
    "        super().__init__(**kwargs)\n",
    "        self.codes = self.get_code_list()\n",
    "\n",
    "    def run(self):\n",
    "        if os.path.isfile(self.balancos_joblib_file):\n",
    "            print(\"carregando joblib fundamentos\")\n",
    "            return joblib.load(self.balancos_joblib_file)\n",
    "\n",
    "        self.get_balancos_by_code()\n",
    "        self.get_dre_by_code()\n",
    "\n",
    "        self.salvar_joblib()\n",
    "        \n",
    "        return self.fund_by_code\n",
    "    \n",
    "    def get_code_list(self):\n",
    "        return [file.replace(\"balanco_\", \"\").replace(\".xls\", \"\") for file in os.listdir(self.balancos_dir)]\n",
    "\n",
    "    def get_balancos_by_code(self) -> None:\n",
    "\n",
    "        files = os.listdir(self.balancos_dir)\n",
    "\n",
    "        for file in files:\n",
    "            code = file.replace(\"balanco_\", \"\").replace(\".xls\", \"\")\n",
    "            print(code)\n",
    "            balanco = pd.read_excel(f\"{self.balancos_dir}{file}\", sheet_name=0)\n",
    "            # colocar codigo na posicao 0, 0\n",
    "            balanco.iloc[0, 0] = code\n",
    "            # mudar coluna\n",
    "            balanco.columns = balanco.iloc[0]\n",
    "            balanco = balanco[1:]\n",
    "            # tornar a 1ª coluna (que agora tem o nome da emrpesa)\n",
    "            balanco = balanco.set_index(code)\n",
    "            self.fund_by_code[code] = balanco\n",
    "\n",
    "    def get_dre_by_code(self) -> None:\n",
    "\n",
    "        files = os.listdir(self.balancos_dir)\n",
    "        for file in files:\n",
    "            code = file.replace(\"balanco_\", \"\").replace(\".xls\", \"\")\n",
    "            dre = pd.read_excel(f\"{self.balancos_dir}{file}\", sheet_name=1)\n",
    "            # na primeira coluna colocar o título com o nome da empresa\n",
    "            dre.iloc[0, 0] = code\n",
    "            # pegar 1ª linha e tornar um cabeçalho\n",
    "            dre.columns = dre.iloc[0]\n",
    "            dre = dre[1:]\n",
    "            # tornar a 1ª coluna (que agora tem o nome da emrpesa)\n",
    "            dre = dre.set_index(code)\n",
    "            self.fund_by_code[code] = self.fund_by_code[code].append(dre)\n",
    "    \n",
    "        def salvar_joblib(self):\n",
    "            joblib.dump(self.fund_by_code, self.balancos_joblib_file)\n",
    "\n"
   ]
  },
  {
   "cell_type": "code",
   "execution_count": 18,
   "metadata": {},
   "outputs": [],
   "source": [
    "class AquisicaoDadosCotacoes(BaseModel):\n",
    "    cotacoes_file: Optional[str] = \"../dados/cotacoes/Cotacoes.xlsx\"\n",
    "    cotacoes_joblib_file: Optional[str] = \"../dados/cotacoes.joblib\"\n",
    "    codes: List[str] = []\n",
    "    cotacoes: Optional[dict] = {}\n",
    "\n",
    "    def run(self):\n",
    "        if os.path.isfile(self.cotacoes_joblib_file):\n",
    "            print(\"carregando joblib cotacao\")\n",
    "            return joblib.load(self.cotacoes_joblib_file)\n",
    "\n",
    "        self.get_cotacoes_from_excel()\n",
    "        self.tratar_dados_nulos()\n",
    "        self.salvar_joblib()\n",
    "        return self.cotacoes\n",
    "\n",
    "    def get_cotacoes_from_excel(self) -> None:\n",
    "        \"\"\"\n",
    "        Le planilha com cotacoes historicas das acos do IBOV\n",
    "        \"\"\"\n",
    "        \n",
    "        cotacoes_df = pd.read_excel(self.cotacoes_file)\n",
    "\n",
    "        for empresa in cotacoes_df['Empresa'].unique():\n",
    "            self.cotacoes[empresa] = cotacoes_df.loc[cotacoes_df['Empresa']==empresa, :]\n",
    "            \n",
    "        print(len(self.cotacoes))\n",
    "\n",
    "    def tratar_dados_nulos(self) -> None:\n",
    "        \"\"\"\n",
    "        Remover empresas com cotacao contendo dados nulos\n",
    "        \"\"\"\n",
    "        empresas_a_remover = []\n",
    "        for empresa in self.codes:\n",
    "            if self.cotacoes[empresa].isnull().values.any():\n",
    "                self.cotacoes.pop(empresa)\n",
    "                empresas_a_remover.append(empresa)\n",
    "        self.codes = list(self.cotacoes.keys())\n",
    "        print(len(self.codes))\n",
    "        print(len(empresas_a_remover), empresas_a_remover, sep=\" - \")\n",
    "\n",
    "    def salvar_joblib(self):\n",
    "        joblib.dump(self.cotacoes, self.cotacoes_joblib_file)\n",
    "\n"
   ]
  },
  {
   "cell_type": "code",
   "execution_count": 49,
   "metadata": {},
   "outputs": [],
   "source": [
    "def remover_empresas_sem_dados_cotacao(fundamentos_by_code, cotacoes_by_code):\n",
    "    fundamentos = fundamentos_by_code.copy()\n",
    "    # remove fundamentos das empresas que tenham cotacoes com dados nulos\n",
    "    codes_to_be_removed_from_fund = list(set(fundamentos.keys()) ^ set(cotacoes_by_code.keys()))\n",
    "    # print(codes_to_be_removed_from_fund)\n",
    "    for code in codes_to_be_removed_from_fund:\n",
    "        fundamentos.pop(code)\n",
    "\n",
    "    if cotacoes_by_code.keys() == fundamentos.keys():\n",
    "        print(\"Empresas sem dados de cotacoes removidos com sucesso\")\n",
    "        # print(len(fundamentos.keys()))\n",
    "    \n",
    "    return fundamentos\n"
   ]
  },
  {
   "cell_type": "code",
   "execution_count": 53,
   "metadata": {},
   "outputs": [],
   "source": [
    "def juntar_fundamentos_com_cotacoes(fundamentos_by_code, cotacoes_by_code):\n",
    "    \"\"\"\n",
    "    Trata os data frames de fundamentos e junta as cotacoes por trimestre\n",
    "    \"\"\"\n",
    "    fundamentos = fundamentos_by_code.copy()\n",
    "    codes = fundamentos.keys()\n",
    "    for code in codes:\n",
    "        if \"Adj Close\" not in fundamentos[code].columns:\n",
    "            df = fundamentos[code].T\n",
    "            df.index = pd.to_datetime(df.index, format=\"%d/%m/%Y\")\n",
    "            # print(df)\n",
    "\n",
    "            # Definir data como indice e pegar somente coluna de Adj Close do df\n",
    "            if code in cotacoes_by_code.keys():\n",
    "                df_cotacao = cotacoes_by_code[code].set_index(\"Date\")\n",
    "                df_cotacao = df_cotacao[[\"Adj Close\"]]\n",
    "\n",
    "                # Juntar dois dataframes\n",
    "                df = df.merge(df_cotacao, right_index=True, left_index=True)\n",
    "                df.index.name = code\n",
    "\n",
    "                fundamentos[code] = df\n",
    "\n",
    "        else:\n",
    "            print(\"Tratamento ja executado\")\n",
    "    \n",
    "    print(\"dataframes juntados com sucesso - \", len(fundamentos))\n",
    "    return fundamentos\n"
   ]
  },
  {
   "cell_type": "markdown",
   "metadata": {},
   "source": [
    "### Ajeitando colunas"
   ]
  },
  {
   "cell_type": "code",
   "execution_count": 60,
   "metadata": {},
   "outputs": [],
   "source": [
    "\n",
    "def remover_empresa_colunas_diff(fundamentos_by_code):\n",
    "\n",
    "    fundamentos = fundamentos_by_code.copy()\n",
    "\n",
    "    columns_ref = list(fundamentos[\"PETR4\"].columns)\n",
    "    \"\"\" \n",
    "    Remove empresas que nao tenham colunas de acordo com colunas de acao referencia \n",
    "    \"\"\"\n",
    "    codes = fundamentos.keys()\n",
    "    empresa_a_remover = []\n",
    "    for code in codes:\n",
    "        if set(columns_ref) != set(fundamentos[code].columns):\n",
    "            empresa_a_remover.append(code)\n",
    "    \n",
    "    for empresa in empresa_a_remover:\n",
    "        fundamentos.pop(empresa)\n",
    "    \n",
    "    print(len(fundamentos), \"empresas removidas por terem colunas diferentes de PETR4\")\n",
    "\n",
    "    return fundamentos\n",
    "\n",
    "\n"
   ]
  },
  {
   "cell_type": "code",
   "execution_count": 59,
   "metadata": {},
   "outputs": [],
   "source": [
    "def remover_colunas_nulas(fundamentos_by_code):\n",
    "    fundamentos = fundamentos_by_code.copy()\n",
    "    codes = fundamentos.keys()\n",
    "\n",
    "    colunas_remover = [\"Receita Bruta de Vendas e/ou Serviços\",\n",
    "                        \"Deduções da Receita Bruta\",\n",
    "                        \"Resultado Não Operacional\",\n",
    "                        \"Receitas\",\n",
    "                        \"Despesas\",\n",
    "                        \"Participações/Contribuições Estatutárias\",\n",
    "                        \"Reversão dos Juros sobre Capital Próprio\"]\n",
    "    for code in codes:\n",
    "        try:\n",
    "            fundamentos[code] = fundamentos[code].drop(columns=colunas_remover, axis=1)\n",
    "        except KeyError as e:\n",
    "            print(\"df de empresas sem as colunas nulas\", code)\n",
    "            # raise e\n",
    "\n",
    "    print(\"colunas nulas removidas com sucesso\")\n",
    "    return fundamentos"
   ]
  },
  {
   "cell_type": "code",
   "execution_count": 63,
   "metadata": {},
   "outputs": [],
   "source": [
    "def remover_empresas_com_valores_nulos(fundamentos_by_code):\n",
    "    \n",
    "    fundamentos = fundamentos_by_code.copy()\n",
    "\n",
    "    columns = fundamentos[\"PETR4\"].columns\n",
    "\n",
    "    valores_vazios = dict.fromkeys(columns, 0)\n",
    "    total_linhas = 0\n",
    "    empresa_with_null = []\n",
    "\n",
    "    for empresa in fundamentos:\n",
    "        tabela = fundamentos[empresa]\n",
    "        total_linhas += tabela.shape[0]\n",
    "        for coluna in columns:\n",
    "            qtde_vazios = pd.isnull(tabela[coluna]).sum()\n",
    "            if isinstance(qtde_vazios, np.int64):\n",
    "                if qtde_vazios > 0:\n",
    "                    # print(empresa, coluna, qtde_vazios, sep=\" - \")\n",
    "                    empresa_with_null.append(empresa)\n",
    "                valores_vazios[coluna] += qtde_vazios\n",
    "\n",
    "    # remove empresas com valores nulos, ignorando ABEV por ter nulo na ultima linha\n",
    "    for empresa in set(empresa_with_null):\n",
    "        if empresa != \"ABEV3\":\n",
    "            print(f\"empresa {empresa} removida por ter valores nulos\")\n",
    "            fundamentos.pop(empresa)\n",
    "    \n",
    "    return fundamentos"
   ]
  },
  {
   "cell_type": "code",
   "execution_count": 19,
   "metadata": {},
   "outputs": [],
   "source": [
    "def get_ibov_from_yahoo():\n",
    "\n",
    "    if os.path.isfile(\"../dados/cotacoes_ibov.joblib\"):\n",
    "        print(\"carregando joblib ibov\")\n",
    "        return joblib.load(\"../dados/cotacoes_ibov.joblib\")\n",
    "\n",
    "    data_inicial = \"2012-12-20\"\n",
    "    data_final = \"2021-09-20\"\n",
    "\n",
    "    ibov = yf.download(\"^BVSP\", start=data_inicial, end=data_final)\n"
   ]
  },
  {
   "cell_type": "code",
   "execution_count": 67,
   "metadata": {},
   "outputs": [],
   "source": [
    "def merge_ibov_by_fundamentos_dates(fundamentos_by_code, ibov):\n",
    "    fundamentos = fundamentos_by_code.copy()\n",
    "    datas_fundamentos = fundamentos[\"PETR4\"].index\n",
    "\n",
    "    # Set as nan when dates are different\n",
    "    for data in datas_fundamentos:\n",
    "        if data not in ibov.index:\n",
    "            ibov.loc[data] = np.nan\n",
    "    ibov = ibov.sort_index()\n",
    "    ibov = ibov.ffill()\n",
    "    ibov = ibov.rename(columns={\"Adj Close\": \"IBOV\"})\n",
    "\n",
    "    for code in fundamentos:\n",
    "        fundamentos[code] = fundamentos[code].merge(ibov[[\"IBOV\"]], left_index=True, right_index=True)\n",
    "\n",
    "    print(f\"DF fundamentos e ibov juntados com sucesso - tamanho: {len(fundamentos)}\")\n",
    "    return fundamentos\n"
   ]
  },
  {
   "cell_type": "code",
   "execution_count": 72,
   "metadata": {},
   "outputs": [],
   "source": [
    "def juntar_dataframes(fundamentos_by_code):\n",
    "    copia_fund = fundamentos_by_code.copy()\n",
    "    bd = pd.DataFrame()\n",
    "    for code in copia_fund:\n",
    "        copia_fund[code] = copia_fund[code][1:-1]\n",
    "        copia_fund[code] = copia_fund[code].reset_index(drop=True)\n",
    "        bd = bd.append(copia_fund[code])\n",
    "    bd.reset_index(drop=True, inplace=True)\n",
    "    print(f\"Dataframe unico criado com sucesso. Registros: {len(bd)}\")\n",
    "    return bd\n"
   ]
  },
  {
   "cell_type": "markdown",
   "metadata": {},
   "source": [
    "## Salvar dataframe em joblib"
   ]
  },
  {
   "cell_type": "code",
   "execution_count": 76,
   "metadata": {},
   "outputs": [],
   "source": [
    "def salvar_df_in_joblib(df, file_name: str = \"../out/database_unico.joblib\"):\n",
    "\n",
    "    joblib.dump(df, file_name)\n",
    "\n",
    "    print(\"arquivo joblib de df unico criado com sucesso\")\n"
   ]
  },
  {
   "cell_type": "markdown",
   "metadata": {},
   "source": [
    "# Execucao"
   ]
  },
  {
   "cell_type": "code",
   "execution_count": 75,
   "metadata": {},
   "outputs": [
    {
     "name": "stdout",
     "output_type": "stream",
     "text": [
      "carregando joblib fundamentos\n",
      "carregando joblib cotacao\n",
      "Empresas sem dados de cotacoes removidos com sucesso\n",
      "dataframes juntados com sucesso -  65\n",
      "61 empresas removidas por terem colunas diferentes de PETR4\n",
      "colunas nulas removidas com sucesso\n",
      "empresa LCAM3 removida por ter valores nulos\n",
      "empresa RADL3 removida por ter valores nulos\n",
      "empresa CIEL3 removida por ter valores nulos\n",
      "empresa CSAN3 removida por ter valores nulos\n",
      "empresa SBSP3 removida por ter valores nulos\n",
      "carregando joblib ibov\n",
      "DF fundamentos e ibov juntados com sucesso - tamanho: 56\n",
      "Dataframe unico criado com sucesso. Registros: 1728\n"
     ]
    }
   ],
   "source": [
    "def main():\n",
    "\n",
    "    # importar dados de balancos financeiros\n",
    "    aquisicao_fund = AquisicaoDadosFundamentos()\n",
    "    fundamentos_by_code = aquisicao_fund.run()\n",
    "\n",
    "    # importar dados de cotacoes\n",
    "    codes = list(fundamentos_by_code.keys())\n",
    "    ad_cotacoes = AquisicaoDadosCotacoes(codes=codes)\n",
    "    cotacoes_by_code = ad_cotacoes.run()\n",
    "\n",
    "    fundamentos_by_code = remover_empresas_sem_dados_cotacao(fundamentos_by_code, cotacoes_by_code)\n",
    "    fundamentos_by_code = juntar_fundamentos_com_cotacoes(fundamentos_by_code, cotacoes_by_code)\n",
    "\n",
    "\n",
    "    # # tratar valores nulos e colunas\n",
    "    fundamentos_by_code = remover_empresa_colunas_diff(fundamentos_by_code)\n",
    "    fundamentos_by_code = remover_colunas_nulas(fundamentos_by_code)\n",
    "    fundamentos_by_code = remover_empresas_com_valores_nulos(fundamentos_by_code)\n",
    "\n",
    "    # # importar dados de cotacao do ibovespa\n",
    "    ibov = get_ibov_from_yahoo()\n",
    "    fundamentos_by_code = merge_ibov_by_fundamentos_dates(fundamentos_by_code, ibov)\n",
    "\n",
    "    # # juntar os dataframes das empresas em um\n",
    "    bd = juntar_dataframes(fundamentos_by_code)\n",
    "\n",
    "    # # salvar em arquivo joblib\n",
    "    salvar_df_in_joblib(bd)\n",
    "    \n",
    "    return bd\n",
    "    \n",
    "bd = main()"
   ]
  }
 ],
 "metadata": {
  "interpreter": {
   "hash": "8ab34ce4145f682337f5fa161ec816727aecde41915875d0a837a5ffe57556a8"
  },
  "kernelspec": {
   "display_name": "Python 3.8.11 64-bit ('TCC_PUC': conda)",
   "name": "python3"
  },
  "language_info": {
   "codemirror_mode": {
    "name": "ipython",
    "version": 3
   },
   "file_extension": ".py",
   "mimetype": "text/x-python",
   "name": "python",
   "nbconvert_exporter": "python",
   "pygments_lexer": "ipython3",
   "version": "3.8.11"
  }
 },
 "nbformat": 4,
 "nbformat_minor": 5
}
