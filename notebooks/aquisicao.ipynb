{
 "cells": [
  {
   "cell_type": "markdown",
   "source": [
    "# 1. Aquisicao e tratamento dos dados"
   ],
   "metadata": {}
  },
  {
   "cell_type": "markdown",
   "source": [
    "## Importar bibliotecas"
   ],
   "metadata": {}
  },
  {
   "cell_type": "code",
   "execution_count": 48,
   "source": [
    "! pip install xlrd\n",
    "! pip install openpyxl\n",
    "! pip install pydantic"
   ],
   "outputs": [
    {
     "output_type": "stream",
     "name": "stdout",
     "text": [
      "Requirement already satisfied: xlrd in /Users/shopee/opt/anaconda3/envs/TCC_PUC/lib/python3.8/site-packages (2.0.1)\n",
      "Collecting openpyxl\n",
      "  Using cached openpyxl-3.0.9-py2.py3-none-any.whl (242 kB)\n",
      "Collecting et-xmlfile\n",
      "  Using cached et_xmlfile-1.1.0-py3-none-any.whl (4.7 kB)\n",
      "Installing collected packages: et-xmlfile, openpyxl\n",
      "Successfully installed et-xmlfile-1.1.0 openpyxl-3.0.9\n",
      "Requirement already satisfied: pydantic in /Users/shopee/opt/anaconda3/envs/TCC_PUC/lib/python3.8/site-packages (1.8.2)\n",
      "Requirement already satisfied: typing-extensions>=3.7.4.3 in /Users/shopee/opt/anaconda3/envs/TCC_PUC/lib/python3.8/site-packages (from pydantic) (3.10.0.2)\n"
     ]
    }
   ],
   "metadata": {}
  },
  {
   "cell_type": "code",
   "execution_count": 42,
   "source": [
    "import pandas as pd\n",
    "import os\n",
    "import yfinance as yf\n",
    "\n",
    "from pydantic import BaseModel\n",
    "from typing import Optional, List"
   ],
   "outputs": [],
   "metadata": {}
  },
  {
   "cell_type": "code",
   "execution_count": null,
   "source": [
    "class AquisicaoDadosFundamentos(BaseModel):\n",
    "    balancos_dir: Optional[str] = \"../dados/balancos/\"\n",
    "    fund_by_code: Optional[dict] = {}\n",
    "    codes: List[str] = []\n",
    "\n",
    "    def __init__(self, **kwargs):\n",
    "        super().__init__(**kwargs)\n",
    "        self.codes = self.get_code_list()\n",
    "\n",
    "    def run(self):\n",
    "        self.get_balancos_by_code()\n",
    "        self.get_dre_by_code()\n",
    "        return self.fund_by_code\n",
    "    \n",
    "    def get_code_list(self):\n",
    "        return [file.replace(\"balanco_\", \"\").replace(\".xls\", \"\") for file in os.listdir(self.balancos_dir)]\n",
    "\n",
    "    def get_balancos_by_code(self) -> None:\n",
    "\n",
    "        files = os.listdir(self.balancos_dir)\n",
    "\n",
    "        for file in files:\n",
    "            code = file.replace(\"balanco_\", \"\").replace(\".xls\", \"\")\n",
    "            print(code)\n",
    "            balanco = pd.read_excel(f\"{self.balancos_dir}{file}\", sheet_name=0)\n",
    "            # colocar codigo na posicao 0, 0\n",
    "            balanco.iloc[0, 0] = code\n",
    "            # mudar coluna\n",
    "            balanco.columns = balanco.iloc[0]\n",
    "            balanco = balanco[1:]\n",
    "            # tornar a 1ª coluna (que agora tem o nome da emrpesa)\n",
    "            balanco = balanco.set_index(code)\n",
    "            self.fund_by_code[code] = balanco\n",
    "\n",
    "    def get_dre_by_code(self) -> None:\n",
    "\n",
    "        files = os.listdir(self.balancos_dir)\n",
    "        for file in files:\n",
    "            code = file.replace(\"balanco_\", \"\").replace(\".xls\", \"\")\n",
    "            dre = pd.read_excel(f\"{self.balancos_dir}{file}\", sheet_name=1)\n",
    "            # na primeira coluna colocar o título com o nome da empresa\n",
    "            dre.iloc[0, 0] = code\n",
    "            # pegar 1ª linha e tornar um cabeçalho\n",
    "            dre.columns = dre.iloc[0]\n",
    "            dre = dre[1:]\n",
    "            # tornar a 1ª coluna (que agora tem o nome da emrpesa)\n",
    "            dre = dre.set_index(code)\n",
    "            self.fund_by_code[code] = self.fund_by_code[code].append(dre)\n",
    "\n",
    "    \n",
    "\n",
    "\n",
    "ad = AquisicaoDadosFundamentos()\n",
    "fundamentos_by_code = ad.run()\n"
   ],
   "outputs": [],
   "metadata": {}
  },
  {
   "cell_type": "code",
   "execution_count": 54,
   "source": [
    "class AquisicaoDadosCotacoes(BaseModel):\n",
    "    cotacoes_file: Optional[str] = \"../dados/cotacoes/Cotacoes.xlsx\"\n",
    "    codes: List[str] = []\n",
    "    cotacoes: Optional[dict] = {}\n",
    "\n",
    "    def run(self):\n",
    "        self.get_cotacoes_from_excel()\n",
    "        self.tratar_dados_nulos()\n",
    "        return self.cotacoes\n",
    "\n",
    "    def get_cotacoes_from_excel(self) -> None:\n",
    "        \"\"\"\n",
    "        Le planilha com cotacoes historicas das acos do IBOV\n",
    "        \"\"\"\n",
    "        cotacoes_df = pd.read_excel(self.cotacoes_file)\n",
    "\n",
    "        for empresa in cotacoes_df['Empresa'].unique():\n",
    "            self.cotacoes[empresa] = cotacoes_df.loc[cotacoes_df['Empresa']==empresa, :]\n",
    "        \n",
    "        print(len(self.cotacoes))\n",
    "\n",
    "    def tratar_dados_nulos(self) -> None:\n",
    "        \"\"\"\n",
    "        Remover empresas com cotacao contendo dados nulos\n",
    "        \"\"\"\n",
    "        empresas_a_remover = []\n",
    "        for empresa in self.codes:\n",
    "            if self.cotacoes[empresa].isnull().values.any():\n",
    "                self.cotacoes.pop(empresa)\n",
    "                empresas_a_remover.append(empresa)\n",
    "        self.codes = list(self.cotacoes.keys())\n",
    "        print(len(self.codes))\n",
    "\n",
    "ad_cotacoes = AquisicaoDadosCotacoes(codes=ad.codes)\n",
    "cotacoes_by_code = ad_cotacoes.run()\n"
   ],
   "outputs": [
    {
     "output_type": "stream",
     "name": "stdout",
     "text": [
      "77\n",
      "65\n"
     ]
    }
   ],
   "metadata": {}
  },
  {
   "cell_type": "code",
   "execution_count": 61,
   "source": [
    "# remove fundamentos das empresas que tenham cotacoes com dados nulos\n",
    "codes_to_be_removed_from_fund = list(set(fundamentos_by_code.keys()) ^ set(cotacoes_by_code.keys()))\n",
    "for code in codes_to_be_removed_from_fund:\n",
    "    fundamentos_by_code.pop(code)\n",
    "\n",
    "if cotacoes_by_code.keys() == fundamentos_by_code.keys():\n",
    "    print(\"Fundamentos com cotacoes com itens nulos removidos com sucesso\")\n",
    "    print(len(fundamentos_by_code.keys()))\n"
   ],
   "outputs": [
    {
     "output_type": "stream",
     "name": "stdout",
     "text": [
      "Fundamentos com cotacoes com itens nulos removidos com sucesso\n",
      "65\n"
     ]
    }
   ],
   "metadata": {}
  },
  {
   "cell_type": "code",
   "execution_count": 66,
   "source": [
    "def juntar_fundamentos_com_cotacoes():\n",
    "    \"\"\"\n",
    "    Trata os data frames de fundamentos e junta as cotacoes por trimestre\n",
    "    \"\"\"\n",
    "    codes = fundamentos_by_code.keys()\n",
    "    for code in codes:\n",
    "        if \"Adj Close\" not in fundamentos_by_code[code].columns:\n",
    "            df = fundamentos_by_code[code].T\n",
    "            df.index = pd.to_datetime(df.index, format=\"%d/%m/%Y\")\n",
    "            # print(df)\n",
    "\n",
    "            # Definir data como indice e pegar somente coluna de Adj Close do df\n",
    "            df_cotacao = cotacoes_by_code[code].set_index(\"Date\")\n",
    "            df_cotacao = df_cotacao[[\"Adj Close\"]]\n",
    "\n",
    "            # Juntar dois dataframes\n",
    "            df = df.merge(df_cotacao, right_index=True, left_index=True)\n",
    "            df.index.name = code\n",
    "\n",
    "            fundamentos_by_code[code] = df\n",
    "        else:\n",
    "            print(\"Tratamento ja executado\")\n",
    "\n",
    "juntar_fundamentos_com_cotacoes()"
   ],
   "outputs": [],
   "metadata": {}
  },
  {
   "cell_type": "markdown",
   "source": [
    "### Ajeitando colunas"
   ],
   "metadata": {}
  },
  {
   "cell_type": "code",
   "execution_count": 73,
   "source": [
    "columns = list(fundamentos_by_code[\"PETR4\"].columns)\n",
    "\n",
    "def remover_empresa_colunas_diff(columns_ref: List[str]):\n",
    "    \"\"\" \n",
    "    Remove empresas que nao tenham colunas de acordo com colunas de acao referencia \n",
    "    \"\"\"\n",
    "    codes = fundamentos_by_code.keys()\n",
    "    empresa_a_remover = []\n",
    "    for code in codes:\n",
    "        if set(columns_ref) != set(fundamentos_by_code[code].columns):\n",
    "            empresa_a_remover.append(code)\n",
    "    \n",
    "    for empresa in empresa_a_remover:\n",
    "        fundamentos_by_code.pop(empresa)\n",
    "    \n",
    "    print(len(fundamentos_by_code))\n",
    "\n",
    "remover_empresa_colunas_diff(columns)"
   ],
   "outputs": [
    {
     "output_type": "stream",
     "name": "stdout",
     "text": [
      "61\n"
     ]
    }
   ],
   "metadata": {}
  },
  {
   "cell_type": "code",
   "execution_count": 95,
   "source": [
    "def select_columns_for_calc(codes):\n",
    "    for code in codes:\n",
    "        colunas_para_calculos = [\"Ativo Total\", \"Patrimônio Líquido\", \"Receita Líquida de Vendas e/ou Serviços\", \"Lucro/Prejuízo do Período\", \"Adj Close\"]\n",
    "        df_c = fundamentos_by_code[code][colunas_para_calculos]\n",
    "        df_c = df_c.rename(columns={\"Ativo Total\": \"ativo_total\", \"Patrimônio Líquido\": \"patrimonio_liq\", \"Receita Líquida de Vendas e/ou Serviços\": \"receita_liq\", \"Lucro/Prejuízo do Período\": \"lucro_op\", \"Adj Close\": \"cotacao\"})\n",
    "        df_c.iloc[:,:-1] = df_c.iloc[:,:-1].astype(float)\n",
    "        fundamentos_by_code[code] = df_c\n",
    "\n",
    "codes = fundamentos_by_code.keys()\n",
    "select_columns_for_calc(codes)"
   ],
   "outputs": [],
   "metadata": {}
  },
  {
   "cell_type": "code",
   "execution_count": 102,
   "source": [
    "def calcular_dupont():\n",
    "    codes = fundamentos_by_code.keys()\n",
    "    for code in codes:\n",
    "        df = fundamentos_by_code[code]\n",
    "\n",
    "        af = df[\"ativo_total\"] / df[\"patrimonio_liq\"]\n",
    "        ra = df[\"lucro_op\"] / df[\"ativo_total\"]\n",
    "        ga = df[\"receita_liq\"] / df[\"ativo_total\"]\n",
    "        ml = df[\"lucro_op\"] / df[\"receita_liq\"]\n",
    "        rpl = af * ra\n",
    "        roe = df[\"lucro_op\"] / df[\"patrimonio_liq\"]\n",
    "        roa = ga * ml\n",
    "\n",
    "        df[\"RPL\"] = rpl\n",
    "        df[\"ROE\"] = roe\n",
    "        df[\"ROA\"] = roa\n",
    "        df[\"AF\"] = af\n",
    "        df[\"RA\"] = ra\n",
    "        df[\"GA\"] = ga\n",
    "        df[\"ML\"] = ml\n",
    "\n",
    "        fundamentos_by_code[code] = df[[\"RPL\", \"ROE\", \"ROA\", \"AF\", \"RA\", \"GA\", \"ML\", \"cotacao\"]]\n",
    "\n",
    "calcular_dupont()"
   ],
   "outputs": [],
   "metadata": {}
  },
  {
   "cell_type": "code",
   "execution_count": 117,
   "source": [
    "\n",
    "columns = fundamentos_by_code[\"PETR4\"].columns\n",
    "\n",
    "valores_vazios = dict.fromkeys(columns, 0)\n",
    "total_linhas = 0\n",
    "empresa_with_null = []\n",
    "\n",
    "for empresa in fundamentos_by_code:\n",
    "    tabela = fundamentos_by_code[empresa]\n",
    "    total_linhas += tabela.shape[0]\n",
    "    for coluna in columns:\n",
    "        qtde_vazios = pd.isnull(tabela[coluna]).sum()\n",
    "        if qtde_vazios > 0:\n",
    "            empresa_with_null.append(empresa)\n",
    "        valores_vazios[coluna] += qtde_vazios\n",
    "\n",
    "print(valores_vazios)\n",
    "print(total_linhas)\n",
    "print(set(empresa_with_null))\n",
    "\n",
    "# remove empresas com valores nulos, ignorando ABEV por ter nulo na ultima linha\n",
    "for empresa in set(empresa_with_null):\n",
    "    if empresa != \"ABEV3\":\n",
    "        fundamentos_by_code.pop(empresa)\n",
    "\n",
    "print(len(fundamentos_by_code))"
   ],
   "outputs": [
    {
     "output_type": "stream",
     "name": "stdout",
     "text": [
      "{'RPL': 3, 'ROE': 3, 'ROA': 35, 'AF': 1, 'RA': 3, 'GA': 3, 'ML': 3, 'cotacao': 0}\n",
      "2004\n",
      "{'BRAP4', 'ABEV3', 'CSAN3', 'RADL3'}\n",
      "58\n"
     ]
    }
   ],
   "metadata": {}
  },
  {
   "cell_type": "code",
   "execution_count": null,
   "source": [
    "codes = list(fundamentos_by_code.keys())\n",
    "codes"
   ],
   "outputs": [],
   "metadata": {}
  },
  {
   "cell_type": "markdown",
   "source": [
    "## Criacao de rotulos - coluna target"
   ],
   "metadata": {}
  },
  {
   "cell_type": "code",
   "execution_count": 131,
   "source": [
    "def get_ibov_from_yahoo():\n",
    "    data_inicial = \"2012-12-20\"\n",
    "    data_final = \"2021-09-20\"\n",
    "\n",
    "    ibov = yf.download(\"^BVSP\", start=data_inicial, end=data_final)\n",
    "\n",
    "    print(ibov)\n",
    "\n",
    "get_ibov_from_yahoo()"
   ],
   "outputs": [
    {
     "output_type": "stream",
     "name": "stdout",
     "text": [
      "[*********************100%***********************]  1 of 1 completed\n",
      "                Open      High       Low     Close  Adj Close    Volume\n",
      "Date                                                                   \n",
      "2012-12-20   60992.0   61276.0   60622.0   61276.0    61276.0   3083400\n",
      "2012-12-21   61271.0   61271.0   60221.0   61007.0    61007.0   3157400\n",
      "2012-12-26   61003.0   61322.0   60861.0   60960.0    60960.0   2598000\n",
      "2012-12-27   60964.0   61191.0   60233.0   60416.0    60416.0   2852600\n",
      "2012-12-28   60416.0   61066.0   60416.0   60952.0    60952.0   2626000\n",
      "...              ...       ...       ...       ...        ...       ...\n",
      "2021-09-13  114300.0  117046.0  114300.0  116404.0   116404.0   9253400\n",
      "2021-09-14  116405.0  117270.0  115809.0  116181.0   116181.0   9034100\n",
      "2021-09-15  116191.0  116312.0  114741.0  115063.0   115063.0   9456800\n",
      "2021-09-16  115062.0  115062.0  113395.0  113794.0   113794.0  10685500\n",
      "2021-09-17  113794.0  113794.0  111157.0  111439.0   111439.0  14827600\n",
      "\n",
      "[2157 rows x 6 columns]\n"
     ]
    }
   ],
   "metadata": {}
  }
 ],
 "metadata": {
  "kernelspec": {
   "name": "python3",
   "display_name": "Python 3.8.11 64-bit ('TCC_PUC': conda)"
  },
  "language_info": {
   "codemirror_mode": {
    "name": "ipython",
    "version": 3
   },
   "file_extension": ".py",
   "mimetype": "text/x-python",
   "name": "python",
   "nbconvert_exporter": "python",
   "pygments_lexer": "ipython3",
   "version": "3.8.11"
  },
  "interpreter": {
   "hash": "4098056b275818f3da5211f69c290ca43f474190f8dc32a01d5019f96ac39c03"
  }
 },
 "nbformat": 4,
 "nbformat_minor": 5
}