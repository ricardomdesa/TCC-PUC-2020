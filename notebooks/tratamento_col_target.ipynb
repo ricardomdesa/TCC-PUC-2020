{
 "cells": [
  {
   "cell_type": "markdown",
   "metadata": {},
   "source": [
    "# 1. Tratamento dos dados e criacao da coluna target"
   ]
  },
  {
   "cell_type": "markdown",
   "metadata": {},
   "source": [
    "## Importar bibliotecas"
   ]
  },
  {
   "cell_type": "code",
   "execution_count": 141,
   "metadata": {},
   "outputs": [],
   "source": [
    "# ! pip install xlrd\n",
    "# ! pip install openpyxl\n",
    "# ! pip install pydantic\n",
    "# ! pip install joblib"
   ]
  },
  {
   "cell_type": "code",
   "execution_count": 142,
   "metadata": {},
   "outputs": [],
   "source": [
    "import numpy as np\n",
    "import pandas as pd\n",
    "\n",
    "import joblib"
   ]
  },
  {
   "cell_type": "code",
   "execution_count": 143,
   "metadata": {},
   "outputs": [],
   "source": [
    "def carregar_dados_aquisicao():\n",
    "    df = joblib.load(\"../out/result_aquisicao.joblib\")\n",
    "    print(\"arquivo joblib carregado com sucesso\")\n",
    "    return df\n"
   ]
  },
  {
   "cell_type": "code",
   "execution_count": 144,
   "metadata": {},
   "outputs": [],
   "source": [
    "def select_columns_for_calc(dfs):\n",
    "    \n",
    "    colunas_para_calculos = [\n",
    "        \"Ativo Total\", \n",
    "        \"Ativo Realizável a Longo Prazo\",\n",
    "        \"Ativo Circulante\",\n",
    "        \"Passivo Circulante\", \n",
    "        \"Passivo Não Circulante\", \n",
    "        \"Patrimônio Líquido\", \n",
    "        \"Receita Líquida de Vendas e/ou Serviços\", \n",
    "        \"Lucro/Prejuízo do Período\", \n",
    "        \"Adj Close\",\n",
    "        \"IBOV\"]\n",
    "\n",
    "    columns_replace={\n",
    "        \"Ativo Total\": \"ativo_total\", \n",
    "        \"Ativo Circulante\": \"ativo_circ\",\n",
    "        \"Ativo Realizável a Longo Prazo\": \"ativo_permanente\",\n",
    "        \"Passivo Circulante\": \"passivo_circ\", \n",
    "        \"Passivo Não Circulante\": \"passivo_nao_circ\", \n",
    "        \"Patrimônio Líquido\": \"patrimonio_liq\", \n",
    "        \"Receita Líquida de Vendas e/ou Serviços\": \"receita_liq\", \n",
    "        \"Lucro/Prejuízo do Período\": \"lucro_op\", \n",
    "        \"Adj Close\": \"cotacao\"}\n",
    "\n",
    "    for code in dfs.keys():\n",
    "        df_c = dfs[code]\n",
    "        df_c = df_c[colunas_para_calculos]\n",
    "        df_c = df_c.rename(columns=columns_replace)\n",
    "        df_c.iloc[:,:-1] = df_c.iloc[:,:-1].astype(float)\n",
    "\n",
    "        dfs[code] = df_c\n",
    "\n",
    "    print(\"colunas para calculo selecionadas com sucesso\")\n",
    "\n",
    "    return dfs\n"
   ]
  },
  {
   "cell_type": "code",
   "execution_count": 173,
   "metadata": {},
   "outputs": [],
   "source": [
    "def calcular_dupont(dfs_in):\n",
    "    dfs = dfs_in.copy()\n",
    "    for code in dfs.keys():\n",
    "        df = dfs[code]\n",
    "\n",
    "        af = df[\"ativo_total\"] / df[\"patrimonio_liq\"]\n",
    "        ra = df[\"lucro_op\"] / df[\"ativo_total\"]\n",
    "        # ga = df[\"receita_liq\"] / df[\"ativo_total\"]\n",
    "        # ml = df[\"lucro_op\"] / df[\"receita_liq\"]\n",
    "        rpl = af * ra\n",
    "        roe = df[\"lucro_op\"] / df[\"patrimonio_liq\"]\n",
    "        # roa = ga * ml\n",
    "\n",
    "        df[\"RPL\"] = rpl\n",
    "        df[\"ROE\"] = roe\n",
    "        # df[\"ROA\"] = roa\n",
    "        # df[\"GA\"] = ga\n",
    "        # df[\"ML\"] = ml\n",
    "        df[\"AF\"] = af\n",
    "        df[\"RA\"] = ra\n",
    "\n",
    "        dfs[code] = df\n",
    "\n",
    "    print(\"indicadores dupont criados com sucesso\")\n",
    "\n",
    "    return dfs\n"
   ]
  },
  {
   "cell_type": "code",
   "execution_count": 146,
   "metadata": {},
   "outputs": [],
   "source": [
    "def calcular_indicadores_financeiros(dfs_in):\n",
    "\n",
    "    dfs = dfs_in.copy()\n",
    "\n",
    "    for code in dfs.keys():\n",
    "\n",
    "        df = dfs[code]\n",
    "\n",
    "        # Indicadores de endividamento\n",
    "        part_cap_terceiros = (df[\"passivo_circ\"] + df[\"passivo_nao_circ\"]) / df[\"patrimonio_liq\"]\n",
    "        comp_endividamento = df[\"passivo_circ\"] / (df[\"passivo_circ\"] + df[\"passivo_nao_circ\"])\n",
    "        imob_patrimonio_liq = df[\"ativo_permanente\"] / df[\"patrimonio_liq\"]\n",
    "        imob_recursos_n_corr = df[\"ativo_permanente\"] / (df[\"patrimonio_liq\"] + df[\"passivo_nao_circ\"])\n",
    "\n",
    "        df[\"part_cap_terceiros\"] = part_cap_terceiros\n",
    "        df[\"comp_endividamento\"] = comp_endividamento\n",
    "        df[\"imob_patrimonio_liq\"] = imob_patrimonio_liq\n",
    "        df[\"imob_recursos_n_corr\"] = imob_recursos_n_corr\n",
    "\n",
    "        # Indicadores de liquidez\n",
    "\n",
    "        liq_corrente = df[\"ativo_circ\"] / df[\"passivo_circ\"]\n",
    "\n",
    "        df[\"liq_corrente\"] = liq_corrente\n",
    "\n",
    "        dfs[code] = df\n",
    "\n",
    "    print(\"indicadores financeiros criados com sucesso\")\n",
    "\n",
    "    return dfs\n"
   ]
  },
  {
   "cell_type": "code",
   "execution_count": 147,
   "metadata": {},
   "outputs": [],
   "source": [
    "def remover_colunas_de_calculo(dfs_in):\n",
    "\n",
    "   colunas_remover = ['ativo_total', 'ativo_permanente', 'ativo_circ', 'passivo_circ',\n",
    "       'passivo_nao_circ', 'patrimonio_liq', 'receita_liq', 'lucro_op']\n",
    "\n",
    "   dfs = dfs_in.copy()\n",
    "\n",
    "   for code in dfs.keys():\n",
    "      df = dfs[code]\n",
    "      df = df.drop(colunas_remover, axis=1)\n",
    "      dfs[code] = df\n",
    "    \n",
    "   print(\"Colunas para calculo removidas com sucesso\")\n",
    "\n",
    "   return dfs"
   ]
  },
  {
   "cell_type": "code",
   "execution_count": 191,
   "metadata": {},
   "outputs": [],
   "source": [
    "def transformar_indic_em_porcentagem_delta(dfs_in):\n",
    "    dfs = dfs_in.copy()\n",
    "\n",
    "    for code in dfs.keys():\n",
    "        fundamento = dfs[code]\n",
    "\n",
    "        fundamento.sort_index()\n",
    "\n",
    "\n",
    "        for coluna in fundamento.columns:\n",
    "            if coluna != \"decisao\":\n",
    "                condicoes = [\n",
    "                    (fundamento[coluna].shift(1) > 0) & (fundamento[coluna] < 0),\n",
    "                    (fundamento[coluna].shift(1) < 0) & (fundamento[coluna] > 0),\n",
    "                    (fundamento[coluna].shift(1) < 0) & (fundamento[coluna] < 0),\n",
    "                    (fundamento[coluna].shift(1) == 0) & (fundamento[coluna] > 0),\n",
    "                    (fundamento[coluna].shift(1) == 0) & (fundamento[coluna] < 0),\n",
    "                    (fundamento[coluna].shift(1) < 0) & (fundamento[coluna] == 0),\n",
    "                ]\n",
    "                valores = [\n",
    "                    -1,\n",
    "                    1,\n",
    "                    (abs(fundamento[coluna].shift(1)) - abs(fundamento[coluna])) / abs(fundamento[coluna].shift(1)),\n",
    "                    1,\n",
    "                    -1,\n",
    "                    1,\n",
    "                ]\n",
    "                fundamento[coluna] = np.select(condicoes, valores, default=fundamento[coluna] / fundamento[coluna].shift(1) - 1)\n",
    "    \n",
    "        # fundamento[\"codigo\"] = code\n",
    "        \n",
    "    dfs[code] = fundamento\n",
    "\n",
    "\n",
    "    return dfs"
   ]
  },
  {
   "cell_type": "markdown",
   "metadata": {},
   "source": [
    "## Criacao de rotulos - coluna target"
   ]
  },
  {
   "cell_type": "markdown",
   "metadata": {},
   "source": [
    "## Criar coluna resultado baseado em cotacao e IBOV\n",
    "\n",
    "- cotacao e Ibov, considerar valores do proximo trimestre \n",
    "- Considerar comprar (1): variacao da cotacao acima da variacao do IBOV\n",
    "- Considerar Vender (0): variacao da cotacao de 2% abaixo da variacao do IBOV"
   ]
  },
  {
   "cell_type": "code",
   "execution_count": 149,
   "metadata": {},
   "outputs": [],
   "source": [
    "def criar_coluna_decisao(dfs_in): \n",
    "    \n",
    "    dfs = dfs_in.copy()\n",
    "\n",
    "    for code in dfs.keys():\n",
    "        df = dfs[code]\n",
    "        \n",
    "        df = df.sort_index()\n",
    "\n",
    "        df[\"cotacao_var\"] = df[\"cotacao\"].shift(-1) / df[\"cotacao\"] - 1\n",
    "        df[\"IBOV_var\"] = df[\"IBOV\"].shift(-1) / df[\"IBOV\"] - 1\n",
    "        df[\"resultado\"] = df[\"cotacao_var\"] - df[\"IBOV_var\"]\n",
    "\n",
    "        condicoes = [\n",
    "            (df[\"resultado\"] > 0), \n",
    "            (df[\"resultado\"] < -0.02)\n",
    "        ]\n",
    "        valores = [1, 0]\n",
    "\n",
    "        df[\"decisao\"] = np.select(condicoes, valores)\n",
    "\n",
    "        df = df.drop([\"cotacao\", \"cotacao_var\", \"IBOV\", \"IBOV_var\", \"resultado\"], axis=1)\n",
    "\n",
    "        dfs[code] = df\n",
    "\n",
    "    print(\"coluna decisao/target criada com sucesso\")\n",
    "\n",
    "    return dfs\n"
   ]
  },
  {
   "cell_type": "code",
   "execution_count": 150,
   "metadata": {},
   "outputs": [],
   "source": [
    "def juntar_dataframes(dfs_in):\n",
    "    copia_fund = dfs_in.copy()\n",
    "    bd = pd.DataFrame()\n",
    "    for code in copia_fund:\n",
    "        copia_fund[code] = copia_fund[code][1:-1]\n",
    "        copia_fund[code] = copia_fund[code].reset_index(drop=True)\n",
    "        bd = bd.append(copia_fund[code])\n",
    "    bd.reset_index(drop=True, inplace=True)\n",
    "    print(f\"Dataframe unico criado com sucesso. Registros: {len(bd)}\")\n",
    "    return bd\n"
   ]
  },
  {
   "cell_type": "markdown",
   "metadata": {},
   "source": [
    "## Salvar dataframe em joblib"
   ]
  },
  {
   "cell_type": "code",
   "execution_count": 151,
   "metadata": {},
   "outputs": [],
   "source": [
    "def salvar_df_in_joblib(df, file_name: str = \"../out/tratamento_target.joblib\"):\n",
    "\n",
    "    joblib.dump(df, file_name)\n",
    "\n",
    "    print(\"arquivo joblib de df decisao criado com sucesso\")\n"
   ]
  },
  {
   "cell_type": "markdown",
   "metadata": {},
   "source": [
    "# Execucao"
   ]
  },
  {
   "cell_type": "code",
   "execution_count": 192,
   "metadata": {},
   "outputs": [
    {
     "name": "stdout",
     "output_type": "stream",
     "text": [
      "arquivo joblib carregado com sucesso\n",
      "colunas para calculo selecionadas com sucesso\n",
      "indicadores dupont criados com sucesso\n",
      "indicadores financeiros criados com sucesso\n",
      "coluna decisao/target criada com sucesso\n",
      "Colunas para calculo removidas com sucesso\n",
      "Dataframe unico criado com sucesso. Registros: 1667\n",
      "arquivo joblib de df decisao criado com sucesso\n"
     ]
    }
   ],
   "source": [
    "def main():\n",
    "\n",
    "    dfs = carregar_dados_aquisicao()\n",
    "\n",
    "    dfs = select_columns_for_calc(dfs)\n",
    "\n",
    "    dfs = calcular_dupont(dfs)\n",
    "\n",
    "    dfs = calcular_indicadores_financeiros(dfs)\n",
    "\n",
    "    dfs = criar_coluna_decisao(dfs)\n",
    "\n",
    "    dfs = remover_colunas_de_calculo(dfs)\n",
    "\n",
    "    dfs = transformar_indic_em_porcentagem_delta(dfs)\n",
    "\n",
    "    # # # juntar os dataframes das empresas em um\n",
    "    bd = juntar_dataframes(dfs)\n",
    "\n",
    "    # # salvar em arquivo joblib\n",
    "    salvar_df_in_joblib(bd)\n",
    "    \n",
    "    return bd\n",
    "    \n",
    "bd = main()\n"
   ]
  },
  {
   "cell_type": "code",
   "execution_count": 193,
   "metadata": {},
   "outputs": [
    {
     "name": "stdout",
     "output_type": "stream",
     "text": [
      "<class 'pandas.core.frame.DataFrame'>\n",
      "RangeIndex: 1667 entries, 0 to 1666\n",
      "Data columns (total 10 columns):\n",
      " #   Column                Non-Null Count  Dtype  \n",
      "---  ------                --------------  -----  \n",
      " 0   RPL                   1667 non-null   float64\n",
      " 1   ROE                   1667 non-null   float64\n",
      " 2   AF                    1667 non-null   float64\n",
      " 3   RA                    1667 non-null   float64\n",
      " 4   part_cap_terceiros    1667 non-null   float64\n",
      " 5   comp_endividamento    1667 non-null   float64\n",
      " 6   imob_patrimonio_liq   1667 non-null   float64\n",
      " 7   imob_recursos_n_corr  1667 non-null   float64\n",
      " 8   liq_corrente          1667 non-null   float64\n",
      " 9   decisao               1667 non-null   int64  \n",
      "dtypes: float64(9), int64(1)\n",
      "memory usage: 130.4 KB\n"
     ]
    }
   ],
   "source": [
    "bd.info()"
   ]
  }
 ],
 "metadata": {
  "interpreter": {
   "hash": "8ab34ce4145f682337f5fa161ec816727aecde41915875d0a837a5ffe57556a8"
  },
  "kernelspec": {
   "display_name": "Python 3.8.11 64-bit ('TCC_PUC': conda)",
   "name": "python3"
  },
  "language_info": {
   "codemirror_mode": {
    "name": "ipython",
    "version": 3
   },
   "file_extension": ".py",
   "mimetype": "text/x-python",
   "name": "python",
   "nbconvert_exporter": "python",
   "pygments_lexer": "ipython3",
   "version": "3.8.11"
  }
 },
 "nbformat": 4,
 "nbformat_minor": 5
}
