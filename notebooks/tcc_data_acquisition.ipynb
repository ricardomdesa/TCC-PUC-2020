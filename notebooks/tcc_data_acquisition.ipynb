{
 "cells": [
  {
   "cell_type": "code",
   "execution_count": 1,
   "id": "007d5d96-76d3-425a-acc4-389ac2ddf710",
   "metadata": {},
   "outputs": [
    {
     "name": "stdout",
     "output_type": "stream",
     "text": [
      "Collecting yfinance\n",
      "  Using cached yfinance-0.1.63-py2.py3-none-any.whl\n",
      "Requirement already satisfied: lxml>=4.5.1 in /Users/shopee/opt/anaconda3/lib/python3.8/site-packages (from yfinance) (4.6.3)\n",
      "Collecting multitasking>=0.0.7\n",
      "  Using cached multitasking-0.0.9-py3-none-any.whl\n",
      "Requirement already satisfied: requests>=2.20 in /Users/shopee/opt/anaconda3/lib/python3.8/site-packages (from yfinance) (2.25.1)\n",
      "Requirement already satisfied: numpy>=1.15 in /Users/shopee/opt/anaconda3/lib/python3.8/site-packages (from yfinance) (1.20.1)\n",
      "Requirement already satisfied: pandas>=0.24 in /Users/shopee/opt/anaconda3/lib/python3.8/site-packages (from yfinance) (1.2.4)\n",
      "Requirement already satisfied: python-dateutil>=2.7.3 in /Users/shopee/opt/anaconda3/lib/python3.8/site-packages (from pandas>=0.24->yfinance) (2.8.1)\n",
      "Requirement already satisfied: pytz>=2017.3 in /Users/shopee/opt/anaconda3/lib/python3.8/site-packages (from pandas>=0.24->yfinance) (2021.1)\n",
      "Requirement already satisfied: six>=1.5 in /Users/shopee/opt/anaconda3/lib/python3.8/site-packages (from python-dateutil>=2.7.3->pandas>=0.24->yfinance) (1.15.0)\n",
      "Requirement already satisfied: urllib3<1.27,>=1.21.1 in /Users/shopee/opt/anaconda3/lib/python3.8/site-packages (from requests>=2.20->yfinance) (1.26.4)\n",
      "Requirement already satisfied: certifi>=2017.4.17 in /Users/shopee/opt/anaconda3/lib/python3.8/site-packages (from requests>=2.20->yfinance) (2020.12.5)\n",
      "Requirement already satisfied: chardet<5,>=3.0.2 in /Users/shopee/opt/anaconda3/lib/python3.8/site-packages (from requests>=2.20->yfinance) (4.0.0)\n",
      "Requirement already satisfied: idna<3,>=2.5 in /Users/shopee/opt/anaconda3/lib/python3.8/site-packages (from requests>=2.20->yfinance) (2.10)\n",
      "Installing collected packages: multitasking, yfinance\n",
      "Successfully installed multitasking-0.0.9 yfinance-0.1.63\n"
     ]
    }
   ],
   "source": [
    "!pip install yfinance"
   ]
  },
  {
   "cell_type": "code",
   "execution_count": 32,
   "id": "d90b70da-3fe0-49a9-8576-b838495e2fc2",
   "metadata": {},
   "outputs": [
    {
     "name": "stdout",
     "output_type": "stream",
     "text": [
      "Collecting pandas_datareader\n",
      "  Downloading pandas_datareader-0.10.0-py3-none-any.whl (109 kB)\n",
      "\u001b[K     |████████████████████████████████| 109 kB 3.4 MB/s eta 0:00:01\n",
      "\u001b[?25hRequirement already satisfied: lxml in ./opt/anaconda3/envs/TCC_PUC/lib/python3.8/site-packages (from pandas_datareader) (4.6.3)\n",
      "Requirement already satisfied: pandas>=0.23 in ./opt/anaconda3/envs/TCC_PUC/lib/python3.8/site-packages (from pandas_datareader) (1.3.3)\n",
      "Requirement already satisfied: requests>=2.19.0 in ./opt/anaconda3/envs/TCC_PUC/lib/python3.8/site-packages (from pandas_datareader) (2.26.0)\n",
      "Requirement already satisfied: python-dateutil>=2.7.3 in ./opt/anaconda3/envs/TCC_PUC/lib/python3.8/site-packages (from pandas>=0.23->pandas_datareader) (2.8.2)\n",
      "Requirement already satisfied: pytz>=2017.3 in ./opt/anaconda3/envs/TCC_PUC/lib/python3.8/site-packages (from pandas>=0.23->pandas_datareader) (2021.1)\n",
      "Requirement already satisfied: numpy>=1.17.3 in ./opt/anaconda3/envs/TCC_PUC/lib/python3.8/site-packages (from pandas>=0.23->pandas_datareader) (1.21.2)\n",
      "Requirement already satisfied: six>=1.5 in ./opt/anaconda3/envs/TCC_PUC/lib/python3.8/site-packages (from python-dateutil>=2.7.3->pandas>=0.23->pandas_datareader) (1.16.0)\n",
      "Requirement already satisfied: charset-normalizer~=2.0.0 in ./opt/anaconda3/envs/TCC_PUC/lib/python3.8/site-packages (from requests>=2.19.0->pandas_datareader) (2.0.4)\n",
      "Requirement already satisfied: certifi>=2017.4.17 in ./opt/anaconda3/envs/TCC_PUC/lib/python3.8/site-packages (from requests>=2.19.0->pandas_datareader) (2021.5.30)\n",
      "Requirement already satisfied: idna<4,>=2.5 in ./opt/anaconda3/envs/TCC_PUC/lib/python3.8/site-packages (from requests>=2.19.0->pandas_datareader) (3.2)\n",
      "Requirement already satisfied: urllib3<1.27,>=1.21.1 in ./opt/anaconda3/envs/TCC_PUC/lib/python3.8/site-packages (from requests>=2.19.0->pandas_datareader) (1.26.6)\n",
      "Installing collected packages: pandas-datareader\n",
      "Successfully installed pandas-datareader-0.10.0\n"
     ]
    }
   ],
   "source": [
    "!pip install pandas_datareader"
   ]
  },
  {
   "cell_type": "code",
   "execution_count": 2,
   "id": "fd33030c-9537-498a-a2e1-35bfab36352a",
   "metadata": {},
   "outputs": [],
   "source": [
    "import yfinance as yf\n",
    "from datetime import datetime, timedelta, date\n",
    "import pandas as pd"
   ]
  },
  {
   "cell_type": "code",
   "execution_count": 3,
   "id": "efc50f3e-cdff-4a9a-a053-62d986687695",
   "metadata": {},
   "outputs": [],
   "source": [
    "from pandas_datareader import data"
   ]
  },
  {
   "cell_type": "code",
   "execution_count": 4,
   "id": "1f527af1-a4e9-4f53-9f6c-3458b69a094b",
   "metadata": {},
   "outputs": [],
   "source": [
    "from typing import Tuple"
   ]
  },
  {
   "cell_type": "code",
   "execution_count": 5,
   "id": "fdec3ae9-ee02-4527-bb61-b105d676118a",
   "metadata": {},
   "outputs": [],
   "source": [
    "def get_formatted_dates() -> Tuple[datetime.date, datetime.date]:\n",
    "    start_date = date.today() - timedelta(days=int(30))\n",
    "    end_date = date.today()\n",
    "    start_date = pd.to_datetime(start_date).strftime(\"%Y-%m-%d\")\n",
    "    end_date = pd.to_datetime(end_date).strftime(\"%Y-%m-%d\")\n",
    "    return start_date, end_date"
   ]
  },
  {
   "cell_type": "code",
   "execution_count": 6,
   "id": "6eacce64-50f9-42b9-af7e-65abf48e7ad9",
   "metadata": {},
   "outputs": [
    {
     "name": "stdout",
     "output_type": "stream",
     "text": [
      "start='2021-08-23' end='2021-09-22'\n"
     ]
    }
   ],
   "source": [
    "start, end = get_formatted_dates()\n",
    "print(f\"{start=} {end=}\")"
   ]
  },
  {
   "cell_type": "code",
   "execution_count": 7,
   "id": "915ef206-68ed-4389-b0cf-29b13825b125",
   "metadata": {},
   "outputs": [
    {
     "name": "stdout",
     "output_type": "stream",
     "text": [
      "[*********************100%***********************]  3 of 3 completed\n"
     ]
    },
    {
     "data": {
      "text/html": [
       "<div>\n",
       "<style scoped>\n",
       "    .dataframe tbody tr th:only-of-type {\n",
       "        vertical-align: middle;\n",
       "    }\n",
       "\n",
       "    .dataframe tbody tr th {\n",
       "        vertical-align: top;\n",
       "    }\n",
       "\n",
       "    .dataframe thead tr th {\n",
       "        text-align: left;\n",
       "    }\n",
       "\n",
       "    .dataframe thead tr:last-of-type th {\n",
       "        text-align: right;\n",
       "    }\n",
       "</style>\n",
       "<table border=\"1\" class=\"dataframe\">\n",
       "  <thead>\n",
       "    <tr>\n",
       "      <th></th>\n",
       "      <th colspan=\"3\" halign=\"left\">Adj Close</th>\n",
       "      <th colspan=\"3\" halign=\"left\">Close</th>\n",
       "      <th colspan=\"3\" halign=\"left\">High</th>\n",
       "      <th colspan=\"3\" halign=\"left\">Low</th>\n",
       "      <th colspan=\"3\" halign=\"left\">Open</th>\n",
       "      <th colspan=\"3\" halign=\"left\">Volume</th>\n",
       "    </tr>\n",
       "    <tr>\n",
       "      <th></th>\n",
       "      <th>ICON.SA</th>\n",
       "      <th>INDX.SA</th>\n",
       "      <th>SMLL.SA</th>\n",
       "      <th>ICON.SA</th>\n",
       "      <th>INDX.SA</th>\n",
       "      <th>SMLL.SA</th>\n",
       "      <th>ICON.SA</th>\n",
       "      <th>INDX.SA</th>\n",
       "      <th>SMLL.SA</th>\n",
       "      <th>ICON.SA</th>\n",
       "      <th>INDX.SA</th>\n",
       "      <th>SMLL.SA</th>\n",
       "      <th>ICON.SA</th>\n",
       "      <th>INDX.SA</th>\n",
       "      <th>SMLL.SA</th>\n",
       "      <th>ICON.SA</th>\n",
       "      <th>INDX.SA</th>\n",
       "      <th>SMLL.SA</th>\n",
       "    </tr>\n",
       "    <tr>\n",
       "      <th>Date</th>\n",
       "      <th></th>\n",
       "      <th></th>\n",
       "      <th></th>\n",
       "      <th></th>\n",
       "      <th></th>\n",
       "      <th></th>\n",
       "      <th></th>\n",
       "      <th></th>\n",
       "      <th></th>\n",
       "      <th></th>\n",
       "      <th></th>\n",
       "      <th></th>\n",
       "      <th></th>\n",
       "      <th></th>\n",
       "      <th></th>\n",
       "      <th></th>\n",
       "      <th></th>\n",
       "      <th></th>\n",
       "    </tr>\n",
       "  </thead>\n",
       "  <tbody>\n",
       "    <tr>\n",
       "      <th>2021-09-21</th>\n",
       "      <td>4892.799805</td>\n",
       "      <td>24846.429688</td>\n",
       "      <td>2722.179932</td>\n",
       "      <td>4892.799805</td>\n",
       "      <td>24846.429688</td>\n",
       "      <td>2722.179932</td>\n",
       "      <td>0.0</td>\n",
       "      <td>0.0</td>\n",
       "      <td>0.0</td>\n",
       "      <td>0.0</td>\n",
       "      <td>0.0</td>\n",
       "      <td>0.0</td>\n",
       "      <td>0.0</td>\n",
       "      <td>0.0</td>\n",
       "      <td>0.0</td>\n",
       "      <td>0</td>\n",
       "      <td>0</td>\n",
       "      <td>0</td>\n",
       "    </tr>\n",
       "  </tbody>\n",
       "</table>\n",
       "</div>"
      ],
      "text/plain": [
       "              Adj Close                                   Close                \\\n",
       "                ICON.SA       INDX.SA      SMLL.SA      ICON.SA       INDX.SA   \n",
       "Date                                                                            \n",
       "2021-09-21  4892.799805  24846.429688  2722.179932  4892.799805  24846.429688   \n",
       "\n",
       "                           High                     Low                  \\\n",
       "                SMLL.SA ICON.SA INDX.SA SMLL.SA ICON.SA INDX.SA SMLL.SA   \n",
       "Date                                                                      \n",
       "2021-09-21  2722.179932     0.0     0.0     0.0     0.0     0.0     0.0   \n",
       "\n",
       "              Open                  Volume                  \n",
       "           ICON.SA INDX.SA SMLL.SA ICON.SA INDX.SA SMLL.SA  \n",
       "Date                                                        \n",
       "2021-09-21     0.0     0.0     0.0       0       0       0  "
      ]
     },
     "execution_count": 7,
     "metadata": {},
     "output_type": "execute_result"
    }
   ],
   "source": [
    "stocks = [\"ICON.SA\", \"SMLL.SA\", \"INDX.SA\"]\n",
    "\n",
    "df = yf.download(stocks, start=start, end=end)\n",
    "\n",
    "df"
   ]
  },
  {
   "cell_type": "code",
   "execution_count": 9,
   "id": "50c3e40e-2569-446e-9f0b-49ac67d6ae91",
   "metadata": {},
   "outputs": [
    {
     "data": {
      "text/html": [
       "<div>\n",
       "<style scoped>\n",
       "    .dataframe tbody tr th:only-of-type {\n",
       "        vertical-align: middle;\n",
       "    }\n",
       "\n",
       "    .dataframe tbody tr th {\n",
       "        vertical-align: top;\n",
       "    }\n",
       "\n",
       "    .dataframe thead tr th {\n",
       "        text-align: left;\n",
       "    }\n",
       "\n",
       "    .dataframe thead tr:last-of-type th {\n",
       "        text-align: right;\n",
       "    }\n",
       "</style>\n",
       "<table border=\"1\" class=\"dataframe\">\n",
       "  <thead>\n",
       "    <tr>\n",
       "      <th>Attributes</th>\n",
       "      <th colspan=\"2\" halign=\"left\">Adj Close</th>\n",
       "      <th colspan=\"2\" halign=\"left\">Close</th>\n",
       "      <th colspan=\"2\" halign=\"left\">High</th>\n",
       "      <th colspan=\"2\" halign=\"left\">Low</th>\n",
       "      <th colspan=\"2\" halign=\"left\">Open</th>\n",
       "      <th colspan=\"2\" halign=\"left\">Volume</th>\n",
       "    </tr>\n",
       "    <tr>\n",
       "      <th>Symbols</th>\n",
       "      <th>ICON.SA</th>\n",
       "      <th>SMLL.SA</th>\n",
       "      <th>ICON.SA</th>\n",
       "      <th>SMLL.SA</th>\n",
       "      <th>ICON.SA</th>\n",
       "      <th>SMLL.SA</th>\n",
       "      <th>ICON.SA</th>\n",
       "      <th>SMLL.SA</th>\n",
       "      <th>ICON.SA</th>\n",
       "      <th>SMLL.SA</th>\n",
       "      <th>ICON.SA</th>\n",
       "      <th>SMLL.SA</th>\n",
       "    </tr>\n",
       "    <tr>\n",
       "      <th>Date</th>\n",
       "      <th></th>\n",
       "      <th></th>\n",
       "      <th></th>\n",
       "      <th></th>\n",
       "      <th></th>\n",
       "      <th></th>\n",
       "      <th></th>\n",
       "      <th></th>\n",
       "      <th></th>\n",
       "      <th></th>\n",
       "      <th></th>\n",
       "      <th></th>\n",
       "    </tr>\n",
       "  </thead>\n",
       "  <tbody>\n",
       "    <tr>\n",
       "      <th>2021-09-21</th>\n",
       "      <td>4892.799805</td>\n",
       "      <td>2722.179932</td>\n",
       "      <td>4892.799805</td>\n",
       "      <td>2722.179932</td>\n",
       "      <td>0</td>\n",
       "      <td>0</td>\n",
       "      <td>0</td>\n",
       "      <td>0</td>\n",
       "      <td>0</td>\n",
       "      <td>0</td>\n",
       "      <td>0</td>\n",
       "      <td>0</td>\n",
       "    </tr>\n",
       "  </tbody>\n",
       "</table>\n",
       "</div>"
      ],
      "text/plain": [
       "Attributes    Adj Close                     Close                 High  \\\n",
       "Symbols         ICON.SA      SMLL.SA      ICON.SA      SMLL.SA ICON.SA   \n",
       "Date                                                                     \n",
       "2021-09-21  4892.799805  2722.179932  4892.799805  2722.179932       0   \n",
       "\n",
       "Attributes             Low            Open          Volume          \n",
       "Symbols    SMLL.SA ICON.SA SMLL.SA ICON.SA SMLL.SA ICON.SA SMLL.SA  \n",
       "Date                                                                \n",
       "2021-09-21       0       0       0       0       0       0       0  "
      ]
     },
     "execution_count": 9,
     "metadata": {},
     "output_type": "execute_result"
    }
   ],
   "source": [
    "df = data.DataReader([\"ICON.SA\", \"SMLL.SA\"], \"yahoo\", start, end)\n",
    "df"
   ]
  },
  {
   "cell_type": "code",
   "execution_count": null,
   "id": "3af86b09-3f44-4c26-a33f-f7361bdcc9c3",
   "metadata": {},
   "outputs": [],
   "source": []
  }
 ],
 "metadata": {
  "kernelspec": {
   "display_name": "Python 3 (ipykernel)",
   "language": "python",
   "name": "python3"
  },
  "language_info": {
   "codemirror_mode": {
    "name": "ipython",
    "version": 3
   },
   "file_extension": ".py",
   "mimetype": "text/x-python",
   "name": "python",
   "nbconvert_exporter": "python",
   "pygments_lexer": "ipython3",
   "version": "3.8.11"
  }
 },
 "nbformat": 4,
 "nbformat_minor": 5
}
