{
 "cells": [
  {
   "cell_type": "code",
   "execution_count": null,
   "id": "5a2c9b36",
   "metadata": {},
   "outputs": [],
   "source": [
    "def juntar_dataframes(dfs_in):\n",
    "    copia_fund = dfs_in.copy()\n",
    "    bd = pd.DataFrame()\n",
    "    for code in copia_fund:\n",
    "        copia_fund[code] = copia_fund[code][1:-1]\n",
    "        copia_fund[code] = copia_fund[code].reset_index(drop=True)\n",
    "        bd = bd.append(copia_fund[code])\n",
    "    bd.reset_index(drop=True, inplace=True)\n",
    "    print(f\"Dataframe unico criado com sucesso. Registros: {len(bd)}\")\n",
    "    return bd"
   ]
  }
 ],
 "metadata": {
  "kernelspec": {
   "display_name": "Python 3",
   "language": "python",
   "name": "python3"
  },
  "language_info": {
   "codemirror_mode": {
    "name": "ipython",
    "version": 3
   },
   "file_extension": ".py",
   "mimetype": "text/x-python",
   "name": "python",
   "nbconvert_exporter": "python",
   "pygments_lexer": "ipython3",
   "version": "3.8.8"
  }
 },
 "nbformat": 4,
 "nbformat_minor": 5
}
