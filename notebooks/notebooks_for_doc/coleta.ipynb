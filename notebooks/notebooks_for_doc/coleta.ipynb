{
 "cells": [
  {
   "cell_type": "markdown",
   "id": "1d7b07fe",
   "metadata": {},
   "source": [
    "# Coleta de dados"
   ]
  },
  {
   "cell_type": "code",
   "execution_count": 4,
   "id": "854d99bc",
   "metadata": {},
   "outputs": [],
   "source": [
    "import pandas as pd\n",
    "import os\n",
    "import numpy as np\n",
    "import yfinance as yf\n",
    "\n",
    "from typing import Optional, List\n",
    "\n",
    "import joblib"
   ]
  },
  {
   "cell_type": "code",
   "execution_count": 10,
   "id": "0bbc6985",
   "metadata": {},
   "outputs": [],
   "source": [
    "class AquisicaoDadosFundamentos:\n",
    "    def __init__(self):\n",
    "        self.balancos_dir = \"dados/balancos/\"\n",
    "        self.balancos_joblib_file = \"dados/fundamentos.joblib\"\n",
    "        self.fund_by_code = {}\n",
    "        self.codes = self.get_code_list()\n",
    "\n",
    "    def run(self):\n",
    "        if os.path.isfile(self.balancos_joblib_file):\n",
    "            print(\"carregando joblib fundamentos\")\n",
    "            return joblib.load(self.balancos_joblib_file)\n",
    "\n",
    "        self.get_balancos_by_code()\n",
    "        self.get_dre_by_code()\n",
    "\n",
    "        self.salvar_joblib()\n",
    "        \n",
    "        return self.fund_by_code\n",
    "    \n",
    "    def get_code_list(self):\n",
    "        return [file.replace(\"balanco_\", \"\").replace(\".xls\", \"\") for file in os.listdir(self.balancos_dir)]\n",
    "\n",
    "    def get_balancos_by_code(self) -> None:\n",
    "\n",
    "        files = os.listdir(self.balancos_dir)\n",
    "\n",
    "        for file in files:\n",
    "            code = file.replace(\"balanco_\", \"\").replace(\".xls\", \"\")\n",
    "            print(code)\n",
    "            balanco = pd.read_excel(f\"{self.balancos_dir}{file}\", sheet_name=0)\n",
    "            # colocar codigo na posicao 0, 0\n",
    "            balanco.iloc[0, 0] = code\n",
    "            # mudar coluna\n",
    "            balanco.columns = balanco.iloc[0]\n",
    "            balanco = balanco[1:]\n",
    "            # tornar a 1ª coluna (que agora tem o nome da empresa)\n",
    "            balanco = balanco.set_index(code)\n",
    "            self.fund_by_code[code] = balanco\n",
    "\n",
    "    def get_dre_by_code(self) -> None:\n",
    "\n",
    "        files = os.listdir(self.balancos_dir)\n",
    "        for file in files:\n",
    "            code = file.replace(\"balanco_\", \"\").replace(\".xls\", \"\")\n",
    "            dre = pd.read_excel(f\"{self.balancos_dir}{file}\", sheet_name=1)\n",
    "            # na primeira coluna colocar o título com o nome da empresa\n",
    "            dre.iloc[0, 0] = code\n",
    "            # pegar 1ª linha e tornar um cabeçalho\n",
    "            dre.columns = dre.iloc[0]\n",
    "            dre = dre[1:]\n",
    "            # tornar a 1ª coluna (que agora tem o nome da empresa)\n",
    "            dre = dre.set_index(code)\n",
    "            self.fund_by_code[code] = self.fund_by_code[code].append(dre)\n",
    "    \n",
    "    def salvar_joblib(self):\n",
    "        joblib.dump(self.fund_by_code, self.balancos_joblib_file)\n"
   ]
  },
  {
   "cell_type": "code",
   "execution_count": 12,
   "id": "bbabc195",
   "metadata": {},
   "outputs": [
    {
     "name": "stdout",
     "output_type": "stream",
     "text": [
      "carregando joblib fundamentos\n"
     ]
    }
   ],
   "source": [
    "fundamentos_by_code = AquisicaoDadosFundamentos().run()"
   ]
  },
  {
   "cell_type": "code",
   "execution_count": 16,
   "id": "e56e1fd0",
   "metadata": {},
   "outputs": [
    {
     "name": "stdout",
     "output_type": "stream",
     "text": [
      "<class 'pandas.core.frame.DataFrame'>\n",
      "Index: 79 entries, Ativo Total to Lucro/Prejuízo do Período\n",
      "Data columns (total 33 columns):\n",
      " #   Column      Non-Null Count  Dtype \n",
      "---  ------      --------------  ----- \n",
      " 0   31/12/2020  72 non-null     object\n",
      " 1   30/09/2020  72 non-null     object\n",
      " 2   30/06/2020  72 non-null     object\n",
      " 3   31/03/2020  72 non-null     object\n",
      " 4   31/12/2019  72 non-null     object\n",
      " 5   30/09/2019  72 non-null     object\n",
      " 6   30/06/2019  72 non-null     object\n",
      " 7   31/03/2019  72 non-null     object\n",
      " 8   31/12/2018  72 non-null     object\n",
      " 9   30/09/2018  72 non-null     object\n",
      " 10  30/06/2018  72 non-null     object\n",
      " 11  31/03/2018  72 non-null     object\n",
      " 12  31/12/2017  72 non-null     object\n",
      " 13  30/09/2017  72 non-null     object\n",
      " 14  30/06/2017  72 non-null     object\n",
      " 15  31/03/2017  72 non-null     object\n",
      " 16  31/12/2016  72 non-null     object\n",
      " 17  30/09/2016  72 non-null     object\n",
      " 18  30/06/2016  72 non-null     object\n",
      " 19  31/03/2016  72 non-null     object\n",
      " 20  31/12/2015  72 non-null     object\n",
      " 21  30/09/2015  72 non-null     object\n",
      " 22  30/06/2015  72 non-null     object\n",
      " 23  31/03/2015  72 non-null     object\n",
      " 24  31/12/2014  72 non-null     object\n",
      " 25  30/09/2014  72 non-null     object\n",
      " 26  30/06/2014  72 non-null     object\n",
      " 27  31/03/2014  72 non-null     object\n",
      " 28  31/12/2013  72 non-null     object\n",
      " 29  30/09/2013  72 non-null     object\n",
      " 30  30/06/2013  72 non-null     object\n",
      " 31  31/03/2013  71 non-null     object\n",
      " 32  31/12/2012  55 non-null     object\n",
      "dtypes: object(33)\n",
      "memory usage: 21.0+ KB\n"
     ]
    }
   ],
   "source": [
    "fundamentos_by_code[\"ABEV3\"].info()"
   ]
  },
  {
   "cell_type": "code",
   "execution_count": 17,
   "id": "d4ab2867",
   "metadata": {},
   "outputs": [],
   "source": [
    "def get_ibov_from_yahoo():\n",
    "    \n",
    "    ibov_file = \"../dados/cotacoes_ibov.joblib\"\n",
    "    # Caso os dados ja tenham sido carregados anteriormente, retorne o joblib\n",
    "    if os.path.isfile(ibov_file):\n",
    "        print(\"carregando joblib ibov\")\n",
    "        return joblib.load(ibov_file)\n",
    "\n",
    "    data_inicial = \"2012-12-20\"\n",
    "    data_final = \"2021-09-20\"\n",
    "\n",
    "    ibov = yf.download(\"^BVSP\", start=data_inicial, end=data_final)\n",
    "\n",
    "    # Salvar arquivo joblib para nao ter que rodar yfinance novamente     \n",
    "    joblib.dump(ibov, ibov_file)\n",
    "\n",
    "    return ibov"
   ]
  },
  {
   "cell_type": "code",
   "execution_count": null,
   "id": "a62a02b5",
   "metadata": {},
   "outputs": [],
   "source": [
    "def get_cotacoes_from_yahoo(codigos_acoes: List[str]):\n",
    "\n",
    "    arquivo_cotacoes = \"dados/Cotacoes.xlsx\"\n",
    "    # Caso os dados ja tenham sido carregados anteriormente, retorne o joblib\n",
    "    if os.path.isfile(arquivo_cotacoes):\n",
    "        cotacoes = pd.read_excel(arquivo_cotacoes, sheet_name=0):\n",
    "        print(\"carregando cotacoes\")\n",
    "        return cotacoes\n",
    "\n",
    "    data_inicial = \"2012-12-20\"\n",
    "    data_final = \"2021-09-20\"\n",
    "\n",
    "    cotacoes_yf = yf.download(codigos_acoes, start=data_inicial, end=data_final)\n",
    "    \n",
    "    cotacoes_yf.to_excel(cotacoes_yf, arquivo_cotacoes)\n",
    "    \n",
    "    return cotacoes_yf"
   ]
  }
 ],
 "metadata": {
  "kernelspec": {
   "display_name": "Python 3",
   "language": "python",
   "name": "python3"
  },
  "language_info": {
   "codemirror_mode": {
    "name": "ipython",
    "version": 3
   },
   "file_extension": ".py",
   "mimetype": "text/x-python",
   "name": "python",
   "nbconvert_exporter": "python",
   "pygments_lexer": "ipython3",
   "version": "3.8.8"
  }
 },
 "nbformat": 4,
 "nbformat_minor": 5
}
