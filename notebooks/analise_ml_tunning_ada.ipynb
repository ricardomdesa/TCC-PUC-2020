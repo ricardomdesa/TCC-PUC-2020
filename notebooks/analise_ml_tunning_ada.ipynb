{
 "cells": [
  {
   "cell_type": "markdown",
   "metadata": {},
   "source": [
    "# 5.1 Criação de Modelos de Machine Learning - Tunning"
   ]
  },
  {
   "cell_type": "markdown",
   "metadata": {},
   "source": [
    "## Carregar dados tratados"
   ]
  },
  {
   "cell_type": "code",
   "execution_count": 83,
   "metadata": {},
   "outputs": [],
   "source": [
    "# ! pip install seaborn\n",
    "# ! pip install plotly\n",
    "# ! pip install statsmodels\n",
    "# ! pip install sklearn"
   ]
  },
  {
   "cell_type": "code",
   "execution_count": 84,
   "metadata": {},
   "outputs": [],
   "source": [
    "import pandas as pd\n",
    "import numpy as np\n",
    "import matplotlib.pyplot as plt\n",
    "import seaborn as sns\n",
    "import joblib\n",
    "\n",
    "from sklearn.model_selection import train_test_split\n",
    "from sklearn.metrics import classification_report, confusion_matrix\n",
    "from sklearn import metrics\n",
    "from sklearn.ensemble import AdaBoostClassifier\n",
    "from sklearn.model_selection import RandomizedSearchCV"
   ]
  },
  {
   "cell_type": "code",
   "execution_count": 85,
   "metadata": {},
   "outputs": [],
   "source": [
    "def carregar_joblib(file_name: str = \"../out/result_analise_desc.joblib\"):\n",
    "    df = joblib.load(file_name)\n",
    "    return df"
   ]
  },
  {
   "cell_type": "code",
   "execution_count": 86,
   "metadata": {},
   "outputs": [],
   "source": [
    "def split_dados(df, test_size: float = 0.2):\n",
    "    X = df.drop([\"decisao\"], axis=1)\n",
    "    y = df[\"decisao\"]\n",
    "\n",
    "    X_treino, X_teste, y_treino, y_teste = train_test_split(X, y, test_size=test_size, random_state=42)\n",
    "\n",
    "    return (X_treino, X_teste, y_treino, y_teste)"
   ]
  },
  {
   "cell_type": "code",
   "execution_count": 87,
   "metadata": {},
   "outputs": [],
   "source": [
    "def plot_confusion_matrix_heat(cf_matrix):\n",
    "    cf_matrix.index.name = 'Atual'\n",
    "    cf_matrix.columns.name = 'Predito'\n",
    "    \n",
    "    cf_nd_array = cf_matrix.to_numpy()\n",
    "    cf_flatten = cf_nd_array.flatten()\n",
    "\n",
    "    group_names = [\"TN\", \"FP\", \"FN\", \"TP\"]\n",
    "    group_counts = [\"{0:0.0f}\".format(value) for value in\n",
    "                    cf_flatten]\n",
    "    group_percentages = [\"{0:.2%}\".format(value) for value in\n",
    "                         cf_flatten / np.sum(cf_nd_array)]\n",
    "    labels = [f\"{v1}\\n{v2}\\n{v3}\" for v1, v2, v3 in\n",
    "              zip(group_names, group_counts, group_percentages)]\n",
    "    labels = np.asarray(labels).reshape(2, 2)\n",
    "    print(cf_matrix.shape)\n",
    "    sns.heatmap(cf_matrix, annot=labels, fmt=\"\", cmap='Blues')\n"
   ]
  },
  {
   "cell_type": "code",
   "execution_count": 88,
   "metadata": {},
   "outputs": [],
   "source": [
    "def avaliar(y_teste, y_prev):\n",
    "    print(\"Reporte base de teste\")\n",
    "    report = classification_report(y_teste, y_prev, target_names=[\"Vender\", \"Comprar\"])\n",
    "    print(report)\n",
    "    cf_matrix = pd.DataFrame(confusion_matrix(y_teste, y_prev), index=[\"Vender\", \"Comprar\"], columns=[\"Vender\", \"Comprar\"])\n",
    "    plot_confusion_matrix_heat(cf_matrix)\n",
    "    plt.show()\n",
    "    metric = metrics.average_precision_score(y_teste, y_prev)\n",
    "    print(\"Precision: \", metric)\n",
    "    print(\"Acuracia treinamento: \", metrics.accuracy_score(y_teste, y_prev))\n",
    "    print(\"#\" * 50)\n",
    "    return metric"
   ]
  },
  {
   "cell_type": "markdown",
   "metadata": {},
   "source": [
    "# ML modelo"
   ]
  },
  {
   "cell_type": "code",
   "execution_count": 89,
   "metadata": {},
   "outputs": [],
   "source": [
    "def definir_modelo_ml() -> dict:\n",
    "    return dict(AdaBoost={'modelo_base': AdaBoostClassifier(), \n",
    "                          'modelo_tunado': None})"
   ]
  },
  {
   "cell_type": "code",
   "execution_count": 90,
   "metadata": {},
   "outputs": [],
   "source": [
    "def treinar_modelo_base(modelos, splited_data):\n",
    "\n",
    "    X_treino, _, y_treino, _ = splited_data\n",
    "\n",
    "    for nome, modelo in modelos.items():\n",
    "        modelo = modelo.get('modelo_base')\n",
    "        modelo.fit(X_treino, y_treino)\n",
    "\n",
    "        modelos[nome]['modelo_base'] = modelo\n",
    "    \n",
    "    return modelos"
   ]
  },
  {
   "cell_type": "markdown",
   "metadata": {},
   "source": [
    "## Tunning do modelo"
   ]
  },
  {
   "cell_type": "code",
   "execution_count": 91,
   "metadata": {},
   "outputs": [],
   "source": [
    "def fit_tunning_rand_search_ada(X_treino, y_treino):\n",
    "    print(\"Tunning randomized search AdaBoost\")\n",
    "\n",
    "    # Create the random grid\n",
    "    param = {'n_estimators': [50, 80, 90, 100],\n",
    "             'learning_rate': [0.2, 1.0, 0.1],\n",
    "             'algorithm': [\"SAMME\", \"SAMME.R\"], \n",
    "             'random_state':[None]}\n",
    "\n",
    "    print(param)\n",
    "\n",
    "    rf_random = RandomizedSearchCV(estimator=AdaBoostClassifier(),\n",
    "                                   param_distributions=param,\n",
    "                                   cv=10,\n",
    "                                   verbose=0,\n",
    "                                   scoring=\"precision\",\n",
    "                                   random_state=42,\n",
    "                                   n_jobs=-1)\n",
    "\n",
    "    # Fit the random search model\n",
    "    return rf_random.fit(X_treino, y_treino)"
   ]
  },
  {
   "cell_type": "code",
   "execution_count": 92,
   "metadata": {},
   "outputs": [],
   "source": [
    "def run_ada_boost_tunning(splited_data):\n",
    "\n",
    "    X_treino, X_teste, y_treino, y_teste = splited_data\n",
    "    \n",
    "    resultado_grid = fit_tunning_rand_search_ada(X_treino.values, y_treino.values)\n",
    "\n",
    "    print(\"Ajuste Adaboost feito\")\n",
    "\n",
    "    print(\"Best params\", resultado_grid.best_params_)\n",
    "\n",
    "    modelo_tunado = resultado_grid.best_estimator_\n",
    "\n",
    "    return modelo_tunado"
   ]
  },
  {
   "cell_type": "code",
   "execution_count": 93,
   "metadata": {},
   "outputs": [],
   "source": [
    "def predict_e_avaliar_por_modelo(modelo, splited_data, nome):\n",
    "    X_treino, X_teste, y_treino, y_teste = splited_data\n",
    "\n",
    "    prev = modelo.predict(X_teste)\n",
    "    print(nome)\n",
    "    print(f\"\\nAcuracia treinamento {nome}: {modelo.score(X_treino, y_treino)}\\n\")\n",
    "    print(f\"\\nAcuracia previsto {nome}: {metrics.accuracy_score(y_teste, prev)}\\n\")\n",
    "\n",
    "    return avaliar(y_teste, prev)\n",
    "\n",
    "def compare_tunning(modelos: dict, splited_data):\n",
    "\n",
    "    metrics = {}\n",
    "    for nome, modelos_dict in modelos.items():\n",
    "        metrics[nome + '_base'] =predict_e_avaliar_por_modelo(modelos_dict['modelo_base'], splited_data, nome + '_base')\n",
    "        metrics[nome + '_tunned'] =predict_e_avaliar_por_modelo(modelos_dict['modelo_tunado'], splited_data, nome + '_tunned')\n",
    "    \n",
    "    # barplot comparacao 3 modelos tunados\n",
    "    sns.set_theme(style=\"whitegrid\")\n",
    "    ax = sns.barplot(x=list(metrics.keys()), y=list(metrics.values()))\n",
    "    ax.set(xlabel=\"Modelos\", ylabel=\"Recall\", title=\"Recall por Modelo\")\n",
    "    "
   ]
  },
  {
   "cell_type": "code",
   "execution_count": 94,
   "metadata": {},
   "outputs": [],
   "source": [
    "def run_tunning_fit(modelos, splited_data):\n",
    "    '''\n",
    "        Executa os tunnings com randomized search cv e armazena o modelo tunado\n",
    "    '''\n",
    "    modelos['AdaBoost']['modelo_tunado'] = run_ada_boost_tunning(splited_data)\n",
    "\n",
    "    return modelos\n"
   ]
  },
  {
   "cell_type": "code",
   "execution_count": 95,
   "metadata": {
    "scrolled": false
   },
   "outputs": [
    {
     "name": "stdout",
     "output_type": "stream",
     "text": [
      "Tunning randomized search AdaBoost\n",
      "{'n_estimators': [50, 80, 90, 100], 'learning_rate': [0.2, 1.0, 0.1], 'algorithm': ['SAMME', 'SAMME.R'], 'random_state': [None]}\n",
      "Ajuste Adaboost feito\n",
      "Best params {'random_state': None, 'n_estimators': 90, 'learning_rate': 1.0, 'algorithm': 'SAMME.R'}\n",
      "AdaBoost_base\n",
      "\n",
      "Acuracia treinamento AdaBoost_base: 0.633418043202033\n",
      "\n",
      "\n",
      "Acuracia previsto AdaBoost_base: 0.5863309352517986\n",
      "\n",
      "Reporte base de teste\n",
      "              precision    recall  f1-score   support\n",
      "\n",
      "      Vender       0.58      0.56      0.57       135\n",
      "     Comprar       0.60      0.61      0.60       143\n",
      "\n",
      "    accuracy                           0.59       278\n",
      "   macro avg       0.59      0.59      0.59       278\n",
      "weighted avg       0.59      0.59      0.59       278\n",
      "\n",
      "(2, 2)\n"
     ]
    },
    {
     "name": "stderr",
     "output_type": "stream",
     "text": [
      "/Users/shopee/opt/anaconda3/envs/TCC_PUC/lib/python3.8/site-packages/sklearn/base.py:441: UserWarning: X does not have valid feature names, but AdaBoostClassifier was fitted with feature names\n",
      "  warnings.warn(\n",
      "/Users/shopee/opt/anaconda3/envs/TCC_PUC/lib/python3.8/site-packages/sklearn/base.py:441: UserWarning: X does not have valid feature names, but AdaBoostClassifier was fitted with feature names\n",
      "  warnings.warn(\n"
     ]
    },
    {
     "data": {
      "image/png": "[encoded data removed]",
      "text/plain": [
       "<Figure size 432x288 with 2 Axes>"
      ]
     },
     "metadata": {},
     "output_type": "display_data"
    },
    {
     "name": "stdout",
     "output_type": "stream",
     "text": [
      "Precision:  0.5639735744692875\n",
      "Acuracia treinamento:  0.5863309352517986\n",
      "##################################################\n",
      "AdaBoost_tunned\n"
     ]
    },
    {
     "name": "stderr",
     "output_type": "stream",
     "text": [
      "/Users/shopee/opt/anaconda3/envs/TCC_PUC/lib/python3.8/site-packages/sklearn/base.py:434: UserWarning: X has feature names, but AdaBoostClassifier was fitted without feature names\n",
      "  warnings.warn(\n",
      "/Users/shopee/opt/anaconda3/envs/TCC_PUC/lib/python3.8/site-packages/sklearn/base.py:434: UserWarning: X has feature names, but AdaBoostClassifier was fitted without feature names\n",
      "  warnings.warn(\n"
     ]
    },
    {
     "name": "stdout",
     "output_type": "stream",
     "text": [
      "\n",
      "Acuracia treinamento AdaBoost_tunned: 0.6632782719186785\n",
      "\n",
      "\n",
      "Acuracia previsto AdaBoost_tunned: 0.579136690647482\n",
      "\n",
      "Reporte base de teste\n",
      "              precision    recall  f1-score   support\n",
      "\n",
      "      Vender       0.56      0.59      0.58       135\n",
      "     Comprar       0.60      0.57      0.58       143\n",
      "\n",
      "    accuracy                           0.58       278\n",
      "   macro avg       0.58      0.58      0.58       278\n",
      "weighted avg       0.58      0.58      0.58       278\n",
      "\n",
      "(2, 2)\n"
     ]
    },
    {
     "data": {
      "image/png": "[encoded data removed]",
      "text/plain": [
       "<Figure size 432x288 with 2 Axes>"
      ]
     },
     "metadata": {},
     "output_type": "display_data"
    },
    {
     "name": "stdout",
     "output_type": "stream",
     "text": [
      "Precision:  0.5603827509773341\n",
      "Acuracia treinamento:  0.579136690647482\n",
      "##################################################\n"
     ]
    },
    {
     "data": {
      "image/png": "[encoded data removed]",
      "text/plain": [
       "<Figure size 432x288 with 1 Axes>"
      ]
     },
     "metadata": {},
     "output_type": "display_data"
    }
   ],
   "source": [
    "def main():\n",
    "\n",
    "    df = carregar_joblib()\n",
    "\n",
    "    modelo = definir_modelo_ml()\n",
    "\n",
    "    splited_data = split_dados(df, test_size=0.15)\n",
    "\n",
    "    modelo = treinar_modelo_base(modelo, splited_data)\n",
    "\n",
    "    modelo = run_tunning_fit(modelo, splited_data)\n",
    "\n",
    "    compare_tunning(modelo, splited_data)\n",
    "\n",
    "    return modelo\n",
    "\n",
    "modelos = main()"
   ]
  }
 ],
 "metadata": {
  "interpreter": {
   "hash": "8ab34ce4145f682337f5fa161ec816727aecde41915875d0a837a5ffe57556a8"
  },
  "kernelspec": {
   "display_name": "Python 3",
   "language": "python",
   "name": "python3"
  },
  "language_info": {
   "codemirror_mode": {
    "name": "ipython",
    "version": 3
   },
   "file_extension": ".py",
   "mimetype": "text/x-python",
   "name": "python",
   "nbconvert_exporter": "python",
   "pygments_lexer": "ipython3",
   "version": "3.8.8"
  }
 },
 "nbformat": 4,
 "nbformat_minor": 2
}
