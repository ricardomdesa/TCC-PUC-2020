{
 "cells": [
  {
   "cell_type": "markdown",
   "id": "0ea3c362",
   "metadata": {},
   "source": [
    "# 6. Resultados. Teste do melhor modelo"
   ]
  },
  {
   "cell_type": "markdown",
   "id": "028700aa",
   "metadata": {},
   "source": [
    "### Instalar/Importar bibliotecas"
   ]
  },
  {
   "cell_type": "code",
   "execution_count": 15,
   "id": "0ff39612",
   "metadata": {},
   "outputs": [
    {
     "name": "stdout",
     "output_type": "stream",
     "text": [
      "Requirement already satisfied: pydantic in /Users/shopee/opt/anaconda3/lib/python3.8/site-packages (1.9.0)\n",
      "Requirement already satisfied: typing-extensions>=3.7.4.3 in /Users/shopee/opt/anaconda3/lib/python3.8/site-packages (from pydantic) (3.7.4.3)\n",
      "Note: you may need to restart the kernel to use updated packages.\n"
     ]
    }
   ],
   "source": [
    "pip install pydantic"
   ]
  },
  {
   "cell_type": "code",
   "execution_count": 16,
   "id": "ba184a05",
   "metadata": {},
   "outputs": [],
   "source": [
    "import pandas as pd\n",
    "import os\n",
    "import numpy as np\n",
    "\n",
    "from pydantic import BaseModel\n",
    "from typing import Optional, List\n",
    "\n",
    "import joblib"
   ]
  },
  {
   "cell_type": "markdown",
   "id": "9257477b",
   "metadata": {},
   "source": [
    "### Carregar dados de entrada\n",
    "\n",
    "Classe para ler dados de balanco patrimonial e demonstrativo financeiro"
   ]
  },
  {
   "cell_type": "code",
   "execution_count": 17,
   "id": "ee1e4a25",
   "metadata": {},
   "outputs": [],
   "source": [
    "class AquisicaoDadosFundamentos(BaseModel):\n",
    "    balancos_dir: Optional[str] = \"dados/\"\n",
    "    balancos_joblib_file: Optional[str] = \"dados/fundamentos_teste.joblib\"\n",
    "    fund_by_code: Optional[dict] = {}\n",
    "    codes: List[str] = []\n",
    "\n",
    "    def __init__(self, **kwargs):\n",
    "        super().__init__(**kwargs)\n",
    "        self.codes = self.get_code_list()\n",
    "\n",
    "    def run(self):\n",
    "        if os.path.isfile(self.balancos_joblib_file):\n",
    "            print(\"carregando joblib fundamentos\")\n",
    "            return joblib.load(self.balancos_joblib_file)\n",
    "\n",
    "        self.get_balancos_by_code()\n",
    "        self.get_dre_by_code()\n",
    "\n",
    "        self.salvar_joblib()\n",
    "        \n",
    "        return self.fund_by_code\n",
    "    \n",
    "    def get_code_list(self):\n",
    "        return [file.replace(\"balanco_\", \"\").replace(\".xls\", \"\") for file in os.listdir(self.balancos_dir)]\n",
    "\n",
    "    def get_balancos_by_code(self) -> None:\n",
    "\n",
    "        # Lista os arquivos xls na pasta dados/balancos\n",
    "        files = os.listdir(self.balancos_dir)\n",
    "\n",
    "        # Para cada arquivo (empresa) de balanco guarda no dicionario com o codigo como chave\n",
    "        for file in files:\n",
    "            code = file.replace(\"balanco_\", \"\").replace(\".xls\", \"\")\n",
    "            print(code)\n",
    "            balanco = pd.read_excel(f\"{self.balancos_dir}{file}\", sheet_name=0)\n",
    "            # colocar codigo na posicao 0, 0\n",
    "            balanco.iloc[0, 0] = code\n",
    "            # mudar coluna\n",
    "            balanco.columns = balanco.iloc[0]\n",
    "            balanco = balanco[1:]\n",
    "            # tornar a 1ª coluna (que agora tem o nome da empresa)\n",
    "            balanco = balanco.set_index(code)\n",
    "            self.fund_by_code[code] = balanco\n",
    "\n",
    "    def get_dre_by_code(self) -> None:\n",
    "\n",
    "        files = os.listdir(self.balancos_dir)\n",
    "        for file in files:\n",
    "            code = file.replace(\"balanco_\", \"\").replace(\".xls\", \"\")\n",
    "            dre = pd.read_excel(f\"{self.balancos_dir}{file}\", sheet_name=1)\n",
    "            # na primeira coluna colocar o título com o nome da empresa\n",
    "            dre.iloc[0, 0] = code\n",
    "            # pegar 1ª linha e tornar um cabeçalho\n",
    "            dre.columns = dre.iloc[0]\n",
    "            dre = dre[1:]\n",
    "            # tornar a 1ª coluna (que agora tem o nome da emrpesa)\n",
    "            dre = dre.set_index(code)\n",
    "            self.fund_by_code[code] = self.fund_by_code[code].append(dre)\n",
    "    \n",
    "    def salvar_joblib(self):\n",
    "        joblib.dump(self.fund_by_code, self.balancos_joblib_file)\n",
    "\n"
   ]
  },
  {
   "cell_type": "markdown",
   "id": "da6d8209",
   "metadata": {},
   "source": [
    "## Pré tratamento e transformacao dos dados"
   ]
  },
  {
   "cell_type": "markdown",
   "id": "7d2345db",
   "metadata": {},
   "source": [
    "### Funcoes para de transformacao de dados"
   ]
  },
  {
   "cell_type": "code",
   "execution_count": 22,
   "id": "d52c68f6",
   "metadata": {},
   "outputs": [],
   "source": [
    "def transpor_colunas(df):\n",
    "    df = df.copy()\n",
    "    \n",
    "    df = df.T\n",
    "    df.index = pd.to_datetime(df.index, format=\"%d/%m/%Y\")\n",
    "    \n",
    "    return df"
   ]
  },
  {
   "cell_type": "code",
   "execution_count": 23,
   "id": "59e58de2",
   "metadata": {},
   "outputs": [],
   "source": [
    "def rename_columns(df):\n",
    "    df = df.copy()\n",
    "    columns_rename={\n",
    "        \"Receita Líquida de Vendas e/ou Serviços\": \"receita_liq\", \n",
    "        \"Lucro/Prejuízo do Período\": \"lucro_op\", \n",
    "        \"Outros Ativos Circulantes\": \"outros_ativos_circ\", \n",
    "        \"Despesas Gerais e Administrativas\": \"despesas_gerais\", \n",
    "        \"Resultado Antes Tributação/Participações\": \"resultado_antes_trib\"}\n",
    "    \n",
    "    for col, _ in columns_rename.items():\n",
    "        if col not in list(df.columns):\n",
    "            raise ValueError(f\"coluna '{col}' nao presente no df.\\n {[col for col in list(df.columns)]}\")\n",
    "\n",
    "    df.rename(columns=columns_rename, inplace=True)\n",
    "            \n",
    "    df.iloc[:,:-1] = df.iloc[:,:-1].astype(float)\n",
    "    return df"
   ]
  },
  {
   "cell_type": "code",
   "execution_count": 24,
   "id": "60a0259f",
   "metadata": {},
   "outputs": [],
   "source": [
    "def filtrar_variaveis_para_modelo(df, manter_variaveis = None):\n",
    "    manter_variaveis = ['outros_ativos_circ', 'receita_liq', 'despesas_gerais', 'resultado_antes_trib', 'lucro_op']\n",
    "    df = df.loc[:, manter_variaveis]\n",
    "\n",
    "    return df"
   ]
  },
  {
   "cell_type": "code",
   "execution_count": 21,
   "id": "e52ceab7",
   "metadata": {},
   "outputs": [],
   "source": [
    "def transformar_indic_em_porcentagem_delta(dfs_in):\n",
    "    dfs = dfs_in.copy()\n",
    "\n",
    "    for code in dfs.keys():\n",
    "        fundamento = dfs[code]\n",
    "        fundamento.sort_index()\n",
    "        for coluna in fundamento.columns:\n",
    "            if coluna != \"decisao\":\n",
    "                condicoes = [\n",
    "                    (fundamento[coluna].shift(1) > 0) & (fundamento[coluna] < 0),\n",
    "                    (fundamento[coluna].shift(1) < 0) & (fundamento[coluna] > 0),\n",
    "                    (fundamento[coluna].shift(1) < 0) & (fundamento[coluna] < 0),\n",
    "                    (fundamento[coluna].shift(1) == 0) & (fundamento[coluna] > 0),\n",
    "                    (fundamento[coluna].shift(1) == 0) & (fundamento[coluna] < 0),\n",
    "                    (fundamento[coluna].shift(1) < 0) & (fundamento[coluna] == 0),\n",
    "                ]\n",
    "                valores = [\n",
    "                    -1,\n",
    "                    1,\n",
    "                    (abs(fundamento[coluna].shift(1)) - abs(fundamento[coluna]))\n",
    "                                / abs(fundamento[coluna].shift(1)),\n",
    "                    1,\n",
    "                    -1,\n",
    "                    1,\n",
    "                ]\n",
    "                fundamento[coluna] = (\n",
    "                    np.select(condicoes, valores, default=fundamento[coluna]\n",
    "                              / fundamento[coluna].shift(1) - 1)\n",
    "                )\n",
    "        dfs[code] = fundamento\n",
    "    return dfs"
   ]
  },
  {
   "cell_type": "markdown",
   "id": "d661aa64",
   "metadata": {},
   "source": [
    "### Predicao com melhor modelo"
   ]
  },
  {
   "cell_type": "code",
   "execution_count": 25,
   "id": "8ee711de",
   "metadata": {},
   "outputs": [],
   "source": [
    "def carregar_modelo_ml():\n",
    "    file_name: str = \"../../out/result_ml_best_model.joblib\"\n",
    "    model = joblib.load(file_name)\n",
    "    return model"
   ]
  },
  {
   "cell_type": "code",
   "execution_count": 26,
   "id": "c69fbaeb",
   "metadata": {},
   "outputs": [],
   "source": [
    "def predict_decisao(modelo, fundamentos):\n",
    "    for code, df in fundamentos.items():\n",
    "        X = df.iloc[1:,:]\n",
    "        y_predicted = modelo.predict(X)\n",
    "        valor_pred = f\"{y_predicted[0]}\".replace('0', \"Vender\").replace('1', \"Comprar\")\n",
    "        \n",
    "        print(f\"Decisao recomendada pelo modelo para: {code} -> {valor_pred}\")"
   ]
  },
  {
   "cell_type": "markdown",
   "id": "a52e2899",
   "metadata": {},
   "source": [
    "# Execucao"
   ]
  },
  {
   "cell_type": "code",
   "execution_count": 31,
   "id": "8194cd8e",
   "metadata": {},
   "outputs": [
    {
     "name": "stdout",
     "output_type": "stream",
     "text": [
      "carregando joblib fundamentos\n",
      "Decisao recomendada pelo modelo para: CVCB3 -> Vender\n",
      "Decisao recomendada pelo modelo para: ABEV3 -> Comprar\n",
      "Decisao recomendada pelo modelo para: COGN3 -> Comprar\n",
      "Decisao recomendada pelo modelo para: MOVI3 -> Comprar\n"
     ]
    },
    {
     "name": "stderr",
     "output_type": "stream",
     "text": [
      "/Users/shopee/opt/anaconda3/lib/python3.8/site-packages/sklearn/base.py:310: UserWarning: Trying to unpickle estimator LogisticRegression from version 1.0 when using version 0.24.1. This might lead to breaking code or invalid results. Use at your own risk.\n",
      "  warnings.warn(\n"
     ]
    }
   ],
   "source": [
    "def main() -> None:\n",
    "    \"\"\"\n",
    "        Aquisicao dos novos dados para teste\n",
    "    \"\"\"\n",
    "\n",
    "    aquisicao_fund = AquisicaoDadosFundamentos()\n",
    "    fundamentos_by_code = aquisicao_fund.run()\n",
    "\n",
    "    \"\"\"\n",
    "        Tratamento e transformacao dos dados\n",
    "    \"\"\"\n",
    "    for code, df in fundamentos_by_code.items():\n",
    "        df_ = transpor_colunas(df)\n",
    "        df_ = rename_columns(df_)\n",
    "        df_ = filtrar_variaveis_para_modelo(df_)\n",
    "        fundamentos_by_code[code] = df_\n",
    "\n",
    "    fundamentos_by_code = transformar_indic_em_porcentagem_delta(fundamentos_by_code)\n",
    "\n",
    "    \"\"\"\n",
    "        Predicao com melhor modelo\n",
    "    \"\"\"\n",
    "    modelo = carregar_modelo_ml()\n",
    "\n",
    "    predict_decisao(modelo, fundamentos_by_code)\n",
    "\n",
    "main()"
   ]
  }
 ],
 "metadata": {
  "interpreter": {
   "hash": "8ab34ce4145f682337f5fa161ec816727aecde41915875d0a837a5ffe57556a8"
  },
  "kernelspec": {
   "display_name": "Python 3",
   "language": "python",
   "name": "python3"
  },
  "language_info": {
   "codemirror_mode": {
    "name": "ipython",
    "version": 3
   },
   "file_extension": ".py",
   "mimetype": "text/x-python",
   "name": "python",
   "nbconvert_exporter": "python",
   "pygments_lexer": "ipython3",
   "version": "3.8.8"
  }
 },
 "nbformat": 4,
 "nbformat_minor": 5
}
