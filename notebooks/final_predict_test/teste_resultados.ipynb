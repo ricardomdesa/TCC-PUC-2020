{
 "cells": [
  {
   "cell_type": "markdown",
   "id": "0ea3c362",
   "metadata": {},
   "source": [
    "# 6. Resultados. Teste do melhor modelo"
   ]
  },
  {
   "cell_type": "markdown",
   "id": "028700aa",
   "metadata": {},
   "source": [
    "### Instalar/Importar bibliotecas"
   ]
  },
  {
   "cell_type": "code",
   "execution_count": 1,
   "id": "ba184a05",
   "metadata": {},
   "outputs": [],
   "source": [
    "import pandas as pd\n",
    "import os\n",
    "import numpy as np\n",
    "\n",
    "from pydantic import BaseModel\n",
    "from typing import Optional, List\n",
    "\n",
    "import joblib"
   ]
  },
  {
   "cell_type": "markdown",
   "id": "9257477b",
   "metadata": {},
   "source": [
    "### Carregar dados de entrada\n",
    "\n",
    "Classe para ler dados de balanco patrimonial e demonstrativo financeiro"
   ]
  },
  {
   "cell_type": "code",
   "execution_count": 54,
   "id": "ee1e4a25",
   "metadata": {},
   "outputs": [],
   "source": [
    "class AquisicaoDadosFundamentos(BaseModel):\n",
    "    balancos_dir: Optional[str] = \"dados/\"\n",
    "    balancos_joblib_file: Optional[str] = \"dados/fundamentos_teste.joblib\"\n",
    "    fund_by_code: Optional[dict] = {}\n",
    "    codes: List[str] = []\n",
    "\n",
    "    def __init__(self, **kwargs):\n",
    "        super().__init__(**kwargs)\n",
    "        self.codes = self.get_code_list()\n",
    "\n",
    "    def run(self):\n",
    "        if os.path.isfile(self.balancos_joblib_file):\n",
    "            print(\"carregando joblib fundamentos\")\n",
    "            return joblib.load(self.balancos_joblib_file)\n",
    "\n",
    "        self.get_balancos_by_code()\n",
    "        self.get_dre_by_code()\n",
    "\n",
    "        self.salvar_joblib()\n",
    "        \n",
    "        return self.fund_by_code\n",
    "    \n",
    "    def get_code_list(self):\n",
    "        return [file.replace(\"balanco_\", \"\").replace(\".xls\", \"\") for file in os.listdir(self.balancos_dir)]\n",
    "\n",
    "    def get_balancos_by_code(self) -> None:\n",
    "\n",
    "        # Lista os arquivos xls na pasta dados/balancos\n",
    "        files = os.listdir(self.balancos_dir)\n",
    "\n",
    "        # Para cada arquivo (empresa) de balanco guarda no dicionario com o codigo como chave\n",
    "        for file in files:\n",
    "            code = file.replace(\"balanco_\", \"\").replace(\".xls\", \"\")\n",
    "            print(code)\n",
    "            balanco = pd.read_excel(f\"{self.balancos_dir}{file}\", sheet_name=0)\n",
    "            # colocar codigo na posicao 0, 0\n",
    "            balanco.iloc[0, 0] = code\n",
    "            # mudar coluna\n",
    "            balanco.columns = balanco.iloc[0]\n",
    "            balanco = balanco[1:]\n",
    "            # tornar a 1ª coluna (que agora tem o nome da empresa)\n",
    "            balanco = balanco.set_index(code)\n",
    "            self.fund_by_code[code] = balanco\n",
    "\n",
    "    def get_dre_by_code(self) -> None:\n",
    "\n",
    "        files = os.listdir(self.balancos_dir)\n",
    "        for file in files:\n",
    "            code = file.replace(\"balanco_\", \"\").replace(\".xls\", \"\")\n",
    "            dre = pd.read_excel(f\"{self.balancos_dir}{file}\", sheet_name=1)\n",
    "            # na primeira coluna colocar o título com o nome da empresa\n",
    "            dre.iloc[0, 0] = code\n",
    "            # pegar 1ª linha e tornar um cabeçalho\n",
    "            dre.columns = dre.iloc[0]\n",
    "            dre = dre[1:]\n",
    "            # tornar a 1ª coluna (que agora tem o nome da emrpesa)\n",
    "            dre = dre.set_index(code)\n",
    "            self.fund_by_code[code] = self.fund_by_code[code].append(dre)\n",
    "    \n",
    "    def salvar_joblib(self):\n",
    "        joblib.dump(self.fund_by_code, self.balancos_joblib_file)\n",
    "\n"
   ]
  },
  {
   "cell_type": "markdown",
   "id": "da6d8209",
   "metadata": {},
   "source": [
    "## Pré tratamento dos dados"
   ]
  },
  {
   "cell_type": "markdown",
   "id": "74bd0475",
   "metadata": {},
   "source": [
    "## Remocao de dados omissos/nulos"
   ]
  },
  {
   "cell_type": "markdown",
   "id": "bc8ee0ce",
   "metadata": {},
   "source": [
    "### Remover empresas com colunas diferentes da empresa referencia PETR4"
   ]
  },
  {
   "cell_type": "code",
   "execution_count": 5,
   "id": "100ea925",
   "metadata": {},
   "outputs": [],
   "source": [
    "\n",
    "def remover_empresa_colunas_diff(fundamentos_by_code):\n",
    "\n",
    "    fundamentos = fundamentos_by_code.copy()\n",
    "    tamanho_inicial = len(fundamentos)\n",
    "\n",
    "    columns_ref = list(fundamentos[\"ABEV3\"].columns)\n",
    "    \"\"\" \n",
    "    Remove empresas que nao tenham colunas de acordo com colunas de acao referencia \n",
    "    \"\"\"\n",
    "    codes = fundamentos.keys()\n",
    "    empresa_a_remover = []\n",
    "    for code in codes:\n",
    "        if set(columns_ref) != set(fundamentos[code].columns):\n",
    "            empresa_a_remover.append(code)\n",
    "    \n",
    "    for empresa in empresa_a_remover:\n",
    "        fundamentos.pop(empresa)\n",
    "    \n",
    "    print((tamanho_inicial - len(fundamentos)), \"empresas removidas por terem colunas diferentes de ABEV3\")\n",
    "\n",
    "    return fundamentos\n",
    "\n",
    "\n"
   ]
  },
  {
   "cell_type": "markdown",
   "id": "24165282",
   "metadata": {},
   "source": [
    "### Remover colunas que contem algum tipo de dado nulo ou zerado.\n",
    "\n",
    "Algumas colunas aqui tambem foi verificado que eram dados repetidos"
   ]
  },
  {
   "cell_type": "code",
   "execution_count": 6,
   "id": "1fad7536",
   "metadata": {},
   "outputs": [],
   "source": [
    "def remover_colunas_nulas(fundamentos_by_code):\n",
    "    fundamentos = fundamentos_by_code.copy()\n",
    "    codes = fundamentos.keys()\n",
    "\n",
    "    colunas_remover = [\"Receita Bruta de Vendas e/ou Serviços\",\n",
    "                        \"Ativos Biológicos\",\n",
    "                        \"Despesas Antecipadas\",\n",
    "                        \"Deduções da Receita Bruta\",\n",
    "                        \"Resultado Não Operacional\",\n",
    "                        \"Receitas\",\n",
    "                        \"Despesas\",\n",
    "                        \"Diferido\",\n",
    "                        \"Adiantamento para Futuro Aumento Capital\",\n",
    "                        \"Passivos sobre Ativos Não-Correntes a Venda e Descontinuados\",\n",
    "                        \"Lucros e Receitas a Apropriar\",\n",
    "                        \"Reservas de Reavaliação\",\n",
    "                        \"Adiantamento para Futuro Aumento Capital\",\n",
    "                        \"Perdas pela Não Recuperabilidade de Ativos\",\n",
    "                        \"Outras Receitas Operacionais\",\n",
    "                        \"Participações/Contribuições Estatutárias\",\n",
    "                        \"Reversão dos Juros sobre Capital Próprio\"]\n",
    "    for code in codes:\n",
    "        try:\n",
    "            for col in colunas_remover:\n",
    "                if col in fundamentos[code].columns:\n",
    "                    fundamentos[code].drop(columns=col, inplace=True)\n",
    "            print(f\"colunas nulas de {code} removidas com sucesso\")\n",
    "        except KeyError as e:\n",
    "            print(f\"empresa {code} sem as colunas a remover - err\", code)\n",
    "            raise e\n",
    "\n",
    "    return fundamentos"
   ]
  },
  {
   "cell_type": "markdown",
   "id": "2e23b4ff",
   "metadata": {},
   "source": [
    "### Remover empresas que mesmo apos remover colunas que nao serao utilizadas, contem dados nulos"
   ]
  },
  {
   "cell_type": "code",
   "execution_count": 18,
   "id": "a9ca84b2",
   "metadata": {},
   "outputs": [],
   "source": [
    "def remover_empresas_com_valores_nulos(fundamentos_by_code):\n",
    "    \n",
    "    fundamentos = fundamentos_by_code.copy()\n",
    "\n",
    "    columns = fundamentos[\"ABEV3\"].columns\n",
    "\n",
    "    empresa_with_null = []\n",
    "\n",
    "    for empresa in fundamentos:\n",
    "        tabela = fundamentos[empresa]\n",
    "        for coluna in columns:\n",
    "            qtde_vazios = pd.isna(tabela[coluna]).sum()\n",
    "            if isinstance(qtde_vazios, np.int64):\n",
    "                if qtde_vazios > 0:\n",
    "                    empresa_with_null.append(empresa)\n",
    "\n",
    "    # remove empresas com valores nulos, ignorando ABEV por ter nulo na ultima linha\n",
    "    for empresa in set(empresa_with_null):\n",
    "        print(f\"empresa {empresa} removida por ter valores nulos\")\n",
    "        fundamentos.pop(empresa)\n",
    "    \n",
    "    return fundamentos"
   ]
  },
  {
   "cell_type": "markdown",
   "id": "7d2345db",
   "metadata": {},
   "source": [
    "### Funcoes parte de transformacao de dados"
   ]
  },
  {
   "cell_type": "code",
   "execution_count": 8,
   "id": "e52ceab7",
   "metadata": {},
   "outputs": [],
   "source": [
    "def transformar_indic_em_porcentagem_delta(dfs_in):\n",
    "    dfs = dfs_in.copy()\n",
    "\n",
    "    for code in dfs.keys():\n",
    "        fundamento = dfs[code]\n",
    "        fundamento.sort_index()\n",
    "        for coluna in fundamento.columns:\n",
    "            if coluna != \"decisao\":\n",
    "                condicoes = [\n",
    "                    (fundamento[coluna].shift(1) > 0) & (fundamento[coluna] < 0),\n",
    "                    (fundamento[coluna].shift(1) < 0) & (fundamento[coluna] > 0),\n",
    "                    (fundamento[coluna].shift(1) < 0) & (fundamento[coluna] < 0),\n",
    "                    (fundamento[coluna].shift(1) == 0) & (fundamento[coluna] > 0),\n",
    "                    (fundamento[coluna].shift(1) == 0) & (fundamento[coluna] < 0),\n",
    "                    (fundamento[coluna].shift(1) < 0) & (fundamento[coluna] == 0),\n",
    "                ]\n",
    "                valores = [\n",
    "                    -1,\n",
    "                    1,\n",
    "                    (abs(fundamento[coluna].shift(1)) - abs(fundamento[coluna]))\n",
    "                                / abs(fundamento[coluna].shift(1)),\n",
    "                    1,\n",
    "                    -1,\n",
    "                    1,\n",
    "                ]\n",
    "                fundamento[coluna] = (\n",
    "                    np.select(condicoes, valores, default=fundamento[coluna]\n",
    "                              / fundamento[coluna].shift(1) - 1)\n",
    "                )\n",
    "        dfs[code] = fundamento\n",
    "    return dfs"
   ]
  },
  {
   "cell_type": "code",
   "execution_count": 69,
   "id": "d52c68f6",
   "metadata": {},
   "outputs": [],
   "source": [
    "def transpor_colunas(df):\n",
    "    df = df.copy()\n",
    "    \n",
    "    df = df.T\n",
    "    df.index = pd.to_datetime(df.index, format=\"%d/%m/%Y\")\n",
    "    \n",
    "    return df\n",
    "    \n",
    "def juntar_dataframes(dfs_in):\n",
    "    copia_fund = dfs_in.copy()\n",
    "    bd = pd.DataFrame()\n",
    "    for code in copia_fund:\n",
    "        copia_fund[code] = copia_fund[code][1:-1]\n",
    "        copia_fund[code] = copia_fund[code].reset_index(drop=True)\n",
    "        bd = bd.append(copia_fund[code])\n",
    "    bd.reset_index(drop=True, inplace=True)\n",
    "    print(f\"Dataframe unico criado com sucesso. Registros: {len(bd)}\")\n",
    "    return bd"
   ]
  },
  {
   "cell_type": "code",
   "execution_count": 93,
   "id": "59e58de2",
   "metadata": {},
   "outputs": [],
   "source": [
    "def rename_columns(df):\n",
    "    df = df.copy()\n",
    "    columns_rename={\n",
    "        \"Receita Líquida de Vendas e/ou Serviços\": \"receita_liq\", \n",
    "        \"Lucro/Prejuízo do Período\": \"lucro_op\", \n",
    "        \"Outros Ativos Circulantes\": \"outros_ativos_circ\", \n",
    "        \"Despesas Gerais e Administrativas\": \"despesas_gerais\", \n",
    "        \"Resultado Antes Tributação/Participações\": \"resultado_antes_trib\"}\n",
    "    \n",
    "    for col, _ in columns_rename.items():\n",
    "        if col not in list(df.columns):\n",
    "            raise ValueError(f\"coluna '{col}' nao presente no df.\\n {[col for col in list(df.columns)]}\")\n",
    "\n",
    "    df.rename(columns=columns_rename, inplace=True)\n",
    "            \n",
    "    df.iloc[:,:-1] = df.iloc[:,:-1].astype(float)\n",
    "    return df"
   ]
  },
  {
   "cell_type": "markdown",
   "id": "d659b677",
   "metadata": {},
   "source": [
    "### Feature selection"
   ]
  },
  {
   "cell_type": "code",
   "execution_count": 107,
   "id": "60a0259f",
   "metadata": {},
   "outputs": [],
   "source": [
    "def remover_variaveis_ja_explicadas(df, manter_variaveis = None):\n",
    "    manter_variaveis = ['outros_ativos_circ', 'receita_liq', 'despesas_gerais', 'resultado_antes_trib', 'lucro_op']\n",
    "    df = df.loc[:, manter_variaveis]\n",
    "\n",
    "    return df"
   ]
  },
  {
   "cell_type": "markdown",
   "id": "d661aa64",
   "metadata": {},
   "source": [
    "### Predicao com melhor modelo"
   ]
  },
  {
   "cell_type": "code",
   "execution_count": 20,
   "id": "8ee711de",
   "metadata": {},
   "outputs": [],
   "source": [
    "def carregar_modelo_ml():\n",
    "    file_name: str = \"../../out/result_ml_best_model.joblib\"\n",
    "    model = joblib.load(file_name)\n",
    "    return model"
   ]
  },
  {
   "cell_type": "code",
   "execution_count": 118,
   "id": "c69fbaeb",
   "metadata": {},
   "outputs": [],
   "source": [
    "def predict_decisao(modelo, fundamentos):\n",
    "    for code, df in fundamentos.items():\n",
    "        X = df.iloc[1:,:]\n",
    "        y_predicted = modelo.predict(X)\n",
    "        valor_pred = f\"{y_predicted[0]}\".replace('0', \"Vender\").replace('1', \"Comprar\")\n",
    "        \n",
    "        print(f\"Decisao recomendada pelo modelo para: {code} -> {valor_pred}\")"
   ]
  },
  {
   "cell_type": "markdown",
   "id": "d03fc47b",
   "metadata": {},
   "source": [
    "### Salvar dataframe em joblib para proximo notebook"
   ]
  },
  {
   "cell_type": "code",
   "execution_count": 21,
   "id": "c10062c5",
   "metadata": {},
   "outputs": [],
   "source": [
    "def salvar_dfs_in_joblib(df, file_name: str = \"out/result_teste_final.joblib\"):\n",
    "\n",
    "    joblib.dump(df, file_name)\n",
    "\n",
    "    print(\"arquivo joblib de df unico criado com sucesso\")\n"
   ]
  },
  {
   "cell_type": "markdown",
   "id": "a52e2899",
   "metadata": {},
   "source": [
    "# Execucao"
   ]
  },
  {
   "cell_type": "code",
   "execution_count": 119,
   "id": "8194cd8e",
   "metadata": {},
   "outputs": [
    {
     "name": "stdout",
     "output_type": "stream",
     "text": [
      "carregando joblib fundamentos\n",
      "0 empresas removidas por terem colunas diferentes de ABEV3\n",
      "colunas nulas de CVCB3 removidas com sucesso\n",
      "colunas nulas de ABEV3 removidas com sucesso\n",
      "colunas nulas de COGN3 removidas com sucesso\n",
      "colunas nulas de MOVI3 removidas com sucesso\n",
      "Quantidade final de empresas: 4\n",
      "Decisao recomendada pelo modelo para: CVCB3 -> Vender\n",
      "Decisao recomendada pelo modelo para: ABEV3 -> Comprar\n",
      "Decisao recomendada pelo modelo para: COGN3 -> Comprar\n",
      "Decisao recomendada pelo modelo para: MOVI3 -> Comprar\n"
     ]
    }
   ],
   "source": [
    "def main():\n",
    "    \"\"\"\n",
    "        Aquisicao dos dados\n",
    "    \"\"\"\n",
    "\n",
    "    aquisicao_fund = AquisicaoDadosFundamentos()\n",
    "    fundamentos_by_code = aquisicao_fund.run()\n",
    "\n",
    "    \"\"\"\n",
    "        Pre tratamento dos valores nulos e colunas\n",
    "    \"\"\"\n",
    "    fundamentos_by_code = remover_empresa_colunas_diff(fundamentos_by_code)\n",
    "    fundamentos_by_code = remover_colunas_nulas(fundamentos_by_code)\n",
    "    fundamentos_by_code = remover_empresas_com_valores_nulos(fundamentos_by_code)\n",
    "\n",
    "    print(f\"Quantidade final de empresas: {len(fundamentos_by_code)}\")\n",
    "\n",
    "    \"\"\"\n",
    "        Transformacao dos dados\n",
    "    \"\"\"\n",
    "    for code, df in fundamentos_by_code.items():\n",
    "        df_ = transpor_colunas(df)\n",
    "        df_ = rename_columns(df_)\n",
    "        df_ = remover_variaveis_ja_explicadas(df_)\n",
    "        fundamentos_by_code[code] = df_\n",
    "\n",
    "    fundamentos_by_code = transformar_indic_em_porcentagem_delta(fundamentos_by_code)\n",
    "\n",
    "    \"\"\"\n",
    "        Predicao com melhor modelo\n",
    "    \"\"\"\n",
    "    modelo = carregar_modelo_ml()\n",
    "    \n",
    "    predict_decisao(modelo, fundamentos_by_code)\n",
    "\n",
    "    # # salvar em arquivo joblib\n",
    "    # salvar_dfs_in_joblib(fundamentos_by_code)\n",
    "\n",
    "    return fundamentos_by_code\n",
    "    \n",
    "fund = main()"
   ]
  }
 ],
 "metadata": {
  "interpreter": {
   "hash": "8ab34ce4145f682337f5fa161ec816727aecde41915875d0a837a5ffe57556a8"
  },
  "kernelspec": {
   "display_name": "Python 3.8.11 64-bit ('TCC_PUC': conda)",
   "name": "python3"
  },
  "language_info": {
   "codemirror_mode": {
    "name": "ipython",
    "version": 3
   },
   "file_extension": ".py",
   "mimetype": "text/x-python",
   "name": "python",
   "nbconvert_exporter": "python",
   "pygments_lexer": "ipython3",
   "version": "3.8.11"
  }
 },
 "nbformat": 4,
 "nbformat_minor": 5
}
