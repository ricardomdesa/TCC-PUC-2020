{
 "cells": [
  {
   "cell_type": "markdown",
   "metadata": {},
   "source": [
    "# 5.1 Criação de Modelos de Machine Learning - Tunning"
   ]
  },
  {
   "cell_type": "markdown",
   "metadata": {},
   "source": [
    "## Carregar dados tratados"
   ]
  },
  {
   "cell_type": "code",
   "execution_count": 3,
   "metadata": {},
   "outputs": [],
   "source": [
    "# ! pip install seaborn\n",
    "# ! pip install plotly\n",
    "# ! pip install statsmodels\n",
    "# ! pip install sklearn"
   ]
  },
  {
   "cell_type": "code",
   "execution_count": 4,
   "metadata": {},
   "outputs": [],
   "source": [
    "import pandas as pd\n",
    "import numpy as np\n",
    "\n",
    "import matplotlib.pyplot as plt\n",
    "import seaborn as sns\n",
    "\n",
    "from sklearn.model_selection import train_test_split\n",
    "\n",
    "\n",
    "from sklearn.metrics import classification_report, confusion_matrix\n",
    "from sklearn import metrics\n",
    "\n",
    "from sklearn.preprocessing import StandardScaler\n",
    "\n",
    "from sklearn.linear_model import LogisticRegression\n",
    "\n",
    "from sklearn.model_selection import RandomizedSearchCV\n",
    "\n",
    "import joblib"
   ]
  },
  {
   "cell_type": "code",
   "execution_count": null,
   "metadata": {},
   "outputs": [],
   "source": [
    "\n",
    "from sklearn.linear_model import LogisticRegression\n"
   ]
  },
  {
   "cell_type": "code",
   "execution_count": 5,
   "metadata": {},
   "outputs": [],
   "source": [
    "def carregar_joblib(file_name: str = \"../out/result_analise_desc.joblib\"):\n",
    "    df = joblib.load(file_name)\n",
    "    return df"
   ]
  },
  {
   "cell_type": "code",
   "execution_count": 6,
   "metadata": {},
   "outputs": [],
   "source": [
    "def split_dados(df, test_size: float = 0.2):\n",
    "    X = df.drop([\"decisao\"], axis=1)\n",
    "    y = df[\"decisao\"]\n",
    "\n",
    "    X_treino, X_teste, y_treino, y_teste = train_test_split(X, y, test_size=test_size, random_state=42)\n",
    "\n",
    "    return (X_treino, X_teste, y_treino, y_teste)"
   ]
  },
  {
   "cell_type": "code",
   "execution_count": 7,
   "metadata": {},
   "outputs": [],
   "source": [
    "def plot_confusion_matrix_heat(cf_matrix):\n",
    "    cf_matrix.index.name = 'Atual'\n",
    "    cf_matrix.columns.name = 'Predito'\n",
    "    \n",
    "    cf_nd_array = cf_matrix.to_numpy()\n",
    "    cf_flatten = cf_nd_array.flatten()\n",
    "\n",
    "    group_names = [\"TN\", \"FP\", \"FN\", \"TP\"]\n",
    "    group_counts = [\"{0:0.0f}\".format(value) for value in\n",
    "                    cf_flatten]\n",
    "    group_percentages = [\"{0:.2%}\".format(value) for value in\n",
    "                         cf_flatten / np.sum(cf_nd_array)]\n",
    "    labels = [f\"{v1}\\n{v2}\\n{v3}\" for v1, v2, v3 in\n",
    "              zip(group_names, group_counts, group_percentages)]\n",
    "    labels = np.asarray(labels).reshape(2, 2)\n",
    "    print(cf_matrix.shape)\n",
    "    sns.heatmap(cf_matrix, annot=labels, fmt=\"\", cmap='Blues')\n"
   ]
  },
  {
   "cell_type": "code",
   "execution_count": 8,
   "metadata": {},
   "outputs": [],
   "source": [
    "def avaliar(y_teste, y_prev, nome_modelo):\n",
    "    print(nome_modelo)\n",
    "    print(\"Reporte teste\")\n",
    "    report = classification_report(y_teste, y_prev, target_names=[\"Vender\", \"Comprar\"])\n",
    "    print(report)\n",
    "    cf_matrix = pd.DataFrame(confusion_matrix(y_teste, y_prev), index=[\"Vender\", \"Comprar\"], columns=[\"Vender\", \"Comprar\"])\n",
    "    plot_confusion_matrix_heat(cf_matrix)\n",
    "    plt.show()\n",
    "    metric = metrics.precision_score(y_teste, y_prev)\n",
    "    print(\"Precision: \", metric)\n",
    "    print(\"#\" * 50)\n",
    "    return metric"
   ]
  },
  {
   "cell_type": "markdown",
   "metadata": {},
   "source": [
    "# ML modelo"
   ]
  },
  {
   "cell_type": "code",
   "execution_count": 9,
   "metadata": {},
   "outputs": [],
   "source": [
    "def definir_modelo_ml() -> dict:\n",
    "    return {\n",
    "            \"LogisticRegression\": {'modelo_base': LogisticRegression(random_state=42), 'modelo_tunado': None},\n",
    "            # \"LogisticRegression_tun\": {'modelo_base': LogisticRegression(random_state=42, warm_start=True, penalty=\"none\", n_jobs=-1), 'modelo_tunado': None},\n",
    "           }"
   ]
  },
  {
   "cell_type": "code",
   "execution_count": null,
   "metadata": {},
   "outputs": [],
   "source": [
    "def definir_modelo_ml() -> dict:\n",
    "    return dict(LogisticRegression={'modelo_base': LogisticRegression(random_state=42),\n",
    "                                   'modelo_tunado': None})"
   ]
  },
  {
   "cell_type": "code",
   "execution_count": 10,
   "metadata": {},
   "outputs": [],
   "source": [
    "def treinar_modelo_base(modelos, splited_dados):\n",
    "\n",
    "    X_treino, _, y_treino, y_test = splited_dados\n",
    "\n",
    "    for nome, modelo in modelos.items():\n",
    "        modelo = modelo.get('modelo_base')\n",
    "        modelo.fit(X_treino, y_treino)\n",
    "        # pred = modelo.predict(y_test)\n",
    "\n",
    "        modelos[nome]['modelo_base'] = modelo\n",
    "        # avaliar(y_test, pred, nome)\n",
    "    \n",
    "    return modelos"
   ]
  },
  {
   "cell_type": "markdown",
   "metadata": {},
   "source": [
    "## Tunning do modelo"
   ]
  },
  {
   "cell_type": "code",
   "execution_count": 11,
   "metadata": {},
   "outputs": [],
   "source": [
    "def scale_data(df):\n",
    "    scaler = StandardScaler()\n",
    "    tabela_auxiliar = df.drop(\"decisao\", axis=1)\n",
    "    \n",
    "    tabela_auxiliar = pd.DataFrame(scaler.fit_transform(tabela_auxiliar), tabela_auxiliar.index, tabela_auxiliar.columns)\n",
    "    tabela_auxiliar[\"decisao\"] = df[\"decisao\"]\n",
    "    \n",
    "    return tabela_auxiliar"
   ]
  },
  {
   "cell_type": "code",
   "execution_count": 12,
   "metadata": {},
   "outputs": [],
   "source": [
    "def fit_tunning_rand_search_log_reg(X_treino, y_treino):\n",
    "    print(\"Tunning randomized search Log Reg\")\n",
    "\n",
    "    # Create the random params\n",
    "\n",
    "    param = {\n",
    "             \"solver\": [\"lbfgs\"],\n",
    "             \"penalty\": [\"l2\", \"none\"],\n",
    "             \"dual\": [False],\n",
    "             \"tol\": [0.0001],\n",
    "             \"C\": [1.0],\n",
    "             \"fit_intercept\": [True],\n",
    "             'class_weight': [False, \"balanced\"],\n",
    "             'multi_class': [\"ovr\", \"auto\"],\n",
    "             'warm_start': [False, True],\n",
    "             'random_state': [42, 2, None],\n",
    "             'n_jobs': [-1],\n",
    "            }\n",
    "\n",
    "    print(param)\n",
    "\n",
    "    rf_random = RandomizedSearchCV(estimator=LogisticRegression(max_iter=300),\n",
    "                                   param_distributions=param,\n",
    "                                   cv=10,\n",
    "                                   verbose=0,\n",
    "                                   scoring=\"average_precision\",\n",
    "                                   random_state=42,\n",
    "                                   n_jobs=-1)\n",
    "                        \n",
    "    # Best params {'warm_start': True, 'tol': 0.0001, 'solver': 'lbfgs', 'random_state': 42, 'penalty': 'none', 'n_jobs': -1, 'multi_class': 'auto', 'fit_intercept': True, 'dual': False, 'class_weight': False, 'C': 1.0}\n",
    "    # Best score 0.5669691646905763\n",
    "\n",
    "    # Fit the random search model\n",
    "    return rf_random.fit(X_treino, y_treino)"
   ]
  },
  {
   "cell_type": "code",
   "execution_count": 13,
   "metadata": {},
   "outputs": [],
   "source": [
    "\n",
    "def run_log_reg_tunning(df, splited_dados):\n",
    "\n",
    "    X_treino, X_teste, y_treino, y_teste = splited_dados\n",
    "    \n",
    "    resultado_grid = fit_tunning_rand_search_log_reg(X_treino, y_treino)\n",
    "\n",
    "    print(\"Ajuste Log Reg feito\")\n",
    "\n",
    "    print(\"Best params\", resultado_grid.best_params_)\n",
    "    print(\"Best score\", resultado_grid.best_score_)\n",
    "\n",
    "    modelo_tunado = resultado_grid.best_estimator_\n",
    "\n",
    "    return modelo_tunado"
   ]
  },
  {
   "cell_type": "code",
   "execution_count": 14,
   "metadata": {},
   "outputs": [],
   "source": [
    "def compare_tunning(df, modelos: dict, splited_dados):\n",
    "\n",
    "    _, X_teste, _, y_teste = splited_dados\n",
    "\n",
    "    recalls = {}\n",
    "    for nome, modelos_dict in modelos.items():\n",
    "        prev = modelos_dict['modelo_base'].predict(X_teste)\n",
    "        recalls[nome + '_base'] =  avaliar(y_teste, prev, nome + '_base')\n",
    "        prev = modelos_dict['modelo_tunado'].predict(X_teste)\n",
    "        recalls[nome + '_tunned'] = avaliar(y_teste, prev, nome + '_tunado')\n",
    "    \n",
    "    # barplot comparacao 3 modelos tunados\n",
    "    sns.set_theme(style=\"whitegrid\")\n",
    "    ax = sns.barplot(x=list(recalls.keys()), y=list(recalls.values()))\n",
    "    ax.set(xlabel=\"Modelos\", ylabel=\"Recall\", title=\"Recall por Modelo\")\n",
    "    "
   ]
  },
  {
   "cell_type": "code",
   "execution_count": 15,
   "metadata": {},
   "outputs": [],
   "source": [
    "def run_tunning_fit(df, modelos, splited_dados):\n",
    "    '''\n",
    "        Executa os tunnings com randomized search cv e armazena o modelo tunado\n",
    "    '''\n",
    "    modelos['LogisticRegression']['modelo_tunado'] = run_log_reg_tunning(df, splited_dados)\n",
    "\n",
    "    return modelos\n"
   ]
  },
  {
   "cell_type": "code",
   "execution_count": 16,
   "metadata": {},
   "outputs": [
    {
     "name": "stdout",
     "output_type": "stream",
     "text": [
      "Tunning randomized search Log Reg\n",
      "{'solver': ['lbfgs'], 'penalty': ['l2', 'none'], 'dual': [False], 'tol': [0.0001], 'C': [1.0], 'fit_intercept': [True], 'class_weight': [False, 'balanced'], 'multi_class': ['ovr', 'auto'], 'warm_start': [False, True], 'random_state': [42, 2, None], 'n_jobs': [-1]}\n",
      "Ajuste Log Reg feito\n",
      "Best params {'warm_start': True, 'tol': 0.0001, 'solver': 'lbfgs', 'random_state': 42, 'penalty': 'none', 'n_jobs': -1, 'multi_class': 'auto', 'fit_intercept': True, 'dual': False, 'class_weight': False, 'C': 1.0}\n",
      "Best score 0.5669691646905763\n",
      "LogisticRegression_base\n",
      "Reporte teste\n",
      "              precision    recall  f1-score   support\n",
      "\n",
      "      Vender       0.57      0.57      0.57       186\n",
      "     Comprar       0.57      0.57      0.57       185\n",
      "\n",
      "    accuracy                           0.57       371\n",
      "   macro avg       0.57      0.57      0.57       371\n",
      "weighted avg       0.57      0.57      0.57       371\n",
      "\n",
      "(2, 2)\n"
     ]
    },
    {
     "data": {
      "image/png": "[encoded data removed]",
      "text/plain": [
       "<Figure size 432x288 with 2 Axes>"
      ]
     },
     "metadata": {
      "needs_background": "light"
     },
     "output_type": "display_data"
    },
    {
     "name": "stdout",
     "output_type": "stream",
     "text": [
      "Precision:  0.5698924731182796\n",
      "##################################################\n",
      "LogisticRegression_tunado\n",
      "Reporte teste\n",
      "              precision    recall  f1-score   support\n",
      "\n",
      "      Vender       0.57      0.59      0.58       186\n",
      "     Comprar       0.58      0.56      0.57       185\n",
      "\n",
      "    accuracy                           0.57       371\n",
      "   macro avg       0.57      0.57      0.57       371\n",
      "weighted avg       0.57      0.57      0.57       371\n",
      "\n",
      "(2, 2)\n"
     ]
    },
    {
     "data": {
      "image/png": "[encoded data removed]",
      "text/plain": [
       "<Figure size 432x288 with 2 Axes>"
      ]
     },
     "metadata": {
      "needs_background": "light"
     },
     "output_type": "display_data"
    },
    {
     "name": "stdout",
     "output_type": "stream",
     "text": [
      "Precision:  0.5754189944134078\n",
      "##################################################\n"
     ]
    },
    {
     "data": {
      "image/png": "[encoded data removed]",
      "text/plain": [
       "<Figure size 432x288 with 1 Axes>"
      ]
     },
     "metadata": {},
     "output_type": "display_data"
    }
   ],
   "source": [
    "def main():\n",
    "\n",
    "    df = carregar_joblib()\n",
    "\n",
    "    modelo = definir_modelo_ml()\n",
    "\n",
    "    splited_dados = split_dados(df)\n",
    "\n",
    "    modelo = treinar_modelo_base(modelo, splited_dados)\n",
    "\n",
    "    # df = scale_data(df)\n",
    "    \n",
    "    modelo = run_tunning_fit(df, modelo, splited_dados)\n",
    "\n",
    "    compare_tunning(df, modelo, splited_dados)\n",
    "\n",
    "    return df, modelo, splited_dados\n",
    "\n",
    "df, modelos, splited_dados = main()"
   ]
  }
 ],
 "metadata": {
  "interpreter": {
   "hash": "8ab34ce4145f682337f5fa161ec816727aecde41915875d0a837a5ffe57556a8"
  },
  "kernelspec": {
   "display_name": "Python 3",
   "language": "python",
   "name": "python3"
  },
  "language_info": {
   "codemirror_mode": {
    "name": "ipython",
    "version": 3
   },
   "file_extension": ".py",
   "mimetype": "text/x-python",
   "name": "python",
   "nbconvert_exporter": "python",
   "pygments_lexer": "ipython3",
   "version": "3.8.8"
  }
 },
 "nbformat": 4,
 "nbformat_minor": 2
}
