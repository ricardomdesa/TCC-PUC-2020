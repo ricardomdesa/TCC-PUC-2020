{
 "cells": [
  {
   "cell_type": "markdown",
   "metadata": {},
   "source": [
    "# 5.1 Criação de Modelos de Machine Learning - Tunning"
   ]
  },
  {
   "cell_type": "markdown",
   "metadata": {},
   "source": [
    "## Carregar dados tratados"
   ]
  },
  {
   "cell_type": "code",
   "execution_count": 43,
   "metadata": {},
   "outputs": [],
   "source": [
    "# ! pip install seaborn\n",
    "# ! pip install plotly\n",
    "# ! pip install statsmodels\n",
    "# ! pip install sklearn"
   ]
  },
  {
   "cell_type": "code",
   "execution_count": 44,
   "metadata": {},
   "outputs": [],
   "source": [
    "import pandas as pd\n",
    "import numpy as np\n",
    "\n",
    "import matplotlib.pyplot as plt\n",
    "import seaborn as sns\n",
    "\n",
    "from sklearn.model_selection import train_test_split\n",
    "\n",
    "\n",
    "from sklearn.metrics import classification_report, confusion_matrix\n",
    "from sklearn import metrics\n",
    "\n",
    "from sklearn.preprocessing import StandardScaler\n",
    "\n",
    "from sklearn.linear_model import LogisticRegression\n",
    "\n",
    "from sklearn.model_selection import RandomizedSearchCV\n",
    "\n",
    "import joblib"
   ]
  },
  {
   "cell_type": "code",
   "execution_count": 45,
   "metadata": {},
   "outputs": [],
   "source": [
    "def carregar_joblib(file_name: str = \"../out/result_analise_desc.joblib\"):\n",
    "    df = joblib.load(file_name)\n",
    "    return df"
   ]
  },
  {
   "cell_type": "code",
   "execution_count": 46,
   "metadata": {},
   "outputs": [],
   "source": [
    "def split_dados(df, test_size: float = 0.2):\n",
    "    X = df.drop([\"decisao\"], axis=1)\n",
    "    y = df[\"decisao\"]\n",
    "\n",
    "    X_treino, X_teste, y_treino, y_teste = train_test_split(X, y, test_size=test_size, random_state=42)\n",
    "\n",
    "    return (X_treino, X_teste, y_treino, y_teste)"
   ]
  },
  {
   "cell_type": "code",
   "execution_count": 47,
   "metadata": {},
   "outputs": [],
   "source": [
    "def plot_confusion_matrix_heat(cf_matrix):\n",
    "    cf_matrix.index.name = 'Atual'\n",
    "    cf_matrix.columns.name = 'Predito'\n",
    "    \n",
    "    cf_nd_array = cf_matrix.to_numpy()\n",
    "    cf_flatten = cf_nd_array.flatten()\n",
    "\n",
    "    group_names = [\"TN\", \"FP\", \"FN\", \"TP\"]\n",
    "    group_counts = [\"{0:0.0f}\".format(value) for value in\n",
    "                    cf_flatten]\n",
    "    group_percentages = [\"{0:.2%}\".format(value) for value in\n",
    "                         cf_flatten / np.sum(cf_nd_array)]\n",
    "    labels = [f\"{v1}\\n{v2}\\n{v3}\" for v1, v2, v3 in\n",
    "              zip(group_names, group_counts, group_percentages)]\n",
    "    labels = np.asarray(labels).reshape(2, 2)\n",
    "    print(cf_matrix.shape)\n",
    "    sns.heatmap(cf_matrix, annot=labels, fmt=\"\", cmap='Blues')\n"
   ]
  },
  {
   "cell_type": "code",
   "execution_count": 48,
   "metadata": {},
   "outputs": [],
   "source": [
    "def avaliar(y_teste, y_prev, nome_modelo):\n",
    "    print(nome_modelo)\n",
    "    print(\"Reporte teste\")\n",
    "    report = classification_report(y_teste, y_prev, target_names=[\"Vender\", \"Comprar\"])\n",
    "    print(report)\n",
    "    cf_matrix = pd.DataFrame(confusion_matrix(y_teste, y_prev), index=[\"Vender\", \"Comprar\"], columns=[\"Vender\", \"Comprar\"])\n",
    "    plot_confusion_matrix_heat(cf_matrix)\n",
    "    plt.show()\n",
    "    metric = metrics.precision_score(y_teste, y_prev)\n",
    "    print(\"Precision: \", metric)\n",
    "    print(\"#\" * 50)\n",
    "    return metric"
   ]
  },
  {
   "cell_type": "markdown",
   "metadata": {},
   "source": [
    "# ML modelo"
   ]
  },
  {
   "cell_type": "code",
   "execution_count": 49,
   "metadata": {},
   "outputs": [],
   "source": [
    "def definir_modelo_ml() -> dict:\n",
    "    return {\n",
    "            \"LogisticRegression\": {'modelo_base': LogisticRegression(random_state=42), 'modelo_tunado': None},\n",
    "           }"
   ]
  },
  {
   "cell_type": "code",
   "execution_count": 57,
   "metadata": {},
   "outputs": [],
   "source": [
    "def treinar_modelo_base(modelos, splited_dados):\n",
    "\n",
    "    X_treino, _, y_treino, _ = splited_dados\n",
    "\n",
    "    for nome, modelo in modelos.items():\n",
    "        modelo = modelo.get('modelo_base')\n",
    "        modelo.fit(X_treino, y_treino)\n",
    "\n",
    "        modelos[nome]['modelo_base'] = modelo\n",
    "    \n",
    "    return modelos"
   ]
  },
  {
   "cell_type": "markdown",
   "metadata": {},
   "source": [
    "## Tunning do modelo"
   ]
  },
  {
   "cell_type": "code",
   "execution_count": null,
   "metadata": {},
   "outputs": [],
   "source": [
    "def scale_data(df):\n",
    "    df_scaled = StandardScaler()\n",
    "    return df_scaled"
   ]
  },
  {
   "cell_type": "code",
   "execution_count": 61,
   "metadata": {},
   "outputs": [],
   "source": [
    "def fit_tunning_rand_search_log_reg(X_treino, y_treino):\n",
    "    print(\"Tunning randomized search Log Reg\")\n",
    "\n",
    "    # Create the random grid\n",
    "    param = {\n",
    "             \"solver\": [\"lbfgs\", \"liblinear\"],\n",
    "             \"penalty\": [\"l2\"],\n",
    "             \"dual\": [False],\n",
    "             \"C\": [1.0],\n",
    "             \"fit_intercept\": [True],\n",
    "             'class_weight': [None],\n",
    "             'random_state': [None],\n",
    "            }\n",
    "\n",
    "    print(param)\n",
    "\n",
    "    rf_random = RandomizedSearchCV(estimator=LogisticRegression(max_iter=100),\n",
    "                                   param_distributions=param,\n",
    "                                   cv=10,\n",
    "                                   verbose=0,\n",
    "                                   scoring=\"precision\",\n",
    "                                   random_state=42,\n",
    "                                   n_jobs=-1)\n",
    "\n",
    "    # Fit the random search model\n",
    "    return rf_random.fit(X_treino, y_treino)"
   ]
  },
  {
   "cell_type": "code",
   "execution_count": 52,
   "metadata": {},
   "outputs": [],
   "source": [
    "\n",
    "def run_log_reg_tunning(df, splited_dados):\n",
    "\n",
    "    X_treino, X_teste, y_treino, y_teste = splited_dados\n",
    "    \n",
    "    resultado_grid = fit_tunning_rand_search_log_reg(X_treino, y_treino)\n",
    "\n",
    "    print(\"Ajuste Log Reg feito\")\n",
    "\n",
    "    print(\"Best params\", resultado_grid.best_params_)\n",
    "    print(\"Best score\", resultado_grid.best_score_)\n",
    "\n",
    "    modelo_tunado = resultado_grid.best_estimator_\n",
    "\n",
    "    return modelo_tunado"
   ]
  },
  {
   "cell_type": "code",
   "execution_count": 53,
   "metadata": {},
   "outputs": [],
   "source": [
    "def compare_tunning(df, modelos: dict, splited_dados):\n",
    "\n",
    "    _, X_teste, _, y_teste = splited_dados\n",
    "\n",
    "    recalls = {}\n",
    "    for nome, modelos_dict in modelos.items():\n",
    "        prev = modelos_dict['modelo_base'].predict(X_teste)\n",
    "        recalls[nome + '_base'] =  avaliar(y_teste, prev, nome + '_base')\n",
    "        prev = modelos_dict['modelo_tunado'].predict(X_teste)\n",
    "        recalls[nome + '_tunned'] = avaliar(y_teste, prev, nome + '_tunado')\n",
    "    \n",
    "    # barplot comparacao 3 modelos tunados\n",
    "    sns.set_theme(style=\"whitegrid\")\n",
    "    ax = sns.barplot(x=list(recalls.keys()), y=list(recalls.values()))\n",
    "    ax.set(xlabel=\"Modelos\", ylabel=\"Recall\", title=\"Recall por Modelo\")\n",
    "    "
   ]
  },
  {
   "cell_type": "code",
   "execution_count": 54,
   "metadata": {},
   "outputs": [],
   "source": [
    "def run_tunning_fit(df, modelos, splited_dados):\n",
    "    '''\n",
    "        Executa os tunnings com randomized search cv e armazena o modelo tunado\n",
    "    '''\n",
    "    modelos['LogisticRegression']['modelo_tunado'] = run_log_reg_tunning(df, splited_dados)\n",
    "\n",
    "    return modelos\n"
   ]
  },
  {
   "cell_type": "code",
   "execution_count": 62,
   "metadata": {},
   "outputs": [
    {
     "name": "stdout",
     "output_type": "stream",
     "text": [
      "Tunning randomized search Log Reg\n",
      "{'solver': ['lbfgs', 'liblinear'], 'penalty': ['l2'], 'dual': [False], 'C': [1.0], 'fit_intercept': [True], 'class_weight': [None], 'random_state': [None]}\n"
     ]
    },
    {
     "name": "stderr",
     "output_type": "stream",
     "text": [
      "/Users/shopee/opt/anaconda3/envs/TCC_PUC/lib/python3.8/site-packages/sklearn/model_selection/_search.py:292: UserWarning: The total space of parameters 2 is smaller than n_iter=10. Running 2 iterations. For exhaustive searches, use GridSearchCV.\n",
      "  warnings.warn(\n"
     ]
    },
    {
     "name": "stdout",
     "output_type": "stream",
     "text": [
      "Ajuste Log Reg feito\n",
      "Best params {'solver': 'liblinear', 'random_state': None, 'penalty': 'l2', 'fit_intercept': True, 'dual': False, 'class_weight': None, 'C': 1.0}\n",
      "Best score 0.5478796803947313\n",
      "LogisticRegression_base\n",
      "Reporte teste\n",
      "              precision    recall  f1-score   support\n",
      "\n",
      "      Vender       0.57      0.57      0.57       186\n",
      "     Comprar       0.57      0.57      0.57       185\n",
      "\n",
      "    accuracy                           0.57       371\n",
      "   macro avg       0.57      0.57      0.57       371\n",
      "weighted avg       0.57      0.57      0.57       371\n",
      "\n",
      "(2, 2)\n"
     ]
    },
    {
     "name": "stderr",
     "output_type": "stream",
     "text": [
      "/Users/shopee/opt/anaconda3/envs/TCC_PUC/lib/python3.8/site-packages/sklearn/linear_model/_logistic.py:814: ConvergenceWarning: lbfgs failed to converge (status=1):\n",
      "STOP: TOTAL NO. of ITERATIONS REACHED LIMIT.\n",
      "\n",
      "Increase the number of iterations (max_iter) or scale the data as shown in:\n",
      "    https://scikit-learn.org/stable/modules/preprocessing.html\n",
      "Please also refer to the documentation for alternative solver options:\n",
      "    https://scikit-learn.org/stable/modules/linear_model.html#logistic-regression\n",
      "  n_iter_i = _check_optimize_result(\n",
      "/Users/shopee/opt/anaconda3/envs/TCC_PUC/lib/python3.8/site-packages/sklearn/linear_model/_logistic.py:814: ConvergenceWarning: lbfgs failed to converge (status=1):\n",
      "STOP: TOTAL NO. of ITERATIONS REACHED LIMIT.\n",
      "\n",
      "Increase the number of iterations (max_iter) or scale the data as shown in:\n",
      "    https://scikit-learn.org/stable/modules/preprocessing.html\n",
      "Please also refer to the documentation for alternative solver options:\n",
      "    https://scikit-learn.org/stable/modules/linear_model.html#logistic-regression\n",
      "  n_iter_i = _check_optimize_result(\n"
     ]
    },
    {
     "data": {
      "image/png": "[encoded data removed]",
      "text/plain": [
       "<Figure size 432x288 with 2 Axes>"
      ]
     },
     "metadata": {},
     "output_type": "display_data"
    },
    {
     "name": "stdout",
     "output_type": "stream",
     "text": [
      "Precision:  0.5698924731182796\n",
      "##################################################\n",
      "LogisticRegression_tunado\n",
      "Reporte teste\n",
      "              precision    recall  f1-score   support\n",
      "\n",
      "      Vender       0.54      0.57      0.55       186\n",
      "     Comprar       0.54      0.51      0.52       185\n",
      "\n",
      "    accuracy                           0.54       371\n",
      "   macro avg       0.54      0.54      0.54       371\n",
      "weighted avg       0.54      0.54      0.54       371\n",
      "\n",
      "(2, 2)\n"
     ]
    },
    {
     "data": {
      "image/png": "[encoded data removed]",
      "text/plain": [
       "<Figure size 432x288 with 2 Axes>"
      ]
     },
     "metadata": {},
     "output_type": "display_data"
    },
    {
     "name": "stdout",
     "output_type": "stream",
     "text": [
      "Precision:  0.5402298850574713\n",
      "##################################################\n"
     ]
    },
    {
     "data": {
      "image/png": "[encoded data removed]",
      "text/plain": [
       "<Figure size 432x288 with 1 Axes>"
      ]
     },
     "metadata": {},
     "output_type": "display_data"
    }
   ],
   "source": [
    "def main():\n",
    "\n",
    "    df = carregar_joblib()\n",
    "\n",
    "    modelo = definir_modelo_ml()\n",
    "\n",
    "    splited_dados = split_dados(df)\n",
    "\n",
    "    modelo = treinar_modelo_base(modelo, splited_dados)\n",
    "\n",
    "    modelo = run_tunning_fit(df, modelo, splited_dados)\n",
    "\n",
    "    compare_tunning(df, modelo, splited_dados)\n",
    "\n",
    "    return df, modelo, splited_dados\n",
    "\n",
    "df, modelos, splited_dados = main()"
   ]
  }
 ],
 "metadata": {
  "interpreter": {
   "hash": "8ab34ce4145f682337f5fa161ec816727aecde41915875d0a837a5ffe57556a8"
  },
  "kernelspec": {
   "display_name": "Python 3",
   "language": "python",
   "name": "python3"
  },
  "language_info": {
   "codemirror_mode": {
    "name": "ipython",
    "version": 3
   },
   "file_extension": ".py",
   "mimetype": "text/x-python",
   "name": "python",
   "nbconvert_exporter": "python",
   "pygments_lexer": "ipython3",
   "version": "3.8.11"
  }
 },
 "nbformat": 4,
 "nbformat_minor": 2
}
